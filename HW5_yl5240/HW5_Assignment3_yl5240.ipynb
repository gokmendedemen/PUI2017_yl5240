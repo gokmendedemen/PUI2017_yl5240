{
 "cells": [
  {
   "cell_type": "code",
   "execution_count": 1,
   "metadata": {
    "collapsed": false
   },
   "outputs": [],
   "source": [
    "import scipy\n",
    "import numpy as np\n",
    "import scipy.stats\n",
    "import pandas as pd\n",
    "import os\n",
    "import statsmodels.formula.api as smf\n",
    "import statsmodels.tools\n",
    "\n",
    "import matplotlib.pylab as plt\n",
    "%matplotlib inline"
   ]
  },
  {
   "cell_type": "code",
   "execution_count": 2,
   "metadata": {
    "collapsed": false
   },
   "outputs": [
    {
     "data": {
      "text/plain": [
       "'/Users/apple/Desktop/PUI2017/PUIdata'"
      ]
     },
     "execution_count": 2,
     "metadata": {},
     "output_type": "execute_result"
    }
   ],
   "source": [
    "os.getenv(\"PUIDATA\")"
   ]
  },
  {
   "cell_type": "markdown",
   "metadata": {},
   "source": [
    "# 0. data cleaning"
   ]
  },
  {
   "cell_type": "markdown",
   "metadata": {},
   "source": [
    "### the first dataset 'World firearms murders and ownership' of 2012"
   ]
  },
  {
   "cell_type": "code",
   "execution_count": 3,
   "metadata": {
    "collapsed": false
   },
   "outputs": [
    {
     "data": {
      "text/html": [
       "<div>\n",
       "<table border=\"1\" class=\"dataframe\">\n",
       "  <thead>\n",
       "    <tr style=\"text-align: right;\">\n",
       "      <th></th>\n",
       "      <th>Country/Territory</th>\n",
       "      <th>ISO code</th>\n",
       "      <th>Source</th>\n",
       "      <th>% of homicides by firearm</th>\n",
       "      <th>Number of homicides by firearm</th>\n",
       "      <th>Homicide by firearm rate per 100,000 pop</th>\n",
       "      <th>Rank by rate of ownership</th>\n",
       "      <th>Average firearms per 100 people</th>\n",
       "      <th>Average total all civilian firearms</th>\n",
       "    </tr>\n",
       "  </thead>\n",
       "  <tbody>\n",
       "    <tr>\n",
       "      <th>0</th>\n",
       "      <td>Albania</td>\n",
       "      <td>AL</td>\n",
       "      <td>CTS</td>\n",
       "      <td>65.9</td>\n",
       "      <td>56.0</td>\n",
       "      <td>1.76</td>\n",
       "      <td>70.0</td>\n",
       "      <td>8.6</td>\n",
       "      <td>270000.0</td>\n",
       "    </tr>\n",
       "    <tr>\n",
       "      <th>1</th>\n",
       "      <td>Algeria</td>\n",
       "      <td>DZ</td>\n",
       "      <td>CTS</td>\n",
       "      <td>4.8</td>\n",
       "      <td>20.0</td>\n",
       "      <td>0.06</td>\n",
       "      <td>78.0</td>\n",
       "      <td>7.6</td>\n",
       "      <td>1900000.0</td>\n",
       "    </tr>\n",
       "    <tr>\n",
       "      <th>2</th>\n",
       "      <td>Angola</td>\n",
       "      <td>AO</td>\n",
       "      <td>NaN</td>\n",
       "      <td>NaN</td>\n",
       "      <td>NaN</td>\n",
       "      <td>NaN</td>\n",
       "      <td>34.0</td>\n",
       "      <td>17.3</td>\n",
       "      <td>2800000.0</td>\n",
       "    </tr>\n",
       "    <tr>\n",
       "      <th>3</th>\n",
       "      <td>Anguilla</td>\n",
       "      <td>AI</td>\n",
       "      <td>WHO-MDB</td>\n",
       "      <td>24.0</td>\n",
       "      <td>1.0</td>\n",
       "      <td>7.14</td>\n",
       "      <td>NaN</td>\n",
       "      <td>NaN</td>\n",
       "      <td>NaN</td>\n",
       "    </tr>\n",
       "    <tr>\n",
       "      <th>4</th>\n",
       "      <td>Argentina</td>\n",
       "      <td>AR</td>\n",
       "      <td>Ministry of Justice</td>\n",
       "      <td>52.0</td>\n",
       "      <td>1198.0</td>\n",
       "      <td>3.02</td>\n",
       "      <td>62.0</td>\n",
       "      <td>10.2</td>\n",
       "      <td>3950000.0</td>\n",
       "    </tr>\n",
       "  </tbody>\n",
       "</table>\n",
       "</div>"
      ],
      "text/plain": [
       "  Country/Territory ISO code               Source  % of homicides by firearm  \\\n",
       "0           Albania       AL                  CTS                       65.9   \n",
       "1           Algeria       DZ                  CTS                        4.8   \n",
       "2            Angola       AO                  NaN                        NaN   \n",
       "3          Anguilla       AI              WHO-MDB                       24.0   \n",
       "4         Argentina       AR  Ministry of Justice                       52.0   \n",
       "\n",
       "   Number of homicides by firearm  Homicide by firearm rate per 100,000 pop  \\\n",
       "0                            56.0                                      1.76   \n",
       "1                            20.0                                      0.06   \n",
       "2                             NaN                                       NaN   \n",
       "3                             1.0                                      7.14   \n",
       "4                          1198.0                                      3.02   \n",
       "\n",
       "   Rank by rate of ownership  Average firearms per 100 people  \\\n",
       "0                       70.0                              8.6   \n",
       "1                       78.0                              7.6   \n",
       "2                       34.0                             17.3   \n",
       "3                        NaN                              NaN   \n",
       "4                       62.0                             10.2   \n",
       "\n",
       "   Average total all civilian firearms  \n",
       "0                             270000.0  \n",
       "1                            1900000.0  \n",
       "2                            2800000.0  \n",
       "3                                  NaN  \n",
       "4                            3950000.0  "
      ]
     },
     "execution_count": 3,
     "metadata": {},
     "output_type": "execute_result"
    }
   ],
   "source": [
    "df1 = pd.read_csv(os.getenv(\"PUIDATA\") + \"/\" + 'World firearms murders and ownership - Sheet 1.csv')\n",
    "df1.head()"
   ]
  },
  {
   "cell_type": "code",
   "execution_count": 4,
   "metadata": {
    "collapsed": false
   },
   "outputs": [
    {
     "name": "stdout",
     "output_type": "stream",
     "text": [
      "(185, 9)\n"
     ]
    }
   ],
   "source": [
    "print(df1.shape)"
   ]
  },
  {
   "cell_type": "code",
   "execution_count": 5,
   "metadata": {
    "collapsed": false
   },
   "outputs": [
    {
     "data": {
      "text/html": [
       "<div>\n",
       "<table border=\"1\" class=\"dataframe\">\n",
       "  <thead>\n",
       "    <tr style=\"text-align: right;\">\n",
       "      <th></th>\n",
       "      <th>Country</th>\n",
       "      <th>Number of homicides by firearm</th>\n",
       "      <th>Homicide by firearm per 100,000 pop</th>\n",
       "      <th>Firearms per 100 people</th>\n",
       "      <th>Total civilian firearms</th>\n",
       "    </tr>\n",
       "  </thead>\n",
       "  <tbody>\n",
       "    <tr>\n",
       "      <th>0</th>\n",
       "      <td>Albania</td>\n",
       "      <td>56.0</td>\n",
       "      <td>1.76</td>\n",
       "      <td>8.6</td>\n",
       "      <td>270000.0</td>\n",
       "    </tr>\n",
       "    <tr>\n",
       "      <th>1</th>\n",
       "      <td>Algeria</td>\n",
       "      <td>20.0</td>\n",
       "      <td>0.06</td>\n",
       "      <td>7.6</td>\n",
       "      <td>1900000.0</td>\n",
       "    </tr>\n",
       "    <tr>\n",
       "      <th>2</th>\n",
       "      <td>Angola</td>\n",
       "      <td>NaN</td>\n",
       "      <td>NaN</td>\n",
       "      <td>17.3</td>\n",
       "      <td>2800000.0</td>\n",
       "    </tr>\n",
       "    <tr>\n",
       "      <th>3</th>\n",
       "      <td>Anguilla</td>\n",
       "      <td>1.0</td>\n",
       "      <td>7.14</td>\n",
       "      <td>NaN</td>\n",
       "      <td>NaN</td>\n",
       "    </tr>\n",
       "    <tr>\n",
       "      <th>4</th>\n",
       "      <td>Argentina</td>\n",
       "      <td>1198.0</td>\n",
       "      <td>3.02</td>\n",
       "      <td>10.2</td>\n",
       "      <td>3950000.0</td>\n",
       "    </tr>\n",
       "  </tbody>\n",
       "</table>\n",
       "</div>"
      ],
      "text/plain": [
       "     Country  Number of homicides by firearm  \\\n",
       "0    Albania                            56.0   \n",
       "1    Algeria                            20.0   \n",
       "2     Angola                             NaN   \n",
       "3   Anguilla                             1.0   \n",
       "4  Argentina                          1198.0   \n",
       "\n",
       "   Homicide by firearm per 100,000 pop  Firearms per 100 people  \\\n",
       "0                                 1.76                      8.6   \n",
       "1                                 0.06                      7.6   \n",
       "2                                  NaN                     17.3   \n",
       "3                                 7.14                      NaN   \n",
       "4                                 3.02                     10.2   \n",
       "\n",
       "   Total civilian firearms  \n",
       "0                 270000.0  \n",
       "1                1900000.0  \n",
       "2                2800000.0  \n",
       "3                      NaN  \n",
       "4                3950000.0  "
      ]
     },
     "execution_count": 5,
     "metadata": {},
     "output_type": "execute_result"
    }
   ],
   "source": [
    "df1 = df1.drop(labels = ['ISO code', 'Source', '% of homicides by firearm', 'Rank by rate of ownership'], axis = 1)\n",
    "df1 = df1.rename(columns = {'Country/Territory': 'Country',\n",
    "                           'Average firearms per 100 people': 'Firearms per 100 people',\n",
    "                           'Homicide by firearm rate per 100,000 pop': 'Homicide by firearm per 100,000 pop',\n",
    "                           'Average total all civilian firearms':'Total civilian firearms'})\n",
    "df1.head()"
   ]
  },
  {
   "cell_type": "code",
   "execution_count": null,
   "metadata": {
    "collapsed": true
   },
   "outputs": [],
   "source": []
  },
  {
   "cell_type": "markdown",
   "metadata": {},
   "source": [
    "### the second dataset 'The number of gun owned vs. the number of mass shootings' (see: [here](https://datawrapper.dwcdn.net/pvLFI/4/))"
   ]
  },
  {
   "cell_type": "code",
   "execution_count": 6,
   "metadata": {
    "collapsed": false
   },
   "outputs": [
    {
     "data": {
      "text/html": [
       "<div>\n",
       "<table border=\"1\" class=\"dataframe\">\n",
       "  <thead>\n",
       "    <tr style=\"text-align: right;\">\n",
       "      <th></th>\n",
       "      <th>Country</th>\n",
       "      <th>Guns/100 inhabitants</th>\n",
       "      <th>Number of mass shootings</th>\n",
       "    </tr>\n",
       "  </thead>\n",
       "  <tbody>\n",
       "    <tr>\n",
       "      <th>0</th>\n",
       "      <td>Australia</td>\n",
       "      <td>15.0</td>\n",
       "      <td>4</td>\n",
       "    </tr>\n",
       "    <tr>\n",
       "      <th>1</th>\n",
       "      <td>Austria</td>\n",
       "      <td>30.4</td>\n",
       "      <td>1</td>\n",
       "    </tr>\n",
       "    <tr>\n",
       "      <th>2</th>\n",
       "      <td>Beligium</td>\n",
       "      <td>17.2</td>\n",
       "      <td>2</td>\n",
       "    </tr>\n",
       "    <tr>\n",
       "      <th>3</th>\n",
       "      <td>Canada</td>\n",
       "      <td>30.8</td>\n",
       "      <td>4</td>\n",
       "    </tr>\n",
       "    <tr>\n",
       "      <th>4</th>\n",
       "      <td>Denmark</td>\n",
       "      <td>12.0</td>\n",
       "      <td>0</td>\n",
       "    </tr>\n",
       "  </tbody>\n",
       "</table>\n",
       "</div>"
      ],
      "text/plain": [
       "     Country  Guns/100 inhabitants  Number of mass shootings\n",
       "0  Australia                  15.0                         4\n",
       "1    Austria                  30.4                         1\n",
       "2   Beligium                  17.2                         2\n",
       "3     Canada                  30.8                         4\n",
       "4    Denmark                  12.0                         0"
      ]
     },
     "execution_count": 6,
     "metadata": {},
     "output_type": "execute_result"
    }
   ],
   "source": [
    "df2 = pd.read_csv(os.getenv(\"PUIDATA\") + \"/\" + 'data-pvLFI.csv')\n",
    "df2.head()"
   ]
  },
  {
   "cell_type": "code",
   "execution_count": 7,
   "metadata": {
    "collapsed": false
   },
   "outputs": [
    {
     "data": {
      "text/plain": [
       "(25, 3)"
      ]
     },
     "execution_count": 7,
     "metadata": {},
     "output_type": "execute_result"
    }
   ],
   "source": [
    "df2.shape"
   ]
  },
  {
   "cell_type": "code",
   "execution_count": 8,
   "metadata": {
    "collapsed": false
   },
   "outputs": [
    {
     "data": {
      "text/html": [
       "<div>\n",
       "<table border=\"1\" class=\"dataframe\">\n",
       "  <thead>\n",
       "    <tr style=\"text-align: right;\">\n",
       "      <th></th>\n",
       "      <th>Country</th>\n",
       "      <th>Guns/100 inhabitants</th>\n",
       "      <th>Number of mass shootings</th>\n",
       "    </tr>\n",
       "  </thead>\n",
       "  <tbody>\n",
       "    <tr>\n",
       "      <th>2</th>\n",
       "      <td>Beligium</td>\n",
       "      <td>17.2</td>\n",
       "      <td>2</td>\n",
       "    </tr>\n",
       "    <tr>\n",
       "      <th>9</th>\n",
       "      <td>Holland</td>\n",
       "      <td>3.9</td>\n",
       "      <td>2</td>\n",
       "    </tr>\n",
       "    <tr>\n",
       "      <th>23</th>\n",
       "      <td>United Kingdom</td>\n",
       "      <td>6.2</td>\n",
       "      <td>3</td>\n",
       "    </tr>\n",
       "  </tbody>\n",
       "</table>\n",
       "</div>"
      ],
      "text/plain": [
       "           Country  Guns/100 inhabitants  Number of mass shootings\n",
       "2         Beligium                  17.2                         2\n",
       "9          Holland                   3.9                         2\n",
       "23  United Kingdom                   6.2                         3"
      ]
     },
     "execution_count": 8,
     "metadata": {},
     "output_type": "execute_result"
    }
   ],
   "source": [
    "# check the countries' names\n",
    "df2[df2['Country'].isin(df1['Country'])==0]"
   ]
  },
  {
   "cell_type": "markdown",
   "metadata": {},
   "source": [
    "### why these 3 countries are not in df1? we need to find out"
   ]
  },
  {
   "cell_type": "code",
   "execution_count": 9,
   "metadata": {
    "collapsed": false
   },
   "outputs": [
    {
     "data": {
      "text/html": [
       "<div>\n",
       "<table border=\"1\" class=\"dataframe\">\n",
       "  <thead>\n",
       "    <tr style=\"text-align: right;\">\n",
       "      <th></th>\n",
       "      <th>Country</th>\n",
       "      <th>Number of homicides by firearm</th>\n",
       "      <th>Homicide by firearm per 100,000 pop</th>\n",
       "      <th>Firearms per 100 people</th>\n",
       "      <th>Total civilian firearms</th>\n",
       "    </tr>\n",
       "  </thead>\n",
       "  <tbody>\n",
       "    <tr>\n",
       "      <th>52</th>\n",
       "      <td>England and Wales</td>\n",
       "      <td>41.0</td>\n",
       "      <td>0.07</td>\n",
       "      <td>6.2</td>\n",
       "      <td>3400000.0</td>\n",
       "    </tr>\n",
       "  </tbody>\n",
       "</table>\n",
       "</div>"
      ],
      "text/plain": [
       "              Country  Number of homicides by firearm  \\\n",
       "52  England and Wales                            41.0   \n",
       "\n",
       "    Homicide by firearm per 100,000 pop  Firearms per 100 people  \\\n",
       "52                                 0.07                      6.2   \n",
       "\n",
       "    Total civilian firearms  \n",
       "52                3400000.0  "
      ]
     },
     "execution_count": 9,
     "metadata": {},
     "output_type": "execute_result"
    }
   ],
   "source": [
    "df1[df1['Country'].str.contains('England')]"
   ]
  },
  {
   "cell_type": "code",
   "execution_count": 10,
   "metadata": {
    "collapsed": false
   },
   "outputs": [
    {
     "data": {
      "text/html": [
       "<div>\n",
       "<table border=\"1\" class=\"dataframe\">\n",
       "  <thead>\n",
       "    <tr style=\"text-align: right;\">\n",
       "      <th></th>\n",
       "      <th>Country</th>\n",
       "      <th>Number of homicides by firearm</th>\n",
       "      <th>Homicide by firearm per 100,000 pop</th>\n",
       "      <th>Firearms per 100 people</th>\n",
       "      <th>Total civilian firearms</th>\n",
       "    </tr>\n",
       "  </thead>\n",
       "  <tbody>\n",
       "    <tr>\n",
       "      <th>145</th>\n",
       "      <td>Scotland</td>\n",
       "      <td>NaN</td>\n",
       "      <td>NaN</td>\n",
       "      <td>5.5</td>\n",
       "      <td>280000.0</td>\n",
       "    </tr>\n",
       "  </tbody>\n",
       "</table>\n",
       "</div>"
      ],
      "text/plain": [
       "      Country  Number of homicides by firearm  \\\n",
       "145  Scotland                             NaN   \n",
       "\n",
       "     Homicide by firearm per 100,000 pop  Firearms per 100 people  \\\n",
       "145                                  NaN                      5.5   \n",
       "\n",
       "     Total civilian firearms  \n",
       "145                 280000.0  "
      ]
     },
     "execution_count": 10,
     "metadata": {},
     "output_type": "execute_result"
    }
   ],
   "source": [
    "df1[df1['Country'].str.contains('Scotland')]"
   ]
  },
  {
   "cell_type": "code",
   "execution_count": 11,
   "metadata": {
    "collapsed": false
   },
   "outputs": [
    {
     "data": {
      "text/html": [
       "<div>\n",
       "<table border=\"1\" class=\"dataframe\">\n",
       "  <thead>\n",
       "    <tr style=\"text-align: right;\">\n",
       "      <th></th>\n",
       "      <th>Country</th>\n",
       "      <th>Number of homicides by firearm</th>\n",
       "      <th>Homicide by firearm per 100,000 pop</th>\n",
       "      <th>Firearms per 100 people</th>\n",
       "      <th>Total civilian firearms</th>\n",
       "    </tr>\n",
       "  </thead>\n",
       "  <tbody>\n",
       "    <tr>\n",
       "      <th>121</th>\n",
       "      <td>Netherlands</td>\n",
       "      <td>55.0</td>\n",
       "      <td>0.33</td>\n",
       "      <td>3.9</td>\n",
       "      <td>510000.0</td>\n",
       "    </tr>\n",
       "  </tbody>\n",
       "</table>\n",
       "</div>"
      ],
      "text/plain": [
       "         Country  Number of homicides by firearm  \\\n",
       "121  Netherlands                            55.0   \n",
       "\n",
       "     Homicide by firearm per 100,000 pop  Firearms per 100 people  \\\n",
       "121                                 0.33                      3.9   \n",
       "\n",
       "     Total civilian firearms  \n",
       "121                 510000.0  "
      ]
     },
     "execution_count": 11,
     "metadata": {},
     "output_type": "execute_result"
    }
   ],
   "source": [
    "df1[df1['Country'].str.contains('Net')]"
   ]
  },
  {
   "cell_type": "code",
   "execution_count": 12,
   "metadata": {
    "collapsed": false
   },
   "outputs": [
    {
     "data": {
      "text/html": [
       "<div>\n",
       "<table border=\"1\" class=\"dataframe\">\n",
       "  <thead>\n",
       "    <tr style=\"text-align: right;\">\n",
       "      <th></th>\n",
       "      <th>Country</th>\n",
       "      <th>Number of homicides by firearm</th>\n",
       "      <th>Homicide by firearm per 100,000 pop</th>\n",
       "      <th>Firearms per 100 people</th>\n",
       "      <th>Total civilian firearms</th>\n",
       "    </tr>\n",
       "  </thead>\n",
       "  <tbody>\n",
       "    <tr>\n",
       "      <th>14</th>\n",
       "      <td>Belgium</td>\n",
       "      <td>70.0</td>\n",
       "      <td>0.68</td>\n",
       "      <td>17.2</td>\n",
       "      <td>1800000.0</td>\n",
       "    </tr>\n",
       "  </tbody>\n",
       "</table>\n",
       "</div>"
      ],
      "text/plain": [
       "    Country  Number of homicides by firearm  \\\n",
       "14  Belgium                            70.0   \n",
       "\n",
       "    Homicide by firearm per 100,000 pop  Firearms per 100 people  \\\n",
       "14                                 0.68                     17.2   \n",
       "\n",
       "    Total civilian firearms  \n",
       "14                1800000.0  "
      ]
     },
     "execution_count": 12,
     "metadata": {},
     "output_type": "execute_result"
    }
   ],
   "source": [
    "df1[df1['Country'].str.contains('Belgium')]"
   ]
  },
  {
   "cell_type": "markdown",
   "metadata": {},
   "source": [
    "### From above, we could know that the 3 missing countries are UK, Netherlands and Belgium, which are all in df1.\n",
    "### and because the 'Average firearms per 100 people' of 'England and Wales' in df1 exactly = df2, so we consider that is the data of  'England and Wales' not 'United Kingdoms'(also with scotland)\n",
    "### we replace the countries' name and merge df1 and df2"
   ]
  },
  {
   "cell_type": "code",
   "execution_count": 13,
   "metadata": {
    "collapsed": false
   },
   "outputs": [],
   "source": [
    "df2.replace(['Beligium', 'Holland', 'United Kingdom'],['Belgium','Netherlands', 'England and Wales'], \n",
    "            inplace = True)"
   ]
  },
  {
   "cell_type": "code",
   "execution_count": 14,
   "metadata": {
    "collapsed": false
   },
   "outputs": [
    {
     "data": {
      "text/plain": [
       "(25, 7)"
      ]
     },
     "execution_count": 14,
     "metadata": {},
     "output_type": "execute_result"
    }
   ],
   "source": [
    "df1_2 = pd.merge(df1, df2, how = 'inner')\n",
    "df1_2.shape"
   ]
  },
  {
   "cell_type": "code",
   "execution_count": 15,
   "metadata": {
    "collapsed": false
   },
   "outputs": [
    {
     "data": {
      "text/plain": [
       "0"
      ]
     },
     "execution_count": 15,
     "metadata": {},
     "output_type": "execute_result"
    }
   ],
   "source": [
    "## to check does the column 'Firearms per 100 people' and 'Guns/100 inhabitants' exactly the same\n",
    "sum(df1_2['Firearms per 100 people'] != df1_2['Guns/100 inhabitants'])"
   ]
  },
  {
   "cell_type": "code",
   "execution_count": 16,
   "metadata": {
    "collapsed": false
   },
   "outputs": [
    {
     "data": {
      "text/html": [
       "<div>\n",
       "<table border=\"1\" class=\"dataframe\">\n",
       "  <thead>\n",
       "    <tr style=\"text-align: right;\">\n",
       "      <th></th>\n",
       "      <th>Country</th>\n",
       "      <th>Number of homicides by firearm</th>\n",
       "      <th>Homicide by firearm per 100,000 pop</th>\n",
       "      <th>Firearms per 100 people</th>\n",
       "      <th>Total civilian firearms</th>\n",
       "      <th>Number of mass shootings</th>\n",
       "    </tr>\n",
       "  </thead>\n",
       "  <tbody>\n",
       "    <tr>\n",
       "      <th>0</th>\n",
       "      <td>Australia</td>\n",
       "      <td>30.0</td>\n",
       "      <td>0.14</td>\n",
       "      <td>15.0</td>\n",
       "      <td>3050000.0</td>\n",
       "      <td>4</td>\n",
       "    </tr>\n",
       "    <tr>\n",
       "      <th>1</th>\n",
       "      <td>Austria</td>\n",
       "      <td>18.0</td>\n",
       "      <td>0.22</td>\n",
       "      <td>30.4</td>\n",
       "      <td>2500000.0</td>\n",
       "      <td>1</td>\n",
       "    </tr>\n",
       "    <tr>\n",
       "      <th>2</th>\n",
       "      <td>Belgium</td>\n",
       "      <td>70.0</td>\n",
       "      <td>0.68</td>\n",
       "      <td>17.2</td>\n",
       "      <td>1800000.0</td>\n",
       "      <td>2</td>\n",
       "    </tr>\n",
       "    <tr>\n",
       "      <th>3</th>\n",
       "      <td>Canada</td>\n",
       "      <td>173.0</td>\n",
       "      <td>0.51</td>\n",
       "      <td>30.8</td>\n",
       "      <td>9950000.0</td>\n",
       "      <td>4</td>\n",
       "    </tr>\n",
       "    <tr>\n",
       "      <th>4</th>\n",
       "      <td>Denmark</td>\n",
       "      <td>15.0</td>\n",
       "      <td>0.27</td>\n",
       "      <td>12.0</td>\n",
       "      <td>650000.0</td>\n",
       "      <td>0</td>\n",
       "    </tr>\n",
       "  </tbody>\n",
       "</table>\n",
       "</div>"
      ],
      "text/plain": [
       "     Country  Number of homicides by firearm  \\\n",
       "0  Australia                            30.0   \n",
       "1    Austria                            18.0   \n",
       "2    Belgium                            70.0   \n",
       "3     Canada                           173.0   \n",
       "4    Denmark                            15.0   \n",
       "\n",
       "   Homicide by firearm per 100,000 pop  Firearms per 100 people  \\\n",
       "0                                 0.14                     15.0   \n",
       "1                                 0.22                     30.4   \n",
       "2                                 0.68                     17.2   \n",
       "3                                 0.51                     30.8   \n",
       "4                                 0.27                     12.0   \n",
       "\n",
       "   Total civilian firearms  Number of mass shootings  \n",
       "0                3050000.0                         4  \n",
       "1                2500000.0                         1  \n",
       "2                1800000.0                         2  \n",
       "3                9950000.0                         4  \n",
       "4                 650000.0                         0  "
      ]
     },
     "execution_count": 16,
     "metadata": {},
     "output_type": "execute_result"
    }
   ],
   "source": [
    "## the answer is yes, so we delete one column\n",
    "df1_2 = df1_2.drop(labels = ['Guns/100 inhabitants'], axis = 1)\n",
    "df1_2.head()"
   ]
  },
  {
   "cell_type": "code",
   "execution_count": null,
   "metadata": {
    "collapsed": true
   },
   "outputs": [],
   "source": []
  },
  {
   "cell_type": "markdown",
   "metadata": {
    "collapsed": true
   },
   "source": [
    "## the third dataset  'the world population' from world bank (see [here](https://data.worldbank.org/indicator/SP.POP.TOTL))\n",
    "\n",
    "the csv file is a little tricky, because the first three lines is not part of the table, we need to clean the  data from the fourth line"
   ]
  },
  {
   "cell_type": "code",
   "execution_count": 17,
   "metadata": {
    "collapsed": false
   },
   "outputs": [],
   "source": [
    "with open(os.getenv(\"PUIDATA\") + \"/\" + 'POP.csv') as f:\n",
    "    line = f.readlines()\n",
    "    data = []\n",
    "    for row in line[4:]:\n",
    "        data.append(pd.DataFrame(row.split(',')[:-1]).T)\n",
    "        "
   ]
  },
  {
   "cell_type": "code",
   "execution_count": 18,
   "metadata": {
    "collapsed": false
   },
   "outputs": [
    {
     "data": {
      "text/html": [
       "<div>\n",
       "<table border=\"1\" class=\"dataframe\">\n",
       "  <thead>\n",
       "    <tr style=\"text-align: right;\">\n",
       "      <th></th>\n",
       "      <th>0</th>\n",
       "      <th>1</th>\n",
       "      <th>2</th>\n",
       "      <th>3</th>\n",
       "      <th>4</th>\n",
       "      <th>5</th>\n",
       "      <th>6</th>\n",
       "      <th>7</th>\n",
       "      <th>8</th>\n",
       "      <th>9</th>\n",
       "      <th>...</th>\n",
       "      <th>53</th>\n",
       "      <th>54</th>\n",
       "      <th>55</th>\n",
       "      <th>56</th>\n",
       "      <th>57</th>\n",
       "      <th>58</th>\n",
       "      <th>59</th>\n",
       "      <th>60</th>\n",
       "      <th>61</th>\n",
       "      <th>62</th>\n",
       "    </tr>\n",
       "  </thead>\n",
       "  <tbody>\n",
       "    <tr>\n",
       "      <th>0</th>\n",
       "      <td>\"Country Name\"</td>\n",
       "      <td>\"Country Code\"</td>\n",
       "      <td>\"Indicator Name\"</td>\n",
       "      <td>\"Indicator Code\"</td>\n",
       "      <td>\"1960\"</td>\n",
       "      <td>\"1961\"</td>\n",
       "      <td>\"1962\"</td>\n",
       "      <td>\"1963\"</td>\n",
       "      <td>\"1964\"</td>\n",
       "      <td>\"1965\"</td>\n",
       "      <td>...</td>\n",
       "      <td>\"2009\"</td>\n",
       "      <td>\"2010\"</td>\n",
       "      <td>\"2011\"</td>\n",
       "      <td>\"2012\"</td>\n",
       "      <td>\"2013\"</td>\n",
       "      <td>\"2014\"</td>\n",
       "      <td>\"2015\"</td>\n",
       "      <td>\"2016\"</td>\n",
       "      <td>NaN</td>\n",
       "      <td>NaN</td>\n",
       "    </tr>\n",
       "    <tr>\n",
       "      <th>0</th>\n",
       "      <td>\"Aruba\"</td>\n",
       "      <td>\"ABW\"</td>\n",
       "      <td>\"Population</td>\n",
       "      <td>total\"</td>\n",
       "      <td>\"SP.POP.TOTL\"</td>\n",
       "      <td>\"54211\"</td>\n",
       "      <td>\"55438\"</td>\n",
       "      <td>\"56225\"</td>\n",
       "      <td>\"56695\"</td>\n",
       "      <td>\"57032\"</td>\n",
       "      <td>...</td>\n",
       "      <td>\"101353\"</td>\n",
       "      <td>\"101453\"</td>\n",
       "      <td>\"101669\"</td>\n",
       "      <td>\"102053\"</td>\n",
       "      <td>\"102577\"</td>\n",
       "      <td>\"103187\"</td>\n",
       "      <td>\"103795\"</td>\n",
       "      <td>\"104341\"</td>\n",
       "      <td>\"104822\"</td>\n",
       "      <td>NaN</td>\n",
       "    </tr>\n",
       "    <tr>\n",
       "      <th>0</th>\n",
       "      <td>\"Afghanistan\"</td>\n",
       "      <td>\"AFG\"</td>\n",
       "      <td>\"Population</td>\n",
       "      <td>total\"</td>\n",
       "      <td>\"SP.POP.TOTL\"</td>\n",
       "      <td>\"8996351\"</td>\n",
       "      <td>\"9166764\"</td>\n",
       "      <td>\"9345868\"</td>\n",
       "      <td>\"9533954\"</td>\n",
       "      <td>\"9731361\"</td>\n",
       "      <td>...</td>\n",
       "      <td>\"27294031\"</td>\n",
       "      <td>\"28004331\"</td>\n",
       "      <td>\"28803167\"</td>\n",
       "      <td>\"29708599\"</td>\n",
       "      <td>\"30696958\"</td>\n",
       "      <td>\"31731688\"</td>\n",
       "      <td>\"32758020\"</td>\n",
       "      <td>\"33736494\"</td>\n",
       "      <td>\"34656032\"</td>\n",
       "      <td>NaN</td>\n",
       "    </tr>\n",
       "    <tr>\n",
       "      <th>0</th>\n",
       "      <td>\"Angola\"</td>\n",
       "      <td>\"AGO\"</td>\n",
       "      <td>\"Population</td>\n",
       "      <td>total\"</td>\n",
       "      <td>\"SP.POP.TOTL\"</td>\n",
       "      <td>\"5643182\"</td>\n",
       "      <td>\"5753024\"</td>\n",
       "      <td>\"5866061\"</td>\n",
       "      <td>\"5980417\"</td>\n",
       "      <td>\"6093321\"</td>\n",
       "      <td>...</td>\n",
       "      <td>\"21759420\"</td>\n",
       "      <td>\"22549547\"</td>\n",
       "      <td>\"23369131\"</td>\n",
       "      <td>\"24218565\"</td>\n",
       "      <td>\"25096150\"</td>\n",
       "      <td>\"25998340\"</td>\n",
       "      <td>\"26920466\"</td>\n",
       "      <td>\"27859305\"</td>\n",
       "      <td>\"28813463\"</td>\n",
       "      <td>NaN</td>\n",
       "    </tr>\n",
       "    <tr>\n",
       "      <th>0</th>\n",
       "      <td>\"Albania\"</td>\n",
       "      <td>\"ALB\"</td>\n",
       "      <td>\"Population</td>\n",
       "      <td>total\"</td>\n",
       "      <td>\"SP.POP.TOTL\"</td>\n",
       "      <td>\"1608800\"</td>\n",
       "      <td>\"1659800\"</td>\n",
       "      <td>\"1711319\"</td>\n",
       "      <td>\"1762621\"</td>\n",
       "      <td>\"1814135\"</td>\n",
       "      <td>...</td>\n",
       "      <td>\"2947314\"</td>\n",
       "      <td>\"2927519\"</td>\n",
       "      <td>\"2913021\"</td>\n",
       "      <td>\"2905195\"</td>\n",
       "      <td>\"2900401\"</td>\n",
       "      <td>\"2895092\"</td>\n",
       "      <td>\"2889104\"</td>\n",
       "      <td>\"2880703\"</td>\n",
       "      <td>\"2876101\"</td>\n",
       "      <td>NaN</td>\n",
       "    </tr>\n",
       "  </tbody>\n",
       "</table>\n",
       "<p>5 rows × 63 columns</p>\n",
       "</div>"
      ],
      "text/plain": [
       "               0               1                 2                 3   \\\n",
       "0  \"Country Name\"  \"Country Code\"  \"Indicator Name\"  \"Indicator Code\"   \n",
       "0         \"Aruba\"           \"ABW\"       \"Population            total\"   \n",
       "0   \"Afghanistan\"           \"AFG\"       \"Population            total\"   \n",
       "0        \"Angola\"           \"AGO\"       \"Population            total\"   \n",
       "0       \"Albania\"           \"ALB\"       \"Population            total\"   \n",
       "\n",
       "              4          5          6          7          8          9  ...   \\\n",
       "0         \"1960\"     \"1961\"     \"1962\"     \"1963\"     \"1964\"     \"1965\" ...    \n",
       "0  \"SP.POP.TOTL\"    \"54211\"    \"55438\"    \"56225\"    \"56695\"    \"57032\" ...    \n",
       "0  \"SP.POP.TOTL\"  \"8996351\"  \"9166764\"  \"9345868\"  \"9533954\"  \"9731361\" ...    \n",
       "0  \"SP.POP.TOTL\"  \"5643182\"  \"5753024\"  \"5866061\"  \"5980417\"  \"6093321\" ...    \n",
       "0  \"SP.POP.TOTL\"  \"1608800\"  \"1659800\"  \"1711319\"  \"1762621\"  \"1814135\" ...    \n",
       "\n",
       "           53          54          55          56          57          58  \\\n",
       "0      \"2009\"      \"2010\"      \"2011\"      \"2012\"      \"2013\"      \"2014\"   \n",
       "0    \"101353\"    \"101453\"    \"101669\"    \"102053\"    \"102577\"    \"103187\"   \n",
       "0  \"27294031\"  \"28004331\"  \"28803167\"  \"29708599\"  \"30696958\"  \"31731688\"   \n",
       "0  \"21759420\"  \"22549547\"  \"23369131\"  \"24218565\"  \"25096150\"  \"25998340\"   \n",
       "0   \"2947314\"   \"2927519\"   \"2913021\"   \"2905195\"   \"2900401\"   \"2895092\"   \n",
       "\n",
       "           59          60          61   62  \n",
       "0      \"2015\"      \"2016\"         NaN  NaN  \n",
       "0    \"103795\"    \"104341\"    \"104822\"  NaN  \n",
       "0  \"32758020\"  \"33736494\"  \"34656032\"  NaN  \n",
       "0  \"26920466\"  \"27859305\"  \"28813463\"  NaN  \n",
       "0   \"2889104\"   \"2880703\"   \"2876101\"  NaN  \n",
       "\n",
       "[5 rows x 63 columns]"
      ]
     },
     "execution_count": 18,
     "metadata": {},
     "output_type": "execute_result"
    }
   ],
   "source": [
    "df3 = pd.concat(data)\n",
    "df3.head()"
   ]
  },
  {
   "cell_type": "code",
   "execution_count": 19,
   "metadata": {
    "collapsed": false
   },
   "outputs": [],
   "source": [
    "# reset the first line(the fourth line of the original csv) to be columns' name\n",
    "df3.columns = df3.iloc[0,:]\n",
    "df3 = df3.iloc[1:, :].reset_index(drop = True)"
   ]
  },
  {
   "cell_type": "code",
   "execution_count": 20,
   "metadata": {
    "collapsed": false
   },
   "outputs": [
    {
     "data": {
      "text/html": [
       "<div>\n",
       "<table border=\"1\" class=\"dataframe\">\n",
       "  <thead>\n",
       "    <tr style=\"text-align: right;\">\n",
       "      <th></th>\n",
       "      <th>Country</th>\n",
       "      <th>2012</th>\n",
       "    </tr>\n",
       "  </thead>\n",
       "  <tbody>\n",
       "    <tr>\n",
       "      <th>0</th>\n",
       "      <td>\"Aruba\"</td>\n",
       "      <td>\"102053\"</td>\n",
       "    </tr>\n",
       "    <tr>\n",
       "      <th>1</th>\n",
       "      <td>\"Afghanistan\"</td>\n",
       "      <td>\"29708599\"</td>\n",
       "    </tr>\n",
       "    <tr>\n",
       "      <th>2</th>\n",
       "      <td>\"Angola\"</td>\n",
       "      <td>\"24218565\"</td>\n",
       "    </tr>\n",
       "    <tr>\n",
       "      <th>3</th>\n",
       "      <td>\"Albania\"</td>\n",
       "      <td>\"2905195\"</td>\n",
       "    </tr>\n",
       "    <tr>\n",
       "      <th>4</th>\n",
       "      <td>\"Andorra\"</td>\n",
       "      <td>\"83751\"</td>\n",
       "    </tr>\n",
       "  </tbody>\n",
       "</table>\n",
       "</div>"
      ],
      "text/plain": [
       "0        Country        2012\n",
       "0        \"Aruba\"    \"102053\"\n",
       "1  \"Afghanistan\"  \"29708599\"\n",
       "2       \"Angola\"  \"24218565\"\n",
       "3      \"Albania\"   \"2905195\"\n",
       "4      \"Andorra\"     \"83751\""
      ]
     },
     "execution_count": 20,
     "metadata": {},
     "output_type": "execute_result"
    }
   ],
   "source": [
    "df3.rename(columns = {'\"Country Name\"':'Country','\"2012\"':'2012'}, inplace = True)\n",
    "df3 = df3[['Country', '2012']]\n",
    "df3.head()"
   ]
  },
  {
   "cell_type": "code",
   "execution_count": 21,
   "metadata": {
    "collapsed": false
   },
   "outputs": [
    {
     "data": {
      "text/plain": [
       "(264, 2)"
      ]
     },
     "execution_count": 21,
     "metadata": {},
     "output_type": "execute_result"
    }
   ],
   "source": [
    "df3.shape"
   ]
  },
  {
   "cell_type": "code",
   "execution_count": 22,
   "metadata": {
    "collapsed": false
   },
   "outputs": [
    {
     "name": "stdout",
     "output_type": "stream",
     "text": [
      "109\n"
     ]
    }
   ],
   "source": [
    "# the values seem awful, clean them\n",
    "country = []\n",
    "pop = []\n",
    "for x in list(df3['Country']):\n",
    "    country.append(x[1:-1])\n",
    "\n",
    "# when I first time to transfer the type of pop into float, something wrong, so I need to figure it out\n",
    "i = 0\n",
    "for y in list(df3['2012']):\n",
    "    i += 1\n",
    "    try:\n",
    "        pop.append(float(y[1:-1]))\n",
    "    except:\n",
    "        print(i)\n"
   ]
  },
  {
   "cell_type": "code",
   "execution_count": 23,
   "metadata": {
    "collapsed": false
   },
   "outputs": [
    {
     "data": {
      "text/plain": [
       "'\"\"'"
      ]
     },
     "execution_count": 23,
     "metadata": {},
     "output_type": "execute_result"
    }
   ],
   "source": [
    "# fine the stupid one\n",
    "df3['2012'][108]"
   ]
  },
  {
   "cell_type": "code",
   "execution_count": 24,
   "metadata": {
    "collapsed": false
   },
   "outputs": [
    {
     "data": {
      "text/plain": [
       "(263, 2)"
      ]
     },
     "execution_count": 24,
     "metadata": {},
     "output_type": "execute_result"
    }
   ],
   "source": [
    "# and drop it\n",
    "df3.drop([108], axis = 0, inplace = True)\n",
    "df3.shape\n"
   ]
  },
  {
   "cell_type": "code",
   "execution_count": 25,
   "metadata": {
    "collapsed": false
   },
   "outputs": [
    {
     "data": {
      "text/html": [
       "<div>\n",
       "<table border=\"1\" class=\"dataframe\">\n",
       "  <thead>\n",
       "    <tr style=\"text-align: right;\">\n",
       "      <th></th>\n",
       "      <th>Country</th>\n",
       "      <th>pop</th>\n",
       "    </tr>\n",
       "  </thead>\n",
       "  <tbody>\n",
       "    <tr>\n",
       "      <th>0</th>\n",
       "      <td>Aruba</td>\n",
       "      <td>102053</td>\n",
       "    </tr>\n",
       "    <tr>\n",
       "      <th>1</th>\n",
       "      <td>Afghanistan</td>\n",
       "      <td>29708599</td>\n",
       "    </tr>\n",
       "    <tr>\n",
       "      <th>2</th>\n",
       "      <td>Angola</td>\n",
       "      <td>24218565</td>\n",
       "    </tr>\n",
       "    <tr>\n",
       "      <th>3</th>\n",
       "      <td>Albania</td>\n",
       "      <td>2905195</td>\n",
       "    </tr>\n",
       "    <tr>\n",
       "      <th>4</th>\n",
       "      <td>Andorra</td>\n",
       "      <td>83751</td>\n",
       "    </tr>\n",
       "  </tbody>\n",
       "</table>\n",
       "</div>"
      ],
      "text/plain": [
       "       Country       pop\n",
       "0        Aruba    102053\n",
       "1  Afghanistan  29708599\n",
       "2       Angola  24218565\n",
       "3      Albania   2905195\n",
       "4      Andorra     83751"
      ]
     },
     "execution_count": 25,
     "metadata": {},
     "output_type": "execute_result"
    }
   ],
   "source": [
    "# do above porcess again. a clean table done!\n",
    "country = []\n",
    "pop = []\n",
    "for x in list(df3['Country']):\n",
    "    country.append(x[1:-1])\n",
    "\n",
    "\n",
    "for y in list(df3['2012']):\n",
    "    pop.append(int(float(y[1:-1])))\n",
    "\n",
    "df3 = pd.DataFrame({'Country': country, 'pop':pop})\n",
    "df3.head()"
   ]
  },
  {
   "cell_type": "markdown",
   "metadata": {},
   "source": [
    "### merge df1&2&3\n",
    " because there's 'United Kingdom' but not 'England and Wales' in df3, so we change the 'country' value name, \n",
    " although it is not accurate to the df1 and df2"
   ]
  },
  {
   "cell_type": "code",
   "execution_count": 26,
   "metadata": {
    "collapsed": false
   },
   "outputs": [
    {
     "data": {
      "text/plain": [
       "(25, 7)"
      ]
     },
     "execution_count": 26,
     "metadata": {},
     "output_type": "execute_result"
    }
   ],
   "source": [
    "df1_2_3 = pd.merge(df1_2.replace(['England and Wales'], ['United Kingdom']), df3, how = 'inner')\n",
    "df1_2_3.shape"
   ]
  },
  {
   "cell_type": "code",
   "execution_count": 27,
   "metadata": {
    "collapsed": false,
    "scrolled": true
   },
   "outputs": [
    {
     "data": {
      "text/html": [
       "<div>\n",
       "<table border=\"1\" class=\"dataframe\">\n",
       "  <thead>\n",
       "    <tr style=\"text-align: right;\">\n",
       "      <th></th>\n",
       "      <th>Country</th>\n",
       "      <th>Number of homicides by firearm</th>\n",
       "      <th>Homicide by firearm per 100,000 pop</th>\n",
       "      <th>Firearms per 100 people</th>\n",
       "      <th>Total civilian firearms</th>\n",
       "      <th>Number of mass shootings</th>\n",
       "      <th>pop</th>\n",
       "    </tr>\n",
       "  </thead>\n",
       "  <tbody>\n",
       "    <tr>\n",
       "      <th>0</th>\n",
       "      <td>Australia</td>\n",
       "      <td>30.0</td>\n",
       "      <td>0.14</td>\n",
       "      <td>15.0</td>\n",
       "      <td>3050000.0</td>\n",
       "      <td>4</td>\n",
       "      <td>22340024</td>\n",
       "    </tr>\n",
       "    <tr>\n",
       "      <th>1</th>\n",
       "      <td>Austria</td>\n",
       "      <td>18.0</td>\n",
       "      <td>0.22</td>\n",
       "      <td>30.4</td>\n",
       "      <td>2500000.0</td>\n",
       "      <td>1</td>\n",
       "      <td>8391643</td>\n",
       "    </tr>\n",
       "    <tr>\n",
       "      <th>2</th>\n",
       "      <td>Belgium</td>\n",
       "      <td>70.0</td>\n",
       "      <td>0.68</td>\n",
       "      <td>17.2</td>\n",
       "      <td>1800000.0</td>\n",
       "      <td>2</td>\n",
       "      <td>11047744</td>\n",
       "    </tr>\n",
       "    <tr>\n",
       "      <th>3</th>\n",
       "      <td>Canada</td>\n",
       "      <td>173.0</td>\n",
       "      <td>0.51</td>\n",
       "      <td>30.8</td>\n",
       "      <td>9950000.0</td>\n",
       "      <td>4</td>\n",
       "      <td>34342780</td>\n",
       "    </tr>\n",
       "    <tr>\n",
       "      <th>4</th>\n",
       "      <td>Denmark</td>\n",
       "      <td>15.0</td>\n",
       "      <td>0.27</td>\n",
       "      <td>12.0</td>\n",
       "      <td>650000.0</td>\n",
       "      <td>0</td>\n",
       "      <td>5570572</td>\n",
       "    </tr>\n",
       "  </tbody>\n",
       "</table>\n",
       "</div>"
      ],
      "text/plain": [
       "     Country  Number of homicides by firearm  \\\n",
       "0  Australia                            30.0   \n",
       "1    Austria                            18.0   \n",
       "2    Belgium                            70.0   \n",
       "3     Canada                           173.0   \n",
       "4    Denmark                            15.0   \n",
       "\n",
       "   Homicide by firearm per 100,000 pop  Firearms per 100 people  \\\n",
       "0                                 0.14                     15.0   \n",
       "1                                 0.22                     30.4   \n",
       "2                                 0.68                     17.2   \n",
       "3                                 0.51                     30.8   \n",
       "4                                 0.27                     12.0   \n",
       "\n",
       "   Total civilian firearms  Number of mass shootings       pop  \n",
       "0                3050000.0                         4  22340024  \n",
       "1                2500000.0                         1   8391643  \n",
       "2                1800000.0                         2  11047744  \n",
       "3                9950000.0                         4  34342780  \n",
       "4                 650000.0                         0   5570572  "
      ]
     },
     "execution_count": 27,
     "metadata": {},
     "output_type": "execute_result"
    }
   ],
   "source": [
    "# seems not bad\n",
    "df1_2_3.head()"
   ]
  },
  {
   "cell_type": "markdown",
   "metadata": {},
   "source": [
    "## the fourth dataset  'the world gdp' from world bank (see [here](https://data.worldbank.org/indicator/NY.GDP.MKTP.CD))\n",
    "\n",
    "the csv file is tricky like dataset 3, we clean it using the same method"
   ]
  },
  {
   "cell_type": "code",
   "execution_count": 28,
   "metadata": {
    "collapsed": true
   },
   "outputs": [],
   "source": [
    "with open(os.getenv(\"PUIDATA\") + \"/\" + 'GDP.csv') as f2:\n",
    "    line2 = f2.readlines()\n",
    "    data2 = []\n",
    "    for row in line2[4:]:\n",
    "        data2.append(pd.DataFrame(row.split(',')[:-1]).T)"
   ]
  },
  {
   "cell_type": "code",
   "execution_count": 29,
   "metadata": {
    "collapsed": false
   },
   "outputs": [
    {
     "data": {
      "text/html": [
       "<div>\n",
       "<table border=\"1\" class=\"dataframe\">\n",
       "  <thead>\n",
       "    <tr style=\"text-align: right;\">\n",
       "      <th></th>\n",
       "      <th>0</th>\n",
       "      <th>1</th>\n",
       "      <th>2</th>\n",
       "      <th>3</th>\n",
       "      <th>4</th>\n",
       "      <th>5</th>\n",
       "      <th>6</th>\n",
       "      <th>7</th>\n",
       "      <th>8</th>\n",
       "      <th>9</th>\n",
       "      <th>...</th>\n",
       "      <th>52</th>\n",
       "      <th>53</th>\n",
       "      <th>54</th>\n",
       "      <th>55</th>\n",
       "      <th>56</th>\n",
       "      <th>57</th>\n",
       "      <th>58</th>\n",
       "      <th>59</th>\n",
       "      <th>60</th>\n",
       "      <th>61</th>\n",
       "    </tr>\n",
       "  </thead>\n",
       "  <tbody>\n",
       "    <tr>\n",
       "      <th>0</th>\n",
       "      <td>\"Country Name\"</td>\n",
       "      <td>\"Country Code\"</td>\n",
       "      <td>\"Indicator Name\"</td>\n",
       "      <td>\"Indicator Code\"</td>\n",
       "      <td>\"1960\"</td>\n",
       "      <td>\"1961\"</td>\n",
       "      <td>\"1962\"</td>\n",
       "      <td>\"1963\"</td>\n",
       "      <td>\"1964\"</td>\n",
       "      <td>\"1965\"</td>\n",
       "      <td>...</td>\n",
       "      <td>\"2008\"</td>\n",
       "      <td>\"2009\"</td>\n",
       "      <td>\"2010\"</td>\n",
       "      <td>\"2011\"</td>\n",
       "      <td>\"2012\"</td>\n",
       "      <td>\"2013\"</td>\n",
       "      <td>\"2014\"</td>\n",
       "      <td>\"2015\"</td>\n",
       "      <td>\"2016\"</td>\n",
       "      <td>NaN</td>\n",
       "    </tr>\n",
       "    <tr>\n",
       "      <th>0</th>\n",
       "      <td>\"Aruba\"</td>\n",
       "      <td>\"ABW\"</td>\n",
       "      <td>\"GDP (current US$)\"</td>\n",
       "      <td>\"NY.GDP.MKTP.CD\"</td>\n",
       "      <td>\"\"</td>\n",
       "      <td>\"\"</td>\n",
       "      <td>\"\"</td>\n",
       "      <td>\"\"</td>\n",
       "      <td>\"\"</td>\n",
       "      <td>\"\"</td>\n",
       "      <td>...</td>\n",
       "      <td>\"2791960893.85475\"</td>\n",
       "      <td>\"2498932960.89385\"</td>\n",
       "      <td>\"2467703910.61453\"</td>\n",
       "      <td>\"2584463687.15084\"</td>\n",
       "      <td>\"\"</td>\n",
       "      <td>\"\"</td>\n",
       "      <td>\"\"</td>\n",
       "      <td>\"\"</td>\n",
       "      <td>\"\"</td>\n",
       "      <td>NaN</td>\n",
       "    </tr>\n",
       "    <tr>\n",
       "      <th>0</th>\n",
       "      <td>\"Afghanistan\"</td>\n",
       "      <td>\"AFG\"</td>\n",
       "      <td>\"GDP (current US$)\"</td>\n",
       "      <td>\"NY.GDP.MKTP.CD\"</td>\n",
       "      <td>\"537777811.111111\"</td>\n",
       "      <td>\"548888895.555556\"</td>\n",
       "      <td>\"546666677.777778\"</td>\n",
       "      <td>\"751111191.111111\"</td>\n",
       "      <td>\"800000044.444444\"</td>\n",
       "      <td>\"1006666637.77778\"</td>\n",
       "      <td>...</td>\n",
       "      <td>\"10190529882.4878\"</td>\n",
       "      <td>\"12486943505.7381\"</td>\n",
       "      <td>\"15936800636.2487\"</td>\n",
       "      <td>\"17930239399.8149\"</td>\n",
       "      <td>\"20536542736.7297\"</td>\n",
       "      <td>\"20046334303.9661\"</td>\n",
       "      <td>\"20050189881.6659\"</td>\n",
       "      <td>\"19702986340.5494\"</td>\n",
       "      <td>\"19469022207.6357\"</td>\n",
       "      <td>NaN</td>\n",
       "    </tr>\n",
       "    <tr>\n",
       "      <th>0</th>\n",
       "      <td>\"Angola\"</td>\n",
       "      <td>\"AGO\"</td>\n",
       "      <td>\"GDP (current US$)\"</td>\n",
       "      <td>\"NY.GDP.MKTP.CD\"</td>\n",
       "      <td>\"\"</td>\n",
       "      <td>\"\"</td>\n",
       "      <td>\"\"</td>\n",
       "      <td>\"\"</td>\n",
       "      <td>\"\"</td>\n",
       "      <td>\"\"</td>\n",
       "      <td>...</td>\n",
       "      <td>\"84178032716.0971\"</td>\n",
       "      <td>\"75492384801.3695\"</td>\n",
       "      <td>\"82470913120.7314\"</td>\n",
       "      <td>\"104115923082.737\"</td>\n",
       "      <td>\"115398371427.673\"</td>\n",
       "      <td>\"124912063308.202\"</td>\n",
       "      <td>\"126776874216.703\"</td>\n",
       "      <td>\"102962245246.708\"</td>\n",
       "      <td>\"89633156470.3104\"</td>\n",
       "      <td>NaN</td>\n",
       "    </tr>\n",
       "    <tr>\n",
       "      <th>0</th>\n",
       "      <td>\"Albania\"</td>\n",
       "      <td>\"ALB\"</td>\n",
       "      <td>\"GDP (current US$)\"</td>\n",
       "      <td>\"NY.GDP.MKTP.CD\"</td>\n",
       "      <td>\"\"</td>\n",
       "      <td>\"\"</td>\n",
       "      <td>\"\"</td>\n",
       "      <td>\"\"</td>\n",
       "      <td>\"\"</td>\n",
       "      <td>\"\"</td>\n",
       "      <td>...</td>\n",
       "      <td>\"12881352687.7773\"</td>\n",
       "      <td>\"12044212903.8168\"</td>\n",
       "      <td>\"11926953258.916\"</td>\n",
       "      <td>\"12890867538.5302\"</td>\n",
       "      <td>\"12319784787.2987\"</td>\n",
       "      <td>\"12781029643.5936\"</td>\n",
       "      <td>\"13219857459.1009\"</td>\n",
       "      <td>\"11390365293.8057\"</td>\n",
       "      <td>\"11926892452.8499\"</td>\n",
       "      <td>NaN</td>\n",
       "    </tr>\n",
       "  </tbody>\n",
       "</table>\n",
       "<p>5 rows × 62 columns</p>\n",
       "</div>"
      ],
      "text/plain": [
       "               0               1                    2                 3   \\\n",
       "0  \"Country Name\"  \"Country Code\"     \"Indicator Name\"  \"Indicator Code\"   \n",
       "0         \"Aruba\"           \"ABW\"  \"GDP (current US$)\"  \"NY.GDP.MKTP.CD\"   \n",
       "0   \"Afghanistan\"           \"AFG\"  \"GDP (current US$)\"  \"NY.GDP.MKTP.CD\"   \n",
       "0        \"Angola\"           \"AGO\"  \"GDP (current US$)\"  \"NY.GDP.MKTP.CD\"   \n",
       "0       \"Albania\"           \"ALB\"  \"GDP (current US$)\"  \"NY.GDP.MKTP.CD\"   \n",
       "\n",
       "                   4                   5                   6   \\\n",
       "0              \"1960\"              \"1961\"              \"1962\"   \n",
       "0                  \"\"                  \"\"                  \"\"   \n",
       "0  \"537777811.111111\"  \"548888895.555556\"  \"546666677.777778\"   \n",
       "0                  \"\"                  \"\"                  \"\"   \n",
       "0                  \"\"                  \"\"                  \"\"   \n",
       "\n",
       "                   7                   8                   9  ...   \\\n",
       "0              \"1963\"              \"1964\"              \"1965\" ...    \n",
       "0                  \"\"                  \"\"                  \"\" ...    \n",
       "0  \"751111191.111111\"  \"800000044.444444\"  \"1006666637.77778\" ...    \n",
       "0                  \"\"                  \"\"                  \"\" ...    \n",
       "0                  \"\"                  \"\"                  \"\" ...    \n",
       "\n",
       "                   52                  53                  54  \\\n",
       "0              \"2008\"              \"2009\"              \"2010\"   \n",
       "0  \"2791960893.85475\"  \"2498932960.89385\"  \"2467703910.61453\"   \n",
       "0  \"10190529882.4878\"  \"12486943505.7381\"  \"15936800636.2487\"   \n",
       "0  \"84178032716.0971\"  \"75492384801.3695\"  \"82470913120.7314\"   \n",
       "0  \"12881352687.7773\"  \"12044212903.8168\"   \"11926953258.916\"   \n",
       "\n",
       "                   55                  56                  57  \\\n",
       "0              \"2011\"              \"2012\"              \"2013\"   \n",
       "0  \"2584463687.15084\"                  \"\"                  \"\"   \n",
       "0  \"17930239399.8149\"  \"20536542736.7297\"  \"20046334303.9661\"   \n",
       "0  \"104115923082.737\"  \"115398371427.673\"  \"124912063308.202\"   \n",
       "0  \"12890867538.5302\"  \"12319784787.2987\"  \"12781029643.5936\"   \n",
       "\n",
       "                   58                  59                  60   61  \n",
       "0              \"2014\"              \"2015\"              \"2016\"  NaN  \n",
       "0                  \"\"                  \"\"                  \"\"  NaN  \n",
       "0  \"20050189881.6659\"  \"19702986340.5494\"  \"19469022207.6357\"  NaN  \n",
       "0  \"126776874216.703\"  \"102962245246.708\"  \"89633156470.3104\"  NaN  \n",
       "0  \"13219857459.1009\"  \"11390365293.8057\"  \"11926892452.8499\"  NaN  \n",
       "\n",
       "[5 rows x 62 columns]"
      ]
     },
     "execution_count": 29,
     "metadata": {},
     "output_type": "execute_result"
    }
   ],
   "source": [
    "df4 = pd.concat(data2)\n",
    "df4.head()"
   ]
  },
  {
   "cell_type": "markdown",
   "metadata": {},
   "source": [
    "## repeat the cleaning process like dataset3"
   ]
  },
  {
   "cell_type": "code",
   "execution_count": 30,
   "metadata": {
    "collapsed": false
   },
   "outputs": [
    {
     "data": {
      "text/html": [
       "<div>\n",
       "<table border=\"1\" class=\"dataframe\">\n",
       "  <thead>\n",
       "    <tr style=\"text-align: right;\">\n",
       "      <th></th>\n",
       "      <th>Country</th>\n",
       "      <th>2012</th>\n",
       "    </tr>\n",
       "  </thead>\n",
       "  <tbody>\n",
       "    <tr>\n",
       "      <th>0</th>\n",
       "      <td>\"Aruba\"</td>\n",
       "      <td>\"\"</td>\n",
       "    </tr>\n",
       "    <tr>\n",
       "      <th>1</th>\n",
       "      <td>\"Afghanistan\"</td>\n",
       "      <td>\"20536542736.7297\"</td>\n",
       "    </tr>\n",
       "    <tr>\n",
       "      <th>2</th>\n",
       "      <td>\"Angola\"</td>\n",
       "      <td>\"115398371427.673\"</td>\n",
       "    </tr>\n",
       "    <tr>\n",
       "      <th>3</th>\n",
       "      <td>\"Albania\"</td>\n",
       "      <td>\"12319784787.2987\"</td>\n",
       "    </tr>\n",
       "    <tr>\n",
       "      <th>4</th>\n",
       "      <td>\"Andorra\"</td>\n",
       "      <td>\"3146151869.45908\"</td>\n",
       "    </tr>\n",
       "  </tbody>\n",
       "</table>\n",
       "</div>"
      ],
      "text/plain": [
       "0        Country                2012\n",
       "0        \"Aruba\"                  \"\"\n",
       "1  \"Afghanistan\"  \"20536542736.7297\"\n",
       "2       \"Angola\"  \"115398371427.673\"\n",
       "3      \"Albania\"  \"12319784787.2987\"\n",
       "4      \"Andorra\"  \"3146151869.45908\""
      ]
     },
     "execution_count": 30,
     "metadata": {},
     "output_type": "execute_result"
    }
   ],
   "source": [
    "df4.columns = df4.iloc[0,:]\n",
    "df4 = df4.iloc[1:, :].reset_index(drop = True)\n",
    "df4.rename(columns = {'\"Country Name\"':'Country','\"2012\"':'2012'}, inplace = True)\n",
    "df4 = df4[['Country', '2012']]\n",
    "df4.head()"
   ]
  },
  {
   "cell_type": "code",
   "execution_count": 31,
   "metadata": {
    "collapsed": false,
    "scrolled": true
   },
   "outputs": [
    {
     "data": {
      "text/html": [
       "<div>\n",
       "<table border=\"1\" class=\"dataframe\">\n",
       "  <thead>\n",
       "    <tr style=\"text-align: right;\">\n",
       "      <th></th>\n",
       "      <th>Country</th>\n",
       "      <th>gdp</th>\n",
       "    </tr>\n",
       "  </thead>\n",
       "  <tbody>\n",
       "    <tr>\n",
       "      <th>0</th>\n",
       "      <td>Afghanistan</td>\n",
       "      <td>20536542736</td>\n",
       "    </tr>\n",
       "    <tr>\n",
       "      <th>1</th>\n",
       "      <td>Angola</td>\n",
       "      <td>115398371427</td>\n",
       "    </tr>\n",
       "    <tr>\n",
       "      <th>2</th>\n",
       "      <td>Albania</td>\n",
       "      <td>12319784787</td>\n",
       "    </tr>\n",
       "    <tr>\n",
       "      <th>3</th>\n",
       "      <td>Andorra</td>\n",
       "      <td>3146151869</td>\n",
       "    </tr>\n",
       "    <tr>\n",
       "      <th>4</th>\n",
       "      <td>Arab World</td>\n",
       "      <td>2740536188974</td>\n",
       "    </tr>\n",
       "  </tbody>\n",
       "</table>\n",
       "</div>"
      ],
      "text/plain": [
       "       Country            gdp\n",
       "0  Afghanistan    20536542736\n",
       "1       Angola   115398371427\n",
       "2      Albania    12319784787\n",
       "3      Andorra     3146151869\n",
       "4   Arab World  2740536188974"
      ]
     },
     "execution_count": 31,
     "metadata": {},
     "output_type": "execute_result"
    }
   ],
   "source": [
    "i = 0\n",
    "droplist = []\n",
    "for y in list(df4['2012']):\n",
    "    i += 1\n",
    "    try:\n",
    "        pop.append(float(y[1:-1]))\n",
    "    except:\n",
    "        droplist.append(i-1)\n",
    "\n",
    "        \n",
    "df4.drop(droplist, axis = 0, inplace = True)\n",
    "\n",
    "\n",
    "country4 = []\n",
    "gdp = []\n",
    "for x in list(df4['Country']):\n",
    "    country4.append(x[1:-1])\n",
    "\n",
    "\n",
    "for y in list(df4['2012']):\n",
    "    gdp.append(int(float(y[1:-1])))\n",
    "\n",
    "df4 = pd.DataFrame({'Country': country4, 'gdp':gdp})\n",
    "df4.head()"
   ]
  },
  {
   "cell_type": "code",
   "execution_count": 32,
   "metadata": {
    "collapsed": false
   },
   "outputs": [
    {
     "name": "stdout",
     "output_type": "stream",
     "text": [
      "(263, 2) (245, 2)\n"
     ]
    }
   ],
   "source": [
    "print(df3.shape, df4.shape)"
   ]
  },
  {
   "cell_type": "markdown",
   "metadata": {},
   "source": [
    "## Merge the four dataset together"
   ]
  },
  {
   "cell_type": "code",
   "execution_count": 33,
   "metadata": {
    "collapsed": false
   },
   "outputs": [
    {
     "data": {
      "text/plain": [
       "(25, 8)"
      ]
     },
     "execution_count": 33,
     "metadata": {},
     "output_type": "execute_result"
    }
   ],
   "source": [
    "df1_2_3_4 = pd.merge(df1_2_3, df4, how = 'inner')\n",
    "df1_2_3_4.shape"
   ]
  },
  {
   "cell_type": "code",
   "execution_count": 34,
   "metadata": {
    "collapsed": false
   },
   "outputs": [
    {
     "data": {
      "text/html": [
       "<div>\n",
       "<table border=\"1\" class=\"dataframe\">\n",
       "  <thead>\n",
       "    <tr style=\"text-align: right;\">\n",
       "      <th></th>\n",
       "      <th>Country</th>\n",
       "      <th>Number of homicides by firearm</th>\n",
       "      <th>Homicide by firearm per 100,000 pop</th>\n",
       "      <th>Firearms per 100 people</th>\n",
       "      <th>Total civilian firearms</th>\n",
       "      <th>Number of mass shootings</th>\n",
       "      <th>pop</th>\n",
       "      <th>gdp</th>\n",
       "    </tr>\n",
       "  </thead>\n",
       "  <tbody>\n",
       "    <tr>\n",
       "      <th>0</th>\n",
       "      <td>Australia</td>\n",
       "      <td>30.0</td>\n",
       "      <td>0.14</td>\n",
       "      <td>15.0</td>\n",
       "      <td>3050000.0</td>\n",
       "      <td>4</td>\n",
       "      <td>22340024</td>\n",
       "      <td>1538194473087</td>\n",
       "    </tr>\n",
       "    <tr>\n",
       "      <th>1</th>\n",
       "      <td>Austria</td>\n",
       "      <td>18.0</td>\n",
       "      <td>0.22</td>\n",
       "      <td>30.4</td>\n",
       "      <td>2500000.0</td>\n",
       "      <td>1</td>\n",
       "      <td>8391643</td>\n",
       "      <td>407451583084</td>\n",
       "    </tr>\n",
       "    <tr>\n",
       "      <th>2</th>\n",
       "      <td>Belgium</td>\n",
       "      <td>70.0</td>\n",
       "      <td>0.68</td>\n",
       "      <td>17.2</td>\n",
       "      <td>1800000.0</td>\n",
       "      <td>2</td>\n",
       "      <td>11047744</td>\n",
       "      <td>497884088082</td>\n",
       "    </tr>\n",
       "    <tr>\n",
       "      <th>3</th>\n",
       "      <td>Canada</td>\n",
       "      <td>173.0</td>\n",
       "      <td>0.51</td>\n",
       "      <td>30.8</td>\n",
       "      <td>9950000.0</td>\n",
       "      <td>4</td>\n",
       "      <td>34342780</td>\n",
       "      <td>1824288757447</td>\n",
       "    </tr>\n",
       "    <tr>\n",
       "      <th>4</th>\n",
       "      <td>Denmark</td>\n",
       "      <td>15.0</td>\n",
       "      <td>0.27</td>\n",
       "      <td>12.0</td>\n",
       "      <td>650000.0</td>\n",
       "      <td>0</td>\n",
       "      <td>5570572</td>\n",
       "      <td>327148899962</td>\n",
       "    </tr>\n",
       "  </tbody>\n",
       "</table>\n",
       "</div>"
      ],
      "text/plain": [
       "     Country  Number of homicides by firearm  \\\n",
       "0  Australia                            30.0   \n",
       "1    Austria                            18.0   \n",
       "2    Belgium                            70.0   \n",
       "3     Canada                           173.0   \n",
       "4    Denmark                            15.0   \n",
       "\n",
       "   Homicide by firearm per 100,000 pop  Firearms per 100 people  \\\n",
       "0                                 0.14                     15.0   \n",
       "1                                 0.22                     30.4   \n",
       "2                                 0.68                     17.2   \n",
       "3                                 0.51                     30.8   \n",
       "4                                 0.27                     12.0   \n",
       "\n",
       "   Total civilian firearms  Number of mass shootings       pop            gdp  \n",
       "0                3050000.0                         4  22340024  1538194473087  \n",
       "1                2500000.0                         1   8391643   407451583084  \n",
       "2                1800000.0                         2  11047744   497884088082  \n",
       "3                9950000.0                         4  34342780  1824288757447  \n",
       "4                 650000.0                         0   5570572   327148899962  "
      ]
     },
     "execution_count": 34,
     "metadata": {},
     "output_type": "execute_result"
    }
   ],
   "source": [
    "# We get what we want!\n",
    "df1_2_3_4.head()"
   ]
  },
  {
   "cell_type": "code",
   "execution_count": 35,
   "metadata": {
    "collapsed": false
   },
   "outputs": [
    {
     "data": {
      "text/html": [
       "<div>\n",
       "<table border=\"1\" class=\"dataframe\">\n",
       "  <thead>\n",
       "    <tr style=\"text-align: right;\">\n",
       "      <th></th>\n",
       "      <th>Number of homicides by firearm</th>\n",
       "      <th>Homicide by firearm per 100,000 pop</th>\n",
       "      <th>Firearms per 100 people</th>\n",
       "      <th>Total civilian firearms</th>\n",
       "      <th>Number of mass shootings</th>\n",
       "      <th>pop</th>\n",
       "      <th>gdp</th>\n",
       "    </tr>\n",
       "  </thead>\n",
       "  <tbody>\n",
       "    <tr>\n",
       "      <th>count</th>\n",
       "      <td>25.000000</td>\n",
       "      <td>25.000000</td>\n",
       "      <td>25.000000</td>\n",
       "      <td>2.500000e+01</td>\n",
       "      <td>25.000000</td>\n",
       "      <td>2.500000e+01</td>\n",
       "      <td>2.500000e+01</td>\n",
       "    </tr>\n",
       "    <tr>\n",
       "      <th>mean</th>\n",
       "      <td>421.000000</td>\n",
       "      <td>0.405200</td>\n",
       "      <td>22.288000</td>\n",
       "      <td>1.455940e+07</td>\n",
       "      <td>4.760000</td>\n",
       "      <td>3.840318e+07</td>\n",
       "      <td>1.744021e+12</td>\n",
       "    </tr>\n",
       "    <tr>\n",
       "      <th>std</th>\n",
       "      <td>1819.767865</td>\n",
       "      <td>0.582109</td>\n",
       "      <td>19.001849</td>\n",
       "      <td>5.354988e+07</td>\n",
       "      <td>15.379315</td>\n",
       "      <td>6.494906e+07</td>\n",
       "      <td>3.320953e+12</td>\n",
       "    </tr>\n",
       "    <tr>\n",
       "      <th>min</th>\n",
       "      <td>0.000000</td>\n",
       "      <td>0.000000</td>\n",
       "      <td>0.600000</td>\n",
       "      <td>7.000000e+04</td>\n",
       "      <td>0.000000</td>\n",
       "      <td>3.190140e+05</td>\n",
       "      <td>1.421858e+10</td>\n",
       "    </tr>\n",
       "    <tr>\n",
       "      <th>25%</th>\n",
       "      <td>15.000000</td>\n",
       "      <td>0.090000</td>\n",
       "      <td>8.600000</td>\n",
       "      <td>6.500000e+05</td>\n",
       "      <td>0.000000</td>\n",
       "      <td>5.570572e+06</td>\n",
       "      <td>2.456707e+11</td>\n",
       "    </tr>\n",
       "    <tr>\n",
       "      <th>50%</th>\n",
       "      <td>35.000000</td>\n",
       "      <td>0.260000</td>\n",
       "      <td>17.200000</td>\n",
       "      <td>2.400000e+06</td>\n",
       "      <td>1.000000</td>\n",
       "      <td>1.104774e+07</td>\n",
       "      <td>5.097049e+11</td>\n",
       "    </tr>\n",
       "    <tr>\n",
       "      <th>75%</th>\n",
       "      <td>57.000000</td>\n",
       "      <td>0.480000</td>\n",
       "      <td>30.800000</td>\n",
       "      <td>3.400000e+06</td>\n",
       "      <td>3.000000</td>\n",
       "      <td>4.674270e+07</td>\n",
       "      <td>1.824289e+12</td>\n",
       "    </tr>\n",
       "    <tr>\n",
       "      <th>max</th>\n",
       "      <td>9146.000000</td>\n",
       "      <td>2.970000</td>\n",
       "      <td>88.800000</td>\n",
       "      <td>2.700000e+08</td>\n",
       "      <td>78.000000</td>\n",
       "      <td>3.116634e+08</td>\n",
       "      <td>1.615526e+13</td>\n",
       "    </tr>\n",
       "  </tbody>\n",
       "</table>\n",
       "</div>"
      ],
      "text/plain": [
       "       Number of homicides by firearm  Homicide by firearm per 100,000 pop  \\\n",
       "count                       25.000000                            25.000000   \n",
       "mean                       421.000000                             0.405200   \n",
       "std                       1819.767865                             0.582109   \n",
       "min                          0.000000                             0.000000   \n",
       "25%                         15.000000                             0.090000   \n",
       "50%                         35.000000                             0.260000   \n",
       "75%                         57.000000                             0.480000   \n",
       "max                       9146.000000                             2.970000   \n",
       "\n",
       "       Firearms per 100 people  Total civilian firearms  \\\n",
       "count                25.000000             2.500000e+01   \n",
       "mean                 22.288000             1.455940e+07   \n",
       "std                  19.001849             5.354988e+07   \n",
       "min                   0.600000             7.000000e+04   \n",
       "25%                   8.600000             6.500000e+05   \n",
       "50%                  17.200000             2.400000e+06   \n",
       "75%                  30.800000             3.400000e+06   \n",
       "max                  88.800000             2.700000e+08   \n",
       "\n",
       "       Number of mass shootings           pop           gdp  \n",
       "count                 25.000000  2.500000e+01  2.500000e+01  \n",
       "mean                   4.760000  3.840318e+07  1.744021e+12  \n",
       "std                   15.379315  6.494906e+07  3.320953e+12  \n",
       "min                    0.000000  3.190140e+05  1.421858e+10  \n",
       "25%                    0.000000  5.570572e+06  2.456707e+11  \n",
       "50%                    1.000000  1.104774e+07  5.097049e+11  \n",
       "75%                    3.000000  4.674270e+07  1.824289e+12  \n",
       "max                   78.000000  3.116634e+08  1.615526e+13  "
      ]
     },
     "execution_count": 35,
     "metadata": {},
     "output_type": "execute_result"
    }
   ],
   "source": [
    "df1_2_3_4.describe()"
   ]
  },
  {
   "cell_type": "markdown",
   "metadata": {},
   "source": [
    "## By now, we get a clean table including 25 countries' data about number of firearms, homicides by firearm and mass shootings, and also the data of gdp and population.\n",
    "## Let's start exploring!\n",
    "## Why only 25 countries? Because it's decided by the availability of mass shootings' data. So if we explore the relationship between varialbes not including number of mass shootings, we will use other table, like df1 directly. Doing by this way will include as many observations as possible.\n"
   ]
  },
  {
   "cell_type": "code",
   "execution_count": 36,
   "metadata": {
    "collapsed": false
   },
   "outputs": [
    {
     "data": {
      "text/html": [
       "<div>\n",
       "<table border=\"1\" class=\"dataframe\">\n",
       "  <thead>\n",
       "    <tr style=\"text-align: right;\">\n",
       "      <th></th>\n",
       "      <th>Country</th>\n",
       "      <th>Number of homicides by firearm</th>\n",
       "      <th>Homicide by firearm per 100,000 pop</th>\n",
       "      <th>Firearms per 100 people</th>\n",
       "      <th>Total civilian firearms</th>\n",
       "      <th>Number of mass shootings</th>\n",
       "      <th>pop</th>\n",
       "      <th>gdp</th>\n",
       "    </tr>\n",
       "  </thead>\n",
       "  <tbody>\n",
       "    <tr>\n",
       "      <th>0</th>\n",
       "      <td>Australia</td>\n",
       "      <td>30.0</td>\n",
       "      <td>0.14</td>\n",
       "      <td>15.0</td>\n",
       "      <td>3050000.0</td>\n",
       "      <td>4</td>\n",
       "      <td>22340024</td>\n",
       "      <td>1538194473087</td>\n",
       "    </tr>\n",
       "    <tr>\n",
       "      <th>1</th>\n",
       "      <td>Austria</td>\n",
       "      <td>18.0</td>\n",
       "      <td>0.22</td>\n",
       "      <td>30.4</td>\n",
       "      <td>2500000.0</td>\n",
       "      <td>1</td>\n",
       "      <td>8391643</td>\n",
       "      <td>407451583084</td>\n",
       "    </tr>\n",
       "    <tr>\n",
       "      <th>2</th>\n",
       "      <td>Belgium</td>\n",
       "      <td>70.0</td>\n",
       "      <td>0.68</td>\n",
       "      <td>17.2</td>\n",
       "      <td>1800000.0</td>\n",
       "      <td>2</td>\n",
       "      <td>11047744</td>\n",
       "      <td>497884088082</td>\n",
       "    </tr>\n",
       "    <tr>\n",
       "      <th>3</th>\n",
       "      <td>Canada</td>\n",
       "      <td>173.0</td>\n",
       "      <td>0.51</td>\n",
       "      <td>30.8</td>\n",
       "      <td>9950000.0</td>\n",
       "      <td>4</td>\n",
       "      <td>34342780</td>\n",
       "      <td>1824288757447</td>\n",
       "    </tr>\n",
       "    <tr>\n",
       "      <th>4</th>\n",
       "      <td>Denmark</td>\n",
       "      <td>15.0</td>\n",
       "      <td>0.27</td>\n",
       "      <td>12.0</td>\n",
       "      <td>650000.0</td>\n",
       "      <td>0</td>\n",
       "      <td>5570572</td>\n",
       "      <td>327148899962</td>\n",
       "    </tr>\n",
       "    <tr>\n",
       "      <th>5</th>\n",
       "      <td>United Kingdom</td>\n",
       "      <td>41.0</td>\n",
       "      <td>0.07</td>\n",
       "      <td>6.2</td>\n",
       "      <td>3400000.0</td>\n",
       "      <td>3</td>\n",
       "      <td>63258918</td>\n",
       "      <td>2646002634059</td>\n",
       "    </tr>\n",
       "    <tr>\n",
       "      <th>6</th>\n",
       "      <td>Finland</td>\n",
       "      <td>24.0</td>\n",
       "      <td>0.45</td>\n",
       "      <td>45.3</td>\n",
       "      <td>2400000.0</td>\n",
       "      <td>2</td>\n",
       "      <td>5388272</td>\n",
       "      <td>256706466091</td>\n",
       "    </tr>\n",
       "    <tr>\n",
       "      <th>7</th>\n",
       "      <td>France</td>\n",
       "      <td>35.0</td>\n",
       "      <td>0.06</td>\n",
       "      <td>31.2</td>\n",
       "      <td>19000000.0</td>\n",
       "      <td>6</td>\n",
       "      <td>65342776</td>\n",
       "      <td>2681416108537</td>\n",
       "    </tr>\n",
       "    <tr>\n",
       "      <th>8</th>\n",
       "      <td>Germany</td>\n",
       "      <td>158.0</td>\n",
       "      <td>0.19</td>\n",
       "      <td>30.3</td>\n",
       "      <td>25000000.0</td>\n",
       "      <td>7</td>\n",
       "      <td>80274983</td>\n",
       "      <td>3543983909148</td>\n",
       "    </tr>\n",
       "    <tr>\n",
       "      <th>9</th>\n",
       "      <td>Greece</td>\n",
       "      <td>29.0</td>\n",
       "      <td>0.26</td>\n",
       "      <td>22.5</td>\n",
       "      <td>2500000.0</td>\n",
       "      <td>0</td>\n",
       "      <td>11104899</td>\n",
       "      <td>245670666639</td>\n",
       "    </tr>\n",
       "    <tr>\n",
       "      <th>10</th>\n",
       "      <td>Hungary</td>\n",
       "      <td>7.0</td>\n",
       "      <td>0.07</td>\n",
       "      <td>5.5</td>\n",
       "      <td>560000.0</td>\n",
       "      <td>0</td>\n",
       "      <td>9971727</td>\n",
       "      <td>127321135030</td>\n",
       "    </tr>\n",
       "    <tr>\n",
       "      <th>11</th>\n",
       "      <td>Iceland</td>\n",
       "      <td>0.0</td>\n",
       "      <td>0.00</td>\n",
       "      <td>30.3</td>\n",
       "      <td>90000.0</td>\n",
       "      <td>0</td>\n",
       "      <td>319014</td>\n",
       "      <td>14218575093</td>\n",
       "    </tr>\n",
       "    <tr>\n",
       "      <th>12</th>\n",
       "      <td>Ireland</td>\n",
       "      <td>21.0</td>\n",
       "      <td>0.48</td>\n",
       "      <td>8.6</td>\n",
       "      <td>360000.0</td>\n",
       "      <td>0</td>\n",
       "      <td>4576794</td>\n",
       "      <td>225819189160</td>\n",
       "    </tr>\n",
       "    <tr>\n",
       "      <th>13</th>\n",
       "      <td>Italy</td>\n",
       "      <td>417.0</td>\n",
       "      <td>0.71</td>\n",
       "      <td>11.9</td>\n",
       "      <td>7000000.0</td>\n",
       "      <td>0</td>\n",
       "      <td>59379449</td>\n",
       "      <td>2072823111961</td>\n",
       "    </tr>\n",
       "    <tr>\n",
       "      <th>14</th>\n",
       "      <td>Japan</td>\n",
       "      <td>11.0</td>\n",
       "      <td>0.01</td>\n",
       "      <td>0.6</td>\n",
       "      <td>710000.0</td>\n",
       "      <td>0</td>\n",
       "      <td>127833000</td>\n",
       "      <td>6203213121334</td>\n",
       "    </tr>\n",
       "    <tr>\n",
       "      <th>15</th>\n",
       "      <td>Luxembourg</td>\n",
       "      <td>3.0</td>\n",
       "      <td>0.62</td>\n",
       "      <td>15.3</td>\n",
       "      <td>70000.0</td>\n",
       "      <td>0</td>\n",
       "      <td>518347</td>\n",
       "      <td>56677961787</td>\n",
       "    </tr>\n",
       "    <tr>\n",
       "      <th>16</th>\n",
       "      <td>Netherlands</td>\n",
       "      <td>55.0</td>\n",
       "      <td>0.33</td>\n",
       "      <td>3.9</td>\n",
       "      <td>510000.0</td>\n",
       "      <td>2</td>\n",
       "      <td>16693074</td>\n",
       "      <td>828946812396</td>\n",
       "    </tr>\n",
       "    <tr>\n",
       "      <th>17</th>\n",
       "      <td>New Zealand</td>\n",
       "      <td>7.0</td>\n",
       "      <td>0.16</td>\n",
       "      <td>22.6</td>\n",
       "      <td>925000.0</td>\n",
       "      <td>3</td>\n",
       "      <td>4384000</td>\n",
       "      <td>176192886551</td>\n",
       "    </tr>\n",
       "    <tr>\n",
       "      <th>18</th>\n",
       "      <td>Norway</td>\n",
       "      <td>2.0</td>\n",
       "      <td>0.05</td>\n",
       "      <td>31.3</td>\n",
       "      <td>1400000.0</td>\n",
       "      <td>1</td>\n",
       "      <td>4953088</td>\n",
       "      <td>509704856037</td>\n",
       "    </tr>\n",
       "    <tr>\n",
       "      <th>19</th>\n",
       "      <td>Poland</td>\n",
       "      <td>35.0</td>\n",
       "      <td>0.09</td>\n",
       "      <td>1.3</td>\n",
       "      <td>510000.0</td>\n",
       "      <td>0</td>\n",
       "      <td>38063255</td>\n",
       "      <td>500344281382</td>\n",
       "    </tr>\n",
       "    <tr>\n",
       "      <th>20</th>\n",
       "      <td>Portugal</td>\n",
       "      <td>44.0</td>\n",
       "      <td>0.41</td>\n",
       "      <td>8.5</td>\n",
       "      <td>900000.0</td>\n",
       "      <td>1</td>\n",
       "      <td>10557560</td>\n",
       "      <td>216368178659</td>\n",
       "    </tr>\n",
       "    <tr>\n",
       "      <th>21</th>\n",
       "      <td>Spain</td>\n",
       "      <td>90.0</td>\n",
       "      <td>0.20</td>\n",
       "      <td>10.4</td>\n",
       "      <td>4500000.0</td>\n",
       "      <td>1</td>\n",
       "      <td>46742697</td>\n",
       "      <td>1335945712662</td>\n",
       "    </tr>\n",
       "    <tr>\n",
       "      <th>22</th>\n",
       "      <td>Sweden</td>\n",
       "      <td>37.0</td>\n",
       "      <td>0.41</td>\n",
       "      <td>31.6</td>\n",
       "      <td>2800000.0</td>\n",
       "      <td>2</td>\n",
       "      <td>9449213</td>\n",
       "      <td>543880647757</td>\n",
       "    </tr>\n",
       "    <tr>\n",
       "      <th>23</th>\n",
       "      <td>Switzerland</td>\n",
       "      <td>57.0</td>\n",
       "      <td>0.77</td>\n",
       "      <td>45.7</td>\n",
       "      <td>3400000.0</td>\n",
       "      <td>2</td>\n",
       "      <td>7912398</td>\n",
       "      <td>665054050620</td>\n",
       "    </tr>\n",
       "    <tr>\n",
       "      <th>24</th>\n",
       "      <td>United States</td>\n",
       "      <td>9146.0</td>\n",
       "      <td>2.97</td>\n",
       "      <td>88.8</td>\n",
       "      <td>270000000.0</td>\n",
       "      <td>78</td>\n",
       "      <td>311663358</td>\n",
       "      <td>16155255000000</td>\n",
       "    </tr>\n",
       "  </tbody>\n",
       "</table>\n",
       "</div>"
      ],
      "text/plain": [
       "           Country  Number of homicides by firearm  \\\n",
       "0        Australia                            30.0   \n",
       "1          Austria                            18.0   \n",
       "2          Belgium                            70.0   \n",
       "3           Canada                           173.0   \n",
       "4          Denmark                            15.0   \n",
       "5   United Kingdom                            41.0   \n",
       "6          Finland                            24.0   \n",
       "7           France                            35.0   \n",
       "8          Germany                           158.0   \n",
       "9           Greece                            29.0   \n",
       "10         Hungary                             7.0   \n",
       "11         Iceland                             0.0   \n",
       "12         Ireland                            21.0   \n",
       "13           Italy                           417.0   \n",
       "14           Japan                            11.0   \n",
       "15      Luxembourg                             3.0   \n",
       "16     Netherlands                            55.0   \n",
       "17     New Zealand                             7.0   \n",
       "18          Norway                             2.0   \n",
       "19          Poland                            35.0   \n",
       "20        Portugal                            44.0   \n",
       "21           Spain                            90.0   \n",
       "22          Sweden                            37.0   \n",
       "23     Switzerland                            57.0   \n",
       "24   United States                          9146.0   \n",
       "\n",
       "    Homicide by firearm per 100,000 pop  Firearms per 100 people  \\\n",
       "0                                  0.14                     15.0   \n",
       "1                                  0.22                     30.4   \n",
       "2                                  0.68                     17.2   \n",
       "3                                  0.51                     30.8   \n",
       "4                                  0.27                     12.0   \n",
       "5                                  0.07                      6.2   \n",
       "6                                  0.45                     45.3   \n",
       "7                                  0.06                     31.2   \n",
       "8                                  0.19                     30.3   \n",
       "9                                  0.26                     22.5   \n",
       "10                                 0.07                      5.5   \n",
       "11                                 0.00                     30.3   \n",
       "12                                 0.48                      8.6   \n",
       "13                                 0.71                     11.9   \n",
       "14                                 0.01                      0.6   \n",
       "15                                 0.62                     15.3   \n",
       "16                                 0.33                      3.9   \n",
       "17                                 0.16                     22.6   \n",
       "18                                 0.05                     31.3   \n",
       "19                                 0.09                      1.3   \n",
       "20                                 0.41                      8.5   \n",
       "21                                 0.20                     10.4   \n",
       "22                                 0.41                     31.6   \n",
       "23                                 0.77                     45.7   \n",
       "24                                 2.97                     88.8   \n",
       "\n",
       "    Total civilian firearms  Number of mass shootings        pop  \\\n",
       "0                 3050000.0                         4   22340024   \n",
       "1                 2500000.0                         1    8391643   \n",
       "2                 1800000.0                         2   11047744   \n",
       "3                 9950000.0                         4   34342780   \n",
       "4                  650000.0                         0    5570572   \n",
       "5                 3400000.0                         3   63258918   \n",
       "6                 2400000.0                         2    5388272   \n",
       "7                19000000.0                         6   65342776   \n",
       "8                25000000.0                         7   80274983   \n",
       "9                 2500000.0                         0   11104899   \n",
       "10                 560000.0                         0    9971727   \n",
       "11                  90000.0                         0     319014   \n",
       "12                 360000.0                         0    4576794   \n",
       "13                7000000.0                         0   59379449   \n",
       "14                 710000.0                         0  127833000   \n",
       "15                  70000.0                         0     518347   \n",
       "16                 510000.0                         2   16693074   \n",
       "17                 925000.0                         3    4384000   \n",
       "18                1400000.0                         1    4953088   \n",
       "19                 510000.0                         0   38063255   \n",
       "20                 900000.0                         1   10557560   \n",
       "21                4500000.0                         1   46742697   \n",
       "22                2800000.0                         2    9449213   \n",
       "23                3400000.0                         2    7912398   \n",
       "24              270000000.0                        78  311663358   \n",
       "\n",
       "               gdp  \n",
       "0    1538194473087  \n",
       "1     407451583084  \n",
       "2     497884088082  \n",
       "3    1824288757447  \n",
       "4     327148899962  \n",
       "5    2646002634059  \n",
       "6     256706466091  \n",
       "7    2681416108537  \n",
       "8    3543983909148  \n",
       "9     245670666639  \n",
       "10    127321135030  \n",
       "11     14218575093  \n",
       "12    225819189160  \n",
       "13   2072823111961  \n",
       "14   6203213121334  \n",
       "15     56677961787  \n",
       "16    828946812396  \n",
       "17    176192886551  \n",
       "18    509704856037  \n",
       "19    500344281382  \n",
       "20    216368178659  \n",
       "21   1335945712662  \n",
       "22    543880647757  \n",
       "23    665054050620  \n",
       "24  16155255000000  "
      ]
     },
     "execution_count": 36,
     "metadata": {},
     "output_type": "execute_result"
    }
   ],
   "source": [
    "# Show the integrated data table \n",
    "df1_2_3_4"
   ]
  },
  {
   "cell_type": "markdown",
   "metadata": {},
   "source": [
    "# 1. plot mass shooting vs gdp in absolute numbers, and per person. Show the errorbars (y errors)\n",
    "\n",
    "Use Poisson statistics for the errorbars on the number of mass shootings (optional: include errors on the population, also as Poisson statistics)\n",
    "\n",
    "Are there any points that look like they may be outilers?"
   ]
  },
  {
   "cell_type": "code",
   "execution_count": 37,
   "metadata": {
    "collapsed": false
   },
   "outputs": [
    {
     "data": {
      "text/html": [
       "<div>\n",
       "<table border=\"1\" class=\"dataframe\">\n",
       "  <thead>\n",
       "    <tr style=\"text-align: right;\">\n",
       "      <th></th>\n",
       "      <th>Country</th>\n",
       "      <th>gdp</th>\n",
       "      <th>pop</th>\n",
       "      <th>Number of mass shootings</th>\n",
       "      <th>gdp(thousand $) per capita</th>\n",
       "      <th>mass shootings per 10 million people</th>\n",
       "      <th>pop(million)</th>\n",
       "      <th>gdp(trillion $)</th>\n",
       "    </tr>\n",
       "  </thead>\n",
       "  <tbody>\n",
       "    <tr>\n",
       "      <th>0</th>\n",
       "      <td>Australia</td>\n",
       "      <td>1538194473087</td>\n",
       "      <td>22340024</td>\n",
       "      <td>4</td>\n",
       "      <td>68.853752</td>\n",
       "      <td>1.790508</td>\n",
       "      <td>22.340024</td>\n",
       "      <td>1.538194</td>\n",
       "    </tr>\n",
       "    <tr>\n",
       "      <th>1</th>\n",
       "      <td>Austria</td>\n",
       "      <td>407451583084</td>\n",
       "      <td>8391643</td>\n",
       "      <td>1</td>\n",
       "      <td>48.554447</td>\n",
       "      <td>1.191662</td>\n",
       "      <td>8.391643</td>\n",
       "      <td>0.407452</td>\n",
       "    </tr>\n",
       "    <tr>\n",
       "      <th>2</th>\n",
       "      <td>Belgium</td>\n",
       "      <td>497884088082</td>\n",
       "      <td>11047744</td>\n",
       "      <td>2</td>\n",
       "      <td>45.066584</td>\n",
       "      <td>1.810324</td>\n",
       "      <td>11.047744</td>\n",
       "      <td>0.497884</td>\n",
       "    </tr>\n",
       "    <tr>\n",
       "      <th>3</th>\n",
       "      <td>Canada</td>\n",
       "      <td>1824288757447</td>\n",
       "      <td>34342780</td>\n",
       "      <td>4</td>\n",
       "      <td>53.120008</td>\n",
       "      <td>1.164728</td>\n",
       "      <td>34.342780</td>\n",
       "      <td>1.824289</td>\n",
       "    </tr>\n",
       "    <tr>\n",
       "      <th>4</th>\n",
       "      <td>Denmark</td>\n",
       "      <td>327148899962</td>\n",
       "      <td>5570572</td>\n",
       "      <td>0</td>\n",
       "      <td>58.728062</td>\n",
       "      <td>0.000000</td>\n",
       "      <td>5.570572</td>\n",
       "      <td>0.327149</td>\n",
       "    </tr>\n",
       "  </tbody>\n",
       "</table>\n",
       "</div>"
      ],
      "text/plain": [
       "     Country            gdp       pop  Number of mass shootings  \\\n",
       "0  Australia  1538194473087  22340024                         4   \n",
       "1    Austria   407451583084   8391643                         1   \n",
       "2    Belgium   497884088082  11047744                         2   \n",
       "3     Canada  1824288757447  34342780                         4   \n",
       "4    Denmark   327148899962   5570572                         0   \n",
       "\n",
       "   gdp(thousand $) per capita  mass shootings per 10 million people  \\\n",
       "0                   68.853752                              1.790508   \n",
       "1                   48.554447                              1.191662   \n",
       "2                   45.066584                              1.810324   \n",
       "3                   53.120008                              1.164728   \n",
       "4                   58.728062                              0.000000   \n",
       "\n",
       "   pop(million)  gdp(trillion $)  \n",
       "0     22.340024         1.538194  \n",
       "1      8.391643         0.407452  \n",
       "2     11.047744         0.497884  \n",
       "3     34.342780         1.824289  \n",
       "4      5.570572         0.327149  "
      ]
     },
     "execution_count": 37,
     "metadata": {},
     "output_type": "execute_result"
    }
   ],
   "source": [
    "m_g = df1_2_3_4[['Country','gdp','pop','Number of mass shootings']]\n",
    "m_g.is_copy = False\n",
    "m_g['gdp(thousand $) per capita'] = m_g['gdp']/m_g['pop']/1000\n",
    "m_g['mass shootings per 10 million people'] = m_g['Number of mass shootings']/m_g['pop'] * 10000000\n",
    "m_g['pop(million)'] = m_g['pop']/1000000\n",
    "m_g['gdp(trillion $)'] = m_g['gdp']/1000000000000\n",
    "m_g.head()"
   ]
  },
  {
   "cell_type": "markdown",
   "metadata": {},
   "source": [
    "### mass shooting vs gdp in absolute numbers(with y errorbars)"
   ]
  },
  {
   "cell_type": "code",
   "execution_count": 38,
   "metadata": {
    "collapsed": false
   },
   "outputs": [
    {
     "data": {
      "text/plain": [
       "<matplotlib.text.Text at 0x112a3e198>"
      ]
     },
     "execution_count": 38,
     "metadata": {},
     "output_type": "execute_result"
    },
    {
     "data": {
      "image/png": "[encoded data removed]",
      "text/plain": [
       "<matplotlib.figure.Figure at 0x112993f98>"
      ]
     },
     "metadata": {},
     "output_type": "display_data"
    }
   ],
   "source": [
    "plt.figure(figsize = (15,5))\n",
    "plt.scatter(m_g['gdp(trillion $)'], m_g['Number of mass shootings'])\n",
    "plt.errorbar(m_g['gdp(trillion $)'], m_g['Number of mass shootings'], \n",
    "             yerr = np.sqrt(m_g['Number of mass shootings']), fmt = '.')\n",
    "plt.xlabel('GDP(Trillion $)', fontsize = 15)\n",
    "plt.ylabel('Number of mass shootings', fontsize = 15)\n",
    "plt.title('Mass shooting V.S. GDP', fontsize = 15)"
   ]
  },
  {
   "cell_type": "markdown",
   "metadata": {},
   "source": [
    "### there are outlier with mass shootings more than 60 and GDP more than 14 trillion, we could filter it out"
   ]
  },
  {
   "cell_type": "code",
   "execution_count": 39,
   "metadata": {
    "collapsed": false
   },
   "outputs": [
    {
     "data": {
      "text/html": [
       "<div>\n",
       "<table border=\"1\" class=\"dataframe\">\n",
       "  <thead>\n",
       "    <tr style=\"text-align: right;\">\n",
       "      <th></th>\n",
       "      <th>Country</th>\n",
       "      <th>gdp</th>\n",
       "      <th>pop</th>\n",
       "      <th>Number of mass shootings</th>\n",
       "      <th>gdp(thousand $) per capita</th>\n",
       "      <th>mass shootings per 10 million people</th>\n",
       "      <th>pop(million)</th>\n",
       "      <th>gdp(trillion $)</th>\n",
       "    </tr>\n",
       "  </thead>\n",
       "  <tbody>\n",
       "    <tr>\n",
       "      <th>24</th>\n",
       "      <td>United States</td>\n",
       "      <td>16155255000000</td>\n",
       "      <td>311663358</td>\n",
       "      <td>78</td>\n",
       "      <td>51.835593</td>\n",
       "      <td>2.5027</td>\n",
       "      <td>311.663358</td>\n",
       "      <td>16.155255</td>\n",
       "    </tr>\n",
       "  </tbody>\n",
       "</table>\n",
       "</div>"
      ],
      "text/plain": [
       "          Country             gdp        pop  Number of mass shootings  \\\n",
       "24  United States  16155255000000  311663358                        78   \n",
       "\n",
       "    gdp(thousand $) per capita  mass shootings per 10 million people  \\\n",
       "24                   51.835593                                2.5027   \n",
       "\n",
       "    pop(million)  gdp(trillion $)  \n",
       "24    311.663358        16.155255  "
      ]
     },
     "execution_count": 39,
     "metadata": {},
     "output_type": "execute_result"
    }
   ],
   "source": [
    "m_g[m_g['Number of mass shootings'] > 60]"
   ]
  },
  {
   "cell_type": "code",
   "execution_count": 40,
   "metadata": {
    "collapsed": false,
    "scrolled": true
   },
   "outputs": [
    {
     "data": {
      "text/html": [
       "<div>\n",
       "<table border=\"1\" class=\"dataframe\">\n",
       "  <thead>\n",
       "    <tr style=\"text-align: right;\">\n",
       "      <th></th>\n",
       "      <th>Country</th>\n",
       "      <th>gdp</th>\n",
       "      <th>pop</th>\n",
       "      <th>Number of mass shootings</th>\n",
       "      <th>gdp(thousand $) per capita</th>\n",
       "      <th>mass shootings per 10 million people</th>\n",
       "      <th>pop(million)</th>\n",
       "      <th>gdp(trillion $)</th>\n",
       "    </tr>\n",
       "  </thead>\n",
       "  <tbody>\n",
       "    <tr>\n",
       "      <th>24</th>\n",
       "      <td>United States</td>\n",
       "      <td>16155255000000</td>\n",
       "      <td>311663358</td>\n",
       "      <td>78</td>\n",
       "      <td>51.835593</td>\n",
       "      <td>2.5027</td>\n",
       "      <td>311.663358</td>\n",
       "      <td>16.155255</td>\n",
       "    </tr>\n",
       "  </tbody>\n",
       "</table>\n",
       "</div>"
      ],
      "text/plain": [
       "          Country             gdp        pop  Number of mass shootings  \\\n",
       "24  United States  16155255000000  311663358                        78   \n",
       "\n",
       "    gdp(thousand $) per capita  mass shootings per 10 million people  \\\n",
       "24                   51.835593                                2.5027   \n",
       "\n",
       "    pop(million)  gdp(trillion $)  \n",
       "24    311.663358        16.155255  "
      ]
     },
     "execution_count": 40,
     "metadata": {},
     "output_type": "execute_result"
    }
   ],
   "source": [
    "m_g[m_g['gdp(trillion $)'] > 14]"
   ]
  },
  {
   "cell_type": "markdown",
   "metadata": {},
   "source": [
    "### from the table below, we could see the outlier is United States with 78 mass shootings  and 16 trillion GDP . Both are way larger than other 24 countries."
   ]
  },
  {
   "cell_type": "markdown",
   "metadata": {},
   "source": [
    "### mass shooting vs gdp per person(with x errorbars and y errorbars)"
   ]
  },
  {
   "cell_type": "code",
   "execution_count": 41,
   "metadata": {
    "collapsed": false
   },
   "outputs": [
    {
     "data": {
      "text/plain": [
       "<matplotlib.text.Text at 0x115f98470>"
      ]
     },
     "execution_count": 41,
     "metadata": {},
     "output_type": "execute_result"
    },
    {
     "data": {
      "image/png": "[encoded data removed]",
      "text/plain": [
       "<matplotlib.figure.Figure at 0x115dc3c88>"
      ]
     },
     "metadata": {},
     "output_type": "display_data"
    }
   ],
   "source": [
    "plt.figure(figsize = (15,5))\n",
    "plt.scatter(m_g['gdp(thousand $) per capita'], m_g['mass shootings per 10 million people'])\n",
    "plt.errorbar(m_g['gdp(thousand $) per capita'], m_g['mass shootings per 10 million people'], \n",
    "             xerr = np.sqrt(m_g['gdp(thousand $) per capita']),\n",
    "             yerr = np.sqrt(m_g['mass shootings per 10 million people']), fmt = '.')\n",
    "plt.xlabel('GDP(thousand $) per capita', fontsize = 15)\n",
    "plt.ylabel('Number of mass shootings/10 million people', fontsize = 10)\n",
    "plt.title('Mass shooting V.S. GDP per capita', fontsize = 15)"
   ]
  },
  {
   "cell_type": "markdown",
   "metadata": {},
   "source": [
    "### there no outliers in the above plot\n",
    "### It seems that for data per capita, US is no longer outstanding, for neither mass shooting(2.5/10m) nor gdp(51836/capita) \n"
   ]
  },
  {
   "cell_type": "code",
   "execution_count": 42,
   "metadata": {
    "collapsed": false
   },
   "outputs": [
    {
     "data": {
      "text/html": [
       "<div>\n",
       "<table border=\"1\" class=\"dataframe\">\n",
       "  <thead>\n",
       "    <tr style=\"text-align: right;\">\n",
       "      <th></th>\n",
       "      <th>Country</th>\n",
       "      <th>gdp</th>\n",
       "      <th>pop</th>\n",
       "      <th>Number of mass shootings</th>\n",
       "      <th>gdp(thousand $) per capita</th>\n",
       "      <th>mass shootings per 10 million people</th>\n",
       "      <th>pop(million)</th>\n",
       "      <th>gdp(trillion $)</th>\n",
       "    </tr>\n",
       "  </thead>\n",
       "  <tbody>\n",
       "    <tr>\n",
       "      <th>24</th>\n",
       "      <td>United States</td>\n",
       "      <td>16155255000000</td>\n",
       "      <td>311663358</td>\n",
       "      <td>78</td>\n",
       "      <td>51.835593</td>\n",
       "      <td>2.5027</td>\n",
       "      <td>311.663358</td>\n",
       "      <td>16.155255</td>\n",
       "    </tr>\n",
       "  </tbody>\n",
       "</table>\n",
       "</div>"
      ],
      "text/plain": [
       "          Country             gdp        pop  Number of mass shootings  \\\n",
       "24  United States  16155255000000  311663358                        78   \n",
       "\n",
       "    gdp(thousand $) per capita  mass shootings per 10 million people  \\\n",
       "24                   51.835593                                2.5027   \n",
       "\n",
       "    pop(million)  gdp(trillion $)  \n",
       "24    311.663358        16.155255  "
      ]
     },
     "execution_count": 42,
     "metadata": {},
     "output_type": "execute_result"
    }
   ],
   "source": [
    "m_g[m_g['Country'] == 'United States']"
   ]
  },
  {
   "cell_type": "markdown",
   "metadata": {},
   "source": [
    "# 2. plot the average number of civilian fire arms per person\n",
    "first without errors, then with errors. are there points that look like outliers?"
   ]
  },
  {
   "cell_type": "code",
   "execution_count": 43,
   "metadata": {
    "collapsed": false
   },
   "outputs": [
    {
     "data": {
      "text/plain": [
       "176"
      ]
     },
     "execution_count": 43,
     "metadata": {},
     "output_type": "execute_result"
    }
   ],
   "source": [
    "firearms_100 = df1['Firearms per 100 people'].dropna()\n",
    "len(firearms_100)"
   ]
  },
  {
   "cell_type": "code",
   "execution_count": 44,
   "metadata": {
    "collapsed": false
   },
   "outputs": [
    {
     "data": {
      "text/plain": [
       "<matplotlib.text.Text at 0x116009c18>"
      ]
     },
     "execution_count": 44,
     "metadata": {},
     "output_type": "execute_result"
    },
    {
     "data": {
      "image/png": "[encoded data removed]",
      "text/plain": [
       "<matplotlib.figure.Figure at 0x115fe7a90>"
      ]
     },
     "metadata": {},
     "output_type": "display_data"
    }
   ],
   "source": [
    "plt.hist(firearms_100, bins = 20)\n",
    "plt.title('average number of civilian fire arms')\n",
    "plt.xlabel('Average firearms per 100 people')\n",
    "plt.ylabel('the number of nations')"
   ]
  },
  {
   "cell_type": "markdown",
   "metadata": {},
   "source": [
    "### there are outlier larger than 80 per 100 people , we could filter it out"
   ]
  },
  {
   "cell_type": "code",
   "execution_count": 45,
   "metadata": {
    "collapsed": false
   },
   "outputs": [
    {
     "data": {
      "text/html": [
       "<div>\n",
       "<table border=\"1\" class=\"dataframe\">\n",
       "  <thead>\n",
       "    <tr style=\"text-align: right;\">\n",
       "      <th></th>\n",
       "      <th>Country</th>\n",
       "      <th>Number of homicides by firearm</th>\n",
       "      <th>Homicide by firearm per 100,000 pop</th>\n",
       "      <th>Firearms per 100 people</th>\n",
       "      <th>Total civilian firearms</th>\n",
       "    </tr>\n",
       "  </thead>\n",
       "  <tbody>\n",
       "    <tr>\n",
       "      <th>58</th>\n",
       "      <td>Finland</td>\n",
       "      <td>24.0</td>\n",
       "      <td>0.45</td>\n",
       "      <td>45.3</td>\n",
       "      <td>2400000.0</td>\n",
       "    </tr>\n",
       "    <tr>\n",
       "      <th>162</th>\n",
       "      <td>Switzerland</td>\n",
       "      <td>57.0</td>\n",
       "      <td>0.77</td>\n",
       "      <td>45.7</td>\n",
       "      <td>3400000.0</td>\n",
       "    </tr>\n",
       "    <tr>\n",
       "      <th>176</th>\n",
       "      <td>United States</td>\n",
       "      <td>9146.0</td>\n",
       "      <td>2.97</td>\n",
       "      <td>88.8</td>\n",
       "      <td>270000000.0</td>\n",
       "    </tr>\n",
       "    <tr>\n",
       "      <th>182</th>\n",
       "      <td>Yemen</td>\n",
       "      <td>NaN</td>\n",
       "      <td>NaN</td>\n",
       "      <td>54.8</td>\n",
       "      <td>11500000.0</td>\n",
       "    </tr>\n",
       "  </tbody>\n",
       "</table>\n",
       "</div>"
      ],
      "text/plain": [
       "           Country  Number of homicides by firearm  \\\n",
       "58         Finland                            24.0   \n",
       "162    Switzerland                            57.0   \n",
       "176  United States                          9146.0   \n",
       "182          Yemen                             NaN   \n",
       "\n",
       "     Homicide by firearm per 100,000 pop  Firearms per 100 people  \\\n",
       "58                                  0.45                     45.3   \n",
       "162                                 0.77                     45.7   \n",
       "176                                 2.97                     88.8   \n",
       "182                                  NaN                     54.8   \n",
       "\n",
       "     Total civilian firearms  \n",
       "58                 2400000.0  \n",
       "162                3400000.0  \n",
       "176              270000000.0  \n",
       "182               11500000.0  "
      ]
     },
     "execution_count": 45,
     "metadata": {},
     "output_type": "execute_result"
    }
   ],
   "source": [
    "df1[df1['Firearms per 100 people'] > 40]"
   ]
  },
  {
   "cell_type": "markdown",
   "metadata": {},
   "source": [
    "### from the table above, we could see the outlier is United States with 89 average firearms per 100 people, much larger than the second one Yemen with 55"
   ]
  },
  {
   "cell_type": "code",
   "execution_count": null,
   "metadata": {
    "collapsed": false
   },
   "outputs": [],
   "source": []
  },
  {
   "cell_type": "markdown",
   "metadata": {},
   "source": [
    "# 3.plot the average number of homicide by fire arms per person\n",
    "first as a histogram\n",
    "\n",
    "then against the country GDP, with statistical errors. are there  points that look like outliers?"
   ]
  },
  {
   "cell_type": "markdown",
   "metadata": {},
   "source": [
    "## 3.1 average number of homicide by fire arms per person"
   ]
  },
  {
   "cell_type": "code",
   "execution_count": 46,
   "metadata": {
    "collapsed": false
   },
   "outputs": [
    {
     "data": {
      "text/plain": [
       "116"
      ]
     },
     "execution_count": 46,
     "metadata": {},
     "output_type": "execute_result"
    }
   ],
   "source": [
    "homicide_100000 = df1['Homicide by firearm per 100,000 pop'].dropna()\n",
    "len(homicide_100000)"
   ]
  },
  {
   "cell_type": "code",
   "execution_count": 47,
   "metadata": {
    "collapsed": false
   },
   "outputs": [
    {
     "data": {
      "text/plain": [
       "<matplotlib.text.Text at 0x11622b240>"
      ]
     },
     "execution_count": 47,
     "metadata": {},
     "output_type": "execute_result"
    },
    {
     "data": {
      "image/png": "[encoded data removed]",
      "text/plain": [
       "<matplotlib.figure.Figure at 0x1161ddba8>"
      ]
     },
     "metadata": {},
     "output_type": "display_data"
    }
   ],
   "source": [
    "plt.hist(homicide_100000, bins = 20)\n",
    "plt.title('average number of homicide by fire arms per person')\n",
    "plt.xlabel('Average homicide by firearms per 100,000 people')\n",
    "plt.ylabel('the number of nations')"
   ]
  },
  {
   "cell_type": "markdown",
   "metadata": {},
   "source": [
    "### there are outlier larger than 50 homicide by firearms per 100,000 people , we could filter it out\n"
   ]
  },
  {
   "cell_type": "code",
   "execution_count": 48,
   "metadata": {
    "collapsed": false
   },
   "outputs": [
    {
     "data": {
      "text/html": [
       "<div>\n",
       "<table border=\"1\" class=\"dataframe\">\n",
       "  <thead>\n",
       "    <tr style=\"text-align: right;\">\n",
       "      <th></th>\n",
       "      <th>Country</th>\n",
       "      <th>Number of homicides by firearm</th>\n",
       "      <th>Homicide by firearm per 100,000 pop</th>\n",
       "      <th>Firearms per 100 people</th>\n",
       "      <th>Total civilian firearms</th>\n",
       "    </tr>\n",
       "  </thead>\n",
       "  <tbody>\n",
       "    <tr>\n",
       "      <th>51</th>\n",
       "      <td>El Salvador</td>\n",
       "      <td>2446.0</td>\n",
       "      <td>39.90</td>\n",
       "      <td>5.8</td>\n",
       "      <td>400000.0</td>\n",
       "    </tr>\n",
       "    <tr>\n",
       "      <th>67</th>\n",
       "      <td>Guatemala</td>\n",
       "      <td>5009.0</td>\n",
       "      <td>34.81</td>\n",
       "      <td>13.1</td>\n",
       "      <td>1650000.0</td>\n",
       "    </tr>\n",
       "    <tr>\n",
       "      <th>72</th>\n",
       "      <td>Honduras</td>\n",
       "      <td>5201.0</td>\n",
       "      <td>68.43</td>\n",
       "      <td>6.2</td>\n",
       "      <td>500000.0</td>\n",
       "    </tr>\n",
       "    <tr>\n",
       "      <th>83</th>\n",
       "      <td>Jamaica</td>\n",
       "      <td>1080.0</td>\n",
       "      <td>39.40</td>\n",
       "      <td>8.1</td>\n",
       "      <td>215000.0</td>\n",
       "    </tr>\n",
       "    <tr>\n",
       "      <th>142</th>\n",
       "      <td>Saint Kitts and Nevis</td>\n",
       "      <td>17.0</td>\n",
       "      <td>32.44</td>\n",
       "      <td>NaN</td>\n",
       "      <td>NaN</td>\n",
       "    </tr>\n",
       "    <tr>\n",
       "      <th>179</th>\n",
       "      <td>Venezuela</td>\n",
       "      <td>11115.0</td>\n",
       "      <td>38.97</td>\n",
       "      <td>10.7</td>\n",
       "      <td>2850000.0</td>\n",
       "    </tr>\n",
       "  </tbody>\n",
       "</table>\n",
       "</div>"
      ],
      "text/plain": [
       "                   Country  Number of homicides by firearm  \\\n",
       "51             El Salvador                          2446.0   \n",
       "67               Guatemala                          5009.0   \n",
       "72                Honduras                          5201.0   \n",
       "83                 Jamaica                          1080.0   \n",
       "142  Saint Kitts and Nevis                            17.0   \n",
       "179              Venezuela                         11115.0   \n",
       "\n",
       "     Homicide by firearm per 100,000 pop  Firearms per 100 people  \\\n",
       "51                                 39.90                      5.8   \n",
       "67                                 34.81                     13.1   \n",
       "72                                 68.43                      6.2   \n",
       "83                                 39.40                      8.1   \n",
       "142                                32.44                      NaN   \n",
       "179                                38.97                     10.7   \n",
       "\n",
       "     Total civilian firearms  \n",
       "51                  400000.0  \n",
       "67                 1650000.0  \n",
       "72                  500000.0  \n",
       "83                  215000.0  \n",
       "142                      NaN  \n",
       "179                2850000.0  "
      ]
     },
     "execution_count": 48,
     "metadata": {},
     "output_type": "execute_result"
    }
   ],
   "source": [
    "df1[df1['Homicide by firearm per 100,000 pop'] > 30]"
   ]
  },
  {
   "cell_type": "markdown",
   "metadata": {},
   "source": [
    "### from the table above, we could see the outlier is Honduras with 68 homicide by firearms per 100,000 people, while others are all below 40"
   ]
  },
  {
   "cell_type": "markdown",
   "metadata": {},
   "source": [
    "## 3.2 average number of homicide by fire arms per person vs GDP"
   ]
  },
  {
   "cell_type": "code",
   "execution_count": 49,
   "metadata": {
    "collapsed": false
   },
   "outputs": [
    {
     "data": {
      "text/plain": [
       "(153, 6)"
      ]
     },
     "execution_count": 49,
     "metadata": {},
     "output_type": "execute_result"
    }
   ],
   "source": [
    "df1_4 = pd.merge(df1.replace(['England and Wales'], ['United Kingdom']), df4, how = 'inner')\n",
    "df1_4.shape"
   ]
  },
  {
   "cell_type": "code",
   "execution_count": 50,
   "metadata": {
    "collapsed": false
   },
   "outputs": [
    {
     "data": {
      "text/html": [
       "<div>\n",
       "<table border=\"1\" class=\"dataframe\">\n",
       "  <thead>\n",
       "    <tr style=\"text-align: right;\">\n",
       "      <th></th>\n",
       "      <th>Country</th>\n",
       "      <th>Number of homicides by firearm</th>\n",
       "      <th>Homicide by firearm per 100,000 pop</th>\n",
       "      <th>Firearms per 100 people</th>\n",
       "      <th>Total civilian firearms</th>\n",
       "      <th>gdp</th>\n",
       "    </tr>\n",
       "  </thead>\n",
       "  <tbody>\n",
       "    <tr>\n",
       "      <th>0</th>\n",
       "      <td>Albania</td>\n",
       "      <td>56.0</td>\n",
       "      <td>1.76</td>\n",
       "      <td>8.6</td>\n",
       "      <td>270000.0</td>\n",
       "      <td>12319784787</td>\n",
       "    </tr>\n",
       "    <tr>\n",
       "      <th>1</th>\n",
       "      <td>Algeria</td>\n",
       "      <td>20.0</td>\n",
       "      <td>0.06</td>\n",
       "      <td>7.6</td>\n",
       "      <td>1900000.0</td>\n",
       "      <td>209047389309</td>\n",
       "    </tr>\n",
       "    <tr>\n",
       "      <th>2</th>\n",
       "      <td>Angola</td>\n",
       "      <td>NaN</td>\n",
       "      <td>NaN</td>\n",
       "      <td>17.3</td>\n",
       "      <td>2800000.0</td>\n",
       "      <td>115398371427</td>\n",
       "    </tr>\n",
       "    <tr>\n",
       "      <th>3</th>\n",
       "      <td>Argentina</td>\n",
       "      <td>1198.0</td>\n",
       "      <td>3.02</td>\n",
       "      <td>10.2</td>\n",
       "      <td>3950000.0</td>\n",
       "      <td>545982375701</td>\n",
       "    </tr>\n",
       "    <tr>\n",
       "      <th>4</th>\n",
       "      <td>Armenia</td>\n",
       "      <td>9.0</td>\n",
       "      <td>0.29</td>\n",
       "      <td>12.5</td>\n",
       "      <td>380000.0</td>\n",
       "      <td>10619320048</td>\n",
       "    </tr>\n",
       "  </tbody>\n",
       "</table>\n",
       "</div>"
      ],
      "text/plain": [
       "     Country  Number of homicides by firearm  \\\n",
       "0    Albania                            56.0   \n",
       "1    Algeria                            20.0   \n",
       "2     Angola                             NaN   \n",
       "3  Argentina                          1198.0   \n",
       "4    Armenia                             9.0   \n",
       "\n",
       "   Homicide by firearm per 100,000 pop  Firearms per 100 people  \\\n",
       "0                                 1.76                      8.6   \n",
       "1                                 0.06                      7.6   \n",
       "2                                  NaN                     17.3   \n",
       "3                                 3.02                     10.2   \n",
       "4                                 0.29                     12.5   \n",
       "\n",
       "   Total civilian firearms           gdp  \n",
       "0                 270000.0   12319784787  \n",
       "1                1900000.0  209047389309  \n",
       "2                2800000.0  115398371427  \n",
       "3                3950000.0  545982375701  \n",
       "4                 380000.0   10619320048  "
      ]
     },
     "execution_count": 50,
     "metadata": {},
     "output_type": "execute_result"
    }
   ],
   "source": [
    "df1_4.head()"
   ]
  },
  {
   "cell_type": "code",
   "execution_count": 51,
   "metadata": {
    "collapsed": false
   },
   "outputs": [
    {
     "data": {
      "text/html": [
       "<div>\n",
       "<table border=\"1\" class=\"dataframe\">\n",
       "  <thead>\n",
       "    <tr style=\"text-align: right;\">\n",
       "      <th></th>\n",
       "      <th>Homicide by firearm per 100,000 pop</th>\n",
       "      <th>gdp</th>\n",
       "      <th>gdp(trillion $)</th>\n",
       "    </tr>\n",
       "  </thead>\n",
       "  <tbody>\n",
       "    <tr>\n",
       "      <th>0</th>\n",
       "      <td>1.76</td>\n",
       "      <td>12319784787</td>\n",
       "      <td>0.012320</td>\n",
       "    </tr>\n",
       "    <tr>\n",
       "      <th>1</th>\n",
       "      <td>0.06</td>\n",
       "      <td>209047389309</td>\n",
       "      <td>0.209047</td>\n",
       "    </tr>\n",
       "    <tr>\n",
       "      <th>2</th>\n",
       "      <td>NaN</td>\n",
       "      <td>115398371427</td>\n",
       "      <td>0.115398</td>\n",
       "    </tr>\n",
       "    <tr>\n",
       "      <th>3</th>\n",
       "      <td>3.02</td>\n",
       "      <td>545982375701</td>\n",
       "      <td>0.545982</td>\n",
       "    </tr>\n",
       "    <tr>\n",
       "      <th>4</th>\n",
       "      <td>0.29</td>\n",
       "      <td>10619320048</td>\n",
       "      <td>0.010619</td>\n",
       "    </tr>\n",
       "  </tbody>\n",
       "</table>\n",
       "</div>"
      ],
      "text/plain": [
       "   Homicide by firearm per 100,000 pop           gdp  gdp(trillion $)\n",
       "0                                 1.76   12319784787         0.012320\n",
       "1                                 0.06  209047389309         0.209047\n",
       "2                                  NaN  115398371427         0.115398\n",
       "3                                 3.02  545982375701         0.545982\n",
       "4                                 0.29   10619320048         0.010619"
      ]
     },
     "execution_count": 51,
     "metadata": {},
     "output_type": "execute_result"
    }
   ],
   "source": [
    "h_g = df1_4[['Homicide by firearm per 100,000 pop', 'gdp']]\n",
    "h_g.is_copy = False\n",
    "h_g['gdp(trillion $)'] = h_g['gdp']/1000000000000\n",
    "h_g.head()"
   ]
  },
  {
   "cell_type": "code",
   "execution_count": 52,
   "metadata": {
    "collapsed": false,
    "scrolled": true
   },
   "outputs": [
    {
     "data": {
      "text/plain": [
       "<matplotlib.text.Text at 0x11639c828>"
      ]
     },
     "execution_count": 52,
     "metadata": {},
     "output_type": "execute_result"
    },
    {
     "data": {
      "image/png": "[encoded data removed]",
      "text/plain": [
       "<matplotlib.figure.Figure at 0x11640e358>"
      ]
     },
     "metadata": {},
     "output_type": "display_data"
    }
   ],
   "source": [
    "plt.figure(figsize = (15,5))\n",
    "plt.scatter(h_g['gdp(trillion $)'], h_g['Homicide by firearm per 100,000 pop'])\n",
    "plt.errorbar(h_g['gdp(trillion $)'], h_g['Homicide by firearm per 100,000 pop'], \n",
    "             yerr = np.sqrt(h_g['Homicide by firearm per 100,000 pop']), fmt = '.')\n",
    "plt.xlabel('GDP(Trillion $)', fontsize = 15)\n",
    "plt.ylabel('Homicide by firearm/100,000 people', fontsize = 10)\n",
    "plt.title('Homicide by firearm per capita V.S. GDP', fontsize = 15)\n"
   ]
  },
  {
   "cell_type": "markdown",
   "metadata": {},
   "source": [
    "### US is still an outlier for its GDP but not for homicide by firearm per capita"
   ]
  },
  {
   "cell_type": "markdown",
   "metadata": {},
   "source": [
    "# 4.plot the number of  homicides by fire arm against the number of civilian firearms. (plot the  US in a different color)\n",
    "with and without errorbars"
   ]
  },
  {
   "cell_type": "code",
   "execution_count": 53,
   "metadata": {
    "collapsed": false
   },
   "outputs": [],
   "source": [
    "h_f = df1[['Country','Firearms per 100 people','Homicide by firearm per 100,000 pop']].dropna()"
   ]
  },
  {
   "cell_type": "code",
   "execution_count": 54,
   "metadata": {
    "collapsed": false
   },
   "outputs": [
    {
     "data": {
      "text/plain": [
       "107"
      ]
     },
     "execution_count": 54,
     "metadata": {},
     "output_type": "execute_result"
    }
   ],
   "source": [
    "len(h_f)"
   ]
  },
  {
   "cell_type": "code",
   "execution_count": 55,
   "metadata": {
    "collapsed": true
   },
   "outputs": [],
   "source": [
    "h_f = h_f.rename(columns = {'Firearms per 100 people':'x','Homicide by firearm per 100,000 pop':'y'})"
   ]
  },
  {
   "cell_type": "code",
   "execution_count": 56,
   "metadata": {
    "collapsed": false
   },
   "outputs": [
    {
     "data": {
      "text/html": [
       "<div>\n",
       "<table border=\"1\" class=\"dataframe\">\n",
       "  <thead>\n",
       "    <tr style=\"text-align: right;\">\n",
       "      <th></th>\n",
       "      <th>Country</th>\n",
       "      <th>x</th>\n",
       "      <th>y</th>\n",
       "    </tr>\n",
       "  </thead>\n",
       "  <tbody>\n",
       "    <tr>\n",
       "      <th>0</th>\n",
       "      <td>Albania</td>\n",
       "      <td>8.6</td>\n",
       "      <td>1.76</td>\n",
       "    </tr>\n",
       "    <tr>\n",
       "      <th>1</th>\n",
       "      <td>Algeria</td>\n",
       "      <td>7.6</td>\n",
       "      <td>0.06</td>\n",
       "    </tr>\n",
       "    <tr>\n",
       "      <th>4</th>\n",
       "      <td>Argentina</td>\n",
       "      <td>10.2</td>\n",
       "      <td>3.02</td>\n",
       "    </tr>\n",
       "    <tr>\n",
       "      <th>5</th>\n",
       "      <td>Armenia</td>\n",
       "      <td>12.5</td>\n",
       "      <td>0.29</td>\n",
       "    </tr>\n",
       "    <tr>\n",
       "      <th>6</th>\n",
       "      <td>Australia</td>\n",
       "      <td>15.0</td>\n",
       "      <td>0.14</td>\n",
       "    </tr>\n",
       "  </tbody>\n",
       "</table>\n",
       "</div>"
      ],
      "text/plain": [
       "     Country     x     y\n",
       "0    Albania   8.6  1.76\n",
       "1    Algeria   7.6  0.06\n",
       "4  Argentina  10.2  3.02\n",
       "5    Armenia  12.5  0.29\n",
       "6  Australia  15.0  0.14"
      ]
     },
     "execution_count": 56,
     "metadata": {},
     "output_type": "execute_result"
    }
   ],
   "source": [
    "h_f.head()"
   ]
  },
  {
   "cell_type": "code",
   "execution_count": 57,
   "metadata": {
    "collapsed": false
   },
   "outputs": [
    {
     "data": {
      "text/html": [
       "<div>\n",
       "<table border=\"1\" class=\"dataframe\">\n",
       "  <thead>\n",
       "    <tr style=\"text-align: right;\">\n",
       "      <th></th>\n",
       "      <th>Country</th>\n",
       "      <th>x</th>\n",
       "      <th>y</th>\n",
       "    </tr>\n",
       "  </thead>\n",
       "  <tbody>\n",
       "    <tr>\n",
       "      <th>176</th>\n",
       "      <td>United States</td>\n",
       "      <td>88.8</td>\n",
       "      <td>2.97</td>\n",
       "    </tr>\n",
       "  </tbody>\n",
       "</table>\n",
       "</div>"
      ],
      "text/plain": [
       "           Country     x     y\n",
       "176  United States  88.8  2.97"
      ]
     },
     "execution_count": 57,
     "metadata": {},
     "output_type": "execute_result"
    }
   ],
   "source": [
    "h_f_us = h_f[h_f['Country'] == 'United States']\n",
    "h_f_us"
   ]
  },
  {
   "cell_type": "markdown",
   "metadata": {},
   "source": [
    "### number of  homicides by firearms per capita against number of firearms per capita (without errorbars)"
   ]
  },
  {
   "cell_type": "code",
   "execution_count": 58,
   "metadata": {
    "collapsed": false
   },
   "outputs": [
    {
     "data": {
      "text/plain": [
       "<matplotlib.legend.Legend at 0x11669f1d0>"
      ]
     },
     "execution_count": 58,
     "metadata": {},
     "output_type": "execute_result"
    },
    {
     "data": {
      "image/png": "[encoded data removed]",
      "text/plain": [
       "<matplotlib.figure.Figure at 0x11639c3c8>"
      ]
     },
     "metadata": {},
     "output_type": "display_data"
    }
   ],
   "source": [
    "plt.figure(figsize = (10,5))\n",
    "plt.scatter(h_f.x, h_f.y, label = 'Countries except US')\n",
    "plt.scatter(h_f_us.x, h_f_us.y, label = 'United states')\n",
    "plt.title('Homicide by firearm V.S. number of firearms per capita')\n",
    "plt.xlabel('Average firearms per 100 people')\n",
    "plt.ylabel('Homicide by firearm per 100,000 pop')\n",
    "plt.legend()"
   ]
  },
  {
   "cell_type": "markdown",
   "metadata": {},
   "source": [
    "### number of  homicides by firearms per capita against number of firearms per capita  (with errorbars)"
   ]
  },
  {
   "cell_type": "code",
   "execution_count": 59,
   "metadata": {
    "collapsed": false,
    "scrolled": true
   },
   "outputs": [
    {
     "data": {
      "text/plain": [
       "<matplotlib.legend.Legend at 0x116806dd8>"
      ]
     },
     "execution_count": 59,
     "metadata": {},
     "output_type": "execute_result"
    },
    {
     "data": {
      "image/png": "[encoded data removed]",
      "text/plain": [
       "<matplotlib.figure.Figure at 0x1163784e0>"
      ]
     },
     "metadata": {},
     "output_type": "display_data"
    }
   ],
   "source": [
    "plt.figure(figsize = (10,5))\n",
    "plt.scatter(h_f.x, h_f.y, label = 'Countries except US')\n",
    "plt.scatter(h_f_us.x, h_f_us.y, label = 'United states')\n",
    "plt.title('Homicide by firearm V.S. number of firearms per capita')\n",
    "plt.xlabel('Average firearms per 100 people')\n",
    "plt.ylabel('Homicide by firearm per 100,000 pop')\n",
    "\n",
    "plt.errorbar(h_f.x, h_f.y, yerr = np.sqrt(h_f.y), fmt = '.') \n",
    "plt.errorbar(h_f_us.x, h_f_us.y, yerr = np.sqrt(h_f_us.y), fmt = '.') \n",
    "plt.legend()"
   ]
  },
  {
   "cell_type": "markdown",
   "metadata": {},
   "source": [
    "## From the above plot, we could see that although United States has the highest firearms rate per capita(88.8/100), its homicide rate by firearms(2.97/100,000) is not outstanding among 107 countries in 2012"
   ]
  },
  {
   "cell_type": "code",
   "execution_count": null,
   "metadata": {
    "collapsed": true
   },
   "outputs": [],
   "source": []
  },
  {
   "cell_type": "markdown",
   "metadata": {
    "collapsed": true
   },
   "source": [
    "# 5. plot the number of  mass shootings against the number of civilian firearms. plot the  US in a different color\n",
    "with and without errorbars"
   ]
  },
  {
   "cell_type": "code",
   "execution_count": 60,
   "metadata": {
    "collapsed": false
   },
   "outputs": [],
   "source": [
    "m_f = df1_2[['Country','Firearms per 100 people','Number of mass shootings']].dropna()"
   ]
  },
  {
   "cell_type": "code",
   "execution_count": 61,
   "metadata": {
    "collapsed": false
   },
   "outputs": [
    {
     "data": {
      "text/plain": [
       "25"
      ]
     },
     "execution_count": 61,
     "metadata": {},
     "output_type": "execute_result"
    }
   ],
   "source": [
    "len(m_f)"
   ]
  },
  {
   "cell_type": "code",
   "execution_count": 62,
   "metadata": {
    "collapsed": true
   },
   "outputs": [],
   "source": [
    "m_f = m_f.rename(columns = {'Firearms per 100 people':'x','Number of mass shootings':'y'})"
   ]
  },
  {
   "cell_type": "code",
   "execution_count": 63,
   "metadata": {
    "collapsed": false
   },
   "outputs": [
    {
     "data": {
      "text/html": [
       "<div>\n",
       "<table border=\"1\" class=\"dataframe\">\n",
       "  <thead>\n",
       "    <tr style=\"text-align: right;\">\n",
       "      <th></th>\n",
       "      <th>Country</th>\n",
       "      <th>x</th>\n",
       "      <th>y</th>\n",
       "    </tr>\n",
       "  </thead>\n",
       "  <tbody>\n",
       "    <tr>\n",
       "      <th>0</th>\n",
       "      <td>Australia</td>\n",
       "      <td>15.0</td>\n",
       "      <td>4</td>\n",
       "    </tr>\n",
       "    <tr>\n",
       "      <th>1</th>\n",
       "      <td>Austria</td>\n",
       "      <td>30.4</td>\n",
       "      <td>1</td>\n",
       "    </tr>\n",
       "    <tr>\n",
       "      <th>2</th>\n",
       "      <td>Belgium</td>\n",
       "      <td>17.2</td>\n",
       "      <td>2</td>\n",
       "    </tr>\n",
       "    <tr>\n",
       "      <th>3</th>\n",
       "      <td>Canada</td>\n",
       "      <td>30.8</td>\n",
       "      <td>4</td>\n",
       "    </tr>\n",
       "    <tr>\n",
       "      <th>4</th>\n",
       "      <td>Denmark</td>\n",
       "      <td>12.0</td>\n",
       "      <td>0</td>\n",
       "    </tr>\n",
       "  </tbody>\n",
       "</table>\n",
       "</div>"
      ],
      "text/plain": [
       "     Country     x  y\n",
       "0  Australia  15.0  4\n",
       "1    Austria  30.4  1\n",
       "2    Belgium  17.2  2\n",
       "3     Canada  30.8  4\n",
       "4    Denmark  12.0  0"
      ]
     },
     "execution_count": 63,
     "metadata": {},
     "output_type": "execute_result"
    }
   ],
   "source": [
    "m_f.head()"
   ]
  },
  {
   "cell_type": "code",
   "execution_count": 64,
   "metadata": {
    "collapsed": false
   },
   "outputs": [
    {
     "data": {
      "text/html": [
       "<div>\n",
       "<table border=\"1\" class=\"dataframe\">\n",
       "  <thead>\n",
       "    <tr style=\"text-align: right;\">\n",
       "      <th></th>\n",
       "      <th>Country</th>\n",
       "      <th>x</th>\n",
       "      <th>y</th>\n",
       "    </tr>\n",
       "  </thead>\n",
       "  <tbody>\n",
       "    <tr>\n",
       "      <th>24</th>\n",
       "      <td>United States</td>\n",
       "      <td>88.8</td>\n",
       "      <td>78</td>\n",
       "    </tr>\n",
       "  </tbody>\n",
       "</table>\n",
       "</div>"
      ],
      "text/plain": [
       "          Country     x   y\n",
       "24  United States  88.8  78"
      ]
     },
     "execution_count": 64,
     "metadata": {},
     "output_type": "execute_result"
    }
   ],
   "source": [
    "m_f_us = m_f[m_f['Country'] == 'United States']\n",
    "m_f_us"
   ]
  },
  {
   "cell_type": "markdown",
   "metadata": {},
   "source": [
    "### number of  mass shootings against number of firearms per capita (without errorbars)"
   ]
  },
  {
   "cell_type": "code",
   "execution_count": 65,
   "metadata": {
    "collapsed": false
   },
   "outputs": [
    {
     "data": {
      "text/plain": [
       "<matplotlib.legend.Legend at 0x1169980f0>"
      ]
     },
     "execution_count": 65,
     "metadata": {},
     "output_type": "execute_result"
    },
    {
     "data": {
      "image/png": "[encoded data removed]",
      "text/plain": [
       "<matplotlib.figure.Figure at 0x11688a710>"
      ]
     },
     "metadata": {},
     "output_type": "display_data"
    }
   ],
   "source": [
    "plt.figure(figsize = (10,5))\n",
    "plt.scatter(m_f.x, m_f.y, label = 'Countries except US')\n",
    "plt.scatter(m_f_us.x, m_f_us.y, label = 'United states')\n",
    "plt.title('Number of Mass Shootings V.S. number of firearms per capita')\n",
    "plt.xlabel('Average firearms per 100 people')\n",
    "plt.ylabel('Number of mass shootings')\n",
    "plt.legend()"
   ]
  },
  {
   "cell_type": "markdown",
   "metadata": {},
   "source": [
    "### number of mass shootings against number of firearms per capita (with errorbars)"
   ]
  },
  {
   "cell_type": "code",
   "execution_count": 66,
   "metadata": {
    "collapsed": false
   },
   "outputs": [
    {
     "data": {
      "text/plain": [
       "<matplotlib.legend.Legend at 0x116b01e48>"
      ]
     },
     "execution_count": 66,
     "metadata": {},
     "output_type": "execute_result"
    },
    {
     "data": {
      "image/png": "[encoded data removed]",
      "text/plain": [
       "<matplotlib.figure.Figure at 0x1164edb00>"
      ]
     },
     "metadata": {},
     "output_type": "display_data"
    }
   ],
   "source": [
    "plt.figure(figsize = (10,5))\n",
    "plt.scatter(m_f.x, m_f.y, label = 'Countries except US')\n",
    "plt.scatter(m_f_us.x, m_f_us.y, label = 'United states')\n",
    "plt.title('Number of Mass Shootings V.S. number of firearms per capita')\n",
    "plt.xlabel('Average firearms per 100 people')\n",
    "plt.ylabel('Number of mass shootings')\n",
    "\n",
    "plt.errorbar(m_f.x, m_f.y, yerr = np.sqrt(m_f.y), fmt = '.') \n",
    "plt.errorbar(m_f_us.x, m_f_us.y, yerr = np.sqrt(m_f_us.y), fmt = '.') \n",
    "plt.legend()"
   ]
  },
  {
   "cell_type": "markdown",
   "metadata": {},
   "source": [
    "## From the above plot, we could see that United States has the highest firearms rate per capita(88.8/100) and the most numerous mass shootings(78) among 25 countres in 2012"
   ]
  },
  {
   "cell_type": "code",
   "execution_count": null,
   "metadata": {
    "collapsed": true
   },
   "outputs": [],
   "source": []
  },
  {
   "cell_type": "markdown",
   "metadata": {},
   "source": [
    "# 6. Modeling\n",
    "\n",
    "## fit a line to the Number of mass shootings  per person as a function of Average total all civilian firearms per person. \n",
    "Before you do it it is a good idea to make sure that both quantities are roughly of the same order of magnitude (unity). (You can simply divide by the order of magnitude of the mean of the sample to obtain this). Use\n",
    "\n",
    "    - statsmodels OLS\n",
    "    - statsmodels WLS\n",
    "    - seaborn\n",
    "    - choose one of\n",
    "        -- creating a function that calculates the residuals and minimizing that function\n",
    "        -- analytical solution http://mathworld.wolfram.com/LeastSquaresFitting.html\n",
    "        -- numpy.polyfit() - https://docs.scipy.org/doc/numpy-1.13.0/reference/generated/numpy.polyfit.html\n",
    "    \n",
    "\n",
    "WLS: that is the weighted square fit. The statsmodel package WLS function allows you to take the uncertainties of each data point into account when you fit your model. It takes the parameter weights, which is the inverse of your errors:\n",
    "weights = 1.0/df.yerror\n",
    "Notice that \n",
    "    a - sqrt(0) = 0\n",
    "    b - 1/0 = infinity\n",
    "    c - you cannot have weight that are infinity in your fit. Please come up with a solution and justify it.\n",
    "\n",
    "\n",
    "the latter three you can learn about in this example: https://github.com/fedhere/PUI2017_fb55/blob/master/Lab5_fb55/genderIncomeBias.ipynb\n",
    "Since we did not discuss these, I will add some notes to the repo in the afternoon.\n",
    "\n",
    "Use the seaborn python package built in regression function  to plot the regression confidence intervals. \n",
    "\n",
    "import seaborn  as sns\n",
    "sns.regplot(x=\"x\", y=\"y\", data=df);\n",
    "\n",
    "\n"
   ]
  },
  {
   "cell_type": "code",
   "execution_count": 67,
   "metadata": {
    "collapsed": false
   },
   "outputs": [
    {
     "data": {
      "text/html": [
       "<div>\n",
       "<table border=\"1\" class=\"dataframe\">\n",
       "  <thead>\n",
       "    <tr style=\"text-align: right;\">\n",
       "      <th></th>\n",
       "      <th>Country</th>\n",
       "      <th>Number of homicides by firearm</th>\n",
       "      <th>Homicide by firearm per 100,000 pop</th>\n",
       "      <th>Firearms per 100 people</th>\n",
       "      <th>Total civilian firearms</th>\n",
       "      <th>Number of mass shootings</th>\n",
       "      <th>pop</th>\n",
       "    </tr>\n",
       "  </thead>\n",
       "  <tbody>\n",
       "    <tr>\n",
       "      <th>0</th>\n",
       "      <td>Australia</td>\n",
       "      <td>30.0</td>\n",
       "      <td>0.14</td>\n",
       "      <td>15.0</td>\n",
       "      <td>3050000.0</td>\n",
       "      <td>4</td>\n",
       "      <td>22340024</td>\n",
       "    </tr>\n",
       "    <tr>\n",
       "      <th>1</th>\n",
       "      <td>Austria</td>\n",
       "      <td>18.0</td>\n",
       "      <td>0.22</td>\n",
       "      <td>30.4</td>\n",
       "      <td>2500000.0</td>\n",
       "      <td>1</td>\n",
       "      <td>8391643</td>\n",
       "    </tr>\n",
       "    <tr>\n",
       "      <th>2</th>\n",
       "      <td>Belgium</td>\n",
       "      <td>70.0</td>\n",
       "      <td>0.68</td>\n",
       "      <td>17.2</td>\n",
       "      <td>1800000.0</td>\n",
       "      <td>2</td>\n",
       "      <td>11047744</td>\n",
       "    </tr>\n",
       "    <tr>\n",
       "      <th>3</th>\n",
       "      <td>Canada</td>\n",
       "      <td>173.0</td>\n",
       "      <td>0.51</td>\n",
       "      <td>30.8</td>\n",
       "      <td>9950000.0</td>\n",
       "      <td>4</td>\n",
       "      <td>34342780</td>\n",
       "    </tr>\n",
       "    <tr>\n",
       "      <th>4</th>\n",
       "      <td>Denmark</td>\n",
       "      <td>15.0</td>\n",
       "      <td>0.27</td>\n",
       "      <td>12.0</td>\n",
       "      <td>650000.0</td>\n",
       "      <td>0</td>\n",
       "      <td>5570572</td>\n",
       "    </tr>\n",
       "  </tbody>\n",
       "</table>\n",
       "</div>"
      ],
      "text/plain": [
       "     Country  Number of homicides by firearm  \\\n",
       "0  Australia                            30.0   \n",
       "1    Austria                            18.0   \n",
       "2    Belgium                            70.0   \n",
       "3     Canada                           173.0   \n",
       "4    Denmark                            15.0   \n",
       "\n",
       "   Homicide by firearm per 100,000 pop  Firearms per 100 people  \\\n",
       "0                                 0.14                     15.0   \n",
       "1                                 0.22                     30.4   \n",
       "2                                 0.68                     17.2   \n",
       "3                                 0.51                     30.8   \n",
       "4                                 0.27                     12.0   \n",
       "\n",
       "   Total civilian firearms  Number of mass shootings       pop  \n",
       "0                3050000.0                         4  22340024  \n",
       "1                2500000.0                         1   8391643  \n",
       "2                1800000.0                         2  11047744  \n",
       "3                9950000.0                         4  34342780  \n",
       "4                 650000.0                         0   5570572  "
      ]
     },
     "execution_count": 67,
     "metadata": {},
     "output_type": "execute_result"
    }
   ],
   "source": [
    "df1_2_3.head()"
   ]
  },
  {
   "cell_type": "code",
   "execution_count": 68,
   "metadata": {
    "collapsed": false
   },
   "outputs": [],
   "source": [
    "df_new = df1_2_3[['Country', 'Firearms per 100 people', 'Number of mass shootings', 'pop']]"
   ]
  },
  {
   "cell_type": "code",
   "execution_count": 69,
   "metadata": {
    "collapsed": false
   },
   "outputs": [],
   "source": [
    "df_new.is_copy = False"
   ]
  },
  {
   "cell_type": "code",
   "execution_count": 70,
   "metadata": {
    "collapsed": false,
    "scrolled": true
   },
   "outputs": [],
   "source": [
    "df_new['mass shootings per 10 million people'] = df_new['Number of mass shootings']/df_new['pop'] * 10000000"
   ]
  },
  {
   "cell_type": "code",
   "execution_count": 71,
   "metadata": {
    "collapsed": false
   },
   "outputs": [
    {
     "data": {
      "text/html": [
       "<div>\n",
       "<table border=\"1\" class=\"dataframe\">\n",
       "  <thead>\n",
       "    <tr style=\"text-align: right;\">\n",
       "      <th></th>\n",
       "      <th>Country</th>\n",
       "      <th>Firearms per 100 people</th>\n",
       "      <th>Number of mass shootings</th>\n",
       "      <th>pop</th>\n",
       "      <th>mass shootings per 10 million people</th>\n",
       "    </tr>\n",
       "  </thead>\n",
       "  <tbody>\n",
       "    <tr>\n",
       "      <th>0</th>\n",
       "      <td>Australia</td>\n",
       "      <td>15.0</td>\n",
       "      <td>4</td>\n",
       "      <td>22340024</td>\n",
       "      <td>1.790508</td>\n",
       "    </tr>\n",
       "    <tr>\n",
       "      <th>1</th>\n",
       "      <td>Austria</td>\n",
       "      <td>30.4</td>\n",
       "      <td>1</td>\n",
       "      <td>8391643</td>\n",
       "      <td>1.191662</td>\n",
       "    </tr>\n",
       "    <tr>\n",
       "      <th>2</th>\n",
       "      <td>Belgium</td>\n",
       "      <td>17.2</td>\n",
       "      <td>2</td>\n",
       "      <td>11047744</td>\n",
       "      <td>1.810324</td>\n",
       "    </tr>\n",
       "    <tr>\n",
       "      <th>3</th>\n",
       "      <td>Canada</td>\n",
       "      <td>30.8</td>\n",
       "      <td>4</td>\n",
       "      <td>34342780</td>\n",
       "      <td>1.164728</td>\n",
       "    </tr>\n",
       "    <tr>\n",
       "      <th>4</th>\n",
       "      <td>Denmark</td>\n",
       "      <td>12.0</td>\n",
       "      <td>0</td>\n",
       "      <td>5570572</td>\n",
       "      <td>0.000000</td>\n",
       "    </tr>\n",
       "  </tbody>\n",
       "</table>\n",
       "</div>"
      ],
      "text/plain": [
       "     Country  Firearms per 100 people  Number of mass shootings       pop  \\\n",
       "0  Australia                     15.0                         4  22340024   \n",
       "1    Austria                     30.4                         1   8391643   \n",
       "2    Belgium                     17.2                         2  11047744   \n",
       "3     Canada                     30.8                         4  34342780   \n",
       "4    Denmark                     12.0                         0   5570572   \n",
       "\n",
       "   mass shootings per 10 million people  \n",
       "0                              1.790508  \n",
       "1                              1.191662  \n",
       "2                              1.810324  \n",
       "3                              1.164728  \n",
       "4                              0.000000  "
      ]
     },
     "execution_count": 71,
     "metadata": {},
     "output_type": "execute_result"
    }
   ],
   "source": [
    "df_new.head()"
   ]
  },
  {
   "cell_type": "code",
   "execution_count": 72,
   "metadata": {
    "collapsed": false
   },
   "outputs": [],
   "source": [
    "m_f_lm = df_new[['mass shootings per 10 million people', \n",
    "                  'Firearms per 100 people']].rename(columns = {'Firearms per 100 people': 'x', \n",
    "                                                                'mass shootings per 10 million people':'y'})"
   ]
  },
  {
   "cell_type": "code",
   "execution_count": 73,
   "metadata": {
    "collapsed": false
   },
   "outputs": [
    {
     "data": {
      "text/html": [
       "<div>\n",
       "<table border=\"1\" class=\"dataframe\">\n",
       "  <thead>\n",
       "    <tr style=\"text-align: right;\">\n",
       "      <th></th>\n",
       "      <th>y</th>\n",
       "      <th>x</th>\n",
       "    </tr>\n",
       "  </thead>\n",
       "  <tbody>\n",
       "    <tr>\n",
       "      <th>0</th>\n",
       "      <td>1.790508</td>\n",
       "      <td>15.0</td>\n",
       "    </tr>\n",
       "    <tr>\n",
       "      <th>1</th>\n",
       "      <td>1.191662</td>\n",
       "      <td>30.4</td>\n",
       "    </tr>\n",
       "    <tr>\n",
       "      <th>2</th>\n",
       "      <td>1.810324</td>\n",
       "      <td>17.2</td>\n",
       "    </tr>\n",
       "    <tr>\n",
       "      <th>3</th>\n",
       "      <td>1.164728</td>\n",
       "      <td>30.8</td>\n",
       "    </tr>\n",
       "    <tr>\n",
       "      <th>4</th>\n",
       "      <td>0.000000</td>\n",
       "      <td>12.0</td>\n",
       "    </tr>\n",
       "  </tbody>\n",
       "</table>\n",
       "</div>"
      ],
      "text/plain": [
       "          y     x\n",
       "0  1.790508  15.0\n",
       "1  1.191662  30.4\n",
       "2  1.810324  17.2\n",
       "3  1.164728  30.8\n",
       "4  0.000000  12.0"
      ]
     },
     "execution_count": 73,
     "metadata": {},
     "output_type": "execute_result"
    }
   ],
   "source": [
    "m_f_lm.head()"
   ]
  },
  {
   "cell_type": "markdown",
   "metadata": {},
   "source": [
    "## OLS\n",
    "[LINK](https://github.com/fedhere/PUI2017_fb55/blob/master/HW5_fb55/Linear%20Regression%20and%20OLS%20notes.pdf)"
   ]
  },
  {
   "cell_type": "code",
   "execution_count": 74,
   "metadata": {
    "collapsed": false
   },
   "outputs": [],
   "source": [
    "lm = smf.ols(formula='y ~ x', data = m_f_lm).fit()"
   ]
  },
  {
   "cell_type": "code",
   "execution_count": 75,
   "metadata": {
    "collapsed": false
   },
   "outputs": [
    {
     "name": "stdout",
     "output_type": "stream",
     "text": [
      "                            OLS Regression Results                            \n",
      "==============================================================================\n",
      "Dep. Variable:                      y   R-squared:                       0.200\n",
      "Model:                            OLS   Adj. R-squared:                  0.165\n",
      "Method:                 Least Squares   F-statistic:                     5.739\n",
      "Date:                Thu, 19 Oct 2017   Prob (F-statistic):             0.0251\n",
      "Time:                        19:40:47   Log-Likelihood:                -43.327\n",
      "No. Observations:                  25   AIC:                             90.65\n",
      "Df Residuals:                      23   BIC:                             93.09\n",
      "Df Model:                           1                                         \n",
      "Covariance Type:            nonrobust                                         \n",
      "==============================================================================\n",
      "                 coef    std err          t      P>|t|      [95.0% Conf. Int.]\n",
      "------------------------------------------------------------------------------\n",
      "Intercept      0.3934      0.445      0.883      0.386        -0.528     1.315\n",
      "x              0.0367      0.015      2.396      0.025         0.005     0.068\n",
      "==============================================================================\n",
      "Omnibus:                       36.550   Durbin-Watson:                   1.604\n",
      "Prob(Omnibus):                  0.000   Jarque-Bera (JB):              107.302\n",
      "Skew:                           2.704   Prob(JB):                     5.01e-24\n",
      "Kurtosis:                      11.588   Cond. No.                         45.3\n",
      "==============================================================================\n",
      "\n",
      "Warnings:\n",
      "[1] Standard Errors assume that the covariance matrix of the errors is correctly specified.\n"
     ]
    }
   ],
   "source": [
    "print(lm.summary())"
   ]
  },
  {
   "cell_type": "code",
   "execution_count": 76,
   "metadata": {
    "collapsed": false
   },
   "outputs": [
    {
     "data": {
      "text/plain": [
       "Intercept    0.393355\n",
       "x            0.036733\n",
       "dtype: float64"
      ]
     },
     "execution_count": 76,
     "metadata": {},
     "output_type": "execute_result"
    }
   ],
   "source": [
    "lm.params"
   ]
  },
  {
   "cell_type": "code",
   "execution_count": 77,
   "metadata": {
    "collapsed": false
   },
   "outputs": [
    {
     "data": {
      "text/plain": [
       "array([ 0.94435411,  1.51004689,  1.02516736,  1.52474021,  0.83415422,\n",
       "        0.62110109,  2.05737302,  1.53943353,  1.50637356,  1.21985384,\n",
       "        0.59538778,  1.50637356,  0.709261  ,  0.83048089,  0.41539462,\n",
       "        0.9553741 ,  0.53661451,  1.22352717,  1.54310686,  0.44110793,\n",
       "        0.70558767,  0.77538094,  1.55412684,  2.07206634,  3.65527146])"
      ]
     },
     "execution_count": 77,
     "metadata": {},
     "output_type": "execute_result"
    }
   ],
   "source": [
    "lm.predict(m_f_lm[['x']])"
   ]
  },
  {
   "cell_type": "code",
   "execution_count": 78,
   "metadata": {
    "collapsed": false
   },
   "outputs": [
    {
     "name": "stdout",
     "output_type": "stream",
     "text": [
      "y = 0.0367 * x +0.39, R square: 0.2\n"
     ]
    },
    {
     "data": {
      "image/png": "[encoded data removed]",
      "text/plain": [
       "<matplotlib.figure.Figure at 0x117091438>"
      ]
     },
     "metadata": {},
     "output_type": "display_data"
    }
   ],
   "source": [
    "plt.figure(figsize=(10,5))\n",
    "plt.scatter(m_f_lm.x, m_f_lm.y, label = 'y')\n",
    "plt.plot(m_f_lm.x, lm.predict(m_f_lm[['x']]), c=\"r\", label = 'OLS fit')\n",
    "plt.xlabel('Average civilian firearms per 100 people', fontsize = 15)\n",
    "plt.ylabel('Mass shootings per 10 million people', fontsize = 15)\n",
    "plt.title('Mass shootings VS firearms', fontsize = 15)\n",
    "plt.legend()\n",
    "text = 'y = ' + str(round(lm.params[1], 4)) + ' * x +' + str(round(lm.params[0],2)) + ', R square: ' + str(round(lm.rsquared,3))\n",
    "\n",
    "print(text)\n",
    "plt.show()"
   ]
  },
  {
   "cell_type": "markdown",
   "metadata": {},
   "source": [
    "## WLS \n",
    "WLS: that is the weighted square fit. The statsmodel package WLS function allows you to take the uncertainties of each data point into account when you fit your model. It takes the parameter weights, which is the inverse of your errors: weights = 1.0/df.yerror Notice that a - sqrt(0) = 0 b - 1/0 = infinity c - you cannot have weight that are infinity in your fit."
   ]
  },
  {
   "cell_type": "code",
   "execution_count": 79,
   "metadata": {
    "collapsed": true
   },
   "outputs": [],
   "source": [
    "# find a solution to solve the 1/0 problem\n",
    "weights = []\n",
    "for i in m_f_lm.y:\n",
    "    if i != 0:\n",
    "        weights.append(1/np.sqrt(i))\n",
    "    else:\n",
    "        weights.append(1/np.sqrt(min(m_f_lm.y[m_f_lm.y != 0])))"
   ]
  },
  {
   "cell_type": "code",
   "execution_count": 80,
   "metadata": {
    "collapsed": false
   },
   "outputs": [
    {
     "data": {
      "text/plain": [
       "[0.74732897709108004,\n",
       " 0.91605911381307703,\n",
       " 0.74322755600152501,\n",
       " 0.92659025464333489,\n",
       " 2.1620059435625985,\n",
       " 1.4521124612095304,\n",
       " 0.51905067190015275,\n",
       " 1.0435737955059368,\n",
       " 1.0708806989709785,\n",
       " 2.1620059435625985,\n",
       " 2.1620059435625985,\n",
       " 2.1620059435625985,\n",
       " 2.1620059435625985,\n",
       " 2.1620059435625985,\n",
       " 2.1620059435625985,\n",
       " 2.1620059435625985,\n",
       " 0.91359383754489065,\n",
       " 0.38227389831550534,\n",
       " 0.70378178436217009,\n",
       " 2.1620059435625985,\n",
       " 1.0274998783454916,\n",
       " 2.1620059435625985,\n",
       " 0.68735773073414985,\n",
       " 0.62898322712135968,\n",
       " 0.63211423626770791]"
      ]
     },
     "execution_count": 80,
     "metadata": {},
     "output_type": "execute_result"
    }
   ],
   "source": [
    "weights"
   ]
  },
  {
   "cell_type": "code",
   "execution_count": 81,
   "metadata": {
    "collapsed": false
   },
   "outputs": [],
   "source": [
    "wls = smf.WLS(m_f_lm['y'], m_f_lm['x'], weights = weights).fit()"
   ]
  },
  {
   "cell_type": "code",
   "execution_count": 82,
   "metadata": {
    "collapsed": false,
    "scrolled": false
   },
   "outputs": [
    {
     "name": "stdout",
     "output_type": "stream",
     "text": [
      "y = 0.0367 * x +0.39, R square: 0.2\n"
     ]
    },
    {
     "data": {
      "image/png": "[encoded data removed]",
      "text/plain": [
       "<matplotlib.figure.Figure at 0x1169aac50>"
      ]
     },
     "metadata": {},
     "output_type": "display_data"
    }
   ],
   "source": [
    "plt.figure(figsize=(10,5))\n",
    "plt.scatter(m_f_lm.x, m_f_lm.y, label = 'y')\n",
    "plt.plot(m_f_lm.x, lm.predict(m_f_lm[['x']]), c=\"r\", label = 'OLS fit')\n",
    "plt.plot(m_f_lm.x, wls.predict(m_f_lm[['x']]), c=\"g\", label = 'WLS fit')\n",
    "plt.errorbar(m_f_lm.x, m_f_lm.y, yerr = np.sqrt(m_f_lm.y), fmt = '.') \n",
    "\n",
    "plt.xlabel('Average civilian firearms per 100 people', fontsize = 15)\n",
    "plt.ylabel('Mass shootings per 10 million people', fontsize = 15)\n",
    "plt.title('Mass shootings VS firearms', fontsize = 15)\n",
    "plt.legend()\n",
    "text = 'y = ' + str(round(lm.params[1], 4)) + ' * x +' + str(round(lm.params[0],2)) + ', R square: ' + str(round(lm.rsquared,3))\n",
    "\n",
    "print(text)\n",
    "plt.show()"
   ]
  }
 ],
 "metadata": {
  "kernelspec": {
   "display_name": "Python 3",
   "language": "python",
   "name": "python3"
  },
  "language_info": {
   "codemirror_mode": {
    "name": "ipython",
    "version": 3
   },
   "file_extension": ".py",
   "mimetype": "text/x-python",
   "name": "python",
   "nbconvert_exporter": "python",
   "pygments_lexer": "ipython3",
   "version": "3.6.0"
  }
 },
 "nbformat": 4,
 "nbformat_minor": 2
}
