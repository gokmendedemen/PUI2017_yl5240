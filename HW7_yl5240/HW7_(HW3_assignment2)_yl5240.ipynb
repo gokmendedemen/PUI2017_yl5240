{
 "cells": [
  {
   "cell_type": "code",
   "execution_count": 1,
   "metadata": {
    "collapsed": false
   },
   "outputs": [],
   "source": [
    "import os\n",
    "import matplotlib.pylab as plt\n",
    "%matplotlib inline\n",
    "import pandas as pd\n",
    "import numpy as np\n",
    "import scipy.stats as st\n"
   ]
  },
  {
   "cell_type": "markdown",
   "metadata": {},
   "source": [
    "## DATA: citibike 201707\n",
    "### IDEA\n",
    "#### Women riders prefer longer rides than men riders\n",
    "### NULL HYPOTHESIS:\n",
    "#### the percentage of women riding more than 30 minutes is the same or lower than men\n",
    "\n",
    "_$H_0$ :  $\\frac{W{\\mathrm{trip duration > 30 minutes}}}{W{\\mathrm{trip duration}}}  <=  \\frac{M{\\mathrm{trip duration > 30 minutes}}}{M_{\\mathrm{trip duration}}}$\n",
    "\n",
    "\n",
    "_$H_1$ : $\\frac{W{\\mathrm{trip duration > 30 minutes}}}{W{\\mathrm{trip duration}}}  >  \\frac{M{\\mathrm{trip duration > 30 minutes}}}{M_{\\mathrm{trip duration}}}$\n",
    "\n",
    "significant level : \n",
    "![alpha = 0.5](https://render.githubusercontent.com/render/math?math=%5Calpha%3D0.05&mode=inline)"
   ]
  },
  {
   "cell_type": "code",
   "execution_count": 2,
   "metadata": {
    "collapsed": false
   },
   "outputs": [],
   "source": [
    "df = pd.read_csv(os.getenv(\"PUIDATA\")+'/201707-citibike-tripdata.csv')"
   ]
  },
  {
   "cell_type": "code",
   "execution_count": 3,
   "metadata": {
    "collapsed": false
   },
   "outputs": [
    {
     "data": {
      "text/html": [
       "<div>\n",
       "<table border=\"1\" class=\"dataframe\">\n",
       "  <thead>\n",
       "    <tr style=\"text-align: right;\">\n",
       "      <th></th>\n",
       "      <th>tripduration</th>\n",
       "      <th>starttime</th>\n",
       "      <th>stoptime</th>\n",
       "      <th>start station id</th>\n",
       "      <th>start station name</th>\n",
       "      <th>start station latitude</th>\n",
       "      <th>start station longitude</th>\n",
       "      <th>end station id</th>\n",
       "      <th>end station name</th>\n",
       "      <th>end station latitude</th>\n",
       "      <th>end station longitude</th>\n",
       "      <th>bikeid</th>\n",
       "      <th>usertype</th>\n",
       "      <th>birth year</th>\n",
       "      <th>gender</th>\n",
       "    </tr>\n",
       "  </thead>\n",
       "  <tbody>\n",
       "    <tr>\n",
       "      <th>0</th>\n",
       "      <td>364</td>\n",
       "      <td>2017-07-01 00:00:00</td>\n",
       "      <td>2017-07-01 00:06:05</td>\n",
       "      <td>539</td>\n",
       "      <td>Metropolitan Ave &amp; Bedford Ave</td>\n",
       "      <td>40.715348</td>\n",
       "      <td>-73.960241</td>\n",
       "      <td>3107</td>\n",
       "      <td>Bedford Ave &amp; Nassau Ave</td>\n",
       "      <td>40.723117</td>\n",
       "      <td>-73.952123</td>\n",
       "      <td>14744</td>\n",
       "      <td>Subscriber</td>\n",
       "      <td>1986.0</td>\n",
       "      <td>1</td>\n",
       "    </tr>\n",
       "    <tr>\n",
       "      <th>1</th>\n",
       "      <td>2142</td>\n",
       "      <td>2017-07-01 00:00:03</td>\n",
       "      <td>2017-07-01 00:35:46</td>\n",
       "      <td>293</td>\n",
       "      <td>Lafayette St &amp; E 8 St</td>\n",
       "      <td>40.730207</td>\n",
       "      <td>-73.991026</td>\n",
       "      <td>3425</td>\n",
       "      <td>2 Ave  &amp; E 104 St</td>\n",
       "      <td>40.789210</td>\n",
       "      <td>-73.943708</td>\n",
       "      <td>19587</td>\n",
       "      <td>Subscriber</td>\n",
       "      <td>1981.0</td>\n",
       "      <td>1</td>\n",
       "    </tr>\n",
       "    <tr>\n",
       "      <th>2</th>\n",
       "      <td>328</td>\n",
       "      <td>2017-07-01 00:00:08</td>\n",
       "      <td>2017-07-01 00:05:37</td>\n",
       "      <td>3242</td>\n",
       "      <td>Schermerhorn St &amp; Court St</td>\n",
       "      <td>40.691029</td>\n",
       "      <td>-73.991834</td>\n",
       "      <td>3397</td>\n",
       "      <td>Court St &amp; Nelson St</td>\n",
       "      <td>40.676395</td>\n",
       "      <td>-73.998699</td>\n",
       "      <td>27937</td>\n",
       "      <td>Subscriber</td>\n",
       "      <td>1984.0</td>\n",
       "      <td>2</td>\n",
       "    </tr>\n",
       "    <tr>\n",
       "      <th>3</th>\n",
       "      <td>2530</td>\n",
       "      <td>2017-07-01 00:00:11</td>\n",
       "      <td>2017-07-01 00:42:22</td>\n",
       "      <td>2002</td>\n",
       "      <td>Wythe Ave &amp; Metropolitan Ave</td>\n",
       "      <td>40.716887</td>\n",
       "      <td>-73.963198</td>\n",
       "      <td>398</td>\n",
       "      <td>Atlantic Ave &amp; Furman St</td>\n",
       "      <td>40.691652</td>\n",
       "      <td>-73.999979</td>\n",
       "      <td>26066</td>\n",
       "      <td>Subscriber</td>\n",
       "      <td>1985.0</td>\n",
       "      <td>1</td>\n",
       "    </tr>\n",
       "    <tr>\n",
       "      <th>4</th>\n",
       "      <td>2534</td>\n",
       "      <td>2017-07-01 00:00:15</td>\n",
       "      <td>2017-07-01 00:42:29</td>\n",
       "      <td>2002</td>\n",
       "      <td>Wythe Ave &amp; Metropolitan Ave</td>\n",
       "      <td>40.716887</td>\n",
       "      <td>-73.963198</td>\n",
       "      <td>398</td>\n",
       "      <td>Atlantic Ave &amp; Furman St</td>\n",
       "      <td>40.691652</td>\n",
       "      <td>-73.999979</td>\n",
       "      <td>29408</td>\n",
       "      <td>Subscriber</td>\n",
       "      <td>1982.0</td>\n",
       "      <td>2</td>\n",
       "    </tr>\n",
       "  </tbody>\n",
       "</table>\n",
       "</div>"
      ],
      "text/plain": [
       "   tripduration            starttime             stoptime  start station id  \\\n",
       "0           364  2017-07-01 00:00:00  2017-07-01 00:06:05               539   \n",
       "1          2142  2017-07-01 00:00:03  2017-07-01 00:35:46               293   \n",
       "2           328  2017-07-01 00:00:08  2017-07-01 00:05:37              3242   \n",
       "3          2530  2017-07-01 00:00:11  2017-07-01 00:42:22              2002   \n",
       "4          2534  2017-07-01 00:00:15  2017-07-01 00:42:29              2002   \n",
       "\n",
       "               start station name  start station latitude  \\\n",
       "0  Metropolitan Ave & Bedford Ave               40.715348   \n",
       "1           Lafayette St & E 8 St               40.730207   \n",
       "2      Schermerhorn St & Court St               40.691029   \n",
       "3    Wythe Ave & Metropolitan Ave               40.716887   \n",
       "4    Wythe Ave & Metropolitan Ave               40.716887   \n",
       "\n",
       "   start station longitude  end station id          end station name  \\\n",
       "0               -73.960241            3107  Bedford Ave & Nassau Ave   \n",
       "1               -73.991026            3425         2 Ave  & E 104 St   \n",
       "2               -73.991834            3397      Court St & Nelson St   \n",
       "3               -73.963198             398  Atlantic Ave & Furman St   \n",
       "4               -73.963198             398  Atlantic Ave & Furman St   \n",
       "\n",
       "   end station latitude  end station longitude  bikeid    usertype  \\\n",
       "0             40.723117             -73.952123   14744  Subscriber   \n",
       "1             40.789210             -73.943708   19587  Subscriber   \n",
       "2             40.676395             -73.998699   27937  Subscriber   \n",
       "3             40.691652             -73.999979   26066  Subscriber   \n",
       "4             40.691652             -73.999979   29408  Subscriber   \n",
       "\n",
       "   birth year  gender  \n",
       "0      1986.0       1  \n",
       "1      1981.0       1  \n",
       "2      1984.0       2  \n",
       "3      1985.0       1  \n",
       "4      1982.0       2  "
      ]
     },
     "execution_count": 3,
     "metadata": {},
     "output_type": "execute_result"
    }
   ],
   "source": [
    "df.head()"
   ]
  },
  {
   "cell_type": "code",
   "execution_count": 4,
   "metadata": {
    "collapsed": false
   },
   "outputs": [
    {
     "data": {
      "text/plain": [
       "(1735599, 15)"
      ]
     },
     "execution_count": 4,
     "metadata": {},
     "output_type": "execute_result"
    }
   ],
   "source": [
    "df.shape"
   ]
  },
  {
   "cell_type": "code",
   "execution_count": 5,
   "metadata": {
    "collapsed": false
   },
   "outputs": [
    {
     "data": {
      "text/plain": [
       "Index(['tripduration', 'starttime', 'stoptime', 'start station id',\n",
       "       'start station name', 'start station latitude',\n",
       "       'start station longitude', 'end station id', 'end station name',\n",
       "       'end station latitude', 'end station longitude', 'bikeid', 'usertype',\n",
       "       'birth year', 'gender'],\n",
       "      dtype='object')"
      ]
     },
     "execution_count": 5,
     "metadata": {},
     "output_type": "execute_result"
    }
   ],
   "source": [
    "df.columns"
   ]
  },
  {
   "cell_type": "code",
   "execution_count": 6,
   "metadata": {
    "collapsed": false
   },
   "outputs": [
    {
     "data": {
      "text/plain": [
       "1500405"
      ]
     },
     "execution_count": 6,
     "metadata": {},
     "output_type": "execute_result"
    }
   ],
   "source": [
    "sum(df['gender'].isin([1,2]))"
   ]
  },
  {
   "cell_type": "code",
   "execution_count": 7,
   "metadata": {
    "collapsed": false
   },
   "outputs": [],
   "source": [
    "df1 = df[df['gender'].isin([1,2])][['tripduration', 'gender']]"
   ]
  },
  {
   "cell_type": "code",
   "execution_count": 8,
   "metadata": {
    "collapsed": false
   },
   "outputs": [
    {
     "data": {
      "text/html": [
       "<div>\n",
       "<table border=\"1\" class=\"dataframe\">\n",
       "  <thead>\n",
       "    <tr style=\"text-align: right;\">\n",
       "      <th></th>\n",
       "      <th>tripduration</th>\n",
       "      <th>gender</th>\n",
       "    </tr>\n",
       "  </thead>\n",
       "  <tbody>\n",
       "    <tr>\n",
       "      <th>0</th>\n",
       "      <td>364</td>\n",
       "      <td>1</td>\n",
       "    </tr>\n",
       "    <tr>\n",
       "      <th>1</th>\n",
       "      <td>2142</td>\n",
       "      <td>1</td>\n",
       "    </tr>\n",
       "    <tr>\n",
       "      <th>2</th>\n",
       "      <td>328</td>\n",
       "      <td>2</td>\n",
       "    </tr>\n",
       "    <tr>\n",
       "      <th>3</th>\n",
       "      <td>2530</td>\n",
       "      <td>1</td>\n",
       "    </tr>\n",
       "    <tr>\n",
       "      <th>4</th>\n",
       "      <td>2534</td>\n",
       "      <td>2</td>\n",
       "    </tr>\n",
       "  </tbody>\n",
       "</table>\n",
       "</div>"
      ],
      "text/plain": [
       "   tripduration  gender\n",
       "0           364       1\n",
       "1          2142       1\n",
       "2           328       2\n",
       "3          2530       1\n",
       "4          2534       2"
      ]
     },
     "execution_count": 8,
     "metadata": {},
     "output_type": "execute_result"
    }
   ],
   "source": [
    "df1.head()"
   ]
  },
  {
   "cell_type": "code",
   "execution_count": 9,
   "metadata": {
    "collapsed": false
   },
   "outputs": [
    {
     "data": {
      "text/plain": [
       "(1500405, 2)"
      ]
     },
     "execution_count": 9,
     "metadata": {},
     "output_type": "execute_result"
    }
   ],
   "source": [
    "df1.shape"
   ]
  },
  {
   "cell_type": "code",
   "execution_count": 10,
   "metadata": {
    "collapsed": false
   },
   "outputs": [],
   "source": [
    "df1['trip_minutes'] = round(df1['tripduration']/60, 1)\n",
    "df1['trip_more_than_30_min'] = (df1['trip_minutes']>30).astype(int)"
   ]
  },
  {
   "cell_type": "code",
   "execution_count": 11,
   "metadata": {
    "collapsed": false
   },
   "outputs": [
    {
     "data": {
      "text/html": [
       "<div>\n",
       "<table border=\"1\" class=\"dataframe\">\n",
       "  <thead>\n",
       "    <tr style=\"text-align: right;\">\n",
       "      <th></th>\n",
       "      <th>tripduration</th>\n",
       "      <th>gender</th>\n",
       "      <th>trip_minutes</th>\n",
       "      <th>trip_more_than_30_min</th>\n",
       "    </tr>\n",
       "  </thead>\n",
       "  <tbody>\n",
       "    <tr>\n",
       "      <th>0</th>\n",
       "      <td>364</td>\n",
       "      <td>1</td>\n",
       "      <td>6.1</td>\n",
       "      <td>0</td>\n",
       "    </tr>\n",
       "    <tr>\n",
       "      <th>1</th>\n",
       "      <td>2142</td>\n",
       "      <td>1</td>\n",
       "      <td>35.7</td>\n",
       "      <td>1</td>\n",
       "    </tr>\n",
       "    <tr>\n",
       "      <th>2</th>\n",
       "      <td>328</td>\n",
       "      <td>2</td>\n",
       "      <td>5.5</td>\n",
       "      <td>0</td>\n",
       "    </tr>\n",
       "    <tr>\n",
       "      <th>3</th>\n",
       "      <td>2530</td>\n",
       "      <td>1</td>\n",
       "      <td>42.2</td>\n",
       "      <td>1</td>\n",
       "    </tr>\n",
       "    <tr>\n",
       "      <th>4</th>\n",
       "      <td>2534</td>\n",
       "      <td>2</td>\n",
       "      <td>42.2</td>\n",
       "      <td>1</td>\n",
       "    </tr>\n",
       "  </tbody>\n",
       "</table>\n",
       "</div>"
      ],
      "text/plain": [
       "   tripduration  gender  trip_minutes  trip_more_than_30_min\n",
       "0           364       1           6.1                      0\n",
       "1          2142       1          35.7                      1\n",
       "2           328       2           5.5                      0\n",
       "3          2530       1          42.2                      1\n",
       "4          2534       2          42.2                      1"
      ]
     },
     "execution_count": 11,
     "metadata": {},
     "output_type": "execute_result"
    }
   ],
   "source": [
    "df1.head()"
   ]
  },
  {
   "cell_type": "code",
   "execution_count": 12,
   "metadata": {
    "collapsed": false
   },
   "outputs": [
    {
     "data": {
      "text/plain": [
       "{'boxes': [<matplotlib.lines.Line2D at 0x10e5a3c88>],\n",
       " 'caps': [<matplotlib.lines.Line2D at 0x10e5b2fd0>,\n",
       "  <matplotlib.lines.Line2D at 0x10e5bfeb8>],\n",
       " 'fliers': [<matplotlib.lines.Line2D at 0x10e5c4f28>],\n",
       " 'means': [],\n",
       " 'medians': [<matplotlib.lines.Line2D at 0x10e5c40b8>],\n",
       " 'whiskers': [<matplotlib.lines.Line2D at 0x10cfa7780>,\n",
       "  <matplotlib.lines.Line2D at 0x10e5b2e48>]}"
      ]
     },
     "execution_count": 12,
     "metadata": {},
     "output_type": "execute_result"
    },
    {
     "data": {
      "image/png": "[encoded data removed]",
      "text/plain": [
       "<matplotlib.figure.Figure at 0x1186dc748>"
      ]
     },
     "metadata": {},
     "output_type": "display_data"
    }
   ],
   "source": [
    "plt.boxplot(df1.trip_minutes)"
   ]
  },
  {
   "cell_type": "code",
   "execution_count": 13,
   "metadata": {
    "collapsed": false
   },
   "outputs": [
    {
     "data": {
      "text/html": [
       "<div>\n",
       "<table border=\"1\" class=\"dataframe\">\n",
       "  <thead>\n",
       "    <tr style=\"text-align: right;\">\n",
       "      <th></th>\n",
       "      <th>tripduration</th>\n",
       "      <th>gender</th>\n",
       "      <th>trip_minutes</th>\n",
       "      <th>trip_more_than_30_min</th>\n",
       "    </tr>\n",
       "  </thead>\n",
       "  <tbody>\n",
       "    <tr>\n",
       "      <th>count</th>\n",
       "      <td>1.500405e+06</td>\n",
       "      <td>1.500405e+06</td>\n",
       "      <td>1.500405e+06</td>\n",
       "      <td>1.500405e+06</td>\n",
       "    </tr>\n",
       "    <tr>\n",
       "      <th>mean</th>\n",
       "      <td>9.326058e+02</td>\n",
       "      <td>1.267275e+00</td>\n",
       "      <td>1.554343e+01</td>\n",
       "      <td>7.254308e-02</td>\n",
       "    </tr>\n",
       "    <tr>\n",
       "      <th>std</th>\n",
       "      <td>8.872451e+03</td>\n",
       "      <td>4.425373e-01</td>\n",
       "      <td>1.478742e+02</td>\n",
       "      <td>2.593851e-01</td>\n",
       "    </tr>\n",
       "    <tr>\n",
       "      <th>min</th>\n",
       "      <td>6.100000e+01</td>\n",
       "      <td>1.000000e+00</td>\n",
       "      <td>1.000000e+00</td>\n",
       "      <td>0.000000e+00</td>\n",
       "    </tr>\n",
       "    <tr>\n",
       "      <th>25%</th>\n",
       "      <td>3.720000e+02</td>\n",
       "      <td>1.000000e+00</td>\n",
       "      <td>6.200000e+00</td>\n",
       "      <td>0.000000e+00</td>\n",
       "    </tr>\n",
       "    <tr>\n",
       "      <th>50%</th>\n",
       "      <td>6.160000e+02</td>\n",
       "      <td>1.000000e+00</td>\n",
       "      <td>1.030000e+01</td>\n",
       "      <td>0.000000e+00</td>\n",
       "    </tr>\n",
       "    <tr>\n",
       "      <th>75%</th>\n",
       "      <td>1.052000e+03</td>\n",
       "      <td>2.000000e+00</td>\n",
       "      <td>1.750000e+01</td>\n",
       "      <td>0.000000e+00</td>\n",
       "    </tr>\n",
       "    <tr>\n",
       "      <th>max</th>\n",
       "      <td>2.045674e+06</td>\n",
       "      <td>2.000000e+00</td>\n",
       "      <td>3.409460e+04</td>\n",
       "      <td>1.000000e+00</td>\n",
       "    </tr>\n",
       "  </tbody>\n",
       "</table>\n",
       "</div>"
      ],
      "text/plain": [
       "       tripduration        gender  trip_minutes  trip_more_than_30_min\n",
       "count  1.500405e+06  1.500405e+06  1.500405e+06           1.500405e+06\n",
       "mean   9.326058e+02  1.267275e+00  1.554343e+01           7.254308e-02\n",
       "std    8.872451e+03  4.425373e-01  1.478742e+02           2.593851e-01\n",
       "min    6.100000e+01  1.000000e+00  1.000000e+00           0.000000e+00\n",
       "25%    3.720000e+02  1.000000e+00  6.200000e+00           0.000000e+00\n",
       "50%    6.160000e+02  1.000000e+00  1.030000e+01           0.000000e+00\n",
       "75%    1.052000e+03  2.000000e+00  1.750000e+01           0.000000e+00\n",
       "max    2.045674e+06  2.000000e+00  3.409460e+04           1.000000e+00"
      ]
     },
     "execution_count": 13,
     "metadata": {},
     "output_type": "execute_result"
    }
   ],
   "source": [
    "df1.describe()"
   ]
  },
  {
   "cell_type": "code",
   "execution_count": 14,
   "metadata": {
    "collapsed": false
   },
   "outputs": [
    {
     "data": {
      "text/plain": [
       "(459, 27, 33, 48, 67, 253)"
      ]
     },
     "execution_count": 14,
     "metadata": {},
     "output_type": "execute_result"
    }
   ],
   "source": [
    "## there are significant outliers in trip duration \n",
    "## the limit time of citibike, out of which the riders will be charged extra fees, is 45 minutes\n",
    "## check the tradition definition of outlier and the quantile \n",
    "int(np.mean(df1.trip_minutes) + 3 * np.std(df1.trip_minutes)), \\\n",
    "int(df1.trip_minutes.quantile(0.9)), int(df1.trip_minutes.quantile(0.95)),\\\n",
    "int(df1.trip_minutes.quantile(0.99)), int(df1.trip_minutes.quantile(0.995)),\\\n",
    "int(df1.trip_minutes.quantile(0.999))"
   ]
  },
  {
   "cell_type": "code",
   "execution_count": 15,
   "metadata": {
    "collapsed": false
   },
   "outputs": [
    {
     "data": {
      "text/plain": [
       "(67, (1492260, 4))"
      ]
     },
     "execution_count": 15,
     "metadata": {},
     "output_type": "execute_result"
    }
   ],
   "source": [
    "## select 99.5% above as outlier. In other words, 60-120 minutes also makes sense.\n",
    "outlier = df1.trip_minutes.quantile(0.995)\n",
    "df2 = df1[(df1.trip_minutes < outlier) & (df1.trip_minutes > 1)]\n",
    "int(outlier), df2.shape"
   ]
  },
  {
   "cell_type": "code",
   "execution_count": 16,
   "metadata": {
    "collapsed": false,
    "scrolled": true
   },
   "outputs": [
    {
     "data": {
      "text/plain": [
       "{'boxes': [<matplotlib.lines.Line2D at 0x11053e1d0>],\n",
       " 'caps': [<matplotlib.lines.Line2D at 0x11eef1ba8>,\n",
       "  <matplotlib.lines.Line2D at 0x11eef1d68>],\n",
       " 'fliers': [<matplotlib.lines.Line2D at 0x11eef8dd8>],\n",
       " 'means': [],\n",
       " 'medians': [<matplotlib.lines.Line2D at 0x11eef85c0>],\n",
       " 'whiskers': [<matplotlib.lines.Line2D at 0x11053eb38>,\n",
       "  <matplotlib.lines.Line2D at 0x11053ed30>]}"
      ]
     },
     "execution_count": 16,
     "metadata": {},
     "output_type": "execute_result"
    },
    {
     "data": {
      "image/png": "[encoded data removed]",
      "text/plain": [
       "<matplotlib.figure.Figure at 0x11e30acf8>"
      ]
     },
     "metadata": {},
     "output_type": "display_data"
    }
   ],
   "source": [
    "plt.boxplot(df2.trip_minutes)"
   ]
  },
  {
   "cell_type": "code",
   "execution_count": 17,
   "metadata": {
    "collapsed": false
   },
   "outputs": [
    {
     "data": {
      "text/plain": [
       "count    1.492260e+06\n",
       "mean     1.308292e+01\n",
       "std      9.513486e+00\n",
       "min      1.100000e+00\n",
       "25%      6.200000e+00\n",
       "50%      1.020000e+01\n",
       "75%      1.740000e+01\n",
       "max      6.720000e+01\n",
       "Name: trip_minutes, dtype: float64"
      ]
     },
     "execution_count": 17,
     "metadata": {},
     "output_type": "execute_result"
    }
   ],
   "source": [
    "df2.trip_minutes.describe()"
   ]
  },
  {
   "cell_type": "code",
   "execution_count": 18,
   "metadata": {
    "collapsed": false
   },
   "outputs": [
    {
     "data": {
      "text/html": [
       "<div>\n",
       "<table border=\"1\" class=\"dataframe\">\n",
       "  <thead>\n",
       "    <tr style=\"text-align: right;\">\n",
       "      <th></th>\n",
       "      <th>trip_minutes</th>\n",
       "      <th>men</th>\n",
       "      <th>women</th>\n",
       "      <th>men_prop</th>\n",
       "      <th>women_prop</th>\n",
       "    </tr>\n",
       "  </thead>\n",
       "  <tbody>\n",
       "    <tr>\n",
       "      <th>0</th>\n",
       "      <td>(0, 10]</td>\n",
       "      <td>565838</td>\n",
       "      <td>168628</td>\n",
       "      <td>0.517243</td>\n",
       "      <td>0.423358</td>\n",
       "    </tr>\n",
       "    <tr>\n",
       "      <th>1</th>\n",
       "      <td>(10, 20]</td>\n",
       "      <td>332625</td>\n",
       "      <td>135205</td>\n",
       "      <td>0.304059</td>\n",
       "      <td>0.339446</td>\n",
       "    </tr>\n",
       "    <tr>\n",
       "      <th>2</th>\n",
       "      <td>(20, 30]</td>\n",
       "      <td>128129</td>\n",
       "      <td>60501</td>\n",
       "      <td>0.117125</td>\n",
       "      <td>0.151894</td>\n",
       "    </tr>\n",
       "    <tr>\n",
       "      <th>3</th>\n",
       "      <td>(30, 40]</td>\n",
       "      <td>49425</td>\n",
       "      <td>24518</td>\n",
       "      <td>0.045180</td>\n",
       "      <td>0.061555</td>\n",
       "    </tr>\n",
       "    <tr>\n",
       "      <th>4</th>\n",
       "      <td>(40, 50]</td>\n",
       "      <td>13721</td>\n",
       "      <td>7282</td>\n",
       "      <td>0.012543</td>\n",
       "      <td>0.018282</td>\n",
       "    </tr>\n",
       "    <tr>\n",
       "      <th>5</th>\n",
       "      <td>(50, 60]</td>\n",
       "      <td>3209</td>\n",
       "      <td>1610</td>\n",
       "      <td>0.002933</td>\n",
       "      <td>0.004042</td>\n",
       "    </tr>\n",
       "    <tr>\n",
       "      <th>6</th>\n",
       "      <td>(60, 120]</td>\n",
       "      <td>1002</td>\n",
       "      <td>567</td>\n",
       "      <td>0.000916</td>\n",
       "      <td>0.001424</td>\n",
       "    </tr>\n",
       "  </tbody>\n",
       "</table>\n",
       "</div>"
      ],
      "text/plain": [
       "  trip_minutes     men   women  men_prop  women_prop\n",
       "0      (0, 10]  565838  168628  0.517243    0.423358\n",
       "1     (10, 20]  332625  135205  0.304059    0.339446\n",
       "2     (20, 30]  128129   60501  0.117125    0.151894\n",
       "3     (30, 40]   49425   24518  0.045180    0.061555\n",
       "4     (40, 50]   13721    7282  0.012543    0.018282\n",
       "5     (50, 60]    3209    1610  0.002933    0.004042\n",
       "6    (60, 120]    1002     567  0.000916    0.001424"
      ]
     },
     "execution_count": 18,
     "metadata": {},
     "output_type": "execute_result"
    }
   ],
   "source": [
    "df2_m = df2[df2.gender == 1]\n",
    "df2_m_count = df2_m.groupby(pd.cut(df2_m.trip_minutes, [0,10,20,30,40,50,60, 120]))[['trip_minutes']].count().\\\n",
    "                                    rename(columns = {'trip_minutes':'men'})\n",
    "df2_w = df2[df2.gender == 2]\n",
    "df2_w_count = df2_w.groupby(pd.cut(df2_w.trip_minutes, [0,10,20,30,40,50,60, 120]))[['trip_minutes']].count().\\\n",
    "                                    rename(columns = {'trip_minutes':'women'})\n",
    "duration = pd.concat([df2_m_count, df2_w_count], axis =1).reset_index()\n",
    "duration['men_prop'] = duration.men/duration.men.sum()\n",
    "duration['women_prop'] = duration.women/duration.women.sum()\n",
    "duration"
   ]
  },
  {
   "cell_type": "code",
   "execution_count": 19,
   "metadata": {
    "collapsed": false
   },
   "outputs": [
    {
     "data": {
      "text/plain": [
       "<matplotlib.text.Text at 0x11891add8>"
      ]
     },
     "execution_count": 19,
     "metadata": {},
     "output_type": "execute_result"
    },
    {
     "data": {
      "image/png": "[encoded data removed]",
      "text/plain": [
       "<matplotlib.figure.Figure at 0x10e60aa20>"
      ]
     },
     "metadata": {},
     "output_type": "display_data"
    }
   ],
   "source": [
    "plt.figure(figsize = (12,6))\n",
    "plt.plot(duration.men_prop, label = 'men')\n",
    "plt.plot(duration.women_prop, label = 'women')\n",
    "plt.xticks(np.arange(7),\n",
    "           ('(0, 10]','(10, 20]','(20, 30]','(30, 40]','(40, 50]','(50, 60]','(60, 120]'))\n",
    "plt.xlabel('trip duration(minutes)', fontsize = 15)\n",
    "plt.ylabel('fraction of riders', fontsize = 15)\n",
    "plt.title('the trip duration of men and women citibike riders', fontsize = 20)"
   ]
  },
  {
   "cell_type": "markdown",
   "metadata": {},
   "source": [
    "## From above plot, we could see higher proportion of women than men ride more than 10 minutes.\n",
    "## Use 30-minute as the long-trip threshold to test my hypothesis"
   ]
  },
  {
   "cell_type": "code",
   "execution_count": 20,
   "metadata": {
    "collapsed": false
   },
   "outputs": [
    {
     "data": {
      "text/html": [
       "<div>\n",
       "<table border=\"1\" class=\"dataframe\">\n",
       "  <thead>\n",
       "    <tr style=\"text-align: right;\">\n",
       "      <th></th>\n",
       "      <th>gender</th>\n",
       "      <th>trip_more_than_30_min</th>\n",
       "      <th>n</th>\n",
       "    </tr>\n",
       "  </thead>\n",
       "  <tbody>\n",
       "    <tr>\n",
       "      <th>0</th>\n",
       "      <td>1</td>\n",
       "      <td>0</td>\n",
       "      <td>1026592</td>\n",
       "    </tr>\n",
       "    <tr>\n",
       "      <th>1</th>\n",
       "      <td>1</td>\n",
       "      <td>1</td>\n",
       "      <td>67357</td>\n",
       "    </tr>\n",
       "    <tr>\n",
       "      <th>2</th>\n",
       "      <td>2</td>\n",
       "      <td>0</td>\n",
       "      <td>364334</td>\n",
       "    </tr>\n",
       "    <tr>\n",
       "      <th>3</th>\n",
       "      <td>2</td>\n",
       "      <td>1</td>\n",
       "      <td>33977</td>\n",
       "    </tr>\n",
       "  </tbody>\n",
       "</table>\n",
       "</div>"
      ],
      "text/plain": [
       "   gender  trip_more_than_30_min        n\n",
       "0       1                      0  1026592\n",
       "1       1                      1    67357\n",
       "2       2                      0   364334\n",
       "3       2                      1    33977"
      ]
     },
     "execution_count": 20,
     "metadata": {},
     "output_type": "execute_result"
    }
   ],
   "source": [
    "df_count = df2.groupby(by = ['gender',\n",
    "                  'trip_more_than_30_min'])[['trip_minutes']].count().\\\n",
    "                                    rename(columns = {'trip_minutes':'n'}).reset_index()\n",
    "df_count"
   ]
  },
  {
   "cell_type": "code",
   "execution_count": 21,
   "metadata": {
    "collapsed": false
   },
   "outputs": [],
   "source": [
    "# gender = 2 means woman, 1 means men\n",
    "count_w = list(df_count.n[df_count.gender == 2 ])\n",
    "count_m = list(df_count.n[df_count.gender == 1 ])\n",
    "error_w = np.sqrt(count_w)\n",
    "error_m = np.sqrt(count_m)"
   ]
  },
  {
   "cell_type": "code",
   "execution_count": 22,
   "metadata": {
    "collapsed": false
   },
   "outputs": [
    {
     "data": {
      "text/html": [
       "<div>\n",
       "<table border=\"1\" class=\"dataframe\">\n",
       "  <thead>\n",
       "    <tr style=\"text-align: right;\">\n",
       "      <th></th>\n",
       "      <th>less_than_30_min</th>\n",
       "      <th>more_than_30_min</th>\n",
       "      <th>Sum</th>\n",
       "    </tr>\n",
       "  </thead>\n",
       "  <tbody>\n",
       "    <tr>\n",
       "      <th>W</th>\n",
       "      <td>364334</td>\n",
       "      <td>33977</td>\n",
       "      <td>398311</td>\n",
       "    </tr>\n",
       "    <tr>\n",
       "      <th>M</th>\n",
       "      <td>1026592</td>\n",
       "      <td>67357</td>\n",
       "      <td>1093949</td>\n",
       "    </tr>\n",
       "    <tr>\n",
       "      <th>total</th>\n",
       "      <td>1390926</td>\n",
       "      <td>101334</td>\n",
       "      <td>1492260</td>\n",
       "    </tr>\n",
       "  </tbody>\n",
       "</table>\n",
       "</div>"
      ],
      "text/plain": [
       "       less_than_30_min  more_than_30_min      Sum\n",
       "W                364334             33977   398311\n",
       "M               1026592             67357  1093949\n",
       "total           1390926            101334  1492260"
      ]
     },
     "execution_count": 22,
     "metadata": {},
     "output_type": "execute_result"
    }
   ],
   "source": [
    "Cont = pd.DataFrame([count_w, count_m, list(np.array(count_w) + np.array(count_m))], \n",
    "             columns = ['less_than_30_min', 'more_than_30_min'], index = ['W', 'M', 'total'])\n",
    "Cont['Sum'] = Cont.iloc[:,0] + Cont.iloc[:,1]\n",
    "Cont"
   ]
  },
  {
   "cell_type": "code",
   "execution_count": 23,
   "metadata": {
    "collapsed": false,
    "scrolled": true
   },
   "outputs": [
    {
     "data": {
      "text/plain": [
       "<matplotlib.text.Text at 0x118f56128>"
      ]
     },
     "execution_count": 23,
     "metadata": {},
     "output_type": "execute_result"
    },
    {
     "data": {
      "image/png": "[encoded data removed]",
      "text/plain": [
       "<matplotlib.figure.Figure at 0x118f0bcf8>"
      ]
     },
     "metadata": {},
     "output_type": "display_data"
    }
   ],
   "source": [
    "plt.figure(figsize = (6,6))\n",
    "plt.bar(np.arange(2), count_w, tick_label = ('less than 30 mins', 'more than 30 mins'), \n",
    "        yerr  = [error_w, error_w], width = 0.4,label = 'women bikers')\n",
    "plt.bar(np.arange(2), count_m, bottom = count_w,  \n",
    "        yerr  = [error_m, error_m],width = 0.4,label = 'men bikersb')\n",
    "\n",
    "plt.legend()\n",
    "plt.xlabel('trip duration', fontsize = 15)\n",
    "plt.ylabel('persons in July 2017', fontsize = 15)\n",
    "plt.title('Comparision of men and women long trip duration', fontsize = 20)\n"
   ]
  },
  {
   "cell_type": "code",
   "execution_count": 24,
   "metadata": {
    "collapsed": false
   },
   "outputs": [],
   "source": [
    "frac_w = count_w/sum(count_w)\n",
    "frac_m = count_m/sum(count_m)\n",
    "error_frac_w = error_w/sum(count_w)\n",
    "error_frac_m = error_m/sum(count_m)"
   ]
  },
  {
   "cell_type": "code",
   "execution_count": 25,
   "metadata": {
    "collapsed": false
   },
   "outputs": [
    {
     "data": {
      "text/plain": [
       "numpy.ndarray"
      ]
     },
     "execution_count": 25,
     "metadata": {},
     "output_type": "execute_result"
    }
   ],
   "source": [
    "type(frac_w)"
   ]
  },
  {
   "cell_type": "code",
   "execution_count": 26,
   "metadata": {
    "collapsed": false
   },
   "outputs": [
    {
     "data": {
      "text/html": [
       "<div>\n",
       "<table border=\"1\" class=\"dataframe\">\n",
       "  <thead>\n",
       "    <tr style=\"text-align: right;\">\n",
       "      <th></th>\n",
       "      <th>less_than_30_min</th>\n",
       "      <th>more_than_30_min</th>\n",
       "    </tr>\n",
       "  </thead>\n",
       "  <tbody>\n",
       "    <tr>\n",
       "      <th>W</th>\n",
       "      <td>0.914697</td>\n",
       "      <td>0.085303</td>\n",
       "    </tr>\n",
       "    <tr>\n",
       "      <th>M</th>\n",
       "      <td>0.938428</td>\n",
       "      <td>0.061572</td>\n",
       "    </tr>\n",
       "  </tbody>\n",
       "</table>\n",
       "</div>"
      ],
      "text/plain": [
       "   less_than_30_min  more_than_30_min\n",
       "W          0.914697          0.085303\n",
       "M          0.938428          0.061572"
      ]
     },
     "execution_count": 26,
     "metadata": {},
     "output_type": "execute_result"
    }
   ],
   "source": [
    "Frac = pd.DataFrame([frac_w, frac_m], \n",
    "             columns = ['less_than_30_min', 'more_than_30_min'], index = ['W', 'M'])\n",
    "Frac"
   ]
  },
  {
   "cell_type": "code",
   "execution_count": 27,
   "metadata": {
    "collapsed": false
   },
   "outputs": [
    {
     "data": {
      "text/plain": [
       "<matplotlib.text.Text at 0x119a54358>"
      ]
     },
     "execution_count": 27,
     "metadata": {},
     "output_type": "execute_result"
    },
    {
     "data": {
      "image/png": "[encoded data removed]",
      "text/plain": [
       "<matplotlib.figure.Figure at 0x118f48240>"
      ]
     },
     "metadata": {},
     "output_type": "display_data"
    }
   ],
   "source": [
    "plt.figure(figsize = (6,6))\n",
    "plt.bar(np.arange(2),  frac_w, yerr = [error_frac_w, error_frac_w], width = 0.4,\n",
    "        tick_label  = ('less than 30 mins', 'more than 30 mins'), label = 'women bikers')\n",
    "plt.bar(np.arange(2)+ 0.4, frac_m ,yerr = [error_frac_m, error_frac_m],  width = 0.4,\n",
    "         label = 'men bikersb')\n",
    "plt.legend()\n",
    "plt.xlabel('trip duration', fontsize = 15)\n",
    "plt.ylabel('fraction of rides in July 2017', fontsize = 15)\n",
    "plt.title('Fraction comparision of men and women long trip duration', fontsize = 20)"
   ]
  },
  {
   "cell_type": "code",
   "execution_count": 28,
   "metadata": {
    "collapsed": false
   },
   "outputs": [
    {
     "name": "stdout",
     "output_type": "stream",
     "text": [
      "Men: short duration(<=30 minutes): 0.938, long duration(>30mins):0.062,short duration error:0.0009,long duration error:0.0002\n",
      "\n",
      "Women: short duration(<=30 minutes): 0.915, long duration(>30mins):0.085,short duration error:0.0015,long duration error:0.0005\n"
     ]
    }
   ],
   "source": [
    "print('Men: short duration(<=30 minutes): {}, long duration(>30mins):{},short duration error:{},long duration error:{}'\\\n",
    "      .format(round(frac_m[0],3), round(frac_m[1],3), \n",
    "              round(error_frac_m[0],4), round(error_frac_m[1],4)))\n",
    "print('')\n",
    "print('Women: short duration(<=30 minutes): {}, long duration(>30mins):{},short duration error:{},long duration error:{}'\\\n",
    "      .format(round(frac_w[0],3), round(frac_w[1],3), \n",
    "              round(error_frac_w[0],4), round(error_frac_w[1],4)))"
   ]
  },
  {
   "cell_type": "code",
   "execution_count": 29,
   "metadata": {
    "collapsed": false
   },
   "outputs": [
    {
     "data": {
      "text/plain": [
       "<matplotlib.text.Text at 0x118ff5ef0>"
      ]
     },
     "execution_count": 29,
     "metadata": {},
     "output_type": "execute_result"
    },
    {
     "data": {
      "image/png": "[encoded data removed]",
      "text/plain": [
       "<matplotlib.figure.Figure at 0x118f69128>"
      ]
     },
     "metadata": {},
     "output_type": "display_data"
    }
   ],
   "source": [
    "fig = plt.figure(figsize = (12, 6))\n",
    "fig.add_subplot(121)\n",
    "plt.errorbar([1], [frac_m[0]], yerr=[error_frac_m[0]], fmt='o', label='men')\n",
    "plt.errorbar([2], [frac_w[0]], yerr=[error_frac_w[0]], fmt='o', label='women')\n",
    "plt.xticks(np.arange(1,3), ('men', 'women'), fontsize = 15)\n",
    "plt.xlabel('gender', fontsize = 15)\n",
    "plt.xlim(0.5,2.5)\n",
    "plt.ylabel('fraction of ride duration less than 30 minutes', fontsize = 15)\n",
    "\n",
    "fig.add_subplot(122)\n",
    "plt.errorbar([1], [frac_m[1]], yerr=[error_frac_m[1]], fmt='o', label='men')\n",
    "plt.errorbar([2], [frac_w[1]], yerr=[error_frac_w[1]], fmt='o', label='women')\n",
    "plt.xticks(np.arange(1,3), ('men', 'women'), fontsize = 15)\n",
    "plt.xlabel('gender', fontsize = 15)\n",
    "plt.xlim(0.5,2.5)\n",
    "plt.ylabel('fraction of ride duration more than 30 minutes', fontsize = 15)"
   ]
  },
  {
   "cell_type": "code",
   "execution_count": 30,
   "metadata": {
    "collapsed": false
   },
   "outputs": [
    {
     "name": "stdout",
     "output_type": "stream",
     "text": [
      "The long trip duration percentage of men and women are respectively 0.062 and 0.085, and the difference is 0.024\n",
      "There is a higher proportion of women than men riding more than 30 minutes.\n",
      "We must check the significance before we reject the Null Hypothesis\n"
     ]
    }
   ],
   "source": [
    "diff = Frac.iloc[0,1] - Frac.iloc[1,1]\n",
    "print (\"The long trip duration percentage of men and women are respectively {} and {}, and the difference is {}\".\\\n",
    "       format(round(Frac.iloc[1,1],3), round(Frac.iloc[0,1],3),round(diff,3)))\n",
    "if diff <= 0:\n",
    "    # we are done...\n",
    "    print(\"There is fewer percent of women riding for long trip duration. \\\n",
    "    In accordance with Null Hypothesis\")\n",
    "else:\n",
    "    # morework to do\n",
    "    print (\"There is a higher proportion of women than men riding more than 30 minutes.\")\n",
    "    print(\"We must check the significance before we reject the Null Hypothesis\")"
   ]
  },
  {
   "cell_type": "markdown",
   "metadata": {},
   "source": [
    "## Compare Sample's difference betweence proportions, it's approriate to adopt t test to have a check\n",
    "## And because the sample size is large enough, we could also use z statistics."
   ]
  },
  {
   "cell_type": "markdown",
   "metadata": {},
   "source": [
    "\n",
    "\n",
    "# $SE = \\sqrt{\\frac{p_1  ( 1 - p_1 )}{n_1} + \\frac{p_2  ( 1 - p_2 )}{n_2} }$"
   ]
  },
  {
   "cell_type": "code",
   "execution_count": 31,
   "metadata": {
    "collapsed": false
   },
   "outputs": [
    {
     "data": {
      "text/html": [
       "<div>\n",
       "<table border=\"1\" class=\"dataframe\">\n",
       "  <thead>\n",
       "    <tr style=\"text-align: right;\">\n",
       "      <th></th>\n",
       "      <th>less_than_30_min</th>\n",
       "      <th>more_than_30_min</th>\n",
       "    </tr>\n",
       "  </thead>\n",
       "  <tbody>\n",
       "    <tr>\n",
       "      <th>W</th>\n",
       "      <td>0.914697</td>\n",
       "      <td>0.085303</td>\n",
       "    </tr>\n",
       "    <tr>\n",
       "      <th>M</th>\n",
       "      <td>0.938428</td>\n",
       "      <td>0.061572</td>\n",
       "    </tr>\n",
       "  </tbody>\n",
       "</table>\n",
       "</div>"
      ],
      "text/plain": [
       "   less_than_30_min  more_than_30_min\n",
       "W          0.914697          0.085303\n",
       "M          0.938428          0.061572"
      ]
     },
     "execution_count": 31,
     "metadata": {},
     "output_type": "execute_result"
    }
   ],
   "source": [
    "Frac"
   ]
  },
  {
   "cell_type": "code",
   "execution_count": 32,
   "metadata": {
    "collapsed": false
   },
   "outputs": [
    {
     "data": {
      "text/html": [
       "<div>\n",
       "<table border=\"1\" class=\"dataframe\">\n",
       "  <thead>\n",
       "    <tr style=\"text-align: right;\">\n",
       "      <th></th>\n",
       "      <th>less_than_30_min</th>\n",
       "      <th>more_than_30_min</th>\n",
       "      <th>Sum</th>\n",
       "    </tr>\n",
       "  </thead>\n",
       "  <tbody>\n",
       "    <tr>\n",
       "      <th>W</th>\n",
       "      <td>364334</td>\n",
       "      <td>33977</td>\n",
       "      <td>398311</td>\n",
       "    </tr>\n",
       "    <tr>\n",
       "      <th>M</th>\n",
       "      <td>1026592</td>\n",
       "      <td>67357</td>\n",
       "      <td>1093949</td>\n",
       "    </tr>\n",
       "    <tr>\n",
       "      <th>total</th>\n",
       "      <td>1390926</td>\n",
       "      <td>101334</td>\n",
       "      <td>1492260</td>\n",
       "    </tr>\n",
       "  </tbody>\n",
       "</table>\n",
       "</div>"
      ],
      "text/plain": [
       "       less_than_30_min  more_than_30_min      Sum\n",
       "W                364334             33977   398311\n",
       "M               1026592             67357  1093949\n",
       "total           1390926            101334  1492260"
      ]
     },
     "execution_count": 32,
     "metadata": {},
     "output_type": "execute_result"
    }
   ],
   "source": [
    "Cont"
   ]
  },
  {
   "cell_type": "code",
   "execution_count": 33,
   "metadata": {
    "collapsed": false
   },
   "outputs": [
    {
     "data": {
      "text/plain": [
       "(0.085302690611105389, 0.061572340209644146, 398311, 1093949)"
      ]
     },
     "execution_count": 33,
     "metadata": {},
     "output_type": "execute_result"
    }
   ],
   "source": [
    "p1 = Frac.iloc[0,1]\n",
    "p2 = Frac.iloc[1,1]\n",
    "n1 = Cont.iloc[0,2]\n",
    "n2 = Cont.iloc[1,2]\n",
    "p1, p2, n1, n2"
   ]
  },
  {
   "cell_type": "code",
   "execution_count": 34,
   "metadata": {
    "collapsed": false
   },
   "outputs": [
    {
     "data": {
      "text/plain": [
       "0.00049870974926674463"
      ]
     },
     "execution_count": 34,
     "metadata": {},
     "output_type": "execute_result"
    }
   ],
   "source": [
    "def standard_error(p1,p2,n1,n2):\n",
    "    standard_error = np.sqrt(p1*(1-p1)/n1 + p2*(1-p2)/n2)\n",
    "    return standard_error\n",
    "SE = standard_error(p1,p2,n1,n2)\n",
    "SE"
   ]
  },
  {
   "cell_type": "markdown",
   "metadata": {},
   "source": [
    "## We could calculate the Z score or use the confidence interval to make a comparision"
   ]
  },
  {
   "cell_type": "code",
   "execution_count": 35,
   "metadata": {
    "collapsed": false
   },
   "outputs": [
    {
     "data": {
      "text/plain": [
       "47.583490068826791"
      ]
     },
     "execution_count": 35,
     "metadata": {},
     "output_type": "execute_result"
    }
   ],
   "source": [
    "zscore = (p1 - p2)/SE\n",
    "zscore"
   ]
  },
  {
   "cell_type": "code",
   "execution_count": 36,
   "metadata": {
    "collapsed": false
   },
   "outputs": [
    {
     "data": {
      "text/plain": [
       "(0.084325236670994466, 0.086280144551216312)"
      ]
     },
     "execution_count": 36,
     "metadata": {},
     "output_type": "execute_result"
    }
   ],
   "source": [
    "st.t.interval(0.95, df = len(df2)-2, loc = p1, scale = SE)"
   ]
  },
  {
   "cell_type": "code",
   "execution_count": 37,
   "metadata": {
    "collapsed": false
   },
   "outputs": [
    {
     "data": {
      "text/plain": [
       "True"
      ]
     },
     "execution_count": 37,
     "metadata": {},
     "output_type": "execute_result"
    }
   ],
   "source": [
    "p2 < st.t.interval(0.95, df = len(df2)-2, loc = p1, scale = SE)[0]"
   ]
  },
  {
   "cell_type": "code",
   "execution_count": 38,
   "metadata": {
    "collapsed": false
   },
   "outputs": [
    {
     "name": "stdout",
     "output_type": "stream",
     "text": [
      "The proportion of men riding over 30 minutes is smaller than that of women at the significant level 0.05.\n",
      "So we reject the null hypothesis that women has fewer percentage of longer trip duration\n"
     ]
    }
   ],
   "source": [
    "## p2 smaller than the lower bound of p1 interval at significant level 0.05, \n",
    "## means the probablity  of p2 being smaller than p1 is 95%\n",
    "if p2 < st.t.interval(0.95, df = len(df2)-2, loc = p1, scale = SE)[0]:\n",
    "    print('The proportion of men riding over 30 minutes is smaller than that of women at the significant level 0.05.')\n",
    "    print('So we reject the null hypothesis that women has fewer percentage of longer trip duration')\n",
    "else:\n",
    "    print('We cannot reject the null hypothesis that women has fewer percentage of longer trip duration.\\\n",
    "    The hypothesis that women riders prefer longer rides than men riders has not been proved')"
   ]
  },
  {
   "cell_type": "markdown",
   "metadata": {},
   "source": [
    "\n",
    "## We reject the null hypothesis at alpha = 0.05\n",
    "## Women probably prefer long trip duration "
   ]
  },
  {
   "cell_type": "code",
   "execution_count": null,
   "metadata": {
    "collapsed": true
   },
   "outputs": [],
   "source": []
  },
  {
   "cell_type": "markdown",
   "metadata": {},
   "source": [
    "## Above result is based on Jul.2017 sample. We could have a recheck by selecting a winter month sample, like Dec.2016 . "
   ]
  },
  {
   "cell_type": "code",
   "execution_count": 39,
   "metadata": {
    "collapsed": true
   },
   "outputs": [],
   "source": [
    "df_ = pd.read_csv(os.getenv(\"PUIDATA\")+'/201612-citibike-tripdata.csv')"
   ]
  },
  {
   "cell_type": "code",
   "execution_count": 40,
   "metadata": {
    "collapsed": false
   },
   "outputs": [
    {
     "data": {
      "text/plain": [
       "Index(['Trip Duration', 'Start Time', 'Stop Time', 'Start Station ID',\n",
       "       'Start Station Name', 'Start Station Latitude',\n",
       "       'Start Station Longitude', 'End Station ID', 'End Station Name',\n",
       "       'End Station Latitude', 'End Station Longitude', 'Bike ID', 'User Type',\n",
       "       'Birth Year', 'Gender'],\n",
       "      dtype='object')"
      ]
     },
     "execution_count": 40,
     "metadata": {},
     "output_type": "execute_result"
    }
   ],
   "source": [
    "df_.columns"
   ]
  },
  {
   "cell_type": "code",
   "execution_count": 41,
   "metadata": {
    "collapsed": false
   },
   "outputs": [
    {
     "data": {
      "text/html": [
       "<div>\n",
       "<table border=\"1\" class=\"dataframe\">\n",
       "  <thead>\n",
       "    <tr style=\"text-align: right;\">\n",
       "      <th></th>\n",
       "      <th>gender</th>\n",
       "      <th>trip_more_than_30_min</th>\n",
       "      <th>n</th>\n",
       "    </tr>\n",
       "  </thead>\n",
       "  <tbody>\n",
       "    <tr>\n",
       "      <th>0</th>\n",
       "      <td>1</td>\n",
       "      <td>0</td>\n",
       "      <td>576408</td>\n",
       "    </tr>\n",
       "    <tr>\n",
       "      <th>1</th>\n",
       "      <td>1</td>\n",
       "      <td>1</td>\n",
       "      <td>19020</td>\n",
       "    </tr>\n",
       "    <tr>\n",
       "      <th>2</th>\n",
       "      <td>2</td>\n",
       "      <td>0</td>\n",
       "      <td>165464</td>\n",
       "    </tr>\n",
       "    <tr>\n",
       "      <th>3</th>\n",
       "      <td>2</td>\n",
       "      <td>1</td>\n",
       "      <td>7271</td>\n",
       "    </tr>\n",
       "  </tbody>\n",
       "</table>\n",
       "</div>"
      ],
      "text/plain": [
       "   gender  trip_more_than_30_min       n\n",
       "0       1                      0  576408\n",
       "1       1                      1   19020\n",
       "2       2                      0  165464\n",
       "3       2                      1    7271"
      ]
     },
     "execution_count": 41,
     "metadata": {},
     "output_type": "execute_result"
    }
   ],
   "source": [
    "df1_ = df_[df_['Gender'].isin([1,2])][['Trip Duration','Gender']]\n",
    "df1_.columns = ['tripduration', 'gender']\n",
    "df1_['trip_minutes'] = round(df1_['tripduration']/60, 1)\n",
    "df1_['trip_more_than_30_min'] = (df1_['trip_minutes']>30).astype(int)\n",
    "df2_ = df1_[(df1_.trip_minutes < outlier) & (df1_.trip_minutes > 1)]\n",
    "df_count_ = df2_.groupby(by = ['gender',\n",
    "                  'trip_more_than_30_min'])[['trip_minutes']].count().\\\n",
    "                                    rename(columns = {'trip_minutes':'n'}).reset_index()\n",
    "df_count_\n"
   ]
  },
  {
   "cell_type": "code",
   "execution_count": 42,
   "metadata": {
    "collapsed": false
   },
   "outputs": [],
   "source": [
    "count_w_ = list(df_count_.n[df_count_.gender == 2 ])\n",
    "count_m_ = list(df_count_.n[df_count_.gender == 1 ])\n",
    "frac_w_ = list(count_w_/sum(count_w_))\n",
    "frac_m_ = list(count_m_/sum(count_m_))"
   ]
  },
  {
   "cell_type": "code",
   "execution_count": 43,
   "metadata": {
    "collapsed": false
   },
   "outputs": [
    {
     "data": {
      "text/html": [
       "<div>\n",
       "<table border=\"1\" class=\"dataframe\">\n",
       "  <thead>\n",
       "    <tr style=\"text-align: right;\">\n",
       "      <th></th>\n",
       "      <th>less_than_30_min</th>\n",
       "      <th>more_than_30_min</th>\n",
       "      <th>Sum</th>\n",
       "    </tr>\n",
       "  </thead>\n",
       "  <tbody>\n",
       "    <tr>\n",
       "      <th>W</th>\n",
       "      <td>165464</td>\n",
       "      <td>7271</td>\n",
       "      <td>172735</td>\n",
       "    </tr>\n",
       "    <tr>\n",
       "      <th>M</th>\n",
       "      <td>576408</td>\n",
       "      <td>19020</td>\n",
       "      <td>595428</td>\n",
       "    </tr>\n",
       "    <tr>\n",
       "      <th>total</th>\n",
       "      <td>741872</td>\n",
       "      <td>26291</td>\n",
       "      <td>768163</td>\n",
       "    </tr>\n",
       "  </tbody>\n",
       "</table>\n",
       "</div>"
      ],
      "text/plain": [
       "       less_than_30_min  more_than_30_min     Sum\n",
       "W                165464              7271  172735\n",
       "M                576408             19020  595428\n",
       "total            741872             26291  768163"
      ]
     },
     "execution_count": 43,
     "metadata": {},
     "output_type": "execute_result"
    }
   ],
   "source": [
    "Cont_ = pd.DataFrame([count_w_, count_m_, list(np.array(count_w_) + np.array(count_m_))], \n",
    "             columns = ['less_than_30_min', 'more_than_30_min'], index = ['W', 'M', 'total'])\n",
    "Cont_['Sum'] = Cont_.iloc[:,0] + Cont_.iloc[:,1]\n",
    "Cont_"
   ]
  },
  {
   "cell_type": "code",
   "execution_count": 44,
   "metadata": {
    "collapsed": false
   },
   "outputs": [
    {
     "data": {
      "text/html": [
       "<div>\n",
       "<table border=\"1\" class=\"dataframe\">\n",
       "  <thead>\n",
       "    <tr style=\"text-align: right;\">\n",
       "      <th></th>\n",
       "      <th>less_than_30_min</th>\n",
       "      <th>more_than_30_min</th>\n",
       "    </tr>\n",
       "  </thead>\n",
       "  <tbody>\n",
       "    <tr>\n",
       "      <th>W</th>\n",
       "      <td>0.957907</td>\n",
       "      <td>0.042093</td>\n",
       "    </tr>\n",
       "    <tr>\n",
       "      <th>M</th>\n",
       "      <td>0.968057</td>\n",
       "      <td>0.031943</td>\n",
       "    </tr>\n",
       "  </tbody>\n",
       "</table>\n",
       "</div>"
      ],
      "text/plain": [
       "   less_than_30_min  more_than_30_min\n",
       "W          0.957907          0.042093\n",
       "M          0.968057          0.031943"
      ]
     },
     "execution_count": 44,
     "metadata": {},
     "output_type": "execute_result"
    }
   ],
   "source": [
    "Frac_ = pd.DataFrame([frac_w_, frac_m_], \n",
    "             columns = ['less_than_30_min', 'more_than_30_min'], index = ['W', 'M'])\n",
    "Frac_"
   ]
  },
  {
   "cell_type": "code",
   "execution_count": 45,
   "metadata": {
    "collapsed": false
   },
   "outputs": [
    {
     "name": "stdout",
     "output_type": "stream",
     "text": [
      "The long trip duration percentage of men and women are respectively 0.032 and 0.042, and the difference is 0.01\n",
      "There is a higher proportion of women than men riding more than 30 minutes.\n",
      "We must check the significance before we reject the Null Hypothesis\n"
     ]
    }
   ],
   "source": [
    "diff_ = Frac_.iloc[0,1] - Frac_.iloc[1,1]\n",
    "print (\"The long trip duration percentage of men and women are respectively {} and {}, and the difference is {}\".\\\n",
    "       format(round(Frac_.iloc[1,1],3), round(Frac_.iloc[0,1],3),round(diff_,3)))\n",
    "if diff_ <= 0:\n",
    "    # we are done...\n",
    "    print(\"There is fewer percent of women riding for long trip duration. \\\n",
    "    In accordance with Null Hypothesis\")\n",
    "else:\n",
    "    # morework to do\n",
    "    print (\"There is a higher proportion of women than men riding more than 30 minutes.\")\n",
    "    print(\"We must check the significance before we reject the Null Hypothesis\")"
   ]
  },
  {
   "cell_type": "markdown",
   "metadata": {},
   "source": [
    "## t test"
   ]
  },
  {
   "cell_type": "code",
   "execution_count": 46,
   "metadata": {
    "collapsed": false
   },
   "outputs": [
    {
     "data": {
      "text/plain": [
       "(0.042093380032998527,\n",
       " 0.031943408774864464,\n",
       " 172735,\n",
       " 595428,\n",
       " 0.00049870974926674463)"
      ]
     },
     "execution_count": 46,
     "metadata": {},
     "output_type": "execute_result"
    }
   ],
   "source": [
    "p1_ = Frac_.iloc[0,1]\n",
    "p2_ = Frac_.iloc[1,1]\n",
    "n1_ = Cont_.iloc[0,2]\n",
    "n2_ = Cont_.iloc[1,2]\n",
    "SE_ = standard_error(p1,p2,n1,n2)\n",
    "\n",
    "p1_, p2_, n1_, n2_, SE_"
   ]
  },
  {
   "cell_type": "code",
   "execution_count": 47,
   "metadata": {
    "collapsed": false
   },
   "outputs": [
    {
     "data": {
      "text/plain": [
       "20.352462074498476"
      ]
     },
     "execution_count": 47,
     "metadata": {},
     "output_type": "execute_result"
    }
   ],
   "source": [
    "zscore_ = (p1_ - p2_)/SE_\n",
    "zscore_"
   ]
  },
  {
   "cell_type": "code",
   "execution_count": 48,
   "metadata": {
    "collapsed": false
   },
   "outputs": [
    {
     "name": "stdout",
     "output_type": "stream",
     "text": [
      "The proportion of men riding over 30 minutes is smaller than that of women at the significant level 0.05.\n",
      "So we reject the null hypothesis that women has fewer percentage of longer trip duration\n"
     ]
    }
   ],
   "source": [
    "if p2 < st.t.interval(0.95, df = len(df2)-2, loc = p1, scale = SE)[0]:\n",
    "    print('The proportion of men riding over 30 minutes is smaller than that of women at the significant level 0.05.')\n",
    "    print('So we reject the null hypothesis that women has fewer percentage of longer trip duration')\n",
    "else:\n",
    "    print('We cannot reject the null hypothesis that women has fewer percentage of longer trip duration.\\\n",
    "    The hypothesis that women riders prefer longer rides than men riders has not been proved')"
   ]
  },
  {
   "cell_type": "markdown",
   "metadata": {},
   "source": [
    "## Conclusion: \n",
    "## Both the summer and winter sample prove that women riders prefer longer rides than men at significant level 0.05. My hypothesis is robust to seasonality"
   ]
  },
  {
   "cell_type": "code",
   "execution_count": null,
   "metadata": {
    "collapsed": true
   },
   "outputs": [],
   "source": []
  }
 ],
 "metadata": {
  "kernelspec": {
   "display_name": "Python 3",
   "language": "python",
   "name": "python3"
  },
  "language_info": {
   "codemirror_mode": {
    "name": "ipython",
    "version": 3
   },
   "file_extension": ".py",
   "mimetype": "text/x-python",
   "name": "python",
   "nbconvert_exporter": "python",
   "pygments_lexer": "ipython3",
   "version": "3.6.0"
  }
 },
 "nbformat": 4,
 "nbformat_minor": 0
}
