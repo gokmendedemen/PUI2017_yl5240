{
 "cells": [
  {
   "cell_type": "code",
   "execution_count": 1,
   "metadata": {
    "collapsed": false
   },
   "outputs": [],
   "source": [
    "import pandas as pd\n",
    "import numpy as np\n",
    "import matplotlib.pylab as plt\n",
    "%matplotlib inline\n",
    "import geopandas as gp\n",
    "import os\n",
    "import json\n",
    "import urllib.request as urllib\n",
    "\n"
   ]
  },
  {
   "cell_type": "code",
   "execution_count": 2,
   "metadata": {
    "collapsed": false
   },
   "outputs": [
    {
     "data": {
      "text/plain": [
       "list"
      ]
     },
     "execution_count": 2,
     "metadata": {},
     "output_type": "execute_result"
    }
   ],
   "source": [
    "api = 'https://data.cityofnewyork.us/resource/m46j-75iy.json'\n",
    "data = json.loads(urllib.urlopen(api).read())\n",
    "type(data)"
   ]
  },
  {
   "cell_type": "code",
   "execution_count": 3,
   "metadata": {
    "collapsed": false
   },
   "outputs": [],
   "source": [
    "nrg = gp.GeoDataFrame(data)"
   ]
  },
  {
   "cell_type": "code",
   "execution_count": 4,
   "metadata": {
    "collapsed": false
   },
   "outputs": [
    {
     "name": "stdout",
     "output_type": "stream",
     "text": [
      "<class 'geopandas.geodataframe.GeoDataFrame'> (1000, 32)\n"
     ]
    }
   ],
   "source": [
    "print(type(nrg), nrg.shape)"
   ]
  },
  {
   "cell_type": "code",
   "execution_count": 5,
   "metadata": {
    "collapsed": false
   },
   "outputs": [],
   "source": [
    "bsize = gp.GeoDataFrame.from_file(os.getenv(\"PUIDATA\") + \"/Manhattan/MNMapPLUTO.shp\")"
   ]
  },
  {
   "cell_type": "code",
   "execution_count": 6,
   "metadata": {
    "collapsed": false
   },
   "outputs": [
    {
     "data": {
      "text/html": [
       "<div>\n",
       "<table border=\"1\" class=\"dataframe\">\n",
       "  <thead>\n",
       "    <tr style=\"text-align: right;\">\n",
       "      <th></th>\n",
       "      <th>Borough</th>\n",
       "      <th>Block</th>\n",
       "      <th>Lot</th>\n",
       "      <th>CD</th>\n",
       "      <th>CT2010</th>\n",
       "      <th>CB2010</th>\n",
       "      <th>SchoolDist</th>\n",
       "      <th>Council</th>\n",
       "      <th>ZipCode</th>\n",
       "      <th>FireComp</th>\n",
       "      <th>...</th>\n",
       "      <th>TaxMap</th>\n",
       "      <th>EDesigNum</th>\n",
       "      <th>APPBBL</th>\n",
       "      <th>APPDate</th>\n",
       "      <th>PLUTOMapID</th>\n",
       "      <th>Version</th>\n",
       "      <th>MAPPLUTO_F</th>\n",
       "      <th>SHAPE_Leng</th>\n",
       "      <th>SHAPE_Area</th>\n",
       "      <th>geometry</th>\n",
       "    </tr>\n",
       "  </thead>\n",
       "  <tbody>\n",
       "    <tr>\n",
       "      <th>0</th>\n",
       "      <td>MN</td>\n",
       "      <td>1</td>\n",
       "      <td>201</td>\n",
       "      <td>101</td>\n",
       "      <td>1</td>\n",
       "      <td>1000</td>\n",
       "      <td>02</td>\n",
       "      <td>1</td>\n",
       "      <td>10004</td>\n",
       "      <td>E007</td>\n",
       "      <td>...</td>\n",
       "      <td>10101</td>\n",
       "      <td></td>\n",
       "      <td>0.000000e+00</td>\n",
       "      <td></td>\n",
       "      <td>1</td>\n",
       "      <td>16V2</td>\n",
       "      <td>0</td>\n",
       "      <td>6306.265838</td>\n",
       "      <td>1.148541e+06</td>\n",
       "      <td>POLYGON ((973154.7117999941 194614.3315999955,...</td>\n",
       "    </tr>\n",
       "    <tr>\n",
       "      <th>1</th>\n",
       "      <td>MN</td>\n",
       "      <td>9</td>\n",
       "      <td>14</td>\n",
       "      <td>101</td>\n",
       "      <td>9</td>\n",
       "      <td>1013</td>\n",
       "      <td>02</td>\n",
       "      <td>1</td>\n",
       "      <td>10004</td>\n",
       "      <td>L015</td>\n",
       "      <td>...</td>\n",
       "      <td>10101</td>\n",
       "      <td></td>\n",
       "      <td>1.000090e+09</td>\n",
       "      <td>12/26/1985</td>\n",
       "      <td>1</td>\n",
       "      <td>16V2</td>\n",
       "      <td>0</td>\n",
       "      <td>686.230174</td>\n",
       "      <td>2.373306e+04</td>\n",
       "      <td>POLYGON ((980492.3622000068 195423.9451999962,...</td>\n",
       "    </tr>\n",
       "    <tr>\n",
       "      <th>2</th>\n",
       "      <td>MN</td>\n",
       "      <td>15</td>\n",
       "      <td>7501</td>\n",
       "      <td>101</td>\n",
       "      <td>13</td>\n",
       "      <td>2005</td>\n",
       "      <td>02</td>\n",
       "      <td>1</td>\n",
       "      <td>10004</td>\n",
       "      <td>E010</td>\n",
       "      <td>...</td>\n",
       "      <td>10101</td>\n",
       "      <td></td>\n",
       "      <td>1.000150e+09</td>\n",
       "      <td>12/29/1998</td>\n",
       "      <td>1</td>\n",
       "      <td>16V2</td>\n",
       "      <td>7</td>\n",
       "      <td>1098.925676</td>\n",
       "      <td>6.753824e+04</td>\n",
       "      <td>POLYGON ((979999.0820000023 196493.2800000012,...</td>\n",
       "    </tr>\n",
       "    <tr>\n",
       "      <th>3</th>\n",
       "      <td>MN</td>\n",
       "      <td>13</td>\n",
       "      <td>5</td>\n",
       "      <td>101</td>\n",
       "      <td>13</td>\n",
       "      <td>2008</td>\n",
       "      <td>02</td>\n",
       "      <td>1</td>\n",
       "      <td>10004</td>\n",
       "      <td>E010</td>\n",
       "      <td>...</td>\n",
       "      <td>10101</td>\n",
       "      <td></td>\n",
       "      <td>0.000000e+00</td>\n",
       "      <td></td>\n",
       "      <td>1</td>\n",
       "      <td>16V2</td>\n",
       "      <td>0</td>\n",
       "      <td>709.632239</td>\n",
       "      <td>3.068607e+04</td>\n",
       "      <td>POLYGON ((980424.4003999978 196274.334800005, ...</td>\n",
       "    </tr>\n",
       "    <tr>\n",
       "      <th>4</th>\n",
       "      <td>MN</td>\n",
       "      <td>1</td>\n",
       "      <td>10</td>\n",
       "      <td>101</td>\n",
       "      <td>5</td>\n",
       "      <td>1018</td>\n",
       "      <td>02</td>\n",
       "      <td>1</td>\n",
       "      <td>10004</td>\n",
       "      <td>E007</td>\n",
       "      <td>...</td>\n",
       "      <td>10101</td>\n",
       "      <td></td>\n",
       "      <td>0.000000e+00</td>\n",
       "      <td></td>\n",
       "      <td>1</td>\n",
       "      <td>16V2</td>\n",
       "      <td>0</td>\n",
       "      <td>12277.830569</td>\n",
       "      <td>7.550344e+06</td>\n",
       "      <td>POLYGON ((979561.8711999953 191884.2495999932,...</td>\n",
       "    </tr>\n",
       "  </tbody>\n",
       "</table>\n",
       "<p>5 rows × 88 columns</p>\n",
       "</div>"
      ],
      "text/plain": [
       "  Borough  Block   Lot   CD CT2010 CB2010 SchoolDist  Council  ZipCode  \\\n",
       "0      MN      1   201  101      1   1000         02        1    10004   \n",
       "1      MN      9    14  101      9   1013         02        1    10004   \n",
       "2      MN     15  7501  101     13   2005         02        1    10004   \n",
       "3      MN     13     5  101     13   2008         02        1    10004   \n",
       "4      MN      1    10  101      5   1018         02        1    10004   \n",
       "\n",
       "  FireComp                        ...                          TaxMap  \\\n",
       "0     E007                        ...                           10101   \n",
       "1     L015                        ...                           10101   \n",
       "2     E010                        ...                           10101   \n",
       "3     E010                        ...                           10101   \n",
       "4     E007                        ...                           10101   \n",
       "\n",
       "   EDesigNum        APPBBL     APPDate PLUTOMapID Version MAPPLUTO_F  \\\n",
       "0             0.000000e+00                      1    16V2          0   \n",
       "1             1.000090e+09  12/26/1985          1    16V2          0   \n",
       "2             1.000150e+09  12/29/1998          1    16V2          7   \n",
       "3             0.000000e+00                      1    16V2          0   \n",
       "4             0.000000e+00                      1    16V2          0   \n",
       "\n",
       "     SHAPE_Leng    SHAPE_Area  \\\n",
       "0   6306.265838  1.148541e+06   \n",
       "1    686.230174  2.373306e+04   \n",
       "2   1098.925676  6.753824e+04   \n",
       "3    709.632239  3.068607e+04   \n",
       "4  12277.830569  7.550344e+06   \n",
       "\n",
       "                                            geometry  \n",
       "0  POLYGON ((973154.7117999941 194614.3315999955,...  \n",
       "1  POLYGON ((980492.3622000068 195423.9451999962,...  \n",
       "2  POLYGON ((979999.0820000023 196493.2800000012,...  \n",
       "3  POLYGON ((980424.4003999978 196274.334800005, ...  \n",
       "4  POLYGON ((979561.8711999953 191884.2495999932,...  \n",
       "\n",
       "[5 rows x 88 columns]"
      ]
     },
     "execution_count": 6,
     "metadata": {},
     "output_type": "execute_result"
    }
   ],
   "source": [
    "bsize.head()"
   ]
  },
  {
   "cell_type": "code",
   "execution_count": 7,
   "metadata": {
    "collapsed": false
   },
   "outputs": [
    {
     "data": {
      "text/plain": [
       "Index(['Borough', 'Block', 'Lot', 'CD', 'CT2010', 'CB2010', 'SchoolDist',\n",
       "       'Council', 'ZipCode', 'FireComp', 'PolicePrct', 'HealthArea',\n",
       "       'SanitBoro', 'SanitDistr', 'SanitSub', 'Address', 'ZoneDist1',\n",
       "       'ZoneDist2', 'ZoneDist3', 'ZoneDist4', 'Overlay1', 'Overlay2',\n",
       "       'SPDist1', 'SPDist2', 'SPDist3', 'LtdHeight', 'SplitZone', 'BldgClass',\n",
       "       'LandUse', 'Easements', 'OwnerType', 'OwnerName', 'LotArea', 'BldgArea',\n",
       "       'ComArea', 'ResArea', 'OfficeArea', 'RetailArea', 'GarageArea',\n",
       "       'StrgeArea', 'FactryArea', 'OtherArea', 'AreaSource', 'NumBldgs',\n",
       "       'NumFloors', 'UnitsRes', 'UnitsTotal', 'LotFront', 'LotDepth',\n",
       "       'BldgFront', 'BldgDepth', 'Ext', 'ProxCode', 'IrrLotCode', 'LotType',\n",
       "       'BsmtCode', 'AssessLand', 'AssessTot', 'ExemptLand', 'ExemptTot',\n",
       "       'YearBuilt', 'YearAlter1', 'YearAlter2', 'HistDist', 'Landmark',\n",
       "       'BuiltFAR', 'ResidFAR', 'CommFAR', 'FacilFAR', 'BoroCode', 'BBL',\n",
       "       'CondoNo', 'Tract2010', 'XCoord', 'YCoord', 'ZoneMap', 'ZMCode',\n",
       "       'Sanborn', 'TaxMap', 'EDesigNum', 'APPBBL', 'APPDate', 'PLUTOMapID',\n",
       "       'Version', 'MAPPLUTO_F', 'SHAPE_Leng', 'SHAPE_Area', 'geometry'],\n",
       "      dtype='object')"
      ]
     },
     "execution_count": 7,
     "metadata": {},
     "output_type": "execute_result"
    }
   ],
   "source": [
    "bsize.columns"
   ]
  },
  {
   "cell_type": "code",
   "execution_count": 8,
   "metadata": {
    "collapsed": false
   },
   "outputs": [
    {
     "data": {
      "text/html": [
       "<div>\n",
       "<table border=\"1\" class=\"dataframe\">\n",
       "  <thead>\n",
       "    <tr style=\"text-align: right;\">\n",
       "      <th></th>\n",
       "      <th>automatic_water_benchmarking_eligible</th>\n",
       "      <th>bbls_co_reported</th>\n",
       "      <th>bin</th>\n",
       "      <th>borough</th>\n",
       "      <th>census_tract</th>\n",
       "      <th>co_reported_bbl_status</th>\n",
       "      <th>community_board</th>\n",
       "      <th>community_council</th>\n",
       "      <th>direct_ghg_emissions_mtco2e</th>\n",
       "      <th>dof_benchmarking_submission_status</th>\n",
       "      <th>...</th>\n",
       "      <th>reported_property_floor_area_building_s_ft</th>\n",
       "      <th>reported_water_method</th>\n",
       "      <th>site_eui_kbtu_ft2</th>\n",
       "      <th>source_eui_kbtu_ft2</th>\n",
       "      <th>street_name</th>\n",
       "      <th>street_number</th>\n",
       "      <th>total_ghg_emissions_mtco2e</th>\n",
       "      <th>weather_normalized_site_eui_kbtu_ft2</th>\n",
       "      <th>weather_normalized_source_eui_kbtu_ft2</th>\n",
       "      <th>zip_code</th>\n",
       "    </tr>\n",
       "  </thead>\n",
       "  <tbody>\n",
       "    <tr>\n",
       "      <th>0</th>\n",
       "      <td>N/A</td>\n",
       "      <td>1000410001</td>\n",
       "      <td>NaN</td>\n",
       "      <td>Manhattan</td>\n",
       "      <td>NaN</td>\n",
       "      <td>NaN</td>\n",
       "      <td>NaN</td>\n",
       "      <td>NaN</td>\n",
       "      <td>NaN</td>\n",
       "      <td>BBL not valid</td>\n",
       "      <td>...</td>\n",
       "      <td>918919</td>\n",
       "      <td>N/A</td>\n",
       "      <td>NaN</td>\n",
       "      <td>NaN</td>\n",
       "      <td>NaN</td>\n",
       "      <td>NaN</td>\n",
       "      <td>NaN</td>\n",
       "      <td>Not Available</td>\n",
       "      <td>Not Available</td>\n",
       "      <td>NaN</td>\n",
       "    </tr>\n",
       "    <tr>\n",
       "      <th>1</th>\n",
       "      <td>Yes</td>\n",
       "      <td>NaN</td>\n",
       "      <td>NaN</td>\n",
       "      <td>Queens</td>\n",
       "      <td>NaN</td>\n",
       "      <td>NaN</td>\n",
       "      <td>NaN</td>\n",
       "      <td>NaN</td>\n",
       "      <td>NaN</td>\n",
       "      <td>No Submission Matched to BBL</td>\n",
       "      <td>...</td>\n",
       "      <td>#N/A</td>\n",
       "      <td>None</td>\n",
       "      <td>NaN</td>\n",
       "      <td>NaN</td>\n",
       "      <td>108 STREET</td>\n",
       "      <td>63-10</td>\n",
       "      <td>NaN</td>\n",
       "      <td>NaN</td>\n",
       "      <td>NaN</td>\n",
       "      <td>11375</td>\n",
       "    </tr>\n",
       "    <tr>\n",
       "      <th>2</th>\n",
       "      <td>N/A</td>\n",
       "      <td>2027620097</td>\n",
       "      <td>NaN</td>\n",
       "      <td>Bronx</td>\n",
       "      <td>NaN</td>\n",
       "      <td>NaN</td>\n",
       "      <td>NaN</td>\n",
       "      <td>NaN</td>\n",
       "      <td>NaN</td>\n",
       "      <td>BBL not valid</td>\n",
       "      <td>...</td>\n",
       "      <td>64200</td>\n",
       "      <td>N/A</td>\n",
       "      <td>NaN</td>\n",
       "      <td>NaN</td>\n",
       "      <td>NaN</td>\n",
       "      <td>NaN</td>\n",
       "      <td>NaN</td>\n",
       "      <td>Not Available</td>\n",
       "      <td>Not Available</td>\n",
       "      <td>NaN</td>\n",
       "    </tr>\n",
       "    <tr>\n",
       "      <th>3</th>\n",
       "      <td>No</td>\n",
       "      <td>NaN</td>\n",
       "      <td>1012266</td>\n",
       "      <td>Manhattan</td>\n",
       "      <td>99</td>\n",
       "      <td>NaN</td>\n",
       "      <td>4</td>\n",
       "      <td>3</td>\n",
       "      <td>NaN</td>\n",
       "      <td>No Submission Matched to BBL</td>\n",
       "      <td>...</td>\n",
       "      <td>#N/A</td>\n",
       "      <td>None</td>\n",
       "      <td>NaN</td>\n",
       "      <td>NaN</td>\n",
       "      <td>11 AVENUE</td>\n",
       "      <td>201</td>\n",
       "      <td>NaN</td>\n",
       "      <td>NaN</td>\n",
       "      <td>NaN</td>\n",
       "      <td>10001</td>\n",
       "    </tr>\n",
       "    <tr>\n",
       "      <th>4</th>\n",
       "      <td>N/A</td>\n",
       "      <td>2048300034</td>\n",
       "      <td>NaN</td>\n",
       "      <td>Bronx</td>\n",
       "      <td>NaN</td>\n",
       "      <td>NaN</td>\n",
       "      <td>NaN</td>\n",
       "      <td>NaN</td>\n",
       "      <td>NaN</td>\n",
       "      <td>Not on Covered Buildings List</td>\n",
       "      <td>...</td>\n",
       "      <td>50000</td>\n",
       "      <td>None</td>\n",
       "      <td>NaN</td>\n",
       "      <td>NaN</td>\n",
       "      <td>NaN</td>\n",
       "      <td>NaN</td>\n",
       "      <td>NaN</td>\n",
       "      <td>Not Available</td>\n",
       "      <td>Not Available</td>\n",
       "      <td>NaN</td>\n",
       "    </tr>\n",
       "  </tbody>\n",
       "</table>\n",
       "<p>5 rows × 32 columns</p>\n",
       "</div>"
      ],
      "text/plain": [
       "  automatic_water_benchmarking_eligible bbls_co_reported      bin    borough  \\\n",
       "0                                   N/A       1000410001      NaN  Manhattan   \n",
       "1                                   Yes              NaN      NaN     Queens   \n",
       "2                                   N/A       2027620097      NaN      Bronx   \n",
       "3                                    No              NaN  1012266  Manhattan   \n",
       "4                                   N/A       2048300034      NaN      Bronx   \n",
       "\n",
       "  census_tract co_reported_bbl_status community_board community_council  \\\n",
       "0          NaN                    NaN             NaN               NaN   \n",
       "1          NaN                    NaN             NaN               NaN   \n",
       "2          NaN                    NaN             NaN               NaN   \n",
       "3           99                    NaN               4                 3   \n",
       "4          NaN                    NaN             NaN               NaN   \n",
       "\n",
       "  direct_ghg_emissions_mtco2e dof_benchmarking_submission_status   ...     \\\n",
       "0                         NaN                      BBL not valid   ...      \n",
       "1                         NaN       No Submission Matched to BBL   ...      \n",
       "2                         NaN                      BBL not valid   ...      \n",
       "3                         NaN       No Submission Matched to BBL   ...      \n",
       "4                         NaN      Not on Covered Buildings List   ...      \n",
       "\n",
       "  reported_property_floor_area_building_s_ft reported_water_method  \\\n",
       "0                                     918919                   N/A   \n",
       "1                                       #N/A                  None   \n",
       "2                                      64200                   N/A   \n",
       "3                                       #N/A                  None   \n",
       "4                                      50000                  None   \n",
       "\n",
       "  site_eui_kbtu_ft2 source_eui_kbtu_ft2 street_name street_number  \\\n",
       "0               NaN                 NaN         NaN           NaN   \n",
       "1               NaN                 NaN  108 STREET         63-10   \n",
       "2               NaN                 NaN         NaN           NaN   \n",
       "3               NaN                 NaN   11 AVENUE           201   \n",
       "4               NaN                 NaN         NaN           NaN   \n",
       "\n",
       "  total_ghg_emissions_mtco2e weather_normalized_site_eui_kbtu_ft2  \\\n",
       "0                        NaN                        Not Available   \n",
       "1                        NaN                                  NaN   \n",
       "2                        NaN                        Not Available   \n",
       "3                        NaN                                  NaN   \n",
       "4                        NaN                        Not Available   \n",
       "\n",
       "  weather_normalized_source_eui_kbtu_ft2 zip_code  \n",
       "0                          Not Available      NaN  \n",
       "1                                    NaN    11375  \n",
       "2                          Not Available      NaN  \n",
       "3                                    NaN    10001  \n",
       "4                          Not Available      NaN  \n",
       "\n",
       "[5 rows x 32 columns]"
      ]
     },
     "execution_count": 8,
     "metadata": {},
     "output_type": "execute_result"
    }
   ],
   "source": [
    "nrg.head()"
   ]
  },
  {
   "cell_type": "code",
   "execution_count": 9,
   "metadata": {
    "collapsed": false
   },
   "outputs": [],
   "source": [
    "df = pd.DataFrame(data)"
   ]
  },
  {
   "cell_type": "code",
   "execution_count": 10,
   "metadata": {
    "collapsed": false
   },
   "outputs": [
    {
     "data": {
      "text/html": [
       "<div>\n",
       "<table border=\"1\" class=\"dataframe\">\n",
       "  <thead>\n",
       "    <tr style=\"text-align: right;\">\n",
       "      <th></th>\n",
       "      <th>automatic_water_benchmarking_eligible</th>\n",
       "      <th>bbls_co_reported</th>\n",
       "      <th>bin</th>\n",
       "      <th>borough</th>\n",
       "      <th>census_tract</th>\n",
       "      <th>co_reported_bbl_status</th>\n",
       "      <th>community_board</th>\n",
       "      <th>community_council</th>\n",
       "      <th>direct_ghg_emissions_mtco2e</th>\n",
       "      <th>dof_benchmarking_submission_status</th>\n",
       "      <th>...</th>\n",
       "      <th>reported_property_floor_area_building_s_ft</th>\n",
       "      <th>reported_water_method</th>\n",
       "      <th>site_eui_kbtu_ft2</th>\n",
       "      <th>source_eui_kbtu_ft2</th>\n",
       "      <th>street_name</th>\n",
       "      <th>street_number</th>\n",
       "      <th>total_ghg_emissions_mtco2e</th>\n",
       "      <th>weather_normalized_site_eui_kbtu_ft2</th>\n",
       "      <th>weather_normalized_source_eui_kbtu_ft2</th>\n",
       "      <th>zip_code</th>\n",
       "    </tr>\n",
       "  </thead>\n",
       "  <tbody>\n",
       "    <tr>\n",
       "      <th>0</th>\n",
       "      <td>N/A</td>\n",
       "      <td>1000410001</td>\n",
       "      <td>NaN</td>\n",
       "      <td>Manhattan</td>\n",
       "      <td>NaN</td>\n",
       "      <td>NaN</td>\n",
       "      <td>NaN</td>\n",
       "      <td>NaN</td>\n",
       "      <td>NaN</td>\n",
       "      <td>BBL not valid</td>\n",
       "      <td>...</td>\n",
       "      <td>918919</td>\n",
       "      <td>N/A</td>\n",
       "      <td>NaN</td>\n",
       "      <td>NaN</td>\n",
       "      <td>NaN</td>\n",
       "      <td>NaN</td>\n",
       "      <td>NaN</td>\n",
       "      <td>Not Available</td>\n",
       "      <td>Not Available</td>\n",
       "      <td>NaN</td>\n",
       "    </tr>\n",
       "    <tr>\n",
       "      <th>1</th>\n",
       "      <td>Yes</td>\n",
       "      <td>NaN</td>\n",
       "      <td>NaN</td>\n",
       "      <td>Queens</td>\n",
       "      <td>NaN</td>\n",
       "      <td>NaN</td>\n",
       "      <td>NaN</td>\n",
       "      <td>NaN</td>\n",
       "      <td>NaN</td>\n",
       "      <td>No Submission Matched to BBL</td>\n",
       "      <td>...</td>\n",
       "      <td>#N/A</td>\n",
       "      <td>None</td>\n",
       "      <td>NaN</td>\n",
       "      <td>NaN</td>\n",
       "      <td>108 STREET</td>\n",
       "      <td>63-10</td>\n",
       "      <td>NaN</td>\n",
       "      <td>NaN</td>\n",
       "      <td>NaN</td>\n",
       "      <td>11375</td>\n",
       "    </tr>\n",
       "    <tr>\n",
       "      <th>2</th>\n",
       "      <td>N/A</td>\n",
       "      <td>2027620097</td>\n",
       "      <td>NaN</td>\n",
       "      <td>Bronx</td>\n",
       "      <td>NaN</td>\n",
       "      <td>NaN</td>\n",
       "      <td>NaN</td>\n",
       "      <td>NaN</td>\n",
       "      <td>NaN</td>\n",
       "      <td>BBL not valid</td>\n",
       "      <td>...</td>\n",
       "      <td>64200</td>\n",
       "      <td>N/A</td>\n",
       "      <td>NaN</td>\n",
       "      <td>NaN</td>\n",
       "      <td>NaN</td>\n",
       "      <td>NaN</td>\n",
       "      <td>NaN</td>\n",
       "      <td>Not Available</td>\n",
       "      <td>Not Available</td>\n",
       "      <td>NaN</td>\n",
       "    </tr>\n",
       "    <tr>\n",
       "      <th>3</th>\n",
       "      <td>No</td>\n",
       "      <td>NaN</td>\n",
       "      <td>1012266</td>\n",
       "      <td>Manhattan</td>\n",
       "      <td>99</td>\n",
       "      <td>NaN</td>\n",
       "      <td>4</td>\n",
       "      <td>3</td>\n",
       "      <td>NaN</td>\n",
       "      <td>No Submission Matched to BBL</td>\n",
       "      <td>...</td>\n",
       "      <td>#N/A</td>\n",
       "      <td>None</td>\n",
       "      <td>NaN</td>\n",
       "      <td>NaN</td>\n",
       "      <td>11 AVENUE</td>\n",
       "      <td>201</td>\n",
       "      <td>NaN</td>\n",
       "      <td>NaN</td>\n",
       "      <td>NaN</td>\n",
       "      <td>10001</td>\n",
       "    </tr>\n",
       "    <tr>\n",
       "      <th>4</th>\n",
       "      <td>N/A</td>\n",
       "      <td>2048300034</td>\n",
       "      <td>NaN</td>\n",
       "      <td>Bronx</td>\n",
       "      <td>NaN</td>\n",
       "      <td>NaN</td>\n",
       "      <td>NaN</td>\n",
       "      <td>NaN</td>\n",
       "      <td>NaN</td>\n",
       "      <td>Not on Covered Buildings List</td>\n",
       "      <td>...</td>\n",
       "      <td>50000</td>\n",
       "      <td>None</td>\n",
       "      <td>NaN</td>\n",
       "      <td>NaN</td>\n",
       "      <td>NaN</td>\n",
       "      <td>NaN</td>\n",
       "      <td>NaN</td>\n",
       "      <td>Not Available</td>\n",
       "      <td>Not Available</td>\n",
       "      <td>NaN</td>\n",
       "    </tr>\n",
       "  </tbody>\n",
       "</table>\n",
       "<p>5 rows × 32 columns</p>\n",
       "</div>"
      ],
      "text/plain": [
       "  automatic_water_benchmarking_eligible bbls_co_reported      bin    borough  \\\n",
       "0                                   N/A       1000410001      NaN  Manhattan   \n",
       "1                                   Yes              NaN      NaN     Queens   \n",
       "2                                   N/A       2027620097      NaN      Bronx   \n",
       "3                                    No              NaN  1012266  Manhattan   \n",
       "4                                   N/A       2048300034      NaN      Bronx   \n",
       "\n",
       "  census_tract co_reported_bbl_status community_board community_council  \\\n",
       "0          NaN                    NaN             NaN               NaN   \n",
       "1          NaN                    NaN             NaN               NaN   \n",
       "2          NaN                    NaN             NaN               NaN   \n",
       "3           99                    NaN               4                 3   \n",
       "4          NaN                    NaN             NaN               NaN   \n",
       "\n",
       "  direct_ghg_emissions_mtco2e dof_benchmarking_submission_status   ...     \\\n",
       "0                         NaN                      BBL not valid   ...      \n",
       "1                         NaN       No Submission Matched to BBL   ...      \n",
       "2                         NaN                      BBL not valid   ...      \n",
       "3                         NaN       No Submission Matched to BBL   ...      \n",
       "4                         NaN      Not on Covered Buildings List   ...      \n",
       "\n",
       "  reported_property_floor_area_building_s_ft reported_water_method  \\\n",
       "0                                     918919                   N/A   \n",
       "1                                       #N/A                  None   \n",
       "2                                      64200                   N/A   \n",
       "3                                       #N/A                  None   \n",
       "4                                      50000                  None   \n",
       "\n",
       "  site_eui_kbtu_ft2 source_eui_kbtu_ft2 street_name street_number  \\\n",
       "0               NaN                 NaN         NaN           NaN   \n",
       "1               NaN                 NaN  108 STREET         63-10   \n",
       "2               NaN                 NaN         NaN           NaN   \n",
       "3               NaN                 NaN   11 AVENUE           201   \n",
       "4               NaN                 NaN         NaN           NaN   \n",
       "\n",
       "  total_ghg_emissions_mtco2e weather_normalized_site_eui_kbtu_ft2  \\\n",
       "0                        NaN                        Not Available   \n",
       "1                        NaN                                  NaN   \n",
       "2                        NaN                        Not Available   \n",
       "3                        NaN                                  NaN   \n",
       "4                        NaN                        Not Available   \n",
       "\n",
       "  weather_normalized_source_eui_kbtu_ft2 zip_code  \n",
       "0                          Not Available      NaN  \n",
       "1                                    NaN    11375  \n",
       "2                          Not Available      NaN  \n",
       "3                                    NaN    10001  \n",
       "4                          Not Available      NaN  \n",
       "\n",
       "[5 rows x 32 columns]"
      ]
     },
     "execution_count": 10,
     "metadata": {},
     "output_type": "execute_result"
    }
   ],
   "source": [
    "df.head()"
   ]
  },
  {
   "cell_type": "code",
   "execution_count": 11,
   "metadata": {
    "collapsed": false
   },
   "outputs": [
    {
     "data": {
      "text/plain": [
       "Index(['automatic_water_benchmarking_eligible', 'bbls_co_reported', 'bin',\n",
       "       'borough', 'census_tract', 'co_reported_bbl_status', 'community_board',\n",
       "       'community_council', 'direct_ghg_emissions_mtco2e',\n",
       "       'dof_benchmarking_submission_status', 'dof_number_of_buildings',\n",
       "       'dof_property_floor_area_buildngs_and_parking_ft2', 'energy_star_score',\n",
       "       'indirect_ghg_emissions_mtco2e', 'latitude', 'longitude',\n",
       "       'municipally_supplied_potable_water_indoor_intensity_gal_ft', 'nta',\n",
       "       'nyc_borough_block_and_lot_bbl', 'primary_property_type_self_selected',\n",
       "       'record_number', 'reported_nyc_building_identificaiton_numbers_bins',\n",
       "       'reported_property_floor_area_building_s_ft', 'reported_water_method',\n",
       "       'site_eui_kbtu_ft2', 'source_eui_kbtu_ft2', 'street_name',\n",
       "       'street_number', 'total_ghg_emissions_mtco2e',\n",
       "       'weather_normalized_site_eui_kbtu_ft2',\n",
       "       'weather_normalized_source_eui_kbtu_ft2', 'zip_code'],\n",
       "      dtype='object')"
      ]
     },
     "execution_count": 11,
     "metadata": {},
     "output_type": "execute_result"
    }
   ],
   "source": [
    "df.columns"
   ]
  },
  {
   "cell_type": "markdown",
   "metadata": {},
   "source": [
    "### explain the column names\n",
    "EUI means energy use intensity, site energy and source energy see:https://www.energystar.gov/buildings/facility-owners-and-managers/existing-buildings/use-portfolio-manager/understand-metrics/difference\n",
    "\n",
    "kbtu = Kilo British Thermal Unit\n",
    "\n",
    "ft2 = square feet"
   ]
  },
  {
   "cell_type": "code",
   "execution_count": 12,
   "metadata": {
    "collapsed": false
   },
   "outputs": [],
   "source": [
    "df1 = df[['nyc_borough_block_and_lot_bbl', 'dof_property_floor_area_buildngs_and_parking_ft2',\n",
    "          'site_eui_kbtu_ft2', 'energy_star_score']]"
   ]
  },
  {
   "cell_type": "code",
   "execution_count": 13,
   "metadata": {
    "collapsed": false
   },
   "outputs": [],
   "source": [
    "df1.is_copy = False\n",
    "df1.rename(columns = {'nyc_borough_block_and_lot_bbl':'BBL', \n",
    "                      'dof_property_floor_area_buildngs_and_parking_ft2':'area_ft2'}, inplace = True)"
   ]
  },
  {
   "cell_type": "code",
   "execution_count": 14,
   "metadata": {
    "collapsed": false
   },
   "outputs": [
    {
     "data": {
      "text/plain": [
       "(1000, 4)"
      ]
     },
     "execution_count": 14,
     "metadata": {},
     "output_type": "execute_result"
    }
   ],
   "source": [
    "df1.shape"
   ]
  },
  {
   "cell_type": "code",
   "execution_count": 15,
   "metadata": {
    "collapsed": false
   },
   "outputs": [
    {
     "data": {
      "text/html": [
       "<div>\n",
       "<table border=\"1\" class=\"dataframe\">\n",
       "  <thead>\n",
       "    <tr style=\"text-align: right;\">\n",
       "      <th></th>\n",
       "      <th>BBL</th>\n",
       "      <th>area_ft2</th>\n",
       "      <th>site_eui_kbtu_ft2</th>\n",
       "      <th>energy_star_score</th>\n",
       "    </tr>\n",
       "  </thead>\n",
       "  <tbody>\n",
       "    <tr>\n",
       "      <th>0</th>\n",
       "      <td>1000410001</td>\n",
       "      <td>NaN</td>\n",
       "      <td>NaN</td>\n",
       "      <td>Not Available</td>\n",
       "    </tr>\n",
       "    <tr>\n",
       "      <th>1</th>\n",
       "      <td>4021460028</td>\n",
       "      <td>82730</td>\n",
       "      <td>NaN</td>\n",
       "      <td>NaN</td>\n",
       "    </tr>\n",
       "    <tr>\n",
       "      <th>2</th>\n",
       "      <td>2027620097</td>\n",
       "      <td>NaN</td>\n",
       "      <td>NaN</td>\n",
       "      <td>Not Available</td>\n",
       "    </tr>\n",
       "    <tr>\n",
       "      <th>3</th>\n",
       "      <td>1006700001</td>\n",
       "      <td>440360</td>\n",
       "      <td>NaN</td>\n",
       "      <td>NaN</td>\n",
       "    </tr>\n",
       "    <tr>\n",
       "      <th>4</th>\n",
       "      <td>2048300034</td>\n",
       "      <td>NaN</td>\n",
       "      <td>NaN</td>\n",
       "      <td>Not Available</td>\n",
       "    </tr>\n",
       "  </tbody>\n",
       "</table>\n",
       "</div>"
      ],
      "text/plain": [
       "          BBL area_ft2 site_eui_kbtu_ft2 energy_star_score\n",
       "0  1000410001      NaN               NaN     Not Available\n",
       "1  4021460028    82730               NaN               NaN\n",
       "2  2027620097      NaN               NaN     Not Available\n",
       "3  1006700001   440360               NaN               NaN\n",
       "4  2048300034      NaN               NaN     Not Available"
      ]
     },
     "execution_count": 15,
     "metadata": {},
     "output_type": "execute_result"
    }
   ],
   "source": [
    "df1.head()"
   ]
  },
  {
   "cell_type": "code",
   "execution_count": 16,
   "metadata": {
    "collapsed": false
   },
   "outputs": [
    {
     "data": {
      "text/html": [
       "<div>\n",
       "<table border=\"1\" class=\"dataframe\">\n",
       "  <thead>\n",
       "    <tr style=\"text-align: right;\">\n",
       "      <th></th>\n",
       "      <th>BBL</th>\n",
       "      <th>area_ft2</th>\n",
       "      <th>site_eui_kbtu_ft2</th>\n",
       "      <th>energy_star_score</th>\n",
       "    </tr>\n",
       "  </thead>\n",
       "  <tbody>\n",
       "    <tr>\n",
       "      <th>count</th>\n",
       "      <td>997</td>\n",
       "      <td>879</td>\n",
       "      <td>840</td>\n",
       "      <td>969</td>\n",
       "    </tr>\n",
       "    <tr>\n",
       "      <th>unique</th>\n",
       "      <td>973</td>\n",
       "      <td>841</td>\n",
       "      <td>617</td>\n",
       "      <td>79</td>\n",
       "    </tr>\n",
       "    <tr>\n",
       "      <th>top</th>\n",
       "      <td>1000300019</td>\n",
       "      <td>53000</td>\n",
       "      <td>See Primary BBL</td>\n",
       "      <td>Not Available</td>\n",
       "    </tr>\n",
       "    <tr>\n",
       "      <th>freq</th>\n",
       "      <td>2</td>\n",
       "      <td>3</td>\n",
       "      <td>16</td>\n",
       "      <td>654</td>\n",
       "    </tr>\n",
       "  </tbody>\n",
       "</table>\n",
       "</div>"
      ],
      "text/plain": [
       "               BBL area_ft2 site_eui_kbtu_ft2 energy_star_score\n",
       "count          997      879               840               969\n",
       "unique         973      841               617                79\n",
       "top     1000300019    53000   See Primary BBL     Not Available\n",
       "freq             2        3                16               654"
      ]
     },
     "execution_count": 16,
     "metadata": {},
     "output_type": "execute_result"
    }
   ],
   "source": [
    "df1.describe()"
   ]
  },
  {
   "cell_type": "code",
   "execution_count": 17,
   "metadata": {
    "collapsed": false
   },
   "outputs": [
    {
     "name": "stdout",
     "output_type": "stream",
     "text": [
      "16\n"
     ]
    }
   ],
   "source": [
    "print((df1['site_eui_kbtu_ft2']=='See Primary BBL').sum())"
   ]
  },
  {
   "cell_type": "code",
   "execution_count": 18,
   "metadata": {
    "collapsed": false
   },
   "outputs": [
    {
     "data": {
      "text/plain": [
       "(984, 4)"
      ]
     },
     "execution_count": 18,
     "metadata": {},
     "output_type": "execute_result"
    }
   ],
   "source": [
    "df2 = df1[df1['site_eui_kbtu_ft2'] != 'See Primary BBL']\n",
    "df2.shape"
   ]
  },
  {
   "cell_type": "code",
   "execution_count": 19,
   "metadata": {
    "collapsed": false
   },
   "outputs": [
    {
     "data": {
      "text/plain": [
       "(746, 4)"
      ]
     },
     "execution_count": 19,
     "metadata": {},
     "output_type": "execute_result"
    }
   ],
   "source": [
    "df2 = df2.dropna()\n",
    "df2.shape"
   ]
  },
  {
   "cell_type": "code",
   "execution_count": 20,
   "metadata": {
    "collapsed": false
   },
   "outputs": [
    {
     "data": {
      "text/html": [
       "<div>\n",
       "<table border=\"1\" class=\"dataframe\">\n",
       "  <thead>\n",
       "    <tr style=\"text-align: right;\">\n",
       "      <th></th>\n",
       "      <th>BBL</th>\n",
       "      <th>area_ft2</th>\n",
       "      <th>site_eui_kbtu_ft2</th>\n",
       "      <th>energy_star_score</th>\n",
       "    </tr>\n",
       "  </thead>\n",
       "  <tbody>\n",
       "    <tr>\n",
       "      <th>0</th>\n",
       "      <td>1013110040</td>\n",
       "      <td>313200</td>\n",
       "      <td>125.4</td>\n",
       "      <td>68</td>\n",
       "    </tr>\n",
       "    <tr>\n",
       "      <th>1</th>\n",
       "      <td>4002520018</td>\n",
       "      <td>184400</td>\n",
       "      <td>46</td>\n",
       "      <td>100</td>\n",
       "    </tr>\n",
       "    <tr>\n",
       "      <th>2</th>\n",
       "      <td>1007660061</td>\n",
       "      <td>53168</td>\n",
       "      <td>122.3</td>\n",
       "      <td>4</td>\n",
       "    </tr>\n",
       "    <tr>\n",
       "      <th>3</th>\n",
       "      <td>1008150046</td>\n",
       "      <td>364000</td>\n",
       "      <td>117</td>\n",
       "      <td>52</td>\n",
       "    </tr>\n",
       "    <tr>\n",
       "      <th>4</th>\n",
       "      <td>1005050001</td>\n",
       "      <td>214110</td>\n",
       "      <td>82.1</td>\n",
       "      <td>44</td>\n",
       "    </tr>\n",
       "  </tbody>\n",
       "</table>\n",
       "</div>"
      ],
      "text/plain": [
       "          BBL area_ft2 site_eui_kbtu_ft2 energy_star_score\n",
       "0  1013110040   313200             125.4                68\n",
       "1  4002520018   184400                46               100\n",
       "2  1007660061    53168             122.3                 4\n",
       "3  1008150046   364000               117                52\n",
       "4  1005050001   214110              82.1                44"
      ]
     },
     "execution_count": 20,
     "metadata": {},
     "output_type": "execute_result"
    }
   ],
   "source": [
    "df2.reset_index(drop = True, inplace = True)\n",
    "df2.head()"
   ]
  },
  {
   "cell_type": "code",
   "execution_count": 21,
   "metadata": {
    "collapsed": false
   },
   "outputs": [
    {
     "data": {
      "text/plain": [
       "geopandas.geodataframe.GeoDataFrame"
      ]
     },
     "execution_count": 21,
     "metadata": {},
     "output_type": "execute_result"
    }
   ],
   "source": [
    "type(bsize)"
   ]
  },
  {
   "cell_type": "code",
   "execution_count": 22,
   "metadata": {
    "collapsed": true
   },
   "outputs": [],
   "source": [
    "bs1 = bsize[['UnitsTotal', 'BBL', 'YearBuilt', 'LotArea']]"
   ]
  },
  {
   "cell_type": "code",
   "execution_count": 23,
   "metadata": {
    "collapsed": false
   },
   "outputs": [
    {
     "data": {
      "text/plain": [
       "(42686, 4)"
      ]
     },
     "execution_count": 23,
     "metadata": {},
     "output_type": "execute_result"
    }
   ],
   "source": [
    "bs1.shape"
   ]
  },
  {
   "cell_type": "code",
   "execution_count": 24,
   "metadata": {
    "collapsed": false
   },
   "outputs": [
    {
     "data": {
      "text/html": [
       "<div>\n",
       "<table border=\"1\" class=\"dataframe\">\n",
       "  <thead>\n",
       "    <tr style=\"text-align: right;\">\n",
       "      <th></th>\n",
       "      <th>UnitsTotal</th>\n",
       "      <th>BBL</th>\n",
       "      <th>YearBuilt</th>\n",
       "      <th>LotArea</th>\n",
       "    </tr>\n",
       "  </thead>\n",
       "  <tbody>\n",
       "    <tr>\n",
       "      <th>0</th>\n",
       "      <td>0</td>\n",
       "      <td>1.000010e+09</td>\n",
       "      <td>1900</td>\n",
       "      <td>2764190</td>\n",
       "    </tr>\n",
       "    <tr>\n",
       "      <th>1</th>\n",
       "      <td>0</td>\n",
       "      <td>1.000090e+09</td>\n",
       "      <td>1987</td>\n",
       "      <td>23080</td>\n",
       "    </tr>\n",
       "    <tr>\n",
       "      <th>2</th>\n",
       "      <td>602</td>\n",
       "      <td>1.000158e+09</td>\n",
       "      <td>1902</td>\n",
       "      <td>64633</td>\n",
       "    </tr>\n",
       "    <tr>\n",
       "      <th>3</th>\n",
       "      <td>50</td>\n",
       "      <td>1.000130e+09</td>\n",
       "      <td>1900</td>\n",
       "      <td>28814</td>\n",
       "    </tr>\n",
       "    <tr>\n",
       "      <th>4</th>\n",
       "      <td>0</td>\n",
       "      <td>1.000010e+09</td>\n",
       "      <td>1900</td>\n",
       "      <td>7736692</td>\n",
       "    </tr>\n",
       "  </tbody>\n",
       "</table>\n",
       "</div>"
      ],
      "text/plain": [
       "   UnitsTotal           BBL  YearBuilt  LotArea\n",
       "0           0  1.000010e+09       1900  2764190\n",
       "1           0  1.000090e+09       1987    23080\n",
       "2         602  1.000158e+09       1902    64633\n",
       "3          50  1.000130e+09       1900    28814\n",
       "4           0  1.000010e+09       1900  7736692"
      ]
     },
     "execution_count": 24,
     "metadata": {},
     "output_type": "execute_result"
    }
   ],
   "source": [
    "bs1.head()"
   ]
  },
  {
   "cell_type": "code",
   "execution_count": 25,
   "metadata": {
    "collapsed": false
   },
   "outputs": [
    {
     "data": {
      "text/html": [
       "<div>\n",
       "<table border=\"1\" class=\"dataframe\">\n",
       "  <thead>\n",
       "    <tr style=\"text-align: right;\">\n",
       "      <th></th>\n",
       "      <th>UnitsTotal</th>\n",
       "      <th>BBL</th>\n",
       "      <th>YearBuilt</th>\n",
       "      <th>LotArea</th>\n",
       "    </tr>\n",
       "  </thead>\n",
       "  <tbody>\n",
       "    <tr>\n",
       "      <th>count</th>\n",
       "      <td>42686.000000</td>\n",
       "      <td>4.268600e+04</td>\n",
       "      <td>42686.000000</td>\n",
       "      <td>4.268600e+04</td>\n",
       "    </tr>\n",
       "    <tr>\n",
       "      <th>mean</th>\n",
       "      <td>24.489903</td>\n",
       "      <td>1.012295e+09</td>\n",
       "      <td>1814.429626</td>\n",
       "      <td>1.105831e+04</td>\n",
       "    </tr>\n",
       "    <tr>\n",
       "      <th>std</th>\n",
       "      <td>92.654779</td>\n",
       "      <td>6.104002e+06</td>\n",
       "      <td>440.431674</td>\n",
       "      <td>2.114766e+05</td>\n",
       "    </tr>\n",
       "    <tr>\n",
       "      <th>min</th>\n",
       "      <td>0.000000</td>\n",
       "      <td>1.000010e+09</td>\n",
       "      <td>0.000000</td>\n",
       "      <td>0.000000e+00</td>\n",
       "    </tr>\n",
       "    <tr>\n",
       "      <th>25%</th>\n",
       "      <td>2.000000</td>\n",
       "      <td>1.007000e+09</td>\n",
       "      <td>1900.000000</td>\n",
       "      <td>1.916000e+03</td>\n",
       "    </tr>\n",
       "    <tr>\n",
       "      <th>50%</th>\n",
       "      <td>8.000000</td>\n",
       "      <td>1.012510e+09</td>\n",
       "      <td>1910.000000</td>\n",
       "      <td>2.523000e+03</td>\n",
       "    </tr>\n",
       "    <tr>\n",
       "      <th>75%</th>\n",
       "      <td>20.000000</td>\n",
       "      <td>1.017560e+09</td>\n",
       "      <td>1925.000000</td>\n",
       "      <td>5.688500e+03</td>\n",
       "    </tr>\n",
       "    <tr>\n",
       "      <th>max</th>\n",
       "      <td>8805.000000</td>\n",
       "      <td>1.022552e+09</td>\n",
       "      <td>2040.000000</td>\n",
       "      <td>3.659000e+07</td>\n",
       "    </tr>\n",
       "  </tbody>\n",
       "</table>\n",
       "</div>"
      ],
      "text/plain": [
       "         UnitsTotal           BBL     YearBuilt       LotArea\n",
       "count  42686.000000  4.268600e+04  42686.000000  4.268600e+04\n",
       "mean      24.489903  1.012295e+09   1814.429626  1.105831e+04\n",
       "std       92.654779  6.104002e+06    440.431674  2.114766e+05\n",
       "min        0.000000  1.000010e+09      0.000000  0.000000e+00\n",
       "25%        2.000000  1.007000e+09   1900.000000  1.916000e+03\n",
       "50%        8.000000  1.012510e+09   1910.000000  2.523000e+03\n",
       "75%       20.000000  1.017560e+09   1925.000000  5.688500e+03\n",
       "max     8805.000000  1.022552e+09   2040.000000  3.659000e+07"
      ]
     },
     "execution_count": 25,
     "metadata": {},
     "output_type": "execute_result"
    }
   ],
   "source": [
    "bs1.describe()"
   ]
  },
  {
   "cell_type": "code",
   "execution_count": 26,
   "metadata": {
    "collapsed": false
   },
   "outputs": [
    {
     "data": {
      "text/html": [
       "<div>\n",
       "<table border=\"1\" class=\"dataframe\">\n",
       "  <thead>\n",
       "    <tr style=\"text-align: right;\">\n",
       "      <th></th>\n",
       "      <th>BBL</th>\n",
       "      <th>area_ft2</th>\n",
       "      <th>site_eui_kbtu_ft2</th>\n",
       "      <th>energy_star_score</th>\n",
       "      <th>UnitsTotal</th>\n",
       "      <th>YearBuilt</th>\n",
       "      <th>LotArea</th>\n",
       "    </tr>\n",
       "  </thead>\n",
       "  <tbody>\n",
       "  </tbody>\n",
       "</table>\n",
       "</div>"
      ],
      "text/plain": [
       "Empty DataFrame\n",
       "Columns: [BBL, area_ft2, site_eui_kbtu_ft2, energy_star_score, UnitsTotal, YearBuilt, LotArea]\n",
       "Index: []"
      ]
     },
     "execution_count": 26,
     "metadata": {},
     "output_type": "execute_result"
    }
   ],
   "source": [
    "m = pd.merge(df2, bs1, how = 'inner' )\n",
    "m.head()"
   ]
  },
  {
   "cell_type": "code",
   "execution_count": 27,
   "metadata": {
    "collapsed": false
   },
   "outputs": [
    {
     "name": "stdout",
     "output_type": "stream",
     "text": [
      "<class 'str'> <class 'numpy.float64'>\n"
     ]
    }
   ],
   "source": [
    "print(type(df2.BBL[0]), type(bs1.BBL[0]))"
   ]
  },
  {
   "cell_type": "code",
   "execution_count": 28,
   "metadata": {
    "collapsed": false
   },
   "outputs": [],
   "source": [
    "df2['BBL'] = pd.to_numeric(df2['BBL'], errors = 'coerce')"
   ]
  },
  {
   "cell_type": "code",
   "execution_count": 29,
   "metadata": {
    "collapsed": true
   },
   "outputs": [],
   "source": [
    "# ?pd.to_numeric"
   ]
  },
  {
   "cell_type": "code",
   "execution_count": 30,
   "metadata": {
    "collapsed": false
   },
   "outputs": [
    {
     "name": "stdout",
     "output_type": "stream",
     "text": [
      "<class 'numpy.float64'>\n",
      "<class 'numpy.float64'>\n",
      "<class 'numpy.float64'>\n",
      "<class 'str'>\n"
     ]
    }
   ],
   "source": [
    "df2.loc[:,['BBL', 'area_ft2','site_eui_kbtu_ft2']] = df2.loc[:,['BBL', \n",
    "                                                                'area_ft2', 'site_eui_kbtu_ft2']].astype('float')\n",
    "\n",
    "# df2['BBL'] = pd.to_numeric(df2['BBL'], errors = 'coerce')\n",
    "\n",
    "for i in df2.iloc[1,:]:\n",
    "    print(type(i))"
   ]
  },
  {
   "cell_type": "code",
   "execution_count": 31,
   "metadata": {
    "collapsed": false
   },
   "outputs": [
    {
     "data": {
      "text/html": [
       "<div>\n",
       "<table border=\"1\" class=\"dataframe\">\n",
       "  <thead>\n",
       "    <tr style=\"text-align: right;\">\n",
       "      <th></th>\n",
       "      <th>BBL</th>\n",
       "      <th>area_ft2</th>\n",
       "      <th>site_eui_kbtu_ft2</th>\n",
       "      <th>energy_star_score</th>\n",
       "      <th>UnitsTotal</th>\n",
       "      <th>YearBuilt</th>\n",
       "      <th>LotArea</th>\n",
       "    </tr>\n",
       "  </thead>\n",
       "  <tbody>\n",
       "    <tr>\n",
       "      <th>0</th>\n",
       "      <td>1.013110e+09</td>\n",
       "      <td>313200.0</td>\n",
       "      <td>125.4</td>\n",
       "      <td>68</td>\n",
       "      <td>56</td>\n",
       "      <td>1977</td>\n",
       "      <td>12185</td>\n",
       "    </tr>\n",
       "    <tr>\n",
       "      <th>1</th>\n",
       "      <td>1.007660e+09</td>\n",
       "      <td>53168.0</td>\n",
       "      <td>122.3</td>\n",
       "      <td>4</td>\n",
       "      <td>8</td>\n",
       "      <td>1912</td>\n",
       "      <td>6300</td>\n",
       "    </tr>\n",
       "    <tr>\n",
       "      <th>2</th>\n",
       "      <td>1.008150e+09</td>\n",
       "      <td>364000.0</td>\n",
       "      <td>117.0</td>\n",
       "      <td>52</td>\n",
       "      <td>24</td>\n",
       "      <td>1954</td>\n",
       "      <td>16647</td>\n",
       "    </tr>\n",
       "    <tr>\n",
       "      <th>3</th>\n",
       "      <td>1.005050e+09</td>\n",
       "      <td>214110.0</td>\n",
       "      <td>82.1</td>\n",
       "      <td>44</td>\n",
       "      <td>24</td>\n",
       "      <td>1926</td>\n",
       "      <td>26860</td>\n",
       "    </tr>\n",
       "    <tr>\n",
       "      <th>4</th>\n",
       "      <td>1.021420e+09</td>\n",
       "      <td>64816.0</td>\n",
       "      <td>137.7</td>\n",
       "      <td>Not Available</td>\n",
       "      <td>62</td>\n",
       "      <td>1924</td>\n",
       "      <td>13822</td>\n",
       "    </tr>\n",
       "  </tbody>\n",
       "</table>\n",
       "</div>"
      ],
      "text/plain": [
       "            BBL  area_ft2  site_eui_kbtu_ft2 energy_star_score  UnitsTotal  \\\n",
       "0  1.013110e+09  313200.0              125.4                68          56   \n",
       "1  1.007660e+09   53168.0              122.3                 4           8   \n",
       "2  1.008150e+09  364000.0              117.0                52          24   \n",
       "3  1.005050e+09  214110.0               82.1                44          24   \n",
       "4  1.021420e+09   64816.0              137.7     Not Available          62   \n",
       "\n",
       "   YearBuilt  LotArea  \n",
       "0       1977    12185  \n",
       "1       1912     6300  \n",
       "2       1954    16647  \n",
       "3       1926    26860  \n",
       "4       1924    13822  "
      ]
     },
     "execution_count": 31,
     "metadata": {},
     "output_type": "execute_result"
    }
   ],
   "source": [
    "m = pd.merge(df2, bs1, how = 'inner')\n",
    "m.head()"
   ]
  },
  {
   "cell_type": "code",
   "execution_count": 32,
   "metadata": {
    "collapsed": false
   },
   "outputs": [
    {
     "data": {
      "text/plain": [
       "(688, 7)"
      ]
     },
     "execution_count": 32,
     "metadata": {},
     "output_type": "execute_result"
    }
   ],
   "source": [
    "m.shape"
   ]
  },
  {
   "cell_type": "code",
   "execution_count": 33,
   "metadata": {
    "collapsed": true
   },
   "outputs": [],
   "source": [
    "m['site_eu_kbtu'] = m.site_eui_kbtu_ft2 * m.area_ft2"
   ]
  },
  {
   "cell_type": "code",
   "execution_count": 34,
   "metadata": {
    "collapsed": false
   },
   "outputs": [
    {
     "data": {
      "text/html": [
       "<div>\n",
       "<table border=\"1\" class=\"dataframe\">\n",
       "  <thead>\n",
       "    <tr style=\"text-align: right;\">\n",
       "      <th></th>\n",
       "      <th>BBL</th>\n",
       "      <th>area_ft2</th>\n",
       "      <th>site_eui_kbtu_ft2</th>\n",
       "      <th>energy_star_score</th>\n",
       "      <th>UnitsTotal</th>\n",
       "      <th>YearBuilt</th>\n",
       "      <th>LotArea</th>\n",
       "      <th>site_eu_kbtu</th>\n",
       "    </tr>\n",
       "  </thead>\n",
       "  <tbody>\n",
       "    <tr>\n",
       "      <th>0</th>\n",
       "      <td>1.013110e+09</td>\n",
       "      <td>313200.0</td>\n",
       "      <td>125.4</td>\n",
       "      <td>68</td>\n",
       "      <td>56</td>\n",
       "      <td>1977</td>\n",
       "      <td>12185</td>\n",
       "      <td>39275280.0</td>\n",
       "    </tr>\n",
       "    <tr>\n",
       "      <th>1</th>\n",
       "      <td>1.007660e+09</td>\n",
       "      <td>53168.0</td>\n",
       "      <td>122.3</td>\n",
       "      <td>4</td>\n",
       "      <td>8</td>\n",
       "      <td>1912</td>\n",
       "      <td>6300</td>\n",
       "      <td>6502446.4</td>\n",
       "    </tr>\n",
       "    <tr>\n",
       "      <th>2</th>\n",
       "      <td>1.008150e+09</td>\n",
       "      <td>364000.0</td>\n",
       "      <td>117.0</td>\n",
       "      <td>52</td>\n",
       "      <td>24</td>\n",
       "      <td>1954</td>\n",
       "      <td>16647</td>\n",
       "      <td>42588000.0</td>\n",
       "    </tr>\n",
       "    <tr>\n",
       "      <th>3</th>\n",
       "      <td>1.005050e+09</td>\n",
       "      <td>214110.0</td>\n",
       "      <td>82.1</td>\n",
       "      <td>44</td>\n",
       "      <td>24</td>\n",
       "      <td>1926</td>\n",
       "      <td>26860</td>\n",
       "      <td>17578431.0</td>\n",
       "    </tr>\n",
       "    <tr>\n",
       "      <th>4</th>\n",
       "      <td>1.021420e+09</td>\n",
       "      <td>64816.0</td>\n",
       "      <td>137.7</td>\n",
       "      <td>Not Available</td>\n",
       "      <td>62</td>\n",
       "      <td>1924</td>\n",
       "      <td>13822</td>\n",
       "      <td>8925163.2</td>\n",
       "    </tr>\n",
       "  </tbody>\n",
       "</table>\n",
       "</div>"
      ],
      "text/plain": [
       "            BBL  area_ft2  site_eui_kbtu_ft2 energy_star_score  UnitsTotal  \\\n",
       "0  1.013110e+09  313200.0              125.4                68          56   \n",
       "1  1.007660e+09   53168.0              122.3                 4           8   \n",
       "2  1.008150e+09  364000.0              117.0                52          24   \n",
       "3  1.005050e+09  214110.0               82.1                44          24   \n",
       "4  1.021420e+09   64816.0              137.7     Not Available          62   \n",
       "\n",
       "   YearBuilt  LotArea  site_eu_kbtu  \n",
       "0       1977    12185    39275280.0  \n",
       "1       1912     6300     6502446.4  \n",
       "2       1954    16647    42588000.0  \n",
       "3       1926    26860    17578431.0  \n",
       "4       1924    13822     8925163.2  "
      ]
     },
     "execution_count": 34,
     "metadata": {},
     "output_type": "execute_result"
    }
   ],
   "source": [
    "m.head()"
   ]
  },
  {
   "cell_type": "code",
   "execution_count": 35,
   "metadata": {
    "collapsed": false
   },
   "outputs": [
    {
     "data": {
      "text/plain": [
       "<matplotlib.collections.PathCollection at 0x1052e9748>"
      ]
     },
     "execution_count": 35,
     "metadata": {},
     "output_type": "execute_result"
    },
    {
     "data": {
      "image/png": "[encoded data removed]",
      "text/plain": [
       "<matplotlib.figure.Figure at 0x11012f9e8>"
      ]
     },
     "metadata": {},
     "output_type": "display_data"
    }
   ],
   "source": [
    "plt.scatter(m.UnitsTotal, m.site_eu_kbtu)"
   ]
  },
  {
   "cell_type": "code",
   "execution_count": 36,
   "metadata": {
    "collapsed": false
   },
   "outputs": [
    {
     "data": {
      "text/html": [
       "<div>\n",
       "<table border=\"1\" class=\"dataframe\">\n",
       "  <thead>\n",
       "    <tr style=\"text-align: right;\">\n",
       "      <th></th>\n",
       "      <th>BBL</th>\n",
       "      <th>area_ft2</th>\n",
       "      <th>site_eui_kbtu_ft2</th>\n",
       "      <th>energy_star_score</th>\n",
       "      <th>UnitsTotal</th>\n",
       "      <th>YearBuilt</th>\n",
       "      <th>LotArea</th>\n",
       "      <th>site_eu_kbtu</th>\n",
       "    </tr>\n",
       "  </thead>\n",
       "  <tbody>\n",
       "    <tr>\n",
       "      <th>9</th>\n",
       "      <td>1.009688e+09</td>\n",
       "      <td>550141.0</td>\n",
       "      <td>56909.0</td>\n",
       "      <td>Not Available</td>\n",
       "      <td>486</td>\n",
       "      <td>1984</td>\n",
       "      <td>45526</td>\n",
       "      <td>3.130797e+10</td>\n",
       "    </tr>\n",
       "    <tr>\n",
       "      <th>55</th>\n",
       "      <td>1.000210e+09</td>\n",
       "      <td>335184.0</td>\n",
       "      <td>31973.4</td>\n",
       "      <td>1</td>\n",
       "      <td>16</td>\n",
       "      <td>1917</td>\n",
       "      <td>16716</td>\n",
       "      <td>1.071697e+10</td>\n",
       "    </tr>\n",
       "    <tr>\n",
       "      <th>89</th>\n",
       "      <td>1.000400e+09</td>\n",
       "      <td>1617206.0</td>\n",
       "      <td>29702.9</td>\n",
       "      <td>Not Available</td>\n",
       "      <td>1</td>\n",
       "      <td>1987</td>\n",
       "      <td>53632</td>\n",
       "      <td>4.803571e+10</td>\n",
       "    </tr>\n",
       "    <tr>\n",
       "      <th>528</th>\n",
       "      <td>1.007390e+09</td>\n",
       "      <td>2161994.0</td>\n",
       "      <td>17658.0</td>\n",
       "      <td>Not Available</td>\n",
       "      <td>133</td>\n",
       "      <td>1931</td>\n",
       "      <td>165200</td>\n",
       "      <td>3.817649e+10</td>\n",
       "    </tr>\n",
       "    <tr>\n",
       "      <th>543</th>\n",
       "      <td>1.007540e+09</td>\n",
       "      <td>116000.0</td>\n",
       "      <td>3018493.0</td>\n",
       "      <td>Not Available</td>\n",
       "      <td>1</td>\n",
       "      <td>1953</td>\n",
       "      <td>25912</td>\n",
       "      <td>3.501452e+11</td>\n",
       "    </tr>\n",
       "  </tbody>\n",
       "</table>\n",
       "</div>"
      ],
      "text/plain": [
       "              BBL   area_ft2  site_eui_kbtu_ft2 energy_star_score  UnitsTotal  \\\n",
       "9    1.009688e+09   550141.0            56909.0     Not Available         486   \n",
       "55   1.000210e+09   335184.0            31973.4                 1          16   \n",
       "89   1.000400e+09  1617206.0            29702.9     Not Available           1   \n",
       "528  1.007390e+09  2161994.0            17658.0     Not Available         133   \n",
       "543  1.007540e+09   116000.0          3018493.0     Not Available           1   \n",
       "\n",
       "     YearBuilt  LotArea  site_eu_kbtu  \n",
       "9         1984    45526  3.130797e+10  \n",
       "55        1917    16716  1.071697e+10  \n",
       "89        1987    53632  4.803571e+10  \n",
       "528       1931   165200  3.817649e+10  \n",
       "543       1953    25912  3.501452e+11  "
      ]
     },
     "execution_count": 36,
     "metadata": {},
     "output_type": "execute_result"
    }
   ],
   "source": [
    "m[m.site_eu_kbtu > 10**10]"
   ]
  },
  {
   "cell_type": "code",
   "execution_count": 37,
   "metadata": {
    "collapsed": false,
    "scrolled": true
   },
   "outputs": [
    {
     "data": {
      "text/html": [
       "<div>\n",
       "<table border=\"1\" class=\"dataframe\">\n",
       "  <thead>\n",
       "    <tr style=\"text-align: right;\">\n",
       "      <th></th>\n",
       "      <th>BBL</th>\n",
       "      <th>area_ft2</th>\n",
       "      <th>site_eui_kbtu_ft2</th>\n",
       "      <th>UnitsTotal</th>\n",
       "      <th>YearBuilt</th>\n",
       "      <th>LotArea</th>\n",
       "      <th>site_eu_kbtu</th>\n",
       "    </tr>\n",
       "  </thead>\n",
       "  <tbody>\n",
       "    <tr>\n",
       "      <th>count</th>\n",
       "      <td>6.880000e+02</td>\n",
       "      <td>6.880000e+02</td>\n",
       "      <td>6.880000e+02</td>\n",
       "      <td>688.000000</td>\n",
       "      <td>688.000000</td>\n",
       "      <td>688.000000</td>\n",
       "      <td>6.880000e+02</td>\n",
       "    </tr>\n",
       "    <tr>\n",
       "      <th>mean</th>\n",
       "      <td>1.005130e+09</td>\n",
       "      <td>2.324428e+05</td>\n",
       "      <td>4.942155e+03</td>\n",
       "      <td>77.851744</td>\n",
       "      <td>1931.595930</td>\n",
       "      <td>20198.779070</td>\n",
       "      <td>7.394683e+08</td>\n",
       "    </tr>\n",
       "    <tr>\n",
       "      <th>std</th>\n",
       "      <td>3.335994e+06</td>\n",
       "      <td>3.169181e+05</td>\n",
       "      <td>1.151951e+05</td>\n",
       "      <td>109.707437</td>\n",
       "      <td>79.063493</td>\n",
       "      <td>25510.040675</td>\n",
       "      <td>1.360598e+10</td>\n",
       "    </tr>\n",
       "    <tr>\n",
       "      <th>min</th>\n",
       "      <td>1.000048e+09</td>\n",
       "      <td>5.002900e+04</td>\n",
       "      <td>0.000000e+00</td>\n",
       "      <td>0.000000</td>\n",
       "      <td>0.000000</td>\n",
       "      <td>3703.000000</td>\n",
       "      <td>0.000000e+00</td>\n",
       "    </tr>\n",
       "    <tr>\n",
       "      <th>25%</th>\n",
       "      <td>1.002179e+09</td>\n",
       "      <td>7.652500e+04</td>\n",
       "      <td>6.050000e+01</td>\n",
       "      <td>11.750000</td>\n",
       "      <td>1915.000000</td>\n",
       "      <td>9056.000000</td>\n",
       "      <td>5.364601e+06</td>\n",
       "    </tr>\n",
       "    <tr>\n",
       "      <th>50%</th>\n",
       "      <td>1.005609e+09</td>\n",
       "      <td>1.213435e+05</td>\n",
       "      <td>7.710000e+01</td>\n",
       "      <td>36.000000</td>\n",
       "      <td>1927.000000</td>\n",
       "      <td>12775.000000</td>\n",
       "      <td>9.419884e+06</td>\n",
       "    </tr>\n",
       "    <tr>\n",
       "      <th>75%</th>\n",
       "      <td>1.007540e+09</td>\n",
       "      <td>2.453830e+05</td>\n",
       "      <td>9.860000e+01</td>\n",
       "      <td>97.000000</td>\n",
       "      <td>1956.000000</td>\n",
       "      <td>21289.000000</td>\n",
       "      <td>2.135948e+07</td>\n",
       "    </tr>\n",
       "    <tr>\n",
       "      <th>max</th>\n",
       "      <td>1.022470e+09</td>\n",
       "      <td>2.689635e+06</td>\n",
       "      <td>3.018493e+06</td>\n",
       "      <td>842.000000</td>\n",
       "      <td>2012.000000</td>\n",
       "      <td>298550.000000</td>\n",
       "      <td>3.501452e+11</td>\n",
       "    </tr>\n",
       "  </tbody>\n",
       "</table>\n",
       "</div>"
      ],
      "text/plain": [
       "                BBL      area_ft2  site_eui_kbtu_ft2  UnitsTotal    YearBuilt  \\\n",
       "count  6.880000e+02  6.880000e+02       6.880000e+02  688.000000   688.000000   \n",
       "mean   1.005130e+09  2.324428e+05       4.942155e+03   77.851744  1931.595930   \n",
       "std    3.335994e+06  3.169181e+05       1.151951e+05  109.707437    79.063493   \n",
       "min    1.000048e+09  5.002900e+04       0.000000e+00    0.000000     0.000000   \n",
       "25%    1.002179e+09  7.652500e+04       6.050000e+01   11.750000  1915.000000   \n",
       "50%    1.005609e+09  1.213435e+05       7.710000e+01   36.000000  1927.000000   \n",
       "75%    1.007540e+09  2.453830e+05       9.860000e+01   97.000000  1956.000000   \n",
       "max    1.022470e+09  2.689635e+06       3.018493e+06  842.000000  2012.000000   \n",
       "\n",
       "             LotArea  site_eu_kbtu  \n",
       "count     688.000000  6.880000e+02  \n",
       "mean    20198.779070  7.394683e+08  \n",
       "std     25510.040675  1.360598e+10  \n",
       "min      3703.000000  0.000000e+00  \n",
       "25%      9056.000000  5.364601e+06  \n",
       "50%     12775.000000  9.419884e+06  \n",
       "75%     21289.000000  2.135948e+07  \n",
       "max    298550.000000  3.501452e+11  "
      ]
     },
     "execution_count": 37,
     "metadata": {},
     "output_type": "execute_result"
    }
   ],
   "source": [
    "m.describe()"
   ]
  },
  {
   "cell_type": "code",
   "execution_count": 41,
   "metadata": {
    "collapsed": false
   },
   "outputs": [
    {
     "data": {
      "text/plain": [
       "(683, 8)"
      ]
     },
     "execution_count": 41,
     "metadata": {},
     "output_type": "execute_result"
    }
   ],
   "source": [
    "m1 = m[m.site_eu_kbtu < 10**10]\n",
    "m1.shape"
   ]
  },
  {
   "cell_type": "code",
   "execution_count": 40,
   "metadata": {
    "collapsed": false
   },
   "outputs": [
    {
     "data": {
      "text/plain": [
       "<matplotlib.collections.PathCollection at 0x11029bf60>"
      ]
     },
     "execution_count": 40,
     "metadata": {},
     "output_type": "execute_result"
    },
    {
     "data": {
      "image/png": "[encoded data removed]",
      "text/plain": [
       "<matplotlib.figure.Figure at 0x11024eb38>"
      ]
     },
     "metadata": {},
     "output_type": "display_data"
    }
   ],
   "source": [
    "plt.scatter(m1.UnitsTotal, m1.site_eu_kbtu)"
   ]
  },
  {
   "cell_type": "code",
   "execution_count": 42,
   "metadata": {
    "collapsed": false
   },
   "outputs": [
    {
     "name": "stdout",
     "output_type": "stream",
     "text": [
      "(679, 8)\n"
     ]
    },
    {
     "data": {
      "text/plain": [
       "<matplotlib.collections.PathCollection at 0x1102f2ac8>"
      ]
     },
     "execution_count": 42,
     "metadata": {},
     "output_type": "execute_result"
    },
    {
     "data": {
      "image/png": "[encoded data removed]",
      "text/plain": [
       "<matplotlib.figure.Figure at 0x11029d7b8>"
      ]
     },
     "metadata": {},
     "output_type": "display_data"
    }
   ],
   "source": [
    "m2 = m[m.site_eu_kbtu < 10**9]\n",
    "print(m2.shape)\n",
    "plt.scatter(m2.UnitsTotal, m2.site_eu_kbtu)"
   ]
  },
  {
   "cell_type": "code",
   "execution_count": 43,
   "metadata": {
    "collapsed": false
   },
   "outputs": [
    {
     "name": "stdout",
     "output_type": "stream",
     "text": [
      "(670, 8)\n"
     ]
    },
    {
     "data": {
      "text/plain": [
       "<matplotlib.collections.PathCollection at 0x1103407f0>"
      ]
     },
     "execution_count": 43,
     "metadata": {},
     "output_type": "execute_result"
    },
    {
     "data": {
      "image/png": "[encoded data removed]",
      "text/plain": [
       "<matplotlib.figure.Figure at 0x110190be0>"
      ]
     },
     "metadata": {},
     "output_type": "display_data"
    }
   ],
   "source": [
    "m3 = m[m.site_eu_kbtu < 10**8*2]\n",
    "print(m3.shape)\n",
    "plt.scatter(m3.UnitsTotal, m3.site_eu_kbtu)"
   ]
  },
  {
   "cell_type": "code",
   "execution_count": 44,
   "metadata": {
    "collapsed": false
   },
   "outputs": [
    {
     "data": {
      "text/plain": [
       "array([[<matplotlib.axes._subplots.AxesSubplot object at 0x110348cf8>,\n",
       "        <matplotlib.axes._subplots.AxesSubplot object at 0x11038f9b0>,\n",
       "        <matplotlib.axes._subplots.AxesSubplot object at 0x1103cc668>],\n",
       "       [<matplotlib.axes._subplots.AxesSubplot object at 0x110400080>,\n",
       "        <matplotlib.axes._subplots.AxesSubplot object at 0x11043f8d0>,\n",
       "        <matplotlib.axes._subplots.AxesSubplot object at 0x11043f898>],\n",
       "       [<matplotlib.axes._subplots.AxesSubplot object at 0x1104ae710>,\n",
       "        <matplotlib.axes._subplots.AxesSubplot object at 0x1120b2470>,\n",
       "        <matplotlib.axes._subplots.AxesSubplot object at 0x1120f0ef0>]], dtype=object)"
      ]
     },
     "execution_count": 44,
     "metadata": {},
     "output_type": "execute_result"
    },
    {
     "data": {
      "image/png": "[encoded data removed]",
      "text/plain": [
       "<matplotlib.figure.Figure at 0x1103534a8>"
      ]
     },
     "metadata": {},
     "output_type": "display_data"
    }
   ],
   "source": [
    "from pandas.tools.plotting import scatter_matrix\n",
    "scatter_matrix(df2, s = 300, figsize = (16, 16))"
   ]
  },
  {
   "cell_type": "code",
   "execution_count": 47,
   "metadata": {
    "collapsed": false
   },
   "outputs": [
    {
     "data": {
      "text/plain": [
       "array([[<matplotlib.axes._subplots.AxesSubplot object at 0x113579b00>,\n",
       "        <matplotlib.axes._subplots.AxesSubplot object at 0x113971cf8>,\n",
       "        <matplotlib.axes._subplots.AxesSubplot object at 0x11394c358>,\n",
       "        <matplotlib.axes._subplots.AxesSubplot object at 0x1139d9b70>,\n",
       "        <matplotlib.axes._subplots.AxesSubplot object at 0x113a17898>],\n",
       "       [<matplotlib.axes._subplots.AxesSubplot object at 0x113a17828>,\n",
       "        <matplotlib.axes._subplots.AxesSubplot object at 0x113a8e438>,\n",
       "        <matplotlib.axes._subplots.AxesSubplot object at 0x113abef98>,\n",
       "        <matplotlib.axes._subplots.AxesSubplot object at 0x113afec18>,\n",
       "        <matplotlib.axes._subplots.AxesSubplot object at 0x113b334a8>],\n",
       "       [<matplotlib.axes._subplots.AxesSubplot object at 0x113b70f98>,\n",
       "        <matplotlib.axes._subplots.AxesSubplot object at 0x113ba42b0>,\n",
       "        <matplotlib.axes._subplots.AxesSubplot object at 0x113be4c50>,\n",
       "        <matplotlib.axes._subplots.AxesSubplot object at 0x113c170b8>,\n",
       "        <matplotlib.axes._subplots.AxesSubplot object at 0x113c557f0>],\n",
       "       [<matplotlib.axes._subplots.AxesSubplot object at 0x113c574a8>,\n",
       "        <matplotlib.axes._subplots.AxesSubplot object at 0x113cc9630>,\n",
       "        <matplotlib.axes._subplots.AxesSubplot object at 0x113d070b8>,\n",
       "        <matplotlib.axes._subplots.AxesSubplot object at 0x113d3b5c0>,\n",
       "        <matplotlib.axes._subplots.AxesSubplot object at 0x113d79320>],\n",
       "       [<matplotlib.axes._subplots.AxesSubplot object at 0x113dae550>,\n",
       "        <matplotlib.axes._subplots.AxesSubplot object at 0x113dec7b8>,\n",
       "        <matplotlib.axes._subplots.AxesSubplot object at 0x113e20470>,\n",
       "        <matplotlib.axes._subplots.AxesSubplot object at 0x113e5f400>,\n",
       "        <matplotlib.axes._subplots.AxesSubplot object at 0x113d0f860>]], dtype=object)"
      ]
     },
     "execution_count": 47,
     "metadata": {},
     "output_type": "execute_result"
    },
    {
     "data": {
      "image/png": "[encoded data removed]",
      "text/plain": [
       "<matplotlib.figure.Figure at 0x11393bc18>"
      ]
     },
     "metadata": {},
     "output_type": "display_data"
    }
   ],
   "source": [
    "scatter_matrix(m3.drop(['area_ft2', 'LotArea'],axis =1), figsize = (25, 25))"
   ]
  },
  {
   "cell_type": "code",
   "execution_count": null,
   "metadata": {
    "collapsed": true
   },
   "outputs": [],
   "source": []
  }
 ],
 "metadata": {
  "kernelspec": {
   "display_name": "Python 3",
   "language": "python",
   "name": "python3"
  },
  "language_info": {
   "codemirror_mode": {
    "name": "ipython",
    "version": 3
   },
   "file_extension": ".py",
   "mimetype": "text/x-python",
   "name": "python",
   "nbconvert_exporter": "python",
   "pygments_lexer": "ipython3",
   "version": "3.6.0"
  }
 },
 "nbformat": 4,
 "nbformat_minor": 2
}
