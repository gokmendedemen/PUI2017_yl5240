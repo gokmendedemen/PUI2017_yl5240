{
 "cells": [
  {
   "cell_type": "code",
   "execution_count": 1,
   "metadata": {
    "collapsed": false
   },
   "outputs": [],
   "source": [
    "import pandas as pd\n",
    "import numpy as np\n",
    "import matplotlib.pylab as plt\n",
    "%matplotlib inline\n",
    "import geopandas as gp\n",
    "import os\n",
    "import json\n",
    "import urllib.request as urllib\n",
    "import statsmodels.formula.api as smf \n"
   ]
  },
  {
   "cell_type": "code",
   "execution_count": 2,
   "metadata": {
    "collapsed": false
   },
   "outputs": [
    {
     "data": {
      "text/plain": [
       "list"
      ]
     },
     "execution_count": 2,
     "metadata": {},
     "output_type": "execute_result"
    }
   ],
   "source": [
    "api = 'https://data.cityofnewyork.us/resource/m46j-75iy.json'\n",
    "data = json.loads(urllib.urlopen(api).read())\n",
    "type(data)"
   ]
  },
  {
   "cell_type": "code",
   "execution_count": 3,
   "metadata": {
    "collapsed": false
   },
   "outputs": [],
   "source": [
    "nrg = pd.DataFrame(data)"
   ]
  },
  {
   "cell_type": "code",
   "execution_count": 4,
   "metadata": {
    "collapsed": false
   },
   "outputs": [
    {
     "name": "stdout",
     "output_type": "stream",
     "text": [
      "<class 'pandas.core.frame.DataFrame'> (1000, 32)\n"
     ]
    }
   ],
   "source": [
    "print(type(nrg), nrg.shape)"
   ]
  },
  {
   "cell_type": "code",
   "execution_count": 5,
   "metadata": {
    "collapsed": false
   },
   "outputs": [
    {
     "data": {
      "text/html": [
       "<div>\n",
       "<table border=\"1\" class=\"dataframe\">\n",
       "  <thead>\n",
       "    <tr style=\"text-align: right;\">\n",
       "      <th></th>\n",
       "      <th>automatic_water_benchmarking_eligible</th>\n",
       "      <th>bbls_co_reported</th>\n",
       "      <th>bin</th>\n",
       "      <th>borough</th>\n",
       "      <th>census_tract</th>\n",
       "      <th>co_reported_bbl_status</th>\n",
       "      <th>community_board</th>\n",
       "      <th>community_council</th>\n",
       "      <th>direct_ghg_emissions_mtco2e</th>\n",
       "      <th>dof_benchmarking_submission_status</th>\n",
       "      <th>...</th>\n",
       "      <th>reported_property_floor_area_building_s_ft</th>\n",
       "      <th>reported_water_method</th>\n",
       "      <th>site_eui_kbtu_ft2</th>\n",
       "      <th>source_eui_kbtu_ft2</th>\n",
       "      <th>street_name</th>\n",
       "      <th>street_number</th>\n",
       "      <th>total_ghg_emissions_mtco2e</th>\n",
       "      <th>weather_normalized_site_eui_kbtu_ft2</th>\n",
       "      <th>weather_normalized_source_eui_kbtu_ft2</th>\n",
       "      <th>zip_code</th>\n",
       "    </tr>\n",
       "  </thead>\n",
       "  <tbody>\n",
       "    <tr>\n",
       "      <th>0</th>\n",
       "      <td>N/A</td>\n",
       "      <td>1000410001</td>\n",
       "      <td>NaN</td>\n",
       "      <td>Manhattan</td>\n",
       "      <td>NaN</td>\n",
       "      <td>NaN</td>\n",
       "      <td>NaN</td>\n",
       "      <td>NaN</td>\n",
       "      <td>NaN</td>\n",
       "      <td>BBL not valid</td>\n",
       "      <td>...</td>\n",
       "      <td>918919</td>\n",
       "      <td>N/A</td>\n",
       "      <td>NaN</td>\n",
       "      <td>NaN</td>\n",
       "      <td>NaN</td>\n",
       "      <td>NaN</td>\n",
       "      <td>NaN</td>\n",
       "      <td>Not Available</td>\n",
       "      <td>Not Available</td>\n",
       "      <td>NaN</td>\n",
       "    </tr>\n",
       "    <tr>\n",
       "      <th>1</th>\n",
       "      <td>Yes</td>\n",
       "      <td>NaN</td>\n",
       "      <td>NaN</td>\n",
       "      <td>Queens</td>\n",
       "      <td>NaN</td>\n",
       "      <td>NaN</td>\n",
       "      <td>NaN</td>\n",
       "      <td>NaN</td>\n",
       "      <td>NaN</td>\n",
       "      <td>No Submission Matched to BBL</td>\n",
       "      <td>...</td>\n",
       "      <td>#N/A</td>\n",
       "      <td>None</td>\n",
       "      <td>NaN</td>\n",
       "      <td>NaN</td>\n",
       "      <td>108 STREET</td>\n",
       "      <td>63-10</td>\n",
       "      <td>NaN</td>\n",
       "      <td>NaN</td>\n",
       "      <td>NaN</td>\n",
       "      <td>11375</td>\n",
       "    </tr>\n",
       "    <tr>\n",
       "      <th>2</th>\n",
       "      <td>N/A</td>\n",
       "      <td>2027620097</td>\n",
       "      <td>NaN</td>\n",
       "      <td>Bronx</td>\n",
       "      <td>NaN</td>\n",
       "      <td>NaN</td>\n",
       "      <td>NaN</td>\n",
       "      <td>NaN</td>\n",
       "      <td>NaN</td>\n",
       "      <td>BBL not valid</td>\n",
       "      <td>...</td>\n",
       "      <td>64200</td>\n",
       "      <td>N/A</td>\n",
       "      <td>NaN</td>\n",
       "      <td>NaN</td>\n",
       "      <td>NaN</td>\n",
       "      <td>NaN</td>\n",
       "      <td>NaN</td>\n",
       "      <td>Not Available</td>\n",
       "      <td>Not Available</td>\n",
       "      <td>NaN</td>\n",
       "    </tr>\n",
       "    <tr>\n",
       "      <th>3</th>\n",
       "      <td>No</td>\n",
       "      <td>NaN</td>\n",
       "      <td>1012266</td>\n",
       "      <td>Manhattan</td>\n",
       "      <td>99</td>\n",
       "      <td>NaN</td>\n",
       "      <td>4</td>\n",
       "      <td>3</td>\n",
       "      <td>NaN</td>\n",
       "      <td>No Submission Matched to BBL</td>\n",
       "      <td>...</td>\n",
       "      <td>#N/A</td>\n",
       "      <td>None</td>\n",
       "      <td>NaN</td>\n",
       "      <td>NaN</td>\n",
       "      <td>11 AVENUE</td>\n",
       "      <td>201</td>\n",
       "      <td>NaN</td>\n",
       "      <td>NaN</td>\n",
       "      <td>NaN</td>\n",
       "      <td>10001</td>\n",
       "    </tr>\n",
       "    <tr>\n",
       "      <th>4</th>\n",
       "      <td>N/A</td>\n",
       "      <td>2048300034</td>\n",
       "      <td>NaN</td>\n",
       "      <td>Bronx</td>\n",
       "      <td>NaN</td>\n",
       "      <td>NaN</td>\n",
       "      <td>NaN</td>\n",
       "      <td>NaN</td>\n",
       "      <td>NaN</td>\n",
       "      <td>Not on Covered Buildings List</td>\n",
       "      <td>...</td>\n",
       "      <td>50000</td>\n",
       "      <td>None</td>\n",
       "      <td>NaN</td>\n",
       "      <td>NaN</td>\n",
       "      <td>NaN</td>\n",
       "      <td>NaN</td>\n",
       "      <td>NaN</td>\n",
       "      <td>Not Available</td>\n",
       "      <td>Not Available</td>\n",
       "      <td>NaN</td>\n",
       "    </tr>\n",
       "  </tbody>\n",
       "</table>\n",
       "<p>5 rows × 32 columns</p>\n",
       "</div>"
      ],
      "text/plain": [
       "  automatic_water_benchmarking_eligible bbls_co_reported      bin    borough  \\\n",
       "0                                   N/A       1000410001      NaN  Manhattan   \n",
       "1                                   Yes              NaN      NaN     Queens   \n",
       "2                                   N/A       2027620097      NaN      Bronx   \n",
       "3                                    No              NaN  1012266  Manhattan   \n",
       "4                                   N/A       2048300034      NaN      Bronx   \n",
       "\n",
       "  census_tract co_reported_bbl_status community_board community_council  \\\n",
       "0          NaN                    NaN             NaN               NaN   \n",
       "1          NaN                    NaN             NaN               NaN   \n",
       "2          NaN                    NaN             NaN               NaN   \n",
       "3           99                    NaN               4                 3   \n",
       "4          NaN                    NaN             NaN               NaN   \n",
       "\n",
       "  direct_ghg_emissions_mtco2e dof_benchmarking_submission_status   ...     \\\n",
       "0                         NaN                      BBL not valid   ...      \n",
       "1                         NaN       No Submission Matched to BBL   ...      \n",
       "2                         NaN                      BBL not valid   ...      \n",
       "3                         NaN       No Submission Matched to BBL   ...      \n",
       "4                         NaN      Not on Covered Buildings List   ...      \n",
       "\n",
       "  reported_property_floor_area_building_s_ft reported_water_method  \\\n",
       "0                                     918919                   N/A   \n",
       "1                                       #N/A                  None   \n",
       "2                                      64200                   N/A   \n",
       "3                                       #N/A                  None   \n",
       "4                                      50000                  None   \n",
       "\n",
       "  site_eui_kbtu_ft2 source_eui_kbtu_ft2 street_name street_number  \\\n",
       "0               NaN                 NaN         NaN           NaN   \n",
       "1               NaN                 NaN  108 STREET         63-10   \n",
       "2               NaN                 NaN         NaN           NaN   \n",
       "3               NaN                 NaN   11 AVENUE           201   \n",
       "4               NaN                 NaN         NaN           NaN   \n",
       "\n",
       "  total_ghg_emissions_mtco2e weather_normalized_site_eui_kbtu_ft2  \\\n",
       "0                        NaN                        Not Available   \n",
       "1                        NaN                                  NaN   \n",
       "2                        NaN                        Not Available   \n",
       "3                        NaN                                  NaN   \n",
       "4                        NaN                        Not Available   \n",
       "\n",
       "  weather_normalized_source_eui_kbtu_ft2 zip_code  \n",
       "0                          Not Available      NaN  \n",
       "1                                    NaN    11375  \n",
       "2                          Not Available      NaN  \n",
       "3                                    NaN    10001  \n",
       "4                          Not Available      NaN  \n",
       "\n",
       "[5 rows x 32 columns]"
      ]
     },
     "execution_count": 5,
     "metadata": {},
     "output_type": "execute_result"
    }
   ],
   "source": [
    "nrg.head()"
   ]
  },
  {
   "cell_type": "code",
   "execution_count": 6,
   "metadata": {
    "collapsed": false
   },
   "outputs": [
    {
     "data": {
      "text/plain": [
       "Index(['automatic_water_benchmarking_eligible', 'bbls_co_reported', 'bin',\n",
       "       'borough', 'census_tract', 'co_reported_bbl_status', 'community_board',\n",
       "       'community_council', 'direct_ghg_emissions_mtco2e',\n",
       "       'dof_benchmarking_submission_status', 'dof_number_of_buildings',\n",
       "       'dof_property_floor_area_buildngs_and_parking_ft2', 'energy_star_score',\n",
       "       'indirect_ghg_emissions_mtco2e', 'latitude', 'longitude',\n",
       "       'municipally_supplied_potable_water_indoor_intensity_gal_ft', 'nta',\n",
       "       'nyc_borough_block_and_lot_bbl', 'primary_property_type_self_selected',\n",
       "       'record_number', 'reported_nyc_building_identificaiton_numbers_bins',\n",
       "       'reported_property_floor_area_building_s_ft', 'reported_water_method',\n",
       "       'site_eui_kbtu_ft2', 'source_eui_kbtu_ft2', 'street_name',\n",
       "       'street_number', 'total_ghg_emissions_mtco2e',\n",
       "       'weather_normalized_site_eui_kbtu_ft2',\n",
       "       'weather_normalized_source_eui_kbtu_ft2', 'zip_code'],\n",
       "      dtype='object')"
      ]
     },
     "execution_count": 6,
     "metadata": {},
     "output_type": "execute_result"
    }
   ],
   "source": [
    "nrg.columns"
   ]
  },
  {
   "cell_type": "code",
   "execution_count": 7,
   "metadata": {
    "collapsed": false
   },
   "outputs": [],
   "source": [
    "mhp = gp.GeoDataFrame.from_file(os.getenv(\"PUIDATA\") + \"/Manhattan/MNMapPLUTO.shp\")"
   ]
  },
  {
   "cell_type": "code",
   "execution_count": 8,
   "metadata": {
    "collapsed": false
   },
   "outputs": [
    {
     "name": "stdout",
     "output_type": "stream",
     "text": [
      "<class 'geopandas.geodataframe.GeoDataFrame'> (42686, 88)\n"
     ]
    }
   ],
   "source": [
    "print(type(mhp), mhp.shape)"
   ]
  },
  {
   "cell_type": "code",
   "execution_count": 9,
   "metadata": {
    "collapsed": false
   },
   "outputs": [
    {
     "data": {
      "text/html": [
       "<div>\n",
       "<table border=\"1\" class=\"dataframe\">\n",
       "  <thead>\n",
       "    <tr style=\"text-align: right;\">\n",
       "      <th></th>\n",
       "      <th>Borough</th>\n",
       "      <th>Block</th>\n",
       "      <th>Lot</th>\n",
       "      <th>CD</th>\n",
       "      <th>CT2010</th>\n",
       "      <th>CB2010</th>\n",
       "      <th>SchoolDist</th>\n",
       "      <th>Council</th>\n",
       "      <th>ZipCode</th>\n",
       "      <th>FireComp</th>\n",
       "      <th>...</th>\n",
       "      <th>TaxMap</th>\n",
       "      <th>EDesigNum</th>\n",
       "      <th>APPBBL</th>\n",
       "      <th>APPDate</th>\n",
       "      <th>PLUTOMapID</th>\n",
       "      <th>Version</th>\n",
       "      <th>MAPPLUTO_F</th>\n",
       "      <th>SHAPE_Leng</th>\n",
       "      <th>SHAPE_Area</th>\n",
       "      <th>geometry</th>\n",
       "    </tr>\n",
       "  </thead>\n",
       "  <tbody>\n",
       "    <tr>\n",
       "      <th>0</th>\n",
       "      <td>MN</td>\n",
       "      <td>1</td>\n",
       "      <td>201</td>\n",
       "      <td>101</td>\n",
       "      <td>1</td>\n",
       "      <td>1000</td>\n",
       "      <td>02</td>\n",
       "      <td>1</td>\n",
       "      <td>10004</td>\n",
       "      <td>E007</td>\n",
       "      <td>...</td>\n",
       "      <td>10101</td>\n",
       "      <td></td>\n",
       "      <td>0.000000e+00</td>\n",
       "      <td></td>\n",
       "      <td>1</td>\n",
       "      <td>16V2</td>\n",
       "      <td>0</td>\n",
       "      <td>6306.265838</td>\n",
       "      <td>1.148541e+06</td>\n",
       "      <td>POLYGON ((973154.7117999941 194614.3315999955,...</td>\n",
       "    </tr>\n",
       "    <tr>\n",
       "      <th>1</th>\n",
       "      <td>MN</td>\n",
       "      <td>9</td>\n",
       "      <td>14</td>\n",
       "      <td>101</td>\n",
       "      <td>9</td>\n",
       "      <td>1013</td>\n",
       "      <td>02</td>\n",
       "      <td>1</td>\n",
       "      <td>10004</td>\n",
       "      <td>L015</td>\n",
       "      <td>...</td>\n",
       "      <td>10101</td>\n",
       "      <td></td>\n",
       "      <td>1.000090e+09</td>\n",
       "      <td>12/26/1985</td>\n",
       "      <td>1</td>\n",
       "      <td>16V2</td>\n",
       "      <td>0</td>\n",
       "      <td>686.230174</td>\n",
       "      <td>2.373306e+04</td>\n",
       "      <td>POLYGON ((980492.3622000068 195423.9451999962,...</td>\n",
       "    </tr>\n",
       "    <tr>\n",
       "      <th>2</th>\n",
       "      <td>MN</td>\n",
       "      <td>15</td>\n",
       "      <td>7501</td>\n",
       "      <td>101</td>\n",
       "      <td>13</td>\n",
       "      <td>2005</td>\n",
       "      <td>02</td>\n",
       "      <td>1</td>\n",
       "      <td>10004</td>\n",
       "      <td>E010</td>\n",
       "      <td>...</td>\n",
       "      <td>10101</td>\n",
       "      <td></td>\n",
       "      <td>1.000150e+09</td>\n",
       "      <td>12/29/1998</td>\n",
       "      <td>1</td>\n",
       "      <td>16V2</td>\n",
       "      <td>7</td>\n",
       "      <td>1098.925676</td>\n",
       "      <td>6.753824e+04</td>\n",
       "      <td>POLYGON ((979999.0820000023 196493.2800000012,...</td>\n",
       "    </tr>\n",
       "    <tr>\n",
       "      <th>3</th>\n",
       "      <td>MN</td>\n",
       "      <td>13</td>\n",
       "      <td>5</td>\n",
       "      <td>101</td>\n",
       "      <td>13</td>\n",
       "      <td>2008</td>\n",
       "      <td>02</td>\n",
       "      <td>1</td>\n",
       "      <td>10004</td>\n",
       "      <td>E010</td>\n",
       "      <td>...</td>\n",
       "      <td>10101</td>\n",
       "      <td></td>\n",
       "      <td>0.000000e+00</td>\n",
       "      <td></td>\n",
       "      <td>1</td>\n",
       "      <td>16V2</td>\n",
       "      <td>0</td>\n",
       "      <td>709.632239</td>\n",
       "      <td>3.068607e+04</td>\n",
       "      <td>POLYGON ((980424.4003999978 196274.334800005, ...</td>\n",
       "    </tr>\n",
       "    <tr>\n",
       "      <th>4</th>\n",
       "      <td>MN</td>\n",
       "      <td>1</td>\n",
       "      <td>10</td>\n",
       "      <td>101</td>\n",
       "      <td>5</td>\n",
       "      <td>1018</td>\n",
       "      <td>02</td>\n",
       "      <td>1</td>\n",
       "      <td>10004</td>\n",
       "      <td>E007</td>\n",
       "      <td>...</td>\n",
       "      <td>10101</td>\n",
       "      <td></td>\n",
       "      <td>0.000000e+00</td>\n",
       "      <td></td>\n",
       "      <td>1</td>\n",
       "      <td>16V2</td>\n",
       "      <td>0</td>\n",
       "      <td>12277.830569</td>\n",
       "      <td>7.550344e+06</td>\n",
       "      <td>POLYGON ((979561.8711999953 191884.2495999932,...</td>\n",
       "    </tr>\n",
       "  </tbody>\n",
       "</table>\n",
       "<p>5 rows × 88 columns</p>\n",
       "</div>"
      ],
      "text/plain": [
       "  Borough  Block   Lot   CD CT2010 CB2010 SchoolDist  Council  ZipCode  \\\n",
       "0      MN      1   201  101      1   1000         02        1    10004   \n",
       "1      MN      9    14  101      9   1013         02        1    10004   \n",
       "2      MN     15  7501  101     13   2005         02        1    10004   \n",
       "3      MN     13     5  101     13   2008         02        1    10004   \n",
       "4      MN      1    10  101      5   1018         02        1    10004   \n",
       "\n",
       "  FireComp                        ...                          TaxMap  \\\n",
       "0     E007                        ...                           10101   \n",
       "1     L015                        ...                           10101   \n",
       "2     E010                        ...                           10101   \n",
       "3     E010                        ...                           10101   \n",
       "4     E007                        ...                           10101   \n",
       "\n",
       "   EDesigNum        APPBBL     APPDate PLUTOMapID Version MAPPLUTO_F  \\\n",
       "0             0.000000e+00                      1    16V2          0   \n",
       "1             1.000090e+09  12/26/1985          1    16V2          0   \n",
       "2             1.000150e+09  12/29/1998          1    16V2          7   \n",
       "3             0.000000e+00                      1    16V2          0   \n",
       "4             0.000000e+00                      1    16V2          0   \n",
       "\n",
       "     SHAPE_Leng    SHAPE_Area  \\\n",
       "0   6306.265838  1.148541e+06   \n",
       "1    686.230174  2.373306e+04   \n",
       "2   1098.925676  6.753824e+04   \n",
       "3    709.632239  3.068607e+04   \n",
       "4  12277.830569  7.550344e+06   \n",
       "\n",
       "                                            geometry  \n",
       "0  POLYGON ((973154.7117999941 194614.3315999955,...  \n",
       "1  POLYGON ((980492.3622000068 195423.9451999962,...  \n",
       "2  POLYGON ((979999.0820000023 196493.2800000012,...  \n",
       "3  POLYGON ((980424.4003999978 196274.334800005, ...  \n",
       "4  POLYGON ((979561.8711999953 191884.2495999932,...  \n",
       "\n",
       "[5 rows x 88 columns]"
      ]
     },
     "execution_count": 9,
     "metadata": {},
     "output_type": "execute_result"
    }
   ],
   "source": [
    "mhp.head()"
   ]
  },
  {
   "cell_type": "code",
   "execution_count": 10,
   "metadata": {
    "collapsed": false
   },
   "outputs": [
    {
     "data": {
      "text/plain": [
       "Index(['Borough', 'Block', 'Lot', 'CD', 'CT2010', 'CB2010', 'SchoolDist',\n",
       "       'Council', 'ZipCode', 'FireComp', 'PolicePrct', 'HealthArea',\n",
       "       'SanitBoro', 'SanitDistr', 'SanitSub', 'Address', 'ZoneDist1',\n",
       "       'ZoneDist2', 'ZoneDist3', 'ZoneDist4', 'Overlay1', 'Overlay2',\n",
       "       'SPDist1', 'SPDist2', 'SPDist3', 'LtdHeight', 'SplitZone', 'BldgClass',\n",
       "       'LandUse', 'Easements', 'OwnerType', 'OwnerName', 'LotArea', 'BldgArea',\n",
       "       'ComArea', 'ResArea', 'OfficeArea', 'RetailArea', 'GarageArea',\n",
       "       'StrgeArea', 'FactryArea', 'OtherArea', 'AreaSource', 'NumBldgs',\n",
       "       'NumFloors', 'UnitsRes', 'UnitsTotal', 'LotFront', 'LotDepth',\n",
       "       'BldgFront', 'BldgDepth', 'Ext', 'ProxCode', 'IrrLotCode', 'LotType',\n",
       "       'BsmtCode', 'AssessLand', 'AssessTot', 'ExemptLand', 'ExemptTot',\n",
       "       'YearBuilt', 'YearAlter1', 'YearAlter2', 'HistDist', 'Landmark',\n",
       "       'BuiltFAR', 'ResidFAR', 'CommFAR', 'FacilFAR', 'BoroCode', 'BBL',\n",
       "       'CondoNo', 'Tract2010', 'XCoord', 'YCoord', 'ZoneMap', 'ZMCode',\n",
       "       'Sanborn', 'TaxMap', 'EDesigNum', 'APPBBL', 'APPDate', 'PLUTOMapID',\n",
       "       'Version', 'MAPPLUTO_F', 'SHAPE_Leng', 'SHAPE_Area', 'geometry'],\n",
       "      dtype='object')"
      ]
     },
     "execution_count": 10,
     "metadata": {},
     "output_type": "execute_result"
    }
   ],
   "source": [
    "mhp.columns"
   ]
  },
  {
   "cell_type": "markdown",
   "metadata": {},
   "source": [
    "### explore the column names\n",
    "EUI means energy use intensity, site energy and source energy see:https://www.energystar.gov/buildings/facility-owners-and-managers/existing-buildings/use-portfolio-manager/understand-metrics/difference\n",
    "\n",
    "kbtu = Kilo British Thermal Unit\n",
    "\n",
    "ft2 = square feet\n",
    "\n",
    "## Based on the common sense and the research target, select the columns we want:\n",
    "- Common column: BBL\n",
    "- Energy (per ft2)\n",
    "- Area (ft2)\n",
    "- Units"
   ]
  },
  {
   "cell_type": "code",
   "execution_count": 11,
   "metadata": {
    "collapsed": false
   },
   "outputs": [],
   "source": [
    "nrg1 = nrg[['nyc_borough_block_and_lot_bbl', 'reported_property_floor_area_building_s_ft',\n",
    "          'site_eui_kbtu_ft2', 'energy_star_score']]\n",
    "\n"
   ]
  },
  {
   "cell_type": "code",
   "execution_count": 12,
   "metadata": {
    "collapsed": true
   },
   "outputs": [],
   "source": [
    "mhp1 = mhp[['UnitsTotal', 'UnitsRes', 'BBL', 'YearBuilt']]"
   ]
  },
  {
   "cell_type": "markdown",
   "metadata": {},
   "source": [
    "#### explore and clean nrg1 data table"
   ]
  },
  {
   "cell_type": "code",
   "execution_count": 13,
   "metadata": {
    "collapsed": true
   },
   "outputs": [],
   "source": [
    "nrg1.is_copy = False\n",
    "nrg1.rename(columns = {'nyc_borough_block_and_lot_bbl':'BBL', \n",
    "                      'reported_property_floor_area_building_s_ft':'area_ft2'}, inplace = True)"
   ]
  },
  {
   "cell_type": "code",
   "execution_count": 14,
   "metadata": {
    "collapsed": false
   },
   "outputs": [
    {
     "data": {
      "text/plain": [
       "(1000, 4)"
      ]
     },
     "execution_count": 14,
     "metadata": {},
     "output_type": "execute_result"
    }
   ],
   "source": [
    "nrg1.shape"
   ]
  },
  {
   "cell_type": "code",
   "execution_count": 15,
   "metadata": {
    "collapsed": false
   },
   "outputs": [
    {
     "data": {
      "text/html": [
       "<div>\n",
       "<table border=\"1\" class=\"dataframe\">\n",
       "  <thead>\n",
       "    <tr style=\"text-align: right;\">\n",
       "      <th></th>\n",
       "      <th>BBL</th>\n",
       "      <th>area_ft2</th>\n",
       "      <th>site_eui_kbtu_ft2</th>\n",
       "      <th>energy_star_score</th>\n",
       "    </tr>\n",
       "  </thead>\n",
       "  <tbody>\n",
       "    <tr>\n",
       "      <th>0</th>\n",
       "      <td>1000410001</td>\n",
       "      <td>918919</td>\n",
       "      <td>NaN</td>\n",
       "      <td>Not Available</td>\n",
       "    </tr>\n",
       "    <tr>\n",
       "      <th>1</th>\n",
       "      <td>4021460028</td>\n",
       "      <td>#N/A</td>\n",
       "      <td>NaN</td>\n",
       "      <td>NaN</td>\n",
       "    </tr>\n",
       "    <tr>\n",
       "      <th>2</th>\n",
       "      <td>2027620097</td>\n",
       "      <td>64200</td>\n",
       "      <td>NaN</td>\n",
       "      <td>Not Available</td>\n",
       "    </tr>\n",
       "    <tr>\n",
       "      <th>3</th>\n",
       "      <td>1006700001</td>\n",
       "      <td>#N/A</td>\n",
       "      <td>NaN</td>\n",
       "      <td>NaN</td>\n",
       "    </tr>\n",
       "    <tr>\n",
       "      <th>4</th>\n",
       "      <td>2048300034</td>\n",
       "      <td>50000</td>\n",
       "      <td>NaN</td>\n",
       "      <td>Not Available</td>\n",
       "    </tr>\n",
       "  </tbody>\n",
       "</table>\n",
       "</div>"
      ],
      "text/plain": [
       "          BBL area_ft2 site_eui_kbtu_ft2 energy_star_score\n",
       "0  1000410001   918919               NaN     Not Available\n",
       "1  4021460028     #N/A               NaN               NaN\n",
       "2  2027620097    64200               NaN     Not Available\n",
       "3  1006700001     #N/A               NaN               NaN\n",
       "4  2048300034    50000               NaN     Not Available"
      ]
     },
     "execution_count": 15,
     "metadata": {},
     "output_type": "execute_result"
    }
   ],
   "source": [
    "nrg1.head()"
   ]
  },
  {
   "cell_type": "code",
   "execution_count": 16,
   "metadata": {
    "collapsed": false
   },
   "outputs": [
    {
     "data": {
      "text/html": [
       "<div>\n",
       "<table border=\"1\" class=\"dataframe\">\n",
       "  <thead>\n",
       "    <tr style=\"text-align: right;\">\n",
       "      <th></th>\n",
       "      <th>BBL</th>\n",
       "      <th>area_ft2</th>\n",
       "      <th>site_eui_kbtu_ft2</th>\n",
       "      <th>energy_star_score</th>\n",
       "    </tr>\n",
       "  </thead>\n",
       "  <tbody>\n",
       "    <tr>\n",
       "      <th>count</th>\n",
       "      <td>997</td>\n",
       "      <td>1000</td>\n",
       "      <td>840</td>\n",
       "      <td>969</td>\n",
       "    </tr>\n",
       "    <tr>\n",
       "      <th>unique</th>\n",
       "      <td>973</td>\n",
       "      <td>895</td>\n",
       "      <td>617</td>\n",
       "      <td>79</td>\n",
       "    </tr>\n",
       "    <tr>\n",
       "      <th>top</th>\n",
       "      <td>1005230038</td>\n",
       "      <td>#N/A</td>\n",
       "      <td>See Primary BBL</td>\n",
       "      <td>Not Available</td>\n",
       "    </tr>\n",
       "    <tr>\n",
       "      <th>freq</th>\n",
       "      <td>2</td>\n",
       "      <td>33</td>\n",
       "      <td>16</td>\n",
       "      <td>654</td>\n",
       "    </tr>\n",
       "  </tbody>\n",
       "</table>\n",
       "</div>"
      ],
      "text/plain": [
       "               BBL area_ft2 site_eui_kbtu_ft2 energy_star_score\n",
       "count          997     1000               840               969\n",
       "unique         973      895               617                79\n",
       "top     1005230038     #N/A   See Primary BBL     Not Available\n",
       "freq             2       33                16               654"
      ]
     },
     "execution_count": 16,
     "metadata": {},
     "output_type": "execute_result"
    }
   ],
   "source": [
    "nrg1.describe()"
   ]
  },
  {
   "cell_type": "code",
   "execution_count": 17,
   "metadata": {
    "collapsed": false
   },
   "outputs": [
    {
     "data": {
      "text/html": [
       "<div>\n",
       "<table border=\"1\" class=\"dataframe\">\n",
       "  <thead>\n",
       "    <tr style=\"text-align: right;\">\n",
       "      <th></th>\n",
       "      <th>BBL</th>\n",
       "      <th>area_ft2</th>\n",
       "      <th>site_eui_kbtu_ft2</th>\n",
       "    </tr>\n",
       "  </thead>\n",
       "  <tbody>\n",
       "    <tr>\n",
       "      <th>count</th>\n",
       "      <td>820</td>\n",
       "      <td>820</td>\n",
       "      <td>820</td>\n",
       "    </tr>\n",
       "    <tr>\n",
       "      <th>unique</th>\n",
       "      <td>805</td>\n",
       "      <td>783</td>\n",
       "      <td>614</td>\n",
       "    </tr>\n",
       "    <tr>\n",
       "      <th>top</th>\n",
       "      <td>1000287501</td>\n",
       "      <td>60000</td>\n",
       "      <td>77.7</td>\n",
       "    </tr>\n",
       "    <tr>\n",
       "      <th>freq</th>\n",
       "      <td>2</td>\n",
       "      <td>6</td>\n",
       "      <td>6</td>\n",
       "    </tr>\n",
       "  </tbody>\n",
       "</table>\n",
       "</div>"
      ],
      "text/plain": [
       "               BBL area_ft2 site_eui_kbtu_ft2\n",
       "count          820      820               820\n",
       "unique         805      783               614\n",
       "top     1000287501    60000              77.7\n",
       "freq             2        6                 6"
      ]
     },
     "execution_count": 17,
     "metadata": {},
     "output_type": "execute_result"
    }
   ],
   "source": [
    "## delete the useless data of site_eui\n",
    "## delete na values\n",
    "## delete energy_star_score\n",
    "nrg2 = nrg1[(nrg1['site_eui_kbtu_ft2'] != 'See Primary BBL') & (nrg1['area_ft2'] != '#N/A')]\n",
    "nrg2.is_copy = False\n",
    "nrg2.drop(['energy_star_score'], axis = 1, inplace = True)\n",
    "nrg2 = nrg2.dropna()\n",
    "nrg2.describe()"
   ]
  },
  {
   "cell_type": "code",
   "execution_count": 18,
   "metadata": {
    "collapsed": false
   },
   "outputs": [],
   "source": [
    "## for merged, the table need to transform datatype into float\n",
    "try:\n",
    "    nrg2 = nrg2.astype(float)\n",
    "    # we could also use: pd.to_numeric(df2['BBL'], errors = 'coerce')\n",
    "    # but it cannot used in several columns one time\n",
    "except:\n",
    "    for i in list(nrg2.columns):\n",
    "        a = 0\n",
    "        for j in nrg2.loc[:,i]:\n",
    "            a += 1\n",
    "            try:\n",
    "                float(j)\n",
    "            except:\n",
    "                print(i, a-1, j)\n",
    "    "
   ]
  },
  {
   "cell_type": "code",
   "execution_count": 19,
   "metadata": {
    "collapsed": false
   },
   "outputs": [
    {
     "data": {
      "text/html": [
       "<div>\n",
       "<table border=\"1\" class=\"dataframe\">\n",
       "  <thead>\n",
       "    <tr style=\"text-align: right;\">\n",
       "      <th></th>\n",
       "      <th>BBL</th>\n",
       "      <th>area_ft2</th>\n",
       "      <th>site_eui_kbtu_ft2</th>\n",
       "    </tr>\n",
       "  </thead>\n",
       "  <tbody>\n",
       "    <tr>\n",
       "      <th>16</th>\n",
       "      <td>1.013110e+09</td>\n",
       "      <td>330000.0</td>\n",
       "      <td>125.4</td>\n",
       "    </tr>\n",
       "    <tr>\n",
       "      <th>30</th>\n",
       "      <td>2.022150e+09</td>\n",
       "      <td>342048.0</td>\n",
       "      <td>6224.5</td>\n",
       "    </tr>\n",
       "    <tr>\n",
       "      <th>44</th>\n",
       "      <td>1.010140e+09</td>\n",
       "      <td>841709.0</td>\n",
       "      <td>154.9</td>\n",
       "    </tr>\n",
       "    <tr>\n",
       "      <th>45</th>\n",
       "      <td>4.002520e+09</td>\n",
       "      <td>390400.0</td>\n",
       "      <td>46.0</td>\n",
       "    </tr>\n",
       "    <tr>\n",
       "      <th>56</th>\n",
       "      <td>4.004370e+09</td>\n",
       "      <td>528060.0</td>\n",
       "      <td>66.2</td>\n",
       "    </tr>\n",
       "  </tbody>\n",
       "</table>\n",
       "</div>"
      ],
      "text/plain": [
       "             BBL  area_ft2  site_eui_kbtu_ft2\n",
       "16  1.013110e+09  330000.0              125.4\n",
       "30  2.022150e+09  342048.0             6224.5\n",
       "44  1.010140e+09  841709.0              154.9\n",
       "45  4.002520e+09  390400.0               46.0\n",
       "56  4.004370e+09  528060.0               66.2"
      ]
     },
     "execution_count": 19,
     "metadata": {},
     "output_type": "execute_result"
    }
   ],
   "source": [
    "nrg2.head()"
   ]
  },
  {
   "cell_type": "code",
   "execution_count": 20,
   "metadata": {
    "collapsed": false
   },
   "outputs": [
    {
     "data": {
      "text/html": [
       "<div>\n",
       "<table border=\"1\" class=\"dataframe\">\n",
       "  <thead>\n",
       "    <tr style=\"text-align: right;\">\n",
       "      <th></th>\n",
       "      <th>BBL</th>\n",
       "      <th>area_ft2</th>\n",
       "      <th>site_eui_kbtu_ft2</th>\n",
       "    </tr>\n",
       "  </thead>\n",
       "  <tbody>\n",
       "    <tr>\n",
       "      <th>0</th>\n",
       "      <td>1.013110e+09</td>\n",
       "      <td>330000.0</td>\n",
       "      <td>125.4</td>\n",
       "    </tr>\n",
       "    <tr>\n",
       "      <th>1</th>\n",
       "      <td>2.022150e+09</td>\n",
       "      <td>342048.0</td>\n",
       "      <td>6224.5</td>\n",
       "    </tr>\n",
       "    <tr>\n",
       "      <th>2</th>\n",
       "      <td>1.010140e+09</td>\n",
       "      <td>841709.0</td>\n",
       "      <td>154.9</td>\n",
       "    </tr>\n",
       "    <tr>\n",
       "      <th>3</th>\n",
       "      <td>4.002520e+09</td>\n",
       "      <td>390400.0</td>\n",
       "      <td>46.0</td>\n",
       "    </tr>\n",
       "    <tr>\n",
       "      <th>4</th>\n",
       "      <td>4.004370e+09</td>\n",
       "      <td>528060.0</td>\n",
       "      <td>66.2</td>\n",
       "    </tr>\n",
       "  </tbody>\n",
       "</table>\n",
       "</div>"
      ],
      "text/plain": [
       "            BBL  area_ft2  site_eui_kbtu_ft2\n",
       "0  1.013110e+09  330000.0              125.4\n",
       "1  2.022150e+09  342048.0             6224.5\n",
       "2  1.010140e+09  841709.0              154.9\n",
       "3  4.002520e+09  390400.0               46.0\n",
       "4  4.004370e+09  528060.0               66.2"
      ]
     },
     "execution_count": 20,
     "metadata": {},
     "output_type": "execute_result"
    }
   ],
   "source": [
    "# after cleaning, the index needs reset\n",
    "nrg2.reset_index(drop = True, inplace = True)\n",
    "nrg2.head()"
   ]
  },
  {
   "cell_type": "code",
   "execution_count": 21,
   "metadata": {
    "collapsed": false
   },
   "outputs": [
    {
     "data": {
      "text/plain": [
       "(820, 3)"
      ]
     },
     "execution_count": 21,
     "metadata": {},
     "output_type": "execute_result"
    }
   ],
   "source": [
    "nrg2.shape"
   ]
  },
  {
   "cell_type": "markdown",
   "metadata": {},
   "source": [
    "### explore mhp1 data table"
   ]
  },
  {
   "cell_type": "code",
   "execution_count": 22,
   "metadata": {
    "collapsed": false
   },
   "outputs": [
    {
     "data": {
      "text/html": [
       "<div>\n",
       "<table border=\"1\" class=\"dataframe\">\n",
       "  <thead>\n",
       "    <tr style=\"text-align: right;\">\n",
       "      <th></th>\n",
       "      <th>UnitsTotal</th>\n",
       "      <th>UnitsRes</th>\n",
       "      <th>BBL</th>\n",
       "      <th>YearBuilt</th>\n",
       "    </tr>\n",
       "  </thead>\n",
       "  <tbody>\n",
       "    <tr>\n",
       "      <th>count</th>\n",
       "      <td>42686.000000</td>\n",
       "      <td>42686.000000</td>\n",
       "      <td>4.268600e+04</td>\n",
       "      <td>42686.000000</td>\n",
       "    </tr>\n",
       "    <tr>\n",
       "      <th>mean</th>\n",
       "      <td>24.489903</td>\n",
       "      <td>21.628895</td>\n",
       "      <td>1.012295e+09</td>\n",
       "      <td>1814.429626</td>\n",
       "    </tr>\n",
       "    <tr>\n",
       "      <th>std</th>\n",
       "      <td>92.654779</td>\n",
       "      <td>89.318941</td>\n",
       "      <td>6.104002e+06</td>\n",
       "      <td>440.431674</td>\n",
       "    </tr>\n",
       "    <tr>\n",
       "      <th>min</th>\n",
       "      <td>0.000000</td>\n",
       "      <td>0.000000</td>\n",
       "      <td>1.000010e+09</td>\n",
       "      <td>0.000000</td>\n",
       "    </tr>\n",
       "    <tr>\n",
       "      <th>25%</th>\n",
       "      <td>2.000000</td>\n",
       "      <td>1.000000</td>\n",
       "      <td>1.007000e+09</td>\n",
       "      <td>1900.000000</td>\n",
       "    </tr>\n",
       "    <tr>\n",
       "      <th>50%</th>\n",
       "      <td>8.000000</td>\n",
       "      <td>6.000000</td>\n",
       "      <td>1.012510e+09</td>\n",
       "      <td>1910.000000</td>\n",
       "    </tr>\n",
       "    <tr>\n",
       "      <th>75%</th>\n",
       "      <td>20.000000</td>\n",
       "      <td>18.000000</td>\n",
       "      <td>1.017560e+09</td>\n",
       "      <td>1925.000000</td>\n",
       "    </tr>\n",
       "    <tr>\n",
       "      <th>max</th>\n",
       "      <td>8805.000000</td>\n",
       "      <td>8759.000000</td>\n",
       "      <td>1.022552e+09</td>\n",
       "      <td>2040.000000</td>\n",
       "    </tr>\n",
       "  </tbody>\n",
       "</table>\n",
       "</div>"
      ],
      "text/plain": [
       "         UnitsTotal      UnitsRes           BBL     YearBuilt\n",
       "count  42686.000000  42686.000000  4.268600e+04  42686.000000\n",
       "mean      24.489903     21.628895  1.012295e+09   1814.429626\n",
       "std       92.654779     89.318941  6.104002e+06    440.431674\n",
       "min        0.000000      0.000000  1.000010e+09      0.000000\n",
       "25%        2.000000      1.000000  1.007000e+09   1900.000000\n",
       "50%        8.000000      6.000000  1.012510e+09   1910.000000\n",
       "75%       20.000000     18.000000  1.017560e+09   1925.000000\n",
       "max     8805.000000   8759.000000  1.022552e+09   2040.000000"
      ]
     },
     "execution_count": 22,
     "metadata": {},
     "output_type": "execute_result"
    }
   ],
   "source": [
    "# results shows that all columns data is numeric\n",
    "mhp1.describe()"
   ]
  },
  {
   "cell_type": "markdown",
   "metadata": {},
   "source": [
    "### Merge two datatables"
   ]
  },
  {
   "cell_type": "code",
   "execution_count": 23,
   "metadata": {
    "collapsed": false
   },
   "outputs": [
    {
     "data": {
      "text/html": [
       "<div>\n",
       "<table border=\"1\" class=\"dataframe\">\n",
       "  <thead>\n",
       "    <tr style=\"text-align: right;\">\n",
       "      <th></th>\n",
       "      <th>BBL</th>\n",
       "      <th>area_ft2</th>\n",
       "      <th>site_eui_kbtu_ft2</th>\n",
       "      <th>UnitsTotal</th>\n",
       "      <th>UnitsRes</th>\n",
       "      <th>YearBuilt</th>\n",
       "    </tr>\n",
       "  </thead>\n",
       "  <tbody>\n",
       "    <tr>\n",
       "      <th>0</th>\n",
       "      <td>1.013110e+09</td>\n",
       "      <td>330000.0</td>\n",
       "      <td>125.4</td>\n",
       "      <td>56</td>\n",
       "      <td>0</td>\n",
       "      <td>1977</td>\n",
       "    </tr>\n",
       "    <tr>\n",
       "      <th>1</th>\n",
       "      <td>1.010140e+09</td>\n",
       "      <td>841709.0</td>\n",
       "      <td>154.9</td>\n",
       "      <td>2</td>\n",
       "      <td>0</td>\n",
       "      <td>1999</td>\n",
       "    </tr>\n",
       "    <tr>\n",
       "      <th>2</th>\n",
       "      <td>1.007660e+09</td>\n",
       "      <td>59468.0</td>\n",
       "      <td>122.3</td>\n",
       "      <td>8</td>\n",
       "      <td>0</td>\n",
       "      <td>1912</td>\n",
       "    </tr>\n",
       "    <tr>\n",
       "      <th>3</th>\n",
       "      <td>1.008150e+09</td>\n",
       "      <td>364000.0</td>\n",
       "      <td>117.0</td>\n",
       "      <td>24</td>\n",
       "      <td>0</td>\n",
       "      <td>1954</td>\n",
       "    </tr>\n",
       "    <tr>\n",
       "      <th>4</th>\n",
       "      <td>1.005050e+09</td>\n",
       "      <td>235370.0</td>\n",
       "      <td>82.1</td>\n",
       "      <td>24</td>\n",
       "      <td>0</td>\n",
       "      <td>1926</td>\n",
       "    </tr>\n",
       "  </tbody>\n",
       "</table>\n",
       "</div>"
      ],
      "text/plain": [
       "            BBL  area_ft2  site_eui_kbtu_ft2  UnitsTotal  UnitsRes  YearBuilt\n",
       "0  1.013110e+09  330000.0              125.4          56         0       1977\n",
       "1  1.010140e+09  841709.0              154.9           2         0       1999\n",
       "2  1.007660e+09   59468.0              122.3           8         0       1912\n",
       "3  1.008150e+09  364000.0              117.0          24         0       1954\n",
       "4  1.005050e+09  235370.0               82.1          24         0       1926"
      ]
     },
     "execution_count": 23,
     "metadata": {},
     "output_type": "execute_result"
    }
   ],
   "source": [
    "m = pd.merge(nrg2, mhp1, how = 'inner' )\n",
    "m.head()"
   ]
  },
  {
   "cell_type": "code",
   "execution_count": 24,
   "metadata": {
    "collapsed": false
   },
   "outputs": [
    {
     "data": {
      "text/plain": [
       "(740, 6)"
      ]
     },
     "execution_count": 24,
     "metadata": {},
     "output_type": "execute_result"
    }
   ],
   "source": [
    "m.shape"
   ]
  },
  {
   "cell_type": "code",
   "execution_count": 25,
   "metadata": {
    "collapsed": false
   },
   "outputs": [
    {
     "data": {
      "text/html": [
       "<div>\n",
       "<table border=\"1\" class=\"dataframe\">\n",
       "  <thead>\n",
       "    <tr style=\"text-align: right;\">\n",
       "      <th></th>\n",
       "      <th>BBL</th>\n",
       "      <th>area_ft2</th>\n",
       "      <th>site_eui_kbtu_ft2</th>\n",
       "      <th>UnitsTotal</th>\n",
       "      <th>UnitsRes</th>\n",
       "      <th>YearBuilt</th>\n",
       "    </tr>\n",
       "  </thead>\n",
       "  <tbody>\n",
       "    <tr>\n",
       "      <th>count</th>\n",
       "      <td>7.400000e+02</td>\n",
       "      <td>7.400000e+02</td>\n",
       "      <td>7.400000e+02</td>\n",
       "      <td>740.000000</td>\n",
       "      <td>740.000000</td>\n",
       "      <td>740.000000</td>\n",
       "    </tr>\n",
       "    <tr>\n",
       "      <th>mean</th>\n",
       "      <td>1.005111e+09</td>\n",
       "      <td>2.367356e+05</td>\n",
       "      <td>4.608812e+03</td>\n",
       "      <td>74.463514</td>\n",
       "      <td>61.405405</td>\n",
       "      <td>1928.652703</td>\n",
       "    </tr>\n",
       "    <tr>\n",
       "      <th>std</th>\n",
       "      <td>3.370238e+06</td>\n",
       "      <td>3.256324e+05</td>\n",
       "      <td>1.110751e+05</td>\n",
       "      <td>106.956025</td>\n",
       "      <td>107.554363</td>\n",
       "      <td>104.514068</td>\n",
       "    </tr>\n",
       "    <tr>\n",
       "      <th>min</th>\n",
       "      <td>1.000048e+09</td>\n",
       "      <td>5.900000e+03</td>\n",
       "      <td>0.000000e+00</td>\n",
       "      <td>0.000000</td>\n",
       "      <td>0.000000</td>\n",
       "      <td>0.000000</td>\n",
       "    </tr>\n",
       "    <tr>\n",
       "      <th>25%</th>\n",
       "      <td>1.002155e+09</td>\n",
       "      <td>7.548050e+04</td>\n",
       "      <td>6.050000e+01</td>\n",
       "      <td>10.750000</td>\n",
       "      <td>0.000000</td>\n",
       "      <td>1914.000000</td>\n",
       "    </tr>\n",
       "    <tr>\n",
       "      <th>50%</th>\n",
       "      <td>1.005550e+09</td>\n",
       "      <td>1.200395e+05</td>\n",
       "      <td>7.760000e+01</td>\n",
       "      <td>34.000000</td>\n",
       "      <td>11.000000</td>\n",
       "      <td>1927.000000</td>\n",
       "    </tr>\n",
       "    <tr>\n",
       "      <th>75%</th>\n",
       "      <td>1.007530e+09</td>\n",
       "      <td>2.410170e+05</td>\n",
       "      <td>9.912500e+01</td>\n",
       "      <td>92.000000</td>\n",
       "      <td>76.000000</td>\n",
       "      <td>1956.000000</td>\n",
       "    </tr>\n",
       "    <tr>\n",
       "      <th>max</th>\n",
       "      <td>1.022470e+09</td>\n",
       "      <td>2.787061e+06</td>\n",
       "      <td>3.018493e+06</td>\n",
       "      <td>842.000000</td>\n",
       "      <td>839.000000</td>\n",
       "      <td>2012.000000</td>\n",
       "    </tr>\n",
       "  </tbody>\n",
       "</table>\n",
       "</div>"
      ],
      "text/plain": [
       "                BBL      area_ft2  site_eui_kbtu_ft2  UnitsTotal    UnitsRes  \\\n",
       "count  7.400000e+02  7.400000e+02       7.400000e+02  740.000000  740.000000   \n",
       "mean   1.005111e+09  2.367356e+05       4.608812e+03   74.463514   61.405405   \n",
       "std    3.370238e+06  3.256324e+05       1.110751e+05  106.956025  107.554363   \n",
       "min    1.000048e+09  5.900000e+03       0.000000e+00    0.000000    0.000000   \n",
       "25%    1.002155e+09  7.548050e+04       6.050000e+01   10.750000    0.000000   \n",
       "50%    1.005550e+09  1.200395e+05       7.760000e+01   34.000000   11.000000   \n",
       "75%    1.007530e+09  2.410170e+05       9.912500e+01   92.000000   76.000000   \n",
       "max    1.022470e+09  2.787061e+06       3.018493e+06  842.000000  839.000000   \n",
       "\n",
       "         YearBuilt  \n",
       "count   740.000000  \n",
       "mean   1928.652703  \n",
       "std     104.514068  \n",
       "min       0.000000  \n",
       "25%    1914.000000  \n",
       "50%    1927.000000  \n",
       "75%    1956.000000  \n",
       "max    2012.000000  "
      ]
     },
     "execution_count": 25,
     "metadata": {},
     "output_type": "execute_result"
    }
   ],
   "source": [
    "m.describe()"
   ]
  },
  {
   "cell_type": "markdown",
   "metadata": {},
   "source": [
    "## Use scatter matrix to see the whole picture"
   ]
  },
  {
   "cell_type": "code",
   "execution_count": 26,
   "metadata": {
    "collapsed": false
   },
   "outputs": [
    {
     "data": {
      "text/plain": [
       "array([[<matplotlib.axes._subplots.AxesSubplot object at 0x11ca022b0>,\n",
       "        <matplotlib.axes._subplots.AxesSubplot object at 0x11ca472e8>,\n",
       "        <matplotlib.axes._subplots.AxesSubplot object at 0x11ca4f9e8>,\n",
       "        <matplotlib.axes._subplots.AxesSubplot object at 0x11caccb38>,\n",
       "        <matplotlib.axes._subplots.AxesSubplot object at 0x11cae5358>,\n",
       "        <matplotlib.axes._subplots.AxesSubplot object at 0x11cae5438>],\n",
       "       [<matplotlib.axes._subplots.AxesSubplot object at 0x11cb7c5c0>,\n",
       "        <matplotlib.axes._subplots.AxesSubplot object at 0x11cbb2b70>,\n",
       "        <matplotlib.axes._subplots.AxesSubplot object at 0x11cbee7f0>,\n",
       "        <matplotlib.axes._subplots.AxesSubplot object at 0x11cc22b00>,\n",
       "        <matplotlib.axes._subplots.AxesSubplot object at 0x11cc619e8>,\n",
       "        <matplotlib.axes._subplots.AxesSubplot object at 0x11cc8d898>],\n",
       "       [<matplotlib.axes._subplots.AxesSubplot object at 0x11cccdf60>,\n",
       "        <matplotlib.axes._subplots.AxesSubplot object at 0x11ccfc080>,\n",
       "        <matplotlib.axes._subplots.AxesSubplot object at 0x11cd3bc18>,\n",
       "        <matplotlib.axes._subplots.AxesSubplot object at 0x11cd3d6d8>,\n",
       "        <matplotlib.axes._subplots.AxesSubplot object at 0x11cdaca20>,\n",
       "        <matplotlib.axes._subplots.AxesSubplot object at 0x11cdeb860>],\n",
       "       [<matplotlib.axes._subplots.AxesSubplot object at 0x11ce1f9e8>,\n",
       "        <matplotlib.axes._subplots.AxesSubplot object at 0x11ce5c630>,\n",
       "        <matplotlib.axes._subplots.AxesSubplot object at 0x11ce91588>,\n",
       "        <matplotlib.axes._subplots.AxesSubplot object at 0x11ceccf98>,\n",
       "        <matplotlib.axes._subplots.AxesSubplot object at 0x11cf02c18>,\n",
       "        <matplotlib.axes._subplots.AxesSubplot object at 0x11cf43ac8>],\n",
       "       [<matplotlib.axes._subplots.AxesSubplot object at 0x11cf782b0>,\n",
       "        <matplotlib.axes._subplots.AxesSubplot object at 0x11cfb6eb8>,\n",
       "        <matplotlib.axes._subplots.AxesSubplot object at 0x11cfeb198>,\n",
       "        <matplotlib.axes._subplots.AxesSubplot object at 0x11d028c18>,\n",
       "        <matplotlib.axes._subplots.AxesSubplot object at 0x11d05bf60>,\n",
       "        <matplotlib.axes._subplots.AxesSubplot object at 0x11d09c940>],\n",
       "       [<matplotlib.axes._subplots.AxesSubplot object at 0x11d0a2e10>,\n",
       "        <matplotlib.axes._subplots.AxesSubplot object at 0x11d10d518>,\n",
       "        <matplotlib.axes._subplots.AxesSubplot object at 0x11d14b320>,\n",
       "        <matplotlib.axes._subplots.AxesSubplot object at 0x11d17cb38>,\n",
       "        <matplotlib.axes._subplots.AxesSubplot object at 0x11d1bbba8>,\n",
       "        <matplotlib.axes._subplots.AxesSubplot object at 0x11d1dfd68>]], dtype=object)"
      ]
     },
     "execution_count": 26,
     "metadata": {},
     "output_type": "execute_result"
    },
    {
     "data": {
      "image/png": "[encoded data removed]",
      "text/plain": [
       "<matplotlib.figure.Figure at 0x11ca0d7f0>"
      ]
     },
     "metadata": {},
     "output_type": "display_data"
    }
   ],
   "source": [
    "from pandas.tools.plotting import scatter_matrix\n",
    "scatter_matrix(m, figsize = (16, 16))\n",
    "## what happen? "
   ]
  },
  {
   "cell_type": "markdown",
   "metadata": {},
   "source": [
    "### Calculate the total energy consumption of each Building"
   ]
  },
  {
   "cell_type": "code",
   "execution_count": 27,
   "metadata": {
    "collapsed": true
   },
   "outputs": [],
   "source": [
    "m['nrg_kbtu'] = m.site_eui_kbtu_ft2 * m.area_ft2"
   ]
  },
  {
   "cell_type": "code",
   "execution_count": 28,
   "metadata": {
    "collapsed": false
   },
   "outputs": [
    {
     "data": {
      "text/html": [
       "<div>\n",
       "<table border=\"1\" class=\"dataframe\">\n",
       "  <thead>\n",
       "    <tr style=\"text-align: right;\">\n",
       "      <th></th>\n",
       "      <th>BBL</th>\n",
       "      <th>area_ft2</th>\n",
       "      <th>site_eui_kbtu_ft2</th>\n",
       "      <th>UnitsTotal</th>\n",
       "      <th>UnitsRes</th>\n",
       "      <th>YearBuilt</th>\n",
       "      <th>nrg_kbtu</th>\n",
       "    </tr>\n",
       "  </thead>\n",
       "  <tbody>\n",
       "    <tr>\n",
       "      <th>0</th>\n",
       "      <td>1.013110e+09</td>\n",
       "      <td>330000.0</td>\n",
       "      <td>125.4</td>\n",
       "      <td>56</td>\n",
       "      <td>0</td>\n",
       "      <td>1977</td>\n",
       "      <td>41382000.0</td>\n",
       "    </tr>\n",
       "    <tr>\n",
       "      <th>1</th>\n",
       "      <td>1.010140e+09</td>\n",
       "      <td>841709.0</td>\n",
       "      <td>154.9</td>\n",
       "      <td>2</td>\n",
       "      <td>0</td>\n",
       "      <td>1999</td>\n",
       "      <td>130380724.1</td>\n",
       "    </tr>\n",
       "    <tr>\n",
       "      <th>2</th>\n",
       "      <td>1.007660e+09</td>\n",
       "      <td>59468.0</td>\n",
       "      <td>122.3</td>\n",
       "      <td>8</td>\n",
       "      <td>0</td>\n",
       "      <td>1912</td>\n",
       "      <td>7272936.4</td>\n",
       "    </tr>\n",
       "    <tr>\n",
       "      <th>3</th>\n",
       "      <td>1.008150e+09</td>\n",
       "      <td>364000.0</td>\n",
       "      <td>117.0</td>\n",
       "      <td>24</td>\n",
       "      <td>0</td>\n",
       "      <td>1954</td>\n",
       "      <td>42588000.0</td>\n",
       "    </tr>\n",
       "    <tr>\n",
       "      <th>4</th>\n",
       "      <td>1.005050e+09</td>\n",
       "      <td>235370.0</td>\n",
       "      <td>82.1</td>\n",
       "      <td>24</td>\n",
       "      <td>0</td>\n",
       "      <td>1926</td>\n",
       "      <td>19323877.0</td>\n",
       "    </tr>\n",
       "  </tbody>\n",
       "</table>\n",
       "</div>"
      ],
      "text/plain": [
       "            BBL  area_ft2  site_eui_kbtu_ft2  UnitsTotal  UnitsRes  YearBuilt  \\\n",
       "0  1.013110e+09  330000.0              125.4          56         0       1977   \n",
       "1  1.010140e+09  841709.0              154.9           2         0       1999   \n",
       "2  1.007660e+09   59468.0              122.3           8         0       1912   \n",
       "3  1.008150e+09  364000.0              117.0          24         0       1954   \n",
       "4  1.005050e+09  235370.0               82.1          24         0       1926   \n",
       "\n",
       "      nrg_kbtu  \n",
       "0   41382000.0  \n",
       "1  130380724.1  \n",
       "2    7272936.4  \n",
       "3   42588000.0  \n",
       "4   19323877.0  "
      ]
     },
     "execution_count": 28,
     "metadata": {},
     "output_type": "execute_result"
    }
   ],
   "source": [
    "m.head()"
   ]
  },
  {
   "cell_type": "markdown",
   "metadata": {},
   "source": [
    "## plot the 'Energy Consumption V.S. units.'"
   ]
  },
  {
   "cell_type": "code",
   "execution_count": 29,
   "metadata": {
    "collapsed": false,
    "scrolled": true
   },
   "outputs": [
    {
     "data": {
      "text/plain": [
       "<matplotlib.text.Text at 0x11d48bf98>"
      ]
     },
     "execution_count": 29,
     "metadata": {},
     "output_type": "execute_result"
    },
    {
     "data": {
      "image/png": "[encoded data removed]",
      "text/plain": [
       "<matplotlib.figure.Figure at 0x11d236470>"
      ]
     },
     "metadata": {},
     "output_type": "display_data"
    }
   ],
   "source": [
    "plt.figure(figsize = (5, 5))\n",
    "plt.scatter(m.UnitsTotal, m.nrg_kbtu)\n",
    "plt.xlabel('Number of units in Building', fontsize = 16)\n",
    "plt.ylabel('Energy consumption per building(kbtu)', fontsize = 16)\n",
    "plt.title('Energy Consumption V.S. units.', fontsize = 16)\n"
   ]
  },
  {
   "cell_type": "code",
   "execution_count": 30,
   "metadata": {
    "collapsed": false
   },
   "outputs": [
    {
     "data": {
      "text/plain": [
       "<matplotlib.text.Text at 0x11d5191d0>"
      ]
     },
     "execution_count": 30,
     "metadata": {},
     "output_type": "execute_result"
    },
    {
     "data": {
      "image/png": "[encoded data removed]",
      "text/plain": [
       "<matplotlib.figure.Figure at 0x11d4f18d0>"
      ]
     },
     "metadata": {},
     "output_type": "display_data"
    }
   ],
   "source": [
    "## zoom in on the y axis to 10**9\n",
    "\n",
    "plt.figure(figsize = (8, 8))\n",
    "plt.ylim([100, np.power(10, 9)])\n",
    "plt.scatter(m.UnitsTotal, m.nrg_kbtu)\n",
    "plt.xlabel('Number of units in Building', fontsize = 16)\n",
    "plt.ylabel('Energy consumption per building(kbtu)', fontsize = 16)\n",
    "plt.title('Energy Consumption V.S. units.', fontsize = 16)\n"
   ]
  },
  {
   "cell_type": "code",
   "execution_count": 31,
   "metadata": {
    "collapsed": false
   },
   "outputs": [
    {
     "data": {
      "text/plain": [
       "<matplotlib.text.Text at 0x11d566be0>"
      ]
     },
     "execution_count": 31,
     "metadata": {},
     "output_type": "execute_result"
    },
    {
     "data": {
      "image/png": "[encoded data removed]",
      "text/plain": [
       "<matplotlib.figure.Figure at 0x11d5139e8>"
      ]
     },
     "metadata": {},
     "output_type": "display_data"
    }
   ],
   "source": [
    "## zoom in more on the y axis to 10**8\n",
    "## seem better now\n",
    "\n",
    "plt.figure(figsize = (8, 8))\n",
    "plt.ylim([100, np.power(10, 8)])\n",
    "plt.scatter(m.UnitsTotal, m.nrg_kbtu)\n",
    "plt.xlabel('Number of units in Building', fontsize = 16)\n",
    "plt.ylabel('Energy consumption per building(kbtu)', fontsize = 16)\n",
    "plt.title('Energy Consumption V.S. units.', fontsize = 16)"
   ]
  },
  {
   "cell_type": "markdown",
   "metadata": {},
   "source": [
    "### deeper clean the merged table"
   ]
  },
  {
   "cell_type": "code",
   "execution_count": 32,
   "metadata": {
    "collapsed": false
   },
   "outputs": [
    {
     "data": {
      "text/html": [
       "<div>\n",
       "<table border=\"1\" class=\"dataframe\">\n",
       "  <thead>\n",
       "    <tr style=\"text-align: right;\">\n",
       "      <th></th>\n",
       "      <th>BBL</th>\n",
       "      <th>area_ft2</th>\n",
       "      <th>site_eui_kbtu_ft2</th>\n",
       "      <th>UnitsTotal</th>\n",
       "      <th>UnitsRes</th>\n",
       "      <th>YearBuilt</th>\n",
       "      <th>nrg_kbtu</th>\n",
       "    </tr>\n",
       "  </thead>\n",
       "  <tbody>\n",
       "    <tr>\n",
       "      <th>0</th>\n",
       "      <td>1.004870e+09</td>\n",
       "      <td>74536.0</td>\n",
       "      <td>48.5</td>\n",
       "      <td>11</td>\n",
       "      <td>9</td>\n",
       "      <td>1900</td>\n",
       "      <td>3614996.0</td>\n",
       "    </tr>\n",
       "    <tr>\n",
       "      <th>1</th>\n",
       "      <td>1.001790e+09</td>\n",
       "      <td>56000.0</td>\n",
       "      <td>61.2</td>\n",
       "      <td>11</td>\n",
       "      <td>0</td>\n",
       "      <td>1915</td>\n",
       "      <td>3427200.0</td>\n",
       "    </tr>\n",
       "    <tr>\n",
       "      <th>2</th>\n",
       "      <td>1.005458e+09</td>\n",
       "      <td>61237.0</td>\n",
       "      <td>100.6</td>\n",
       "      <td>11</td>\n",
       "      <td>10</td>\n",
       "      <td>1895</td>\n",
       "      <td>6160442.2</td>\n",
       "    </tr>\n",
       "    <tr>\n",
       "      <th>3</th>\n",
       "      <td>1.007738e+09</td>\n",
       "      <td>65664.0</td>\n",
       "      <td>111.9</td>\n",
       "      <td>12</td>\n",
       "      <td>12</td>\n",
       "      <td>1900</td>\n",
       "      <td>7347801.6</td>\n",
       "    </tr>\n",
       "    <tr>\n",
       "      <th>4</th>\n",
       "      <td>1.000130e+09</td>\n",
       "      <td>887690.0</td>\n",
       "      <td>77.5</td>\n",
       "      <td>12</td>\n",
       "      <td>0</td>\n",
       "      <td>1921</td>\n",
       "      <td>68795975.0</td>\n",
       "    </tr>\n",
       "  </tbody>\n",
       "</table>\n",
       "</div>"
      ],
      "text/plain": [
       "            BBL  area_ft2  site_eui_kbtu_ft2  UnitsTotal  UnitsRes  YearBuilt  \\\n",
       "0  1.004870e+09   74536.0               48.5          11         9       1900   \n",
       "1  1.001790e+09   56000.0               61.2          11         0       1915   \n",
       "2  1.005458e+09   61237.0              100.6          11        10       1895   \n",
       "3  1.007738e+09   65664.0              111.9          12        12       1900   \n",
       "4  1.000130e+09  887690.0               77.5          12         0       1921   \n",
       "\n",
       "     nrg_kbtu  \n",
       "0   3614996.0  \n",
       "1   3427200.0  \n",
       "2   6160442.2  \n",
       "3   7347801.6  \n",
       "4  68795975.0  "
      ]
     },
     "execution_count": 32,
     "metadata": {},
     "output_type": "execute_result"
    }
   ],
   "source": [
    "## exclude the smallest values and largest values\n",
    "m_cut = m[(m.UnitsTotal > 10)& (m.nrg_kbtu > np.power(10, 6)) & (m.nrg_kbtu < np.power(10, 8))]\n",
    "m_cut = m_cut.dropna()\n",
    "m_cut.sort_values(by = 'UnitsTotal', ascending = True, inplace = True)\n",
    "m_cut.reset_index(drop = True, inplace = True)\n",
    "m_cut.head()\n"
   ]
  },
  {
   "cell_type": "code",
   "execution_count": 33,
   "metadata": {
    "collapsed": false
   },
   "outputs": [
    {
     "data": {
      "text/plain": [
       "(531, 7)"
      ]
     },
     "execution_count": 33,
     "metadata": {},
     "output_type": "execute_result"
    }
   ],
   "source": [
    "m_cut.shape"
   ]
  },
  {
   "cell_type": "markdown",
   "metadata": {},
   "source": [
    "## plot log"
   ]
  },
  {
   "cell_type": "code",
   "execution_count": 34,
   "metadata": {
    "collapsed": false
   },
   "outputs": [
    {
     "data": {
      "text/plain": [
       "<matplotlib.text.Text at 0x11d55fa90>"
      ]
     },
     "execution_count": 34,
     "metadata": {},
     "output_type": "execute_result"
    },
    {
     "data": {
      "image/png": "[encoded data removed]",
      "text/plain": [
       "<matplotlib.figure.Figure at 0x11d55d710>"
      ]
     },
     "metadata": {},
     "output_type": "display_data"
    }
   ],
   "source": [
    "\n",
    "#plt.scatter(m2.UnitsTotal, m2.site_eu_kbtu, loglog=True)\n",
    "\n",
    "ax = m_cut.plot(kind = 'scatter', y = 'nrg_kbtu', x = 'UnitsTotal',  loglog=True, figsize = (8, 8))\n",
    "\n",
    "ax.set_ylim([np.power(10, 5), np.power(10, 9)])\n",
    "ax.set_xlabel('Number of units in Building', fontsize = 16)\n",
    "ax.set_ylabel('Energy consumption per building(kbtu)', fontsize = 16)\n",
    "ax.set_title('Energy Consumption V.S. units.', fontsize = 16)\n"
   ]
  },
  {
   "cell_type": "markdown",
   "metadata": {},
   "source": [
    "### It seems like there is a linear relationship between log(units) and log(energy consumption)"
   ]
  },
  {
   "cell_type": "markdown",
   "metadata": {},
   "source": [
    "## FIT"
   ]
  },
  {
   "cell_type": "markdown",
   "metadata": {},
   "source": [
    "\n",
    "\n",
    "1. **Fit a line** to Units vs Energy. The independent variable in this problem should be number of units, but try fit both Unity to energy and energy to unit.\n",
    "2. **Fit a line** to Energy vs Units.\n",
    "3. **Evaluate which is better by calculating the chi square**.  Can you compare these models with the likelihood ratio test? (hint: are they nested??) I provide a function to calculate the chi square or you can write your own.\n",
    "\n",
    "    The function is :\n",
    "    \n",
    "    chisq = $\\sum_i \\frac{(model(x_i) - data(x_i))^2 }{ error_i^2}$\n",
    "    \n",
    "    where the sum is over all datapoints, \n",
    "    \n",
    "    for the i-th value  model($x_i$) is the prediction, data($x_i$) the observation,\n",
    "    \n",
    "    and $error_i$ is $\\sqrt{data(x_i)}$\n",
    "    (but remember you worked in log space! What are the proper errors?? see next point)\n",
    "    \n",
    "4. *Assume Poisson statistics* for the errors on the *independent variable*. Poisson statistics means your uncertainty is the square root of your measurement. I wrote down the formula for the errors. Please explain why I wrote it as I did.\n",
    "\n",
    "5. **Fit a 2nd degree polynomial** to the Units vs Energy (with statsmodels.formulae.api.ols() for example passing the formula for a parabola, like we did in class. The formula for a 2nd deg polynomial is \n",
    "    $y = ax^2 + bx + c$ .\n",
    "\n",
    "6. **Compare the Units vs Energy line fit and the Units vs Energy 2-nd degree polynomial fit with the Likelihood ratio test**. The formula is:\n",
    "    \n",
    "    LR  =  -2 * log(Likelihood_Model1 / Likelihood_Model2) \n",
    "\n",
    "    or equivalently\n",
    "        \n",
    "    LR  =  -2 * (logLikelihood_Model1 - logLikelihood_Model2) \n",
    "    \n",
    "    where Model1 is the _least complex_ (fewer parameters).\n",
    "    \n",
    "    Th logLikelihood can be extracted from the model summary when using statsmodels. (Model1.llf)\n",
    "    \n",
    "    Compare this LR statistics to a chi sq table (for example http://passel.unl.edu/Image/Namuth-CovertDeana956176274/chi-sqaure%20distribution%20table.PNG) and say if *at alpha = 0.05* Model1 is preferable to Model2. The LR is chi^2 distributed with number of degrees of freedom $N_{DOF}$ = parameters_Model2 - parameters_Model1\n",
    "    \n",
    "    \n",
    "    Also if you used statsmodels for the fit you can use the \n",
    "    compare_lr_test() method of your fit and verify you got the right answer.  Use the method compare_lr_test() of the most complex model of the 2 and pass it the result of stats models for the simpler fit \n",
    "    (e.g. smf.ols(formula = ...).fit().compare_lr_test(sm.OLS(...).fit()))\n"
   ]
  },
  {
   "cell_type": "markdown",
   "metadata": {},
   "source": [
    "### fit energy(y) - units(x) and  units(x) ~ energy(y) "
   ]
  },
  {
   "cell_type": "code",
   "execution_count": 35,
   "metadata": {
    "collapsed": false
   },
   "outputs": [
    {
     "data": {
      "text/html": [
       "<div>\n",
       "<table border=\"1\" class=\"dataframe\">\n",
       "  <thead>\n",
       "    <tr style=\"text-align: right;\">\n",
       "      <th></th>\n",
       "      <th>BBL</th>\n",
       "      <th>area_ft2</th>\n",
       "      <th>site_eui_kbtu_ft2</th>\n",
       "      <th>UnitsTotal</th>\n",
       "      <th>UnitsRes</th>\n",
       "      <th>YearBuilt</th>\n",
       "      <th>nrg_kbtu</th>\n",
       "      <th>y_nrg</th>\n",
       "      <th>x_unit</th>\n",
       "    </tr>\n",
       "  </thead>\n",
       "  <tbody>\n",
       "    <tr>\n",
       "      <th>0</th>\n",
       "      <td>1.004870e+09</td>\n",
       "      <td>74536.0</td>\n",
       "      <td>48.5</td>\n",
       "      <td>11</td>\n",
       "      <td>9</td>\n",
       "      <td>1900</td>\n",
       "      <td>3614996.0</td>\n",
       "      <td>6.558108</td>\n",
       "      <td>1.041393</td>\n",
       "    </tr>\n",
       "    <tr>\n",
       "      <th>1</th>\n",
       "      <td>1.001790e+09</td>\n",
       "      <td>56000.0</td>\n",
       "      <td>61.2</td>\n",
       "      <td>11</td>\n",
       "      <td>0</td>\n",
       "      <td>1915</td>\n",
       "      <td>3427200.0</td>\n",
       "      <td>6.534939</td>\n",
       "      <td>1.041393</td>\n",
       "    </tr>\n",
       "    <tr>\n",
       "      <th>2</th>\n",
       "      <td>1.005458e+09</td>\n",
       "      <td>61237.0</td>\n",
       "      <td>100.6</td>\n",
       "      <td>11</td>\n",
       "      <td>10</td>\n",
       "      <td>1895</td>\n",
       "      <td>6160442.2</td>\n",
       "      <td>6.789612</td>\n",
       "      <td>1.041393</td>\n",
       "    </tr>\n",
       "    <tr>\n",
       "      <th>3</th>\n",
       "      <td>1.007738e+09</td>\n",
       "      <td>65664.0</td>\n",
       "      <td>111.9</td>\n",
       "      <td>12</td>\n",
       "      <td>12</td>\n",
       "      <td>1900</td>\n",
       "      <td>7347801.6</td>\n",
       "      <td>6.866157</td>\n",
       "      <td>1.079181</td>\n",
       "    </tr>\n",
       "    <tr>\n",
       "      <th>4</th>\n",
       "      <td>1.000130e+09</td>\n",
       "      <td>887690.0</td>\n",
       "      <td>77.5</td>\n",
       "      <td>12</td>\n",
       "      <td>0</td>\n",
       "      <td>1921</td>\n",
       "      <td>68795975.0</td>\n",
       "      <td>7.837563</td>\n",
       "      <td>1.079181</td>\n",
       "    </tr>\n",
       "  </tbody>\n",
       "</table>\n",
       "</div>"
      ],
      "text/plain": [
       "            BBL  area_ft2  site_eui_kbtu_ft2  UnitsTotal  UnitsRes  YearBuilt  \\\n",
       "0  1.004870e+09   74536.0               48.5          11         9       1900   \n",
       "1  1.001790e+09   56000.0               61.2          11         0       1915   \n",
       "2  1.005458e+09   61237.0              100.6          11        10       1895   \n",
       "3  1.007738e+09   65664.0              111.9          12        12       1900   \n",
       "4  1.000130e+09  887690.0               77.5          12         0       1921   \n",
       "\n",
       "     nrg_kbtu     y_nrg    x_unit  \n",
       "0   3614996.0  6.558108  1.041393  \n",
       "1   3427200.0  6.534939  1.041393  \n",
       "2   6160442.2  6.789612  1.041393  \n",
       "3   7347801.6  6.866157  1.079181  \n",
       "4  68795975.0  7.837563  1.079181  "
      ]
     },
     "execution_count": 35,
     "metadata": {},
     "output_type": "execute_result"
    }
   ],
   "source": [
    "# set log units and energy as x and y, easy to write the fomular\n",
    "m_cut['y_nrg'] = np.log10(m_cut['nrg_kbtu'])\n",
    "m_cut['x_unit'] = np.log10(m_cut['UnitsTotal'])\n",
    "\n",
    "m_cut.head()"
   ]
  },
  {
   "cell_type": "code",
   "execution_count": 36,
   "metadata": {
    "collapsed": true
   },
   "outputs": [],
   "source": [
    "lm1 = smf.ols(formula = 'y_nrg ~ x_unit', data = m_cut).fit()\n",
    "lm2 = smf.ols(formula = 'x_unit ~ y_nrg', data = m_cut).fit()"
   ]
  },
  {
   "cell_type": "code",
   "execution_count": 37,
   "metadata": {
    "collapsed": false
   },
   "outputs": [
    {
     "name": "stdout",
     "output_type": "stream",
     "text": [
      "0.142616382855 0.142616382855\n"
     ]
    }
   ],
   "source": [
    "print(lm1.rsquared, lm2.rsquared)"
   ]
  },
  {
   "cell_type": "code",
   "execution_count": 38,
   "metadata": {
    "collapsed": false
   },
   "outputs": [
    {
     "data": {
      "text/html": [
       "<table class=\"simpletable\">\n",
       "<caption>OLS Regression Results</caption>\n",
       "<tr>\n",
       "  <th>Dep. Variable:</th>          <td>y_nrg</td>      <th>  R-squared:         </th> <td>   0.143</td>\n",
       "</tr>\n",
       "<tr>\n",
       "  <th>Model:</th>                   <td>OLS</td>       <th>  Adj. R-squared:    </th> <td>   0.141</td>\n",
       "</tr>\n",
       "<tr>\n",
       "  <th>Method:</th>             <td>Least Squares</td>  <th>  F-statistic:       </th> <td>   87.99</td>\n",
       "</tr>\n",
       "<tr>\n",
       "  <th>Date:</th>             <td>Tue, 24 Oct 2017</td> <th>  Prob (F-statistic):</th> <td>1.92e-19</td>\n",
       "</tr>\n",
       "<tr>\n",
       "  <th>Time:</th>                 <td>04:01:46</td>     <th>  Log-Likelihood:    </th> <td> -146.44</td>\n",
       "</tr>\n",
       "<tr>\n",
       "  <th>No. Observations:</th>      <td>   531</td>      <th>  AIC:               </th> <td>   296.9</td>\n",
       "</tr>\n",
       "<tr>\n",
       "  <th>Df Residuals:</th>          <td>   529</td>      <th>  BIC:               </th> <td>   305.4</td>\n",
       "</tr>\n",
       "<tr>\n",
       "  <th>Df Model:</th>              <td>     1</td>      <th>                     </th>     <td> </td>   \n",
       "</tr>\n",
       "<tr>\n",
       "  <th>Covariance Type:</th>      <td>nonrobust</td>    <th>                     </th>     <td> </td>   \n",
       "</tr>\n",
       "</table>\n",
       "<table class=\"simpletable\">\n",
       "<tr>\n",
       "      <td></td>         <th>coef</th>     <th>std err</th>      <th>t</th>      <th>P>|t|</th> <th>[95.0% Conf. Int.]</th> \n",
       "</tr>\n",
       "<tr>\n",
       "  <th>Intercept</th> <td>    6.4472</td> <td>    0.060</td> <td>  107.323</td> <td> 0.000</td> <td>    6.329     6.565</td>\n",
       "</tr>\n",
       "<tr>\n",
       "  <th>x_unit</th>    <td>    0.3098</td> <td>    0.033</td> <td>    9.380</td> <td> 0.000</td> <td>    0.245     0.375</td>\n",
       "</tr>\n",
       "</table>\n",
       "<table class=\"simpletable\">\n",
       "<tr>\n",
       "  <th>Omnibus:</th>       <td>58.713</td> <th>  Durbin-Watson:     </th> <td>   1.770</td>\n",
       "</tr>\n",
       "<tr>\n",
       "  <th>Prob(Omnibus):</th> <td> 0.000</td> <th>  Jarque-Bera (JB):  </th> <td>  80.807</td>\n",
       "</tr>\n",
       "<tr>\n",
       "  <th>Skew:</th>          <td> 0.802</td> <th>  Prob(JB):          </th> <td>2.84e-18</td>\n",
       "</tr>\n",
       "<tr>\n",
       "  <th>Kurtosis:</th>      <td> 4.039</td> <th>  Cond. No.          </th> <td>    10.2</td>\n",
       "</tr>\n",
       "</table>"
      ],
      "text/plain": [
       "<class 'statsmodels.iolib.summary.Summary'>\n",
       "\"\"\"\n",
       "                            OLS Regression Results                            \n",
       "==============================================================================\n",
       "Dep. Variable:                  y_nrg   R-squared:                       0.143\n",
       "Model:                            OLS   Adj. R-squared:                  0.141\n",
       "Method:                 Least Squares   F-statistic:                     87.99\n",
       "Date:                Tue, 24 Oct 2017   Prob (F-statistic):           1.92e-19\n",
       "Time:                        04:01:46   Log-Likelihood:                -146.44\n",
       "No. Observations:                 531   AIC:                             296.9\n",
       "Df Residuals:                     529   BIC:                             305.4\n",
       "Df Model:                           1                                         \n",
       "Covariance Type:            nonrobust                                         \n",
       "==============================================================================\n",
       "                 coef    std err          t      P>|t|      [95.0% Conf. Int.]\n",
       "------------------------------------------------------------------------------\n",
       "Intercept      6.4472      0.060    107.323      0.000         6.329     6.565\n",
       "x_unit         0.3098      0.033      9.380      0.000         0.245     0.375\n",
       "==============================================================================\n",
       "Omnibus:                       58.713   Durbin-Watson:                   1.770\n",
       "Prob(Omnibus):                  0.000   Jarque-Bera (JB):               80.807\n",
       "Skew:                           0.802   Prob(JB):                     2.84e-18\n",
       "Kurtosis:                       4.039   Cond. No.                         10.2\n",
       "==============================================================================\n",
       "\n",
       "Warnings:\n",
       "[1] Standard Errors assume that the covariance matrix of the errors is correctly specified.\n",
       "\"\"\""
      ]
     },
     "execution_count": 38,
     "metadata": {},
     "output_type": "execute_result"
    }
   ],
   "source": [
    "lm1.summary()"
   ]
  },
  {
   "cell_type": "code",
   "execution_count": 39,
   "metadata": {
    "collapsed": false
   },
   "outputs": [
    {
     "name": "stdout",
     "output_type": "stream",
     "text": [
      "y = 6  +  0.31 * x,     R-squared = 0.142616382855\n"
     ]
    },
    {
     "data": {
      "image/png": "[encoded data removed]",
      "text/plain": [
       "<matplotlib.figure.Figure at 0x11d6fe748>"
      ]
     },
     "metadata": {},
     "output_type": "display_data"
    }
   ],
   "source": [
    "y_predict = lm1.params[0] + lm1.params[1] * m_cut.x_unit\n",
    "plt.figure(figsize=(10,10))\n",
    "plt.scatter(m_cut.x_unit, m_cut.y_nrg)\n",
    "plt.plot(m_cut.x_unit, y_predict, c = 'r')\n",
    "\n",
    "plt.ylim([5.5, 8.5])\n",
    "plt.xlabel('lg(Number of units in Building)', fontsize = 16)\n",
    "plt.ylabel('lg(Energy consumption per building(kbtu))', fontsize = 16)\n",
    "plt.title('Energy Consumption V.S. units.', fontsize = 16)\n",
    "\n",
    "print('y =', int(lm1.params[0]), ' + ', round(lm1.params[1],3),\n",
    "      '* x,     R-squared =', lm1.rsquared)"
   ]
  },
  {
   "cell_type": "code",
   "execution_count": 40,
   "metadata": {
    "collapsed": false
   },
   "outputs": [
    {
     "name": "stdout",
     "output_type": "stream",
     "text": [
      "x = -1  +  0.46 * y,     R-squared = 0.142616382855\n"
     ]
    },
    {
     "data": {
      "image/png": "[encoded data removed]",
      "text/plain": [
       "<matplotlib.figure.Figure at 0x11d6fec50>"
      ]
     },
     "metadata": {},
     "output_type": "display_data"
    }
   ],
   "source": [
    "x_predict = lm2.params[0] + lm2.params[1] * m_cut.y_nrg\n",
    "plt.figure(figsize=(10,10))\n",
    "plt.scatter(m_cut.y_nrg, m_cut.x_unit)\n",
    "plt.plot(m_cut.y_nrg, x_predict, c = 'r')\n",
    "\n",
    "plt.xlim([5.5, 8.5])\n",
    "plt.ylabel('lg(Number of units in Building)', fontsize = 16)\n",
    "plt.xlabel('lg(Energy consumption per building(kbtu))', fontsize = 16)\n",
    "plt.title('Building units V.S. Energy Consumption ', fontsize = 16)\n",
    "\n",
    "print('x =', int(lm2.params[0]), ' + ', round(lm2.params[1],3),\n",
    "      '* y,     R-squared =', lm2.rsquared)"
   ]
  },
  {
   "cell_type": "markdown",
   "metadata": {},
   "source": [
    "Evaluate which is better by calculating the chi square**.  Can you compare these models with the likelihood ratio test? \n",
    "\n",
    "   The function is :\n",
    "    \n",
    "chisq = $\\sum_i \\frac{(model(x_i) - data(x_i))^2 }{ error_i^2}$\n",
    "    \n",
    "    where the sum is over all datapoints, \n",
    "    \n",
    "    for the i-th value  model($x_i$) is the prediction, data($x_i$) the observation,\n",
    "    \n",
    "    and \n",
    "$error_i$ \n",
    "is \n",
    "$\\sqrt{data(x_i)}$"
   ]
  },
  {
   "cell_type": "code",
   "execution_count": 41,
   "metadata": {
    "collapsed": true
   },
   "outputs": [],
   "source": [
    "def chi2(data, model, errors = None):\n",
    "    '''Calculates the chi sq given data, model and errors\n",
    "    Arguments:\n",
    "    data: series of datapoints (endogenous variable)\n",
    "    model: series of predicted values corresponding to the observed data\n",
    "    errors: serie of errors (optional). \n",
    "    If errors are not passes all errors are set to 1\n",
    "    '''\n",
    "    if errors is None:\n",
    "        errors = np.ones_like(data)\n",
    "    if data.shape == model.shape and data.shape == errors.shape:\n",
    "        return (((data - model)**2) / errors**2).sum()\n",
    "    else: \n",
    "        print ('''ERROR:\n",
    "must pass arrays of identical dimension for data, model and (optional) error)''')\n",
    "    return -1"
   ]
  },
  {
   "cell_type": "code",
   "execution_count": 42,
   "metadata": {
    "collapsed": false
   },
   "outputs": [],
   "source": [
    "errorsnrg = np.sqrt((m_cut['area_ft2']**2) +(m_cut['site_eui_kbtu_ft2'] **2))\n",
    "\n",
    "errorsunits = np.sqrt(m_cut.UnitsTotal)"
   ]
  },
  {
   "cell_type": "code",
   "execution_count": 43,
   "metadata": {
    "collapsed": false
   },
   "outputs": [
    {
     "data": {
      "text/plain": [
       "0     74536.015779\n",
       "1     56000.033441\n",
       "2     61237.082633\n",
       "3     65664.095346\n",
       "4    887690.003383\n",
       "dtype: float64"
      ]
     },
     "execution_count": 43,
     "metadata": {},
     "output_type": "execute_result"
    }
   ],
   "source": [
    "errorsnrg.head()"
   ]
  },
  {
   "cell_type": "markdown",
   "metadata": {},
   "source": [
    "propagation of errors on the log:https://en.wikipedia.org/wiki/Propagation_of_uncertainty#Linear_combinations\n",
    "\n",
    "$f=a\\log _{10}(A)$\n",
    "\n",
    "$\\sigma _{f}\\approx \\left(a{\\frac {\\sigma _{A}}{A\\ln(10)}}\\right)$"
   ]
  },
  {
   "cell_type": "code",
   "execution_count": 44,
   "metadata": {
    "collapsed": false
   },
   "outputs": [
    {
     "data": {
      "text/html": [
       "<div>\n",
       "<table border=\"1\" class=\"dataframe\">\n",
       "  <thead>\n",
       "    <tr style=\"text-align: right;\">\n",
       "      <th></th>\n",
       "      <th>BBL</th>\n",
       "      <th>area_ft2</th>\n",
       "      <th>site_eui_kbtu_ft2</th>\n",
       "      <th>UnitsTotal</th>\n",
       "      <th>UnitsRes</th>\n",
       "      <th>YearBuilt</th>\n",
       "      <th>nrg_kbtu</th>\n",
       "      <th>y_nrg</th>\n",
       "      <th>x_unit</th>\n",
       "      <th>errorsnrg</th>\n",
       "      <th>errorsunits</th>\n",
       "    </tr>\n",
       "  </thead>\n",
       "  <tbody>\n",
       "    <tr>\n",
       "      <th>0</th>\n",
       "      <td>1.004870e+09</td>\n",
       "      <td>74536.0</td>\n",
       "      <td>48.5</td>\n",
       "      <td>11</td>\n",
       "      <td>9</td>\n",
       "      <td>1900</td>\n",
       "      <td>3614996.0</td>\n",
       "      <td>6.558108</td>\n",
       "      <td>1.041393</td>\n",
       "      <td>0.008955</td>\n",
       "      <td>0.130945</td>\n",
       "    </tr>\n",
       "    <tr>\n",
       "      <th>1</th>\n",
       "      <td>1.001790e+09</td>\n",
       "      <td>56000.0</td>\n",
       "      <td>61.2</td>\n",
       "      <td>11</td>\n",
       "      <td>0</td>\n",
       "      <td>1915</td>\n",
       "      <td>3427200.0</td>\n",
       "      <td>6.534939</td>\n",
       "      <td>1.041393</td>\n",
       "      <td>0.007096</td>\n",
       "      <td>0.130945</td>\n",
       "    </tr>\n",
       "    <tr>\n",
       "      <th>2</th>\n",
       "      <td>1.005458e+09</td>\n",
       "      <td>61237.0</td>\n",
       "      <td>100.6</td>\n",
       "      <td>11</td>\n",
       "      <td>10</td>\n",
       "      <td>1895</td>\n",
       "      <td>6160442.2</td>\n",
       "      <td>6.789612</td>\n",
       "      <td>1.041393</td>\n",
       "      <td>0.004317</td>\n",
       "      <td>0.130945</td>\n",
       "    </tr>\n",
       "    <tr>\n",
       "      <th>3</th>\n",
       "      <td>1.007738e+09</td>\n",
       "      <td>65664.0</td>\n",
       "      <td>111.9</td>\n",
       "      <td>12</td>\n",
       "      <td>12</td>\n",
       "      <td>1900</td>\n",
       "      <td>7347801.6</td>\n",
       "      <td>6.866157</td>\n",
       "      <td>1.079181</td>\n",
       "      <td>0.003881</td>\n",
       "      <td>0.125370</td>\n",
       "    </tr>\n",
       "    <tr>\n",
       "      <th>4</th>\n",
       "      <td>1.000130e+09</td>\n",
       "      <td>887690.0</td>\n",
       "      <td>77.5</td>\n",
       "      <td>12</td>\n",
       "      <td>0</td>\n",
       "      <td>1921</td>\n",
       "      <td>68795975.0</td>\n",
       "      <td>7.837563</td>\n",
       "      <td>1.079181</td>\n",
       "      <td>0.005604</td>\n",
       "      <td>0.125370</td>\n",
       "    </tr>\n",
       "  </tbody>\n",
       "</table>\n",
       "</div>"
      ],
      "text/plain": [
       "            BBL  area_ft2  site_eui_kbtu_ft2  UnitsTotal  UnitsRes  YearBuilt  \\\n",
       "0  1.004870e+09   74536.0               48.5          11         9       1900   \n",
       "1  1.001790e+09   56000.0               61.2          11         0       1915   \n",
       "2  1.005458e+09   61237.0              100.6          11        10       1895   \n",
       "3  1.007738e+09   65664.0              111.9          12        12       1900   \n",
       "4  1.000130e+09  887690.0               77.5          12         0       1921   \n",
       "\n",
       "     nrg_kbtu     y_nrg    x_unit  errorsnrg  errorsunits  \n",
       "0   3614996.0  6.558108  1.041393   0.008955     0.130945  \n",
       "1   3427200.0  6.534939  1.041393   0.007096     0.130945  \n",
       "2   6160442.2  6.789612  1.041393   0.004317     0.130945  \n",
       "3   7347801.6  6.866157  1.079181   0.003881     0.125370  \n",
       "4  68795975.0  7.837563  1.079181   0.005604     0.125370  "
      ]
     },
     "execution_count": 44,
     "metadata": {},
     "output_type": "execute_result"
    }
   ],
   "source": [
    "errorsInLogNrg = np.abs(errorsnrg / m_cut.nrg_kbtu / np.log(10))\n",
    "\n",
    "errorsInLogUnits = np.abs(errorsunits / m_cut.UnitsTotal / np.log(10))\n",
    "\n",
    "m_cut['errorsnrg'] = errorsInLogNrg\n",
    "m_cut['errorsunits'] = errorsInLogUnits\n",
    "m_cut.head()"
   ]
  },
  {
   "cell_type": "code",
   "execution_count": 45,
   "metadata": {
    "collapsed": false
   },
   "outputs": [
    {
     "data": {
      "text/plain": [
       "4537447.271121841"
      ]
     },
     "execution_count": 45,
     "metadata": {},
     "output_type": "execute_result"
    }
   ],
   "source": [
    "chi2(m_cut.y_nrg, y_predict, errors = m_cut.errorsnrg)"
   ]
  },
  {
   "cell_type": "code",
   "execution_count": 46,
   "metadata": {
    "collapsed": false
   },
   "outputs": [
    {
     "data": {
      "text/plain": [
       "51949.3715981285"
      ]
     },
     "execution_count": 46,
     "metadata": {},
     "output_type": "execute_result"
    }
   ],
   "source": [
    "chi2(m_cut.x_unit, x_predict, errors = m_cut.errorsunits)"
   ]
  },
  {
   "cell_type": "markdown",
   "metadata": {},
   "source": [
    "### chi value of lm1 > chi value of lm2\n",
    "### lm1 fits better\n",
    "### So set Units as independent variable, and Energy Consumption as dependent variable"
   ]
  },
  {
   "cell_type": "markdown",
   "metadata": {},
   "source": [
    "# Fit 2 degree polynomial"
   ]
  },
  {
   "cell_type": "code",
   "execution_count": 47,
   "metadata": {
    "collapsed": false
   },
   "outputs": [
    {
     "data": {
      "text/html": [
       "<div>\n",
       "<table border=\"1\" class=\"dataframe\">\n",
       "  <thead>\n",
       "    <tr style=\"text-align: right;\">\n",
       "      <th></th>\n",
       "      <th>BBL</th>\n",
       "      <th>area_ft2</th>\n",
       "      <th>site_eui_kbtu_ft2</th>\n",
       "      <th>UnitsTotal</th>\n",
       "      <th>UnitsRes</th>\n",
       "      <th>YearBuilt</th>\n",
       "      <th>nrg_kbtu</th>\n",
       "      <th>y_nrg</th>\n",
       "      <th>x_unit</th>\n",
       "      <th>errorsnrg</th>\n",
       "      <th>errorsunits</th>\n",
       "      <th>x2</th>\n",
       "    </tr>\n",
       "  </thead>\n",
       "  <tbody>\n",
       "    <tr>\n",
       "      <th>0</th>\n",
       "      <td>1.004870e+09</td>\n",
       "      <td>74536.0</td>\n",
       "      <td>48.5</td>\n",
       "      <td>11</td>\n",
       "      <td>9</td>\n",
       "      <td>1900</td>\n",
       "      <td>3614996.0</td>\n",
       "      <td>6.558108</td>\n",
       "      <td>1.041393</td>\n",
       "      <td>0.008955</td>\n",
       "      <td>0.130945</td>\n",
       "      <td>1.084499</td>\n",
       "    </tr>\n",
       "    <tr>\n",
       "      <th>1</th>\n",
       "      <td>1.001790e+09</td>\n",
       "      <td>56000.0</td>\n",
       "      <td>61.2</td>\n",
       "      <td>11</td>\n",
       "      <td>0</td>\n",
       "      <td>1915</td>\n",
       "      <td>3427200.0</td>\n",
       "      <td>6.534939</td>\n",
       "      <td>1.041393</td>\n",
       "      <td>0.007096</td>\n",
       "      <td>0.130945</td>\n",
       "      <td>1.084499</td>\n",
       "    </tr>\n",
       "    <tr>\n",
       "      <th>2</th>\n",
       "      <td>1.005458e+09</td>\n",
       "      <td>61237.0</td>\n",
       "      <td>100.6</td>\n",
       "      <td>11</td>\n",
       "      <td>10</td>\n",
       "      <td>1895</td>\n",
       "      <td>6160442.2</td>\n",
       "      <td>6.789612</td>\n",
       "      <td>1.041393</td>\n",
       "      <td>0.004317</td>\n",
       "      <td>0.130945</td>\n",
       "      <td>1.084499</td>\n",
       "    </tr>\n",
       "    <tr>\n",
       "      <th>3</th>\n",
       "      <td>1.007738e+09</td>\n",
       "      <td>65664.0</td>\n",
       "      <td>111.9</td>\n",
       "      <td>12</td>\n",
       "      <td>12</td>\n",
       "      <td>1900</td>\n",
       "      <td>7347801.6</td>\n",
       "      <td>6.866157</td>\n",
       "      <td>1.079181</td>\n",
       "      <td>0.003881</td>\n",
       "      <td>0.125370</td>\n",
       "      <td>1.164632</td>\n",
       "    </tr>\n",
       "    <tr>\n",
       "      <th>4</th>\n",
       "      <td>1.000130e+09</td>\n",
       "      <td>887690.0</td>\n",
       "      <td>77.5</td>\n",
       "      <td>12</td>\n",
       "      <td>0</td>\n",
       "      <td>1921</td>\n",
       "      <td>68795975.0</td>\n",
       "      <td>7.837563</td>\n",
       "      <td>1.079181</td>\n",
       "      <td>0.005604</td>\n",
       "      <td>0.125370</td>\n",
       "      <td>1.164632</td>\n",
       "    </tr>\n",
       "  </tbody>\n",
       "</table>\n",
       "</div>"
      ],
      "text/plain": [
       "            BBL  area_ft2  site_eui_kbtu_ft2  UnitsTotal  UnitsRes  YearBuilt  \\\n",
       "0  1.004870e+09   74536.0               48.5          11         9       1900   \n",
       "1  1.001790e+09   56000.0               61.2          11         0       1915   \n",
       "2  1.005458e+09   61237.0              100.6          11        10       1895   \n",
       "3  1.007738e+09   65664.0              111.9          12        12       1900   \n",
       "4  1.000130e+09  887690.0               77.5          12         0       1921   \n",
       "\n",
       "     nrg_kbtu     y_nrg    x_unit  errorsnrg  errorsunits        x2  \n",
       "0   3614996.0  6.558108  1.041393   0.008955     0.130945  1.084499  \n",
       "1   3427200.0  6.534939  1.041393   0.007096     0.130945  1.084499  \n",
       "2   6160442.2  6.789612  1.041393   0.004317     0.130945  1.084499  \n",
       "3   7347801.6  6.866157  1.079181   0.003881     0.125370  1.164632  \n",
       "4  68795975.0  7.837563  1.079181   0.005604     0.125370  1.164632  "
      ]
     },
     "execution_count": 47,
     "metadata": {},
     "output_type": "execute_result"
    }
   ],
   "source": [
    "m_cut['x2'] = np.power(m_cut.x_unit, 2)\n",
    "m_cut.head()"
   ]
  },
  {
   "cell_type": "code",
   "execution_count": 48,
   "metadata": {
    "collapsed": false
   },
   "outputs": [],
   "source": [
    "lm3 = smf.ols('y_nrg ~ x_unit + x2', m_cut).fit()"
   ]
  },
  {
   "cell_type": "code",
   "execution_count": 49,
   "metadata": {
    "collapsed": false
   },
   "outputs": [
    {
     "data": {
      "text/html": [
       "<table class=\"simpletable\">\n",
       "<caption>OLS Regression Results</caption>\n",
       "<tr>\n",
       "  <th>Dep. Variable:</th>          <td>y_nrg</td>      <th>  R-squared:         </th> <td>   0.229</td>\n",
       "</tr>\n",
       "<tr>\n",
       "  <th>Model:</th>                   <td>OLS</td>       <th>  Adj. R-squared:    </th> <td>   0.226</td>\n",
       "</tr>\n",
       "<tr>\n",
       "  <th>Method:</th>             <td>Least Squares</td>  <th>  F-statistic:       </th> <td>   78.22</td>\n",
       "</tr>\n",
       "<tr>\n",
       "  <th>Date:</th>             <td>Tue, 24 Oct 2017</td> <th>  Prob (F-statistic):</th> <td>1.77e-30</td>\n",
       "</tr>\n",
       "<tr>\n",
       "  <th>Time:</th>                 <td>04:01:47</td>     <th>  Log-Likelihood:    </th> <td> -118.39</td>\n",
       "</tr>\n",
       "<tr>\n",
       "  <th>No. Observations:</th>      <td>   531</td>      <th>  AIC:               </th> <td>   242.8</td>\n",
       "</tr>\n",
       "<tr>\n",
       "  <th>Df Residuals:</th>          <td>   528</td>      <th>  BIC:               </th> <td>   255.6</td>\n",
       "</tr>\n",
       "<tr>\n",
       "  <th>Df Model:</th>              <td>     2</td>      <th>                     </th>     <td> </td>   \n",
       "</tr>\n",
       "<tr>\n",
       "  <th>Covariance Type:</th>      <td>nonrobust</td>    <th>                     </th>     <td> </td>   \n",
       "</tr>\n",
       "</table>\n",
       "<table class=\"simpletable\">\n",
       "<tr>\n",
       "      <td></td>         <th>coef</th>     <th>std err</th>      <th>t</th>      <th>P>|t|</th> <th>[95.0% Conf. Int.]</th> \n",
       "</tr>\n",
       "<tr>\n",
       "  <th>Intercept</th> <td>    8.1173</td> <td>    0.225</td> <td>   36.061</td> <td> 0.000</td> <td>    7.675     8.560</td>\n",
       "</tr>\n",
       "<tr>\n",
       "  <th>x_unit</th>    <td>   -1.6311</td> <td>    0.255</td> <td>   -6.396</td> <td> 0.000</td> <td>   -2.132    -1.130</td>\n",
       "</tr>\n",
       "<tr>\n",
       "  <th>x2</th>        <td>    0.5335</td> <td>    0.070</td> <td>    7.670</td> <td> 0.000</td> <td>    0.397     0.670</td>\n",
       "</tr>\n",
       "</table>\n",
       "<table class=\"simpletable\">\n",
       "<tr>\n",
       "  <th>Omnibus:</th>       <td>67.079</td> <th>  Durbin-Watson:     </th> <td>   1.967</td>\n",
       "</tr>\n",
       "<tr>\n",
       "  <th>Prob(Omnibus):</th> <td> 0.000</td> <th>  Jarque-Bera (JB):  </th> <td> 103.022</td>\n",
       "</tr>\n",
       "<tr>\n",
       "  <th>Skew:</th>          <td> 0.834</td> <th>  Prob(JB):          </th> <td>4.26e-23</td>\n",
       "</tr>\n",
       "<tr>\n",
       "  <th>Kurtosis:</th>      <td> 4.370</td> <th>  Cond. No.          </th> <td>    110.</td>\n",
       "</tr>\n",
       "</table>"
      ],
      "text/plain": [
       "<class 'statsmodels.iolib.summary.Summary'>\n",
       "\"\"\"\n",
       "                            OLS Regression Results                            \n",
       "==============================================================================\n",
       "Dep. Variable:                  y_nrg   R-squared:                       0.229\n",
       "Model:                            OLS   Adj. R-squared:                  0.226\n",
       "Method:                 Least Squares   F-statistic:                     78.22\n",
       "Date:                Tue, 24 Oct 2017   Prob (F-statistic):           1.77e-30\n",
       "Time:                        04:01:47   Log-Likelihood:                -118.39\n",
       "No. Observations:                 531   AIC:                             242.8\n",
       "Df Residuals:                     528   BIC:                             255.6\n",
       "Df Model:                           2                                         \n",
       "Covariance Type:            nonrobust                                         \n",
       "==============================================================================\n",
       "                 coef    std err          t      P>|t|      [95.0% Conf. Int.]\n",
       "------------------------------------------------------------------------------\n",
       "Intercept      8.1173      0.225     36.061      0.000         7.675     8.560\n",
       "x_unit        -1.6311      0.255     -6.396      0.000        -2.132    -1.130\n",
       "x2             0.5335      0.070      7.670      0.000         0.397     0.670\n",
       "==============================================================================\n",
       "Omnibus:                       67.079   Durbin-Watson:                   1.967\n",
       "Prob(Omnibus):                  0.000   Jarque-Bera (JB):              103.022\n",
       "Skew:                           0.834   Prob(JB):                     4.26e-23\n",
       "Kurtosis:                       4.370   Cond. No.                         110.\n",
       "==============================================================================\n",
       "\n",
       "Warnings:\n",
       "[1] Standard Errors assume that the covariance matrix of the errors is correctly specified.\n",
       "\"\"\""
      ]
     },
     "execution_count": 49,
     "metadata": {},
     "output_type": "execute_result"
    }
   ],
   "source": [
    "lm3.summary()"
   ]
  },
  {
   "cell_type": "code",
   "execution_count": 50,
   "metadata": {
    "collapsed": false
   },
   "outputs": [
    {
     "name": "stdout",
     "output_type": "stream",
     "text": [
      "y = 8  +  -1.631 * x +  0.534 * x^2,     R-squared = 0.228563870667\n"
     ]
    },
    {
     "data": {
      "image/png": "[encoded data removed]",
      "text/plain": [
       "<matplotlib.figure.Figure at 0x11d7939e8>"
      ]
     },
     "metadata": {},
     "output_type": "display_data"
    }
   ],
   "source": [
    "y_predict2 = lm3.params[0] + lm3.params[1] * m_cut.x_unit + lm3.params[2] * np.power(m_cut.x_unit, 2)\n",
    "plt.figure(figsize=(10,10))\n",
    "plt.scatter(m_cut.x_unit, m_cut.y_nrg)\n",
    "plt.plot(m_cut.x_unit, y_predict2, c = 'r')\n",
    "\n",
    "plt.ylim([5.5, 8.5])\n",
    "plt.xlabel('lg(Number of units in Building)', fontsize = 16)\n",
    "plt.ylabel('lg(Energy consumption per building(kbtu))', fontsize = 16)\n",
    "plt.title('Energy Consumption V.S. units.', fontsize = 16)\n",
    "\n",
    "print('y =', int(lm3.params[0]), ' + ', round(lm3.params[1],3), '* x + ', round(lm3.params[2],3),\n",
    "      '* x^2,     R-squared =', lm3.rsquared)"
   ]
  },
  {
   "cell_type": "markdown",
   "metadata": {},
   "source": [
    "Compare the Units vs Energy line fit and the Units vs Energy 2-nd degree polynomial fit with the Likelihood ratio test**. The formula is:\n",
    "    \n",
    "    LR  =  -2 * log(Likelihood_Model1 / Likelihood_Model2) \n",
    "\n",
    "    or equivalently\n",
    "        \n",
    "    LR  =  -2 * (logLikelihood_Model1 - logLikelihood_Model2) \n",
    "    \n",
    "    where Model1 is the _least complex_ (fewer parameters).\n",
    "    \n",
    "    Th logLikelihood can be extracted from the model summary when using statsmodels. (Model1.llf)\n",
    "    \n",
    "    Compare this LR statistics to a chi sq table (for example http://passel.unl.edu/Image/Namuth-CovertDeana956176274/chi-sqaure%20distribution%20table.PNG) and say if *at alpha = 0.05* Model1 is preferable to Model2. The LR is chi^2 distributed with number of degrees of freedom \n",
    "$N_{DOF}$ = parameters_Model2 - parameters_Model1"
   ]
  },
  {
   "cell_type": "code",
   "execution_count": 51,
   "metadata": {
    "collapsed": false
   },
   "outputs": [
    {
     "name": "stdout",
     "output_type": "stream",
     "text": [
      "LR :  -56.0903613602\n"
     ]
    }
   ],
   "source": [
    "print (\"LR : \", -2 * (-lm1.llf - (-lm3.llf)))"
   ]
  },
  {
   "cell_type": "markdown",
   "metadata": {},
   "source": [
    "### Degree of Freedom = 2 - 1 = 1\n",
    "#### pvalue < 0.01\n",
    "#### reject Model1\n",
    "\n",
    "## Conclusion:\n",
    "### Model2(curve model) fits better than Model1(line model)"
   ]
  },
  {
   "cell_type": "code",
   "execution_count": null,
   "metadata": {
    "collapsed": true
   },
   "outputs": [],
   "source": []
  }
 ],
 "metadata": {
  "kernelspec": {
   "display_name": "Python 3",
   "language": "python",
   "name": "python3"
  },
  "language_info": {
   "codemirror_mode": {
    "name": "ipython",
    "version": 3
   },
   "file_extension": ".py",
   "mimetype": "text/x-python",
   "name": "python",
   "nbconvert_exporter": "python",
   "pygments_lexer": "ipython3",
   "version": "3.6.0"
  }
 },
 "nbformat": 4,
 "nbformat_minor": 2
}
