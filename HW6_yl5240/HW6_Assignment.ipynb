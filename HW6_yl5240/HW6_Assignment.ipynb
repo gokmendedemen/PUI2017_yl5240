{
 "cells": [
  {
   "cell_type": "code",
   "execution_count": 1,
   "metadata": {
    "collapsed": false
   },
   "outputs": [],
   "source": [
    "import pandas as pd\n",
    "import numpy as np\n",
    "import matplotlib.pylab as plt\n",
    "%matplotlib inline\n",
    "import geopandas as gp\n",
    "import os\n",
    "import json\n",
    "import urllib.request as urllib\n",
    "import statsmodels.formula.api as smf \n"
   ]
  },
  {
   "cell_type": "code",
   "execution_count": 2,
   "metadata": {
    "collapsed": false
   },
   "outputs": [
    {
     "data": {
      "text/plain": [
       "list"
      ]
     },
     "execution_count": 2,
     "metadata": {},
     "output_type": "execute_result"
    }
   ],
   "source": [
    "api = 'https://data.cityofnewyork.us/resource/m46j-75iy.json'\n",
    "data = json.loads(urllib.urlopen(api).read())\n",
    "type(data)"
   ]
  },
  {
   "cell_type": "code",
   "execution_count": 3,
   "metadata": {
    "collapsed": false
   },
   "outputs": [],
   "source": [
    "nrg = gp.GeoDataFrame(data)"
   ]
  },
  {
   "cell_type": "code",
   "execution_count": 4,
   "metadata": {
    "collapsed": false
   },
   "outputs": [
    {
     "name": "stdout",
     "output_type": "stream",
     "text": [
      "<class 'geopandas.geodataframe.GeoDataFrame'> (1000, 32)\n"
     ]
    }
   ],
   "source": [
    "print(type(nrg), nrg.shape)"
   ]
  },
  {
   "cell_type": "code",
   "execution_count": 5,
   "metadata": {
    "collapsed": false
   },
   "outputs": [
    {
     "data": {
      "text/html": [
       "<div>\n",
       "<table border=\"1\" class=\"dataframe\">\n",
       "  <thead>\n",
       "    <tr style=\"text-align: right;\">\n",
       "      <th></th>\n",
       "      <th>automatic_water_benchmarking_eligible</th>\n",
       "      <th>bbls_co_reported</th>\n",
       "      <th>bin</th>\n",
       "      <th>borough</th>\n",
       "      <th>census_tract</th>\n",
       "      <th>co_reported_bbl_status</th>\n",
       "      <th>community_board</th>\n",
       "      <th>community_council</th>\n",
       "      <th>direct_ghg_emissions_mtco2e</th>\n",
       "      <th>dof_benchmarking_submission_status</th>\n",
       "      <th>...</th>\n",
       "      <th>reported_property_floor_area_building_s_ft</th>\n",
       "      <th>reported_water_method</th>\n",
       "      <th>site_eui_kbtu_ft2</th>\n",
       "      <th>source_eui_kbtu_ft2</th>\n",
       "      <th>street_name</th>\n",
       "      <th>street_number</th>\n",
       "      <th>total_ghg_emissions_mtco2e</th>\n",
       "      <th>weather_normalized_site_eui_kbtu_ft2</th>\n",
       "      <th>weather_normalized_source_eui_kbtu_ft2</th>\n",
       "      <th>zip_code</th>\n",
       "    </tr>\n",
       "  </thead>\n",
       "  <tbody>\n",
       "    <tr>\n",
       "      <th>0</th>\n",
       "      <td>N/A</td>\n",
       "      <td>1000410001</td>\n",
       "      <td>NaN</td>\n",
       "      <td>Manhattan</td>\n",
       "      <td>NaN</td>\n",
       "      <td>NaN</td>\n",
       "      <td>NaN</td>\n",
       "      <td>NaN</td>\n",
       "      <td>NaN</td>\n",
       "      <td>BBL not valid</td>\n",
       "      <td>...</td>\n",
       "      <td>918919</td>\n",
       "      <td>N/A</td>\n",
       "      <td>NaN</td>\n",
       "      <td>NaN</td>\n",
       "      <td>NaN</td>\n",
       "      <td>NaN</td>\n",
       "      <td>NaN</td>\n",
       "      <td>Not Available</td>\n",
       "      <td>Not Available</td>\n",
       "      <td>NaN</td>\n",
       "    </tr>\n",
       "    <tr>\n",
       "      <th>1</th>\n",
       "      <td>Yes</td>\n",
       "      <td>NaN</td>\n",
       "      <td>NaN</td>\n",
       "      <td>Queens</td>\n",
       "      <td>NaN</td>\n",
       "      <td>NaN</td>\n",
       "      <td>NaN</td>\n",
       "      <td>NaN</td>\n",
       "      <td>NaN</td>\n",
       "      <td>No Submission Matched to BBL</td>\n",
       "      <td>...</td>\n",
       "      <td>#N/A</td>\n",
       "      <td>None</td>\n",
       "      <td>NaN</td>\n",
       "      <td>NaN</td>\n",
       "      <td>108 STREET</td>\n",
       "      <td>63-10</td>\n",
       "      <td>NaN</td>\n",
       "      <td>NaN</td>\n",
       "      <td>NaN</td>\n",
       "      <td>11375</td>\n",
       "    </tr>\n",
       "    <tr>\n",
       "      <th>2</th>\n",
       "      <td>N/A</td>\n",
       "      <td>2027620097</td>\n",
       "      <td>NaN</td>\n",
       "      <td>Bronx</td>\n",
       "      <td>NaN</td>\n",
       "      <td>NaN</td>\n",
       "      <td>NaN</td>\n",
       "      <td>NaN</td>\n",
       "      <td>NaN</td>\n",
       "      <td>BBL not valid</td>\n",
       "      <td>...</td>\n",
       "      <td>64200</td>\n",
       "      <td>N/A</td>\n",
       "      <td>NaN</td>\n",
       "      <td>NaN</td>\n",
       "      <td>NaN</td>\n",
       "      <td>NaN</td>\n",
       "      <td>NaN</td>\n",
       "      <td>Not Available</td>\n",
       "      <td>Not Available</td>\n",
       "      <td>NaN</td>\n",
       "    </tr>\n",
       "    <tr>\n",
       "      <th>3</th>\n",
       "      <td>No</td>\n",
       "      <td>NaN</td>\n",
       "      <td>1012266</td>\n",
       "      <td>Manhattan</td>\n",
       "      <td>99</td>\n",
       "      <td>NaN</td>\n",
       "      <td>4</td>\n",
       "      <td>3</td>\n",
       "      <td>NaN</td>\n",
       "      <td>No Submission Matched to BBL</td>\n",
       "      <td>...</td>\n",
       "      <td>#N/A</td>\n",
       "      <td>None</td>\n",
       "      <td>NaN</td>\n",
       "      <td>NaN</td>\n",
       "      <td>11 AVENUE</td>\n",
       "      <td>201</td>\n",
       "      <td>NaN</td>\n",
       "      <td>NaN</td>\n",
       "      <td>NaN</td>\n",
       "      <td>10001</td>\n",
       "    </tr>\n",
       "    <tr>\n",
       "      <th>4</th>\n",
       "      <td>N/A</td>\n",
       "      <td>2048300034</td>\n",
       "      <td>NaN</td>\n",
       "      <td>Bronx</td>\n",
       "      <td>NaN</td>\n",
       "      <td>NaN</td>\n",
       "      <td>NaN</td>\n",
       "      <td>NaN</td>\n",
       "      <td>NaN</td>\n",
       "      <td>Not on Covered Buildings List</td>\n",
       "      <td>...</td>\n",
       "      <td>50000</td>\n",
       "      <td>None</td>\n",
       "      <td>NaN</td>\n",
       "      <td>NaN</td>\n",
       "      <td>NaN</td>\n",
       "      <td>NaN</td>\n",
       "      <td>NaN</td>\n",
       "      <td>Not Available</td>\n",
       "      <td>Not Available</td>\n",
       "      <td>NaN</td>\n",
       "    </tr>\n",
       "  </tbody>\n",
       "</table>\n",
       "<p>5 rows × 32 columns</p>\n",
       "</div>"
      ],
      "text/plain": [
       "  automatic_water_benchmarking_eligible bbls_co_reported      bin    borough  \\\n",
       "0                                   N/A       1000410001      NaN  Manhattan   \n",
       "1                                   Yes              NaN      NaN     Queens   \n",
       "2                                   N/A       2027620097      NaN      Bronx   \n",
       "3                                    No              NaN  1012266  Manhattan   \n",
       "4                                   N/A       2048300034      NaN      Bronx   \n",
       "\n",
       "  census_tract co_reported_bbl_status community_board community_council  \\\n",
       "0          NaN                    NaN             NaN               NaN   \n",
       "1          NaN                    NaN             NaN               NaN   \n",
       "2          NaN                    NaN             NaN               NaN   \n",
       "3           99                    NaN               4                 3   \n",
       "4          NaN                    NaN             NaN               NaN   \n",
       "\n",
       "  direct_ghg_emissions_mtco2e dof_benchmarking_submission_status   ...     \\\n",
       "0                         NaN                      BBL not valid   ...      \n",
       "1                         NaN       No Submission Matched to BBL   ...      \n",
       "2                         NaN                      BBL not valid   ...      \n",
       "3                         NaN       No Submission Matched to BBL   ...      \n",
       "4                         NaN      Not on Covered Buildings List   ...      \n",
       "\n",
       "  reported_property_floor_area_building_s_ft reported_water_method  \\\n",
       "0                                     918919                   N/A   \n",
       "1                                       #N/A                  None   \n",
       "2                                      64200                   N/A   \n",
       "3                                       #N/A                  None   \n",
       "4                                      50000                  None   \n",
       "\n",
       "  site_eui_kbtu_ft2 source_eui_kbtu_ft2 street_name street_number  \\\n",
       "0               NaN                 NaN         NaN           NaN   \n",
       "1               NaN                 NaN  108 STREET         63-10   \n",
       "2               NaN                 NaN         NaN           NaN   \n",
       "3               NaN                 NaN   11 AVENUE           201   \n",
       "4               NaN                 NaN         NaN           NaN   \n",
       "\n",
       "  total_ghg_emissions_mtco2e weather_normalized_site_eui_kbtu_ft2  \\\n",
       "0                        NaN                        Not Available   \n",
       "1                        NaN                                  NaN   \n",
       "2                        NaN                        Not Available   \n",
       "3                        NaN                                  NaN   \n",
       "4                        NaN                        Not Available   \n",
       "\n",
       "  weather_normalized_source_eui_kbtu_ft2 zip_code  \n",
       "0                          Not Available      NaN  \n",
       "1                                    NaN    11375  \n",
       "2                          Not Available      NaN  \n",
       "3                                    NaN    10001  \n",
       "4                          Not Available      NaN  \n",
       "\n",
       "[5 rows x 32 columns]"
      ]
     },
     "execution_count": 5,
     "metadata": {},
     "output_type": "execute_result"
    }
   ],
   "source": [
    "nrg.head()"
   ]
  },
  {
   "cell_type": "code",
   "execution_count": 6,
   "metadata": {
    "collapsed": false
   },
   "outputs": [
    {
     "data": {
      "text/plain": [
       "Index(['automatic_water_benchmarking_eligible', 'bbls_co_reported', 'bin',\n",
       "       'borough', 'census_tract', 'co_reported_bbl_status', 'community_board',\n",
       "       'community_council', 'direct_ghg_emissions_mtco2e',\n",
       "       'dof_benchmarking_submission_status', 'dof_number_of_buildings',\n",
       "       'dof_property_floor_area_buildngs_and_parking_ft2', 'energy_star_score',\n",
       "       'indirect_ghg_emissions_mtco2e', 'latitude', 'longitude',\n",
       "       'municipally_supplied_potable_water_indoor_intensity_gal_ft', 'nta',\n",
       "       'nyc_borough_block_and_lot_bbl', 'primary_property_type_self_selected',\n",
       "       'record_number', 'reported_nyc_building_identificaiton_numbers_bins',\n",
       "       'reported_property_floor_area_building_s_ft', 'reported_water_method',\n",
       "       'site_eui_kbtu_ft2', 'source_eui_kbtu_ft2', 'street_name',\n",
       "       'street_number', 'total_ghg_emissions_mtco2e',\n",
       "       'weather_normalized_site_eui_kbtu_ft2',\n",
       "       'weather_normalized_source_eui_kbtu_ft2', 'zip_code'],\n",
       "      dtype='object')"
      ]
     },
     "execution_count": 6,
     "metadata": {},
     "output_type": "execute_result"
    }
   ],
   "source": [
    "nrg.columns"
   ]
  },
  {
   "cell_type": "code",
   "execution_count": 7,
   "metadata": {
    "collapsed": false
   },
   "outputs": [],
   "source": [
    "mhp = gp.GeoDataFrame.from_file(os.getenv(\"PUIDATA\") + \"/Manhattan/MNMapPLUTO.shp\")"
   ]
  },
  {
   "cell_type": "code",
   "execution_count": 8,
   "metadata": {
    "collapsed": false
   },
   "outputs": [
    {
     "name": "stdout",
     "output_type": "stream",
     "text": [
      "<class 'geopandas.geodataframe.GeoDataFrame'> (42686, 88)\n"
     ]
    }
   ],
   "source": [
    "print(type(mhp), mhp.shape)"
   ]
  },
  {
   "cell_type": "code",
   "execution_count": 9,
   "metadata": {
    "collapsed": false
   },
   "outputs": [
    {
     "data": {
      "text/html": [
       "<div>\n",
       "<table border=\"1\" class=\"dataframe\">\n",
       "  <thead>\n",
       "    <tr style=\"text-align: right;\">\n",
       "      <th></th>\n",
       "      <th>Borough</th>\n",
       "      <th>Block</th>\n",
       "      <th>Lot</th>\n",
       "      <th>CD</th>\n",
       "      <th>CT2010</th>\n",
       "      <th>CB2010</th>\n",
       "      <th>SchoolDist</th>\n",
       "      <th>Council</th>\n",
       "      <th>ZipCode</th>\n",
       "      <th>FireComp</th>\n",
       "      <th>...</th>\n",
       "      <th>TaxMap</th>\n",
       "      <th>EDesigNum</th>\n",
       "      <th>APPBBL</th>\n",
       "      <th>APPDate</th>\n",
       "      <th>PLUTOMapID</th>\n",
       "      <th>Version</th>\n",
       "      <th>MAPPLUTO_F</th>\n",
       "      <th>SHAPE_Leng</th>\n",
       "      <th>SHAPE_Area</th>\n",
       "      <th>geometry</th>\n",
       "    </tr>\n",
       "  </thead>\n",
       "  <tbody>\n",
       "    <tr>\n",
       "      <th>0</th>\n",
       "      <td>MN</td>\n",
       "      <td>1</td>\n",
       "      <td>201</td>\n",
       "      <td>101</td>\n",
       "      <td>1</td>\n",
       "      <td>1000</td>\n",
       "      <td>02</td>\n",
       "      <td>1</td>\n",
       "      <td>10004</td>\n",
       "      <td>E007</td>\n",
       "      <td>...</td>\n",
       "      <td>10101</td>\n",
       "      <td></td>\n",
       "      <td>0.000000e+00</td>\n",
       "      <td></td>\n",
       "      <td>1</td>\n",
       "      <td>16V2</td>\n",
       "      <td>0</td>\n",
       "      <td>6306.265838</td>\n",
       "      <td>1.148541e+06</td>\n",
       "      <td>POLYGON ((973154.7117999941 194614.3315999955,...</td>\n",
       "    </tr>\n",
       "    <tr>\n",
       "      <th>1</th>\n",
       "      <td>MN</td>\n",
       "      <td>9</td>\n",
       "      <td>14</td>\n",
       "      <td>101</td>\n",
       "      <td>9</td>\n",
       "      <td>1013</td>\n",
       "      <td>02</td>\n",
       "      <td>1</td>\n",
       "      <td>10004</td>\n",
       "      <td>L015</td>\n",
       "      <td>...</td>\n",
       "      <td>10101</td>\n",
       "      <td></td>\n",
       "      <td>1.000090e+09</td>\n",
       "      <td>12/26/1985</td>\n",
       "      <td>1</td>\n",
       "      <td>16V2</td>\n",
       "      <td>0</td>\n",
       "      <td>686.230174</td>\n",
       "      <td>2.373306e+04</td>\n",
       "      <td>POLYGON ((980492.3622000068 195423.9451999962,...</td>\n",
       "    </tr>\n",
       "    <tr>\n",
       "      <th>2</th>\n",
       "      <td>MN</td>\n",
       "      <td>15</td>\n",
       "      <td>7501</td>\n",
       "      <td>101</td>\n",
       "      <td>13</td>\n",
       "      <td>2005</td>\n",
       "      <td>02</td>\n",
       "      <td>1</td>\n",
       "      <td>10004</td>\n",
       "      <td>E010</td>\n",
       "      <td>...</td>\n",
       "      <td>10101</td>\n",
       "      <td></td>\n",
       "      <td>1.000150e+09</td>\n",
       "      <td>12/29/1998</td>\n",
       "      <td>1</td>\n",
       "      <td>16V2</td>\n",
       "      <td>7</td>\n",
       "      <td>1098.925676</td>\n",
       "      <td>6.753824e+04</td>\n",
       "      <td>POLYGON ((979999.0820000023 196493.2800000012,...</td>\n",
       "    </tr>\n",
       "    <tr>\n",
       "      <th>3</th>\n",
       "      <td>MN</td>\n",
       "      <td>13</td>\n",
       "      <td>5</td>\n",
       "      <td>101</td>\n",
       "      <td>13</td>\n",
       "      <td>2008</td>\n",
       "      <td>02</td>\n",
       "      <td>1</td>\n",
       "      <td>10004</td>\n",
       "      <td>E010</td>\n",
       "      <td>...</td>\n",
       "      <td>10101</td>\n",
       "      <td></td>\n",
       "      <td>0.000000e+00</td>\n",
       "      <td></td>\n",
       "      <td>1</td>\n",
       "      <td>16V2</td>\n",
       "      <td>0</td>\n",
       "      <td>709.632239</td>\n",
       "      <td>3.068607e+04</td>\n",
       "      <td>POLYGON ((980424.4003999978 196274.334800005, ...</td>\n",
       "    </tr>\n",
       "    <tr>\n",
       "      <th>4</th>\n",
       "      <td>MN</td>\n",
       "      <td>1</td>\n",
       "      <td>10</td>\n",
       "      <td>101</td>\n",
       "      <td>5</td>\n",
       "      <td>1018</td>\n",
       "      <td>02</td>\n",
       "      <td>1</td>\n",
       "      <td>10004</td>\n",
       "      <td>E007</td>\n",
       "      <td>...</td>\n",
       "      <td>10101</td>\n",
       "      <td></td>\n",
       "      <td>0.000000e+00</td>\n",
       "      <td></td>\n",
       "      <td>1</td>\n",
       "      <td>16V2</td>\n",
       "      <td>0</td>\n",
       "      <td>12277.830569</td>\n",
       "      <td>7.550344e+06</td>\n",
       "      <td>POLYGON ((979561.8711999953 191884.2495999932,...</td>\n",
       "    </tr>\n",
       "  </tbody>\n",
       "</table>\n",
       "<p>5 rows × 88 columns</p>\n",
       "</div>"
      ],
      "text/plain": [
       "  Borough  Block   Lot   CD CT2010 CB2010 SchoolDist  Council  ZipCode  \\\n",
       "0      MN      1   201  101      1   1000         02        1    10004   \n",
       "1      MN      9    14  101      9   1013         02        1    10004   \n",
       "2      MN     15  7501  101     13   2005         02        1    10004   \n",
       "3      MN     13     5  101     13   2008         02        1    10004   \n",
       "4      MN      1    10  101      5   1018         02        1    10004   \n",
       "\n",
       "  FireComp                        ...                          TaxMap  \\\n",
       "0     E007                        ...                           10101   \n",
       "1     L015                        ...                           10101   \n",
       "2     E010                        ...                           10101   \n",
       "3     E010                        ...                           10101   \n",
       "4     E007                        ...                           10101   \n",
       "\n",
       "   EDesigNum        APPBBL     APPDate PLUTOMapID Version MAPPLUTO_F  \\\n",
       "0             0.000000e+00                      1    16V2          0   \n",
       "1             1.000090e+09  12/26/1985          1    16V2          0   \n",
       "2             1.000150e+09  12/29/1998          1    16V2          7   \n",
       "3             0.000000e+00                      1    16V2          0   \n",
       "4             0.000000e+00                      1    16V2          0   \n",
       "\n",
       "     SHAPE_Leng    SHAPE_Area  \\\n",
       "0   6306.265838  1.148541e+06   \n",
       "1    686.230174  2.373306e+04   \n",
       "2   1098.925676  6.753824e+04   \n",
       "3    709.632239  3.068607e+04   \n",
       "4  12277.830569  7.550344e+06   \n",
       "\n",
       "                                            geometry  \n",
       "0  POLYGON ((973154.7117999941 194614.3315999955,...  \n",
       "1  POLYGON ((980492.3622000068 195423.9451999962,...  \n",
       "2  POLYGON ((979999.0820000023 196493.2800000012,...  \n",
       "3  POLYGON ((980424.4003999978 196274.334800005, ...  \n",
       "4  POLYGON ((979561.8711999953 191884.2495999932,...  \n",
       "\n",
       "[5 rows x 88 columns]"
      ]
     },
     "execution_count": 9,
     "metadata": {},
     "output_type": "execute_result"
    }
   ],
   "source": [
    "mhp.head()"
   ]
  },
  {
   "cell_type": "code",
   "execution_count": 10,
   "metadata": {
    "collapsed": false
   },
   "outputs": [
    {
     "data": {
      "text/plain": [
       "Index(['Borough', 'Block', 'Lot', 'CD', 'CT2010', 'CB2010', 'SchoolDist',\n",
       "       'Council', 'ZipCode', 'FireComp', 'PolicePrct', 'HealthArea',\n",
       "       'SanitBoro', 'SanitDistr', 'SanitSub', 'Address', 'ZoneDist1',\n",
       "       'ZoneDist2', 'ZoneDist3', 'ZoneDist4', 'Overlay1', 'Overlay2',\n",
       "       'SPDist1', 'SPDist2', 'SPDist3', 'LtdHeight', 'SplitZone', 'BldgClass',\n",
       "       'LandUse', 'Easements', 'OwnerType', 'OwnerName', 'LotArea', 'BldgArea',\n",
       "       'ComArea', 'ResArea', 'OfficeArea', 'RetailArea', 'GarageArea',\n",
       "       'StrgeArea', 'FactryArea', 'OtherArea', 'AreaSource', 'NumBldgs',\n",
       "       'NumFloors', 'UnitsRes', 'UnitsTotal', 'LotFront', 'LotDepth',\n",
       "       'BldgFront', 'BldgDepth', 'Ext', 'ProxCode', 'IrrLotCode', 'LotType',\n",
       "       'BsmtCode', 'AssessLand', 'AssessTot', 'ExemptLand', 'ExemptTot',\n",
       "       'YearBuilt', 'YearAlter1', 'YearAlter2', 'HistDist', 'Landmark',\n",
       "       'BuiltFAR', 'ResidFAR', 'CommFAR', 'FacilFAR', 'BoroCode', 'BBL',\n",
       "       'CondoNo', 'Tract2010', 'XCoord', 'YCoord', 'ZoneMap', 'ZMCode',\n",
       "       'Sanborn', 'TaxMap', 'EDesigNum', 'APPBBL', 'APPDate', 'PLUTOMapID',\n",
       "       'Version', 'MAPPLUTO_F', 'SHAPE_Leng', 'SHAPE_Area', 'geometry'],\n",
       "      dtype='object')"
      ]
     },
     "execution_count": 10,
     "metadata": {},
     "output_type": "execute_result"
    }
   ],
   "source": [
    "mhp.columns"
   ]
  },
  {
   "cell_type": "markdown",
   "metadata": {},
   "source": [
    "### explore the column names\n",
    "EUI means energy use intensity, site energy and source energy see:https://www.energystar.gov/buildings/facility-owners-and-managers/existing-buildings/use-portfolio-manager/understand-metrics/difference\n",
    "\n",
    "kbtu = Kilo British Thermal Unit\n",
    "\n",
    "ft2 = square feet\n",
    "\n",
    "## Based on the common sense and the research target, select the columns we want:\n",
    "- Common column: BBL\n",
    "- Energy (per ft2)\n",
    "- Area (ft2)\n",
    "- Units"
   ]
  },
  {
   "cell_type": "code",
   "execution_count": 11,
   "metadata": {
    "collapsed": false
   },
   "outputs": [],
   "source": [
    "# choose the site energy\n",
    "nrg1 = nrg[['nyc_borough_block_and_lot_bbl', 'dof_property_floor_area_buildngs_and_parking_ft2',\n",
    "          'site_eui_kbtu_ft2', 'energy_star_score']]\n",
    "mhp1 = mhp[['UnitsTotal', 'UnitsRes', 'BBL', 'YearBuilt', 'LotArea']]"
   ]
  },
  {
   "cell_type": "code",
   "execution_count": 12,
   "metadata": {
    "collapsed": false
   },
   "outputs": [],
   "source": [
    "nrg1.is_copy = False\n",
    "nrg1.rename(columns = {'nyc_borough_block_and_lot_bbl':'BBL', \n",
    "                      'dof_property_floor_area_buildngs_and_parking_ft2':'area_ft2'}, inplace = True)"
   ]
  },
  {
   "cell_type": "markdown",
   "metadata": {},
   "source": [
    "#### explore and clean nrg1 data table"
   ]
  },
  {
   "cell_type": "code",
   "execution_count": 13,
   "metadata": {
    "collapsed": false
   },
   "outputs": [
    {
     "data": {
      "text/html": [
       "<div>\n",
       "<table border=\"1\" class=\"dataframe\">\n",
       "  <thead>\n",
       "    <tr style=\"text-align: right;\">\n",
       "      <th></th>\n",
       "      <th>BBL</th>\n",
       "      <th>area_ft2</th>\n",
       "      <th>site_eui_kbtu_ft2</th>\n",
       "      <th>energy_star_score</th>\n",
       "    </tr>\n",
       "  </thead>\n",
       "  <tbody>\n",
       "    <tr>\n",
       "      <th>0</th>\n",
       "      <td>1000410001</td>\n",
       "      <td>NaN</td>\n",
       "      <td>NaN</td>\n",
       "      <td>Not Available</td>\n",
       "    </tr>\n",
       "    <tr>\n",
       "      <th>1</th>\n",
       "      <td>4021460028</td>\n",
       "      <td>82730</td>\n",
       "      <td>NaN</td>\n",
       "      <td>NaN</td>\n",
       "    </tr>\n",
       "    <tr>\n",
       "      <th>2</th>\n",
       "      <td>2027620097</td>\n",
       "      <td>NaN</td>\n",
       "      <td>NaN</td>\n",
       "      <td>Not Available</td>\n",
       "    </tr>\n",
       "    <tr>\n",
       "      <th>3</th>\n",
       "      <td>1006700001</td>\n",
       "      <td>440360</td>\n",
       "      <td>NaN</td>\n",
       "      <td>NaN</td>\n",
       "    </tr>\n",
       "    <tr>\n",
       "      <th>4</th>\n",
       "      <td>2048300034</td>\n",
       "      <td>NaN</td>\n",
       "      <td>NaN</td>\n",
       "      <td>Not Available</td>\n",
       "    </tr>\n",
       "  </tbody>\n",
       "</table>\n",
       "</div>"
      ],
      "text/plain": [
       "          BBL area_ft2 site_eui_kbtu_ft2 energy_star_score\n",
       "0  1000410001      NaN               NaN     Not Available\n",
       "1  4021460028    82730               NaN               NaN\n",
       "2  2027620097      NaN               NaN     Not Available\n",
       "3  1006700001   440360               NaN               NaN\n",
       "4  2048300034      NaN               NaN     Not Available"
      ]
     },
     "execution_count": 13,
     "metadata": {},
     "output_type": "execute_result"
    }
   ],
   "source": [
    "nrg1.head()"
   ]
  },
  {
   "cell_type": "code",
   "execution_count": 14,
   "metadata": {
    "collapsed": false
   },
   "outputs": [
    {
     "data": {
      "text/html": [
       "<div>\n",
       "<table border=\"1\" class=\"dataframe\">\n",
       "  <thead>\n",
       "    <tr style=\"text-align: right;\">\n",
       "      <th></th>\n",
       "      <th>BBL</th>\n",
       "      <th>area_ft2</th>\n",
       "      <th>site_eui_kbtu_ft2</th>\n",
       "      <th>energy_star_score</th>\n",
       "    </tr>\n",
       "  </thead>\n",
       "  <tbody>\n",
       "    <tr>\n",
       "      <th>count</th>\n",
       "      <td>997</td>\n",
       "      <td>879</td>\n",
       "      <td>840</td>\n",
       "      <td>969</td>\n",
       "    </tr>\n",
       "    <tr>\n",
       "      <th>unique</th>\n",
       "      <td>973</td>\n",
       "      <td>841</td>\n",
       "      <td>617</td>\n",
       "      <td>79</td>\n",
       "    </tr>\n",
       "    <tr>\n",
       "      <th>top</th>\n",
       "      <td>1007540078</td>\n",
       "      <td>180000</td>\n",
       "      <td>See Primary BBL</td>\n",
       "      <td>Not Available</td>\n",
       "    </tr>\n",
       "    <tr>\n",
       "      <th>freq</th>\n",
       "      <td>2</td>\n",
       "      <td>3</td>\n",
       "      <td>16</td>\n",
       "      <td>654</td>\n",
       "    </tr>\n",
       "  </tbody>\n",
       "</table>\n",
       "</div>"
      ],
      "text/plain": [
       "               BBL area_ft2 site_eui_kbtu_ft2 energy_star_score\n",
       "count          997      879               840               969\n",
       "unique         973      841               617                79\n",
       "top     1007540078   180000   See Primary BBL     Not Available\n",
       "freq             2        3                16               654"
      ]
     },
     "execution_count": 14,
     "metadata": {},
     "output_type": "execute_result"
    }
   ],
   "source": [
    "nrg1.describe()"
   ]
  },
  {
   "cell_type": "code",
   "execution_count": 15,
   "metadata": {
    "collapsed": false
   },
   "outputs": [
    {
     "data": {
      "text/html": [
       "<div>\n",
       "<table border=\"1\" class=\"dataframe\">\n",
       "  <thead>\n",
       "    <tr style=\"text-align: right;\">\n",
       "      <th></th>\n",
       "      <th>BBL</th>\n",
       "      <th>area_ft2</th>\n",
       "      <th>site_eui_kbtu_ft2</th>\n",
       "      <th>energy_star_score</th>\n",
       "    </tr>\n",
       "  </thead>\n",
       "  <tbody>\n",
       "    <tr>\n",
       "      <th>0</th>\n",
       "      <td>1013110040</td>\n",
       "      <td>313200</td>\n",
       "      <td>125.4</td>\n",
       "      <td>68</td>\n",
       "    </tr>\n",
       "    <tr>\n",
       "      <th>1</th>\n",
       "      <td>4002520018</td>\n",
       "      <td>184400</td>\n",
       "      <td>46</td>\n",
       "      <td>100</td>\n",
       "    </tr>\n",
       "    <tr>\n",
       "      <th>2</th>\n",
       "      <td>1007660061</td>\n",
       "      <td>53168</td>\n",
       "      <td>122.3</td>\n",
       "      <td>4</td>\n",
       "    </tr>\n",
       "    <tr>\n",
       "      <th>3</th>\n",
       "      <td>1008150046</td>\n",
       "      <td>364000</td>\n",
       "      <td>117</td>\n",
       "      <td>52</td>\n",
       "    </tr>\n",
       "    <tr>\n",
       "      <th>4</th>\n",
       "      <td>1005050001</td>\n",
       "      <td>214110</td>\n",
       "      <td>82.1</td>\n",
       "      <td>44</td>\n",
       "    </tr>\n",
       "  </tbody>\n",
       "</table>\n",
       "</div>"
      ],
      "text/plain": [
       "          BBL area_ft2 site_eui_kbtu_ft2 energy_star_score\n",
       "0  1013110040   313200             125.4                68\n",
       "1  4002520018   184400                46               100\n",
       "2  1007660061    53168             122.3                 4\n",
       "3  1008150046   364000               117                52\n",
       "4  1005050001   214110              82.1                44"
      ]
     },
     "execution_count": 15,
     "metadata": {},
     "output_type": "execute_result"
    }
   ],
   "source": [
    "## delete the useless data of site_eui\n",
    "## delete na values\n",
    "nrg1 = nrg1[nrg1['site_eui_kbtu_ft2'] != 'See Primary BBL']\n",
    "nrg1 = nrg1.dropna()\n",
    "\n",
    "## after delete rows, index needs reset\n",
    "nrg1.reset_index(drop = True, inplace = True)\n",
    "nrg1.head()"
   ]
  },
  {
   "cell_type": "code",
   "execution_count": 16,
   "metadata": {
    "collapsed": false
   },
   "outputs": [
    {
     "data": {
      "text/plain": [
       "(746, 4)"
      ]
     },
     "execution_count": 16,
     "metadata": {},
     "output_type": "execute_result"
    }
   ],
   "source": [
    "nrg1.shape"
   ]
  },
  {
   "cell_type": "code",
   "execution_count": 17,
   "metadata": {
    "collapsed": false
   },
   "outputs": [
    {
     "data": {
      "text/html": [
       "<div>\n",
       "<table border=\"1\" class=\"dataframe\">\n",
       "  <thead>\n",
       "    <tr style=\"text-align: right;\">\n",
       "      <th></th>\n",
       "      <th>UnitsTotal</th>\n",
       "      <th>UnitsRes</th>\n",
       "      <th>BBL</th>\n",
       "      <th>YearBuilt</th>\n",
       "      <th>LotArea</th>\n",
       "    </tr>\n",
       "  </thead>\n",
       "  <tbody>\n",
       "    <tr>\n",
       "      <th>count</th>\n",
       "      <td>42686.000000</td>\n",
       "      <td>42686.000000</td>\n",
       "      <td>4.268600e+04</td>\n",
       "      <td>42686.000000</td>\n",
       "      <td>4.268600e+04</td>\n",
       "    </tr>\n",
       "    <tr>\n",
       "      <th>mean</th>\n",
       "      <td>24.489903</td>\n",
       "      <td>21.628895</td>\n",
       "      <td>1.012295e+09</td>\n",
       "      <td>1814.429626</td>\n",
       "      <td>1.105831e+04</td>\n",
       "    </tr>\n",
       "    <tr>\n",
       "      <th>std</th>\n",
       "      <td>92.654779</td>\n",
       "      <td>89.318941</td>\n",
       "      <td>6.104002e+06</td>\n",
       "      <td>440.431674</td>\n",
       "      <td>2.114766e+05</td>\n",
       "    </tr>\n",
       "    <tr>\n",
       "      <th>min</th>\n",
       "      <td>0.000000</td>\n",
       "      <td>0.000000</td>\n",
       "      <td>1.000010e+09</td>\n",
       "      <td>0.000000</td>\n",
       "      <td>0.000000e+00</td>\n",
       "    </tr>\n",
       "    <tr>\n",
       "      <th>25%</th>\n",
       "      <td>2.000000</td>\n",
       "      <td>1.000000</td>\n",
       "      <td>1.007000e+09</td>\n",
       "      <td>1900.000000</td>\n",
       "      <td>1.916000e+03</td>\n",
       "    </tr>\n",
       "    <tr>\n",
       "      <th>50%</th>\n",
       "      <td>8.000000</td>\n",
       "      <td>6.000000</td>\n",
       "      <td>1.012510e+09</td>\n",
       "      <td>1910.000000</td>\n",
       "      <td>2.523000e+03</td>\n",
       "    </tr>\n",
       "    <tr>\n",
       "      <th>75%</th>\n",
       "      <td>20.000000</td>\n",
       "      <td>18.000000</td>\n",
       "      <td>1.017560e+09</td>\n",
       "      <td>1925.000000</td>\n",
       "      <td>5.688500e+03</td>\n",
       "    </tr>\n",
       "    <tr>\n",
       "      <th>max</th>\n",
       "      <td>8805.000000</td>\n",
       "      <td>8759.000000</td>\n",
       "      <td>1.022552e+09</td>\n",
       "      <td>2040.000000</td>\n",
       "      <td>3.659000e+07</td>\n",
       "    </tr>\n",
       "  </tbody>\n",
       "</table>\n",
       "</div>"
      ],
      "text/plain": [
       "         UnitsTotal      UnitsRes           BBL     YearBuilt       LotArea\n",
       "count  42686.000000  42686.000000  4.268600e+04  42686.000000  4.268600e+04\n",
       "mean      24.489903     21.628895  1.012295e+09   1814.429626  1.105831e+04\n",
       "std       92.654779     89.318941  6.104002e+06    440.431674  2.114766e+05\n",
       "min        0.000000      0.000000  1.000010e+09      0.000000  0.000000e+00\n",
       "25%        2.000000      1.000000  1.007000e+09   1900.000000  1.916000e+03\n",
       "50%        8.000000      6.000000  1.012510e+09   1910.000000  2.523000e+03\n",
       "75%       20.000000     18.000000  1.017560e+09   1925.000000  5.688500e+03\n",
       "max     8805.000000   8759.000000  1.022552e+09   2040.000000  3.659000e+07"
      ]
     },
     "execution_count": 17,
     "metadata": {},
     "output_type": "execute_result"
    }
   ],
   "source": [
    "# explore mhp1 data table\n",
    "# results shows that all columns data is numeric\n",
    "mhp1.describe()"
   ]
  },
  {
   "cell_type": "markdown",
   "metadata": {},
   "source": [
    "### Merge two datatables"
   ]
  },
  {
   "cell_type": "code",
   "execution_count": 18,
   "metadata": {
    "collapsed": false
   },
   "outputs": [
    {
     "data": {
      "text/html": [
       "<div>\n",
       "<table border=\"1\" class=\"dataframe\">\n",
       "  <thead>\n",
       "    <tr style=\"text-align: right;\">\n",
       "      <th></th>\n",
       "      <th>BBL</th>\n",
       "      <th>area_ft2</th>\n",
       "      <th>site_eui_kbtu_ft2</th>\n",
       "      <th>energy_star_score</th>\n",
       "      <th>UnitsTotal</th>\n",
       "      <th>UnitsRes</th>\n",
       "      <th>YearBuilt</th>\n",
       "      <th>LotArea</th>\n",
       "    </tr>\n",
       "  </thead>\n",
       "  <tbody>\n",
       "  </tbody>\n",
       "</table>\n",
       "</div>"
      ],
      "text/plain": [
       "Empty DataFrame\n",
       "Columns: [BBL, area_ft2, site_eui_kbtu_ft2, energy_star_score, UnitsTotal, UnitsRes, YearBuilt, LotArea]\n",
       "Index: []"
      ]
     },
     "execution_count": 18,
     "metadata": {},
     "output_type": "execute_result"
    }
   ],
   "source": [
    "m = pd.merge(nrg1, mhp1, how = 'inner' )\n",
    "m.head()"
   ]
  },
  {
   "cell_type": "code",
   "execution_count": 19,
   "metadata": {
    "collapsed": false
   },
   "outputs": [
    {
     "name": "stdout",
     "output_type": "stream",
     "text": [
      "<class 'str'> <class 'numpy.float64'>\n"
     ]
    }
   ],
   "source": [
    "## they can't be merged, the reason may be the difference of data type\n",
    "## check it\n",
    "print(type(nrg1.BBL[0]), type(mhp1.BBL[0]))"
   ]
  },
  {
   "cell_type": "code",
   "execution_count": 20,
   "metadata": {
    "collapsed": false
   },
   "outputs": [
    {
     "ename": "ValueError",
     "evalue": "invalid literal for int() with base 10: '125.4'",
     "output_type": "error",
     "traceback": [
      "\u001b[0;31m---------------------------------------------------------------------------\u001b[0m",
      "\u001b[0;31mValueError\u001b[0m                                Traceback (most recent call last)",
      "\u001b[0;32m<ipython-input-20-2ccc6d6234b4>\u001b[0m in \u001b[0;36m<module>\u001b[0;34m()\u001b[0m\n\u001b[1;32m      3\u001b[0m nrg1.loc[:,['BBL', 'area_ft2',\n\u001b[1;32m      4\u001b[0m             \u001b[0;34m'site_eui_kbtu_ft2'\u001b[0m\u001b[0;34m]\u001b[0m\u001b[0;34m]\u001b[0m \u001b[0;34m=\u001b[0m \u001b[0mnrg1\u001b[0m\u001b[0;34m.\u001b[0m\u001b[0mloc\u001b[0m\u001b[0;34m[\u001b[0m\u001b[0;34m:\u001b[0m\u001b[0;34m,\u001b[0m\u001b[0;34m[\u001b[0m\u001b[0;34m'BBL'\u001b[0m\u001b[0;34m,\u001b[0m \u001b[0;34m'area_ft2'\u001b[0m\u001b[0;34m,\u001b[0m\u001b[0;34m\u001b[0m\u001b[0m\n\u001b[0;32m----> 5\u001b[0;31m                                                 'site_eui_kbtu_ft2']].astype(int)\n\u001b[0m\u001b[1;32m      6\u001b[0m \u001b[0;34m\u001b[0m\u001b[0m\n\u001b[1;32m      7\u001b[0m \u001b[0;31m# we could also use: pd.to_numeric(df2['BBL'], errors = 'coerce')\u001b[0m\u001b[0;34m\u001b[0m\u001b[0;34m\u001b[0m\u001b[0m\n",
      "\u001b[0;32m/Users/apple/anaconda/lib/python3.6/site-packages/pandas/core/generic.py\u001b[0m in \u001b[0;36mastype\u001b[0;34m(self, dtype, copy, raise_on_error, **kwargs)\u001b[0m\n\u001b[1;32m   3052\u001b[0m         \u001b[0;31m# else, only a single dtype is given\u001b[0m\u001b[0;34m\u001b[0m\u001b[0;34m\u001b[0m\u001b[0m\n\u001b[1;32m   3053\u001b[0m         new_data = self._data.astype(dtype=dtype, copy=copy,\n\u001b[0;32m-> 3054\u001b[0;31m                                      raise_on_error=raise_on_error, **kwargs)\n\u001b[0m\u001b[1;32m   3055\u001b[0m         \u001b[0;32mreturn\u001b[0m \u001b[0mself\u001b[0m\u001b[0;34m.\u001b[0m\u001b[0m_constructor\u001b[0m\u001b[0;34m(\u001b[0m\u001b[0mnew_data\u001b[0m\u001b[0;34m)\u001b[0m\u001b[0;34m.\u001b[0m\u001b[0m__finalize__\u001b[0m\u001b[0;34m(\u001b[0m\u001b[0mself\u001b[0m\u001b[0;34m)\u001b[0m\u001b[0;34m\u001b[0m\u001b[0m\n\u001b[1;32m   3056\u001b[0m \u001b[0;34m\u001b[0m\u001b[0m\n",
      "\u001b[0;32m/Users/apple/anaconda/lib/python3.6/site-packages/pandas/core/internals.py\u001b[0m in \u001b[0;36mastype\u001b[0;34m(self, dtype, **kwargs)\u001b[0m\n\u001b[1;32m   3187\u001b[0m \u001b[0;34m\u001b[0m\u001b[0m\n\u001b[1;32m   3188\u001b[0m     \u001b[0;32mdef\u001b[0m \u001b[0mastype\u001b[0m\u001b[0;34m(\u001b[0m\u001b[0mself\u001b[0m\u001b[0;34m,\u001b[0m \u001b[0mdtype\u001b[0m\u001b[0;34m,\u001b[0m \u001b[0;34m**\u001b[0m\u001b[0mkwargs\u001b[0m\u001b[0;34m)\u001b[0m\u001b[0;34m:\u001b[0m\u001b[0;34m\u001b[0m\u001b[0m\n\u001b[0;32m-> 3189\u001b[0;31m         \u001b[0;32mreturn\u001b[0m \u001b[0mself\u001b[0m\u001b[0;34m.\u001b[0m\u001b[0mapply\u001b[0m\u001b[0;34m(\u001b[0m\u001b[0;34m'astype'\u001b[0m\u001b[0;34m,\u001b[0m \u001b[0mdtype\u001b[0m\u001b[0;34m=\u001b[0m\u001b[0mdtype\u001b[0m\u001b[0;34m,\u001b[0m \u001b[0;34m**\u001b[0m\u001b[0mkwargs\u001b[0m\u001b[0;34m)\u001b[0m\u001b[0;34m\u001b[0m\u001b[0m\n\u001b[0m\u001b[1;32m   3190\u001b[0m \u001b[0;34m\u001b[0m\u001b[0m\n\u001b[1;32m   3191\u001b[0m     \u001b[0;32mdef\u001b[0m \u001b[0mconvert\u001b[0m\u001b[0;34m(\u001b[0m\u001b[0mself\u001b[0m\u001b[0;34m,\u001b[0m \u001b[0;34m**\u001b[0m\u001b[0mkwargs\u001b[0m\u001b[0;34m)\u001b[0m\u001b[0;34m:\u001b[0m\u001b[0;34m\u001b[0m\u001b[0m\n",
      "\u001b[0;32m/Users/apple/anaconda/lib/python3.6/site-packages/pandas/core/internals.py\u001b[0m in \u001b[0;36mapply\u001b[0;34m(self, f, axes, filter, do_integrity_check, consolidate, **kwargs)\u001b[0m\n\u001b[1;32m   3054\u001b[0m \u001b[0;34m\u001b[0m\u001b[0m\n\u001b[1;32m   3055\u001b[0m             \u001b[0mkwargs\u001b[0m\u001b[0;34m[\u001b[0m\u001b[0;34m'mgr'\u001b[0m\u001b[0;34m]\u001b[0m \u001b[0;34m=\u001b[0m \u001b[0mself\u001b[0m\u001b[0;34m\u001b[0m\u001b[0m\n\u001b[0;32m-> 3056\u001b[0;31m             \u001b[0mapplied\u001b[0m \u001b[0;34m=\u001b[0m \u001b[0mgetattr\u001b[0m\u001b[0;34m(\u001b[0m\u001b[0mb\u001b[0m\u001b[0;34m,\u001b[0m \u001b[0mf\u001b[0m\u001b[0;34m)\u001b[0m\u001b[0;34m(\u001b[0m\u001b[0;34m**\u001b[0m\u001b[0mkwargs\u001b[0m\u001b[0;34m)\u001b[0m\u001b[0;34m\u001b[0m\u001b[0m\n\u001b[0m\u001b[1;32m   3057\u001b[0m             \u001b[0mresult_blocks\u001b[0m \u001b[0;34m=\u001b[0m \u001b[0m_extend_blocks\u001b[0m\u001b[0;34m(\u001b[0m\u001b[0mapplied\u001b[0m\u001b[0;34m,\u001b[0m \u001b[0mresult_blocks\u001b[0m\u001b[0;34m)\u001b[0m\u001b[0;34m\u001b[0m\u001b[0m\n\u001b[1;32m   3058\u001b[0m \u001b[0;34m\u001b[0m\u001b[0m\n",
      "\u001b[0;32m/Users/apple/anaconda/lib/python3.6/site-packages/pandas/core/internals.py\u001b[0m in \u001b[0;36mastype\u001b[0;34m(self, dtype, copy, raise_on_error, values, **kwargs)\u001b[0m\n\u001b[1;32m    459\u001b[0m                **kwargs):\n\u001b[1;32m    460\u001b[0m         return self._astype(dtype, copy=copy, raise_on_error=raise_on_error,\n\u001b[0;32m--> 461\u001b[0;31m                             values=values, **kwargs)\n\u001b[0m\u001b[1;32m    462\u001b[0m \u001b[0;34m\u001b[0m\u001b[0m\n\u001b[1;32m    463\u001b[0m     def _astype(self, dtype, copy=False, raise_on_error=True, values=None,\n",
      "\u001b[0;32m/Users/apple/anaconda/lib/python3.6/site-packages/pandas/core/internals.py\u001b[0m in \u001b[0;36m_astype\u001b[0;34m(self, dtype, copy, raise_on_error, values, klass, mgr, **kwargs)\u001b[0m\n\u001b[1;32m    502\u001b[0m \u001b[0;34m\u001b[0m\u001b[0m\n\u001b[1;32m    503\u001b[0m                 \u001b[0;31m# _astype_nansafe works fine with 1-d only\u001b[0m\u001b[0;34m\u001b[0m\u001b[0;34m\u001b[0m\u001b[0m\n\u001b[0;32m--> 504\u001b[0;31m                 \u001b[0mvalues\u001b[0m \u001b[0;34m=\u001b[0m \u001b[0m_astype_nansafe\u001b[0m\u001b[0;34m(\u001b[0m\u001b[0mvalues\u001b[0m\u001b[0;34m.\u001b[0m\u001b[0mravel\u001b[0m\u001b[0;34m(\u001b[0m\u001b[0;34m)\u001b[0m\u001b[0;34m,\u001b[0m \u001b[0mdtype\u001b[0m\u001b[0;34m,\u001b[0m \u001b[0mcopy\u001b[0m\u001b[0;34m=\u001b[0m\u001b[0;32mTrue\u001b[0m\u001b[0;34m)\u001b[0m\u001b[0;34m\u001b[0m\u001b[0m\n\u001b[0m\u001b[1;32m    505\u001b[0m                 \u001b[0mvalues\u001b[0m \u001b[0;34m=\u001b[0m \u001b[0mvalues\u001b[0m\u001b[0;34m.\u001b[0m\u001b[0mreshape\u001b[0m\u001b[0;34m(\u001b[0m\u001b[0mself\u001b[0m\u001b[0;34m.\u001b[0m\u001b[0mshape\u001b[0m\u001b[0;34m)\u001b[0m\u001b[0;34m\u001b[0m\u001b[0m\n\u001b[1;32m    506\u001b[0m \u001b[0;34m\u001b[0m\u001b[0m\n",
      "\u001b[0;32m/Users/apple/anaconda/lib/python3.6/site-packages/pandas/types/cast.py\u001b[0m in \u001b[0;36m_astype_nansafe\u001b[0;34m(arr, dtype, copy)\u001b[0m\n\u001b[1;32m    532\u001b[0m     \u001b[0;32melif\u001b[0m \u001b[0marr\u001b[0m\u001b[0;34m.\u001b[0m\u001b[0mdtype\u001b[0m \u001b[0;34m==\u001b[0m \u001b[0mnp\u001b[0m\u001b[0;34m.\u001b[0m\u001b[0mobject_\u001b[0m \u001b[0;32mand\u001b[0m \u001b[0mnp\u001b[0m\u001b[0;34m.\u001b[0m\u001b[0missubdtype\u001b[0m\u001b[0;34m(\u001b[0m\u001b[0mdtype\u001b[0m\u001b[0;34m.\u001b[0m\u001b[0mtype\u001b[0m\u001b[0;34m,\u001b[0m \u001b[0mnp\u001b[0m\u001b[0;34m.\u001b[0m\u001b[0minteger\u001b[0m\u001b[0;34m)\u001b[0m\u001b[0;34m:\u001b[0m\u001b[0;34m\u001b[0m\u001b[0m\n\u001b[1;32m    533\u001b[0m         \u001b[0;31m# work around NumPy brokenness, #1987\u001b[0m\u001b[0;34m\u001b[0m\u001b[0;34m\u001b[0m\u001b[0m\n\u001b[0;32m--> 534\u001b[0;31m         \u001b[0;32mreturn\u001b[0m \u001b[0mlib\u001b[0m\u001b[0;34m.\u001b[0m\u001b[0mastype_intsafe\u001b[0m\u001b[0;34m(\u001b[0m\u001b[0marr\u001b[0m\u001b[0;34m.\u001b[0m\u001b[0mravel\u001b[0m\u001b[0;34m(\u001b[0m\u001b[0;34m)\u001b[0m\u001b[0;34m,\u001b[0m \u001b[0mdtype\u001b[0m\u001b[0;34m)\u001b[0m\u001b[0;34m.\u001b[0m\u001b[0mreshape\u001b[0m\u001b[0;34m(\u001b[0m\u001b[0marr\u001b[0m\u001b[0;34m.\u001b[0m\u001b[0mshape\u001b[0m\u001b[0;34m)\u001b[0m\u001b[0;34m\u001b[0m\u001b[0m\n\u001b[0m\u001b[1;32m    535\u001b[0m \u001b[0;34m\u001b[0m\u001b[0m\n\u001b[1;32m    536\u001b[0m     \u001b[0;32mif\u001b[0m \u001b[0mcopy\u001b[0m\u001b[0;34m:\u001b[0m\u001b[0;34m\u001b[0m\u001b[0m\n",
      "\u001b[0;32mpandas/lib.pyx\u001b[0m in \u001b[0;36mpandas.lib.astype_intsafe (pandas/lib.c:17409)\u001b[0;34m()\u001b[0m\n",
      "\u001b[0;32mpandas/src/util.pxd\u001b[0m in \u001b[0;36mutil.set_value_at_unsafe (pandas/lib.c:72777)\u001b[0;34m()\u001b[0m\n",
      "\u001b[0;31mValueError\u001b[0m: invalid literal for int() with base 10: '125.4'"
     ]
    }
   ],
   "source": [
    "## we need to change the string columns into float columns\n",
    "\n",
    "nrg1.loc[:,['BBL', 'area_ft2',\n",
    "            'site_eui_kbtu_ft2']] = nrg1.loc[:,['BBL', 'area_ft2', \n",
    "                                                'site_eui_kbtu_ft2']].astype(int)\n",
    "\n",
    "# we could also use: pd.to_numeric(df2['BBL'], errors = 'coerce')\n",
    "# but it cannot used in several columns one time\n",
    "\n",
    "for i in nrg1.iloc[1,:]:\n",
    "    print(type(i))"
   ]
  },
  {
   "cell_type": "code",
   "execution_count": null,
   "metadata": {
    "collapsed": false
   },
   "outputs": [],
   "source": [
    "## merge again\n",
    "m = pd.merge(nrg1, mhp1, how = 'inner')\n",
    "m.head()"
   ]
  },
  {
   "cell_type": "code",
   "execution_count": null,
   "metadata": {
    "collapsed": false
   },
   "outputs": [],
   "source": [
    "m.shape"
   ]
  },
  {
   "cell_type": "code",
   "execution_count": null,
   "metadata": {
    "collapsed": false
   },
   "outputs": [],
   "source": [
    "## energy star score, lot area are interesting, but we don't need them this time\n",
    "m1 = m.drop(['energy_star_score', 'LotArea'], axis = 1)\n",
    "m1.head()"
   ]
  },
  {
   "cell_type": "markdown",
   "metadata": {},
   "source": [
    "## Use scatter matrix to see the whole picture"
   ]
  },
  {
   "cell_type": "code",
   "execution_count": null,
   "metadata": {
    "collapsed": false
   },
   "outputs": [],
   "source": [
    "from pandas.tools.plotting import scatter_matrix\n",
    "scatter_matrix(m1, figsize = (16, 16))\n",
    "## what happen?"
   ]
  },
  {
   "cell_type": "markdown",
   "metadata": {},
   "source": [
    "### Calculate the total energy consumption of each Building"
   ]
  },
  {
   "cell_type": "code",
   "execution_count": null,
   "metadata": {
    "collapsed": true
   },
   "outputs": [],
   "source": [
    "m1['site_eu_kbtu'] = m1.site_eui_kbtu_ft2 * m1.area_ft2"
   ]
  },
  {
   "cell_type": "code",
   "execution_count": null,
   "metadata": {
    "collapsed": false
   },
   "outputs": [],
   "source": [
    "m1.head()"
   ]
  },
  {
   "cell_type": "markdown",
   "metadata": {},
   "source": [
    "## plot the 'Energy Consumption V.S. units.'"
   ]
  },
  {
   "cell_type": "code",
   "execution_count": null,
   "metadata": {
    "collapsed": false,
    "scrolled": true
   },
   "outputs": [],
   "source": [
    "plt.figure(figsize = (8, 8))\n",
    "plt.scatter(m1.UnitsTotal, m1.site_eu_kbtu)\n",
    "plt.xlabel('Number of units in Building', fontsize = 16)\n",
    "plt.ylabel('Energy consumption per building(kbtu)', fontsize = 16)\n",
    "plt.title('Energy Consumption V.S. units.', fontsize = 16)\n"
   ]
  },
  {
   "cell_type": "code",
   "execution_count": null,
   "metadata": {
    "collapsed": false
   },
   "outputs": [],
   "source": [
    "## zoom in on the y axis to 10**9\n",
    "\n",
    "plt.figure(figsize = (8, 8))\n",
    "plt.ylim([100, np.power(10, 9)])\n",
    "plt.scatter(m1.UnitsTotal, m1.site_eu_kbtu)\n",
    "plt.xlabel('Number of units in Building', fontsize = 16)\n",
    "plt.ylabel('Energy consumption per building(kbtu)', fontsize = 16)\n",
    "plt.title('Energy Consumption V.S. units.', fontsize = 16)\n"
   ]
  },
  {
   "cell_type": "code",
   "execution_count": null,
   "metadata": {
    "collapsed": false
   },
   "outputs": [],
   "source": [
    "## zoom in more on the y axis to 10**8\n",
    "## seem better now\n",
    "\n",
    "plt.figure(figsize = (8, 8))\n",
    "plt.ylim([100, np.power(10, 8)])\n",
    "plt.scatter(m1.UnitsTotal, m1.site_eu_kbtu)\n",
    "plt.xlabel('Number of units in Building', fontsize = 16)\n",
    "plt.ylabel('Energy consumption per building(kbtu)', fontsize = 16)\n",
    "plt.title('Energy Consumption V.S. units.', fontsize = 16)"
   ]
  },
  {
   "cell_type": "markdown",
   "metadata": {},
   "source": [
    "### deeper clean the merged table"
   ]
  },
  {
   "cell_type": "code",
   "execution_count": null,
   "metadata": {
    "collapsed": false,
    "scrolled": true
   },
   "outputs": [],
   "source": [
    "## have a look\n",
    "m2 = m1[['UnitsTotal', 'site_eu_kbtu']]\n",
    "m2.head()"
   ]
  },
  {
   "cell_type": "code",
   "execution_count": null,
   "metadata": {
    "collapsed": false
   },
   "outputs": [],
   "source": [
    "m2 = m2[(m2.UnitsTotal > 10)& (m2.site_eu_kbtu > np.power(10, 5))]\n",
    "m2 = m2.dropna()\n",
    "m2.reset_index(drop = True, inplace = True)\n",
    "m2.head()\n"
   ]
  },
  {
   "cell_type": "code",
   "execution_count": null,
   "metadata": {
    "collapsed": false
   },
   "outputs": [],
   "source": [
    "m2.shape"
   ]
  },
  {
   "cell_type": "code",
   "execution_count": null,
   "metadata": {
    "collapsed": false
   },
   "outputs": [],
   "source": [
    "len(m2.site_eu_kbtu)"
   ]
  },
  {
   "cell_type": "code",
   "execution_count": null,
   "metadata": {
    "collapsed": false
   },
   "outputs": [],
   "source": [
    "i = 0\n",
    "for i in m2.iloc[:,1]:\n",
    "    i +=1\n",
    "    if type(i) != int:\n",
    "        print(i)\n",
    "    if i < 10000:\n",
    "        print(i)"
   ]
  },
  {
   "cell_type": "code",
   "execution_count": null,
   "metadata": {
    "collapsed": false
   },
   "outputs": [],
   "source": [
    "i"
   ]
  },
  {
   "cell_type": "markdown",
   "metadata": {},
   "source": [
    "## plot log"
   ]
  },
  {
   "cell_type": "code",
   "execution_count": null,
   "metadata": {
    "collapsed": false
   },
   "outputs": [],
   "source": [
    "\n",
    "#plt.scatter(m2.UnitsTotal, m2.site_eu_kbtu, loglog=True)\n",
    "\n",
    "ax = m2.plot(kind = 'scatter', y = 'site_eu_kbtu', x = 'UnitsTotal',  loglog=True, figsize = (8, 8))\n",
    "\n",
    "ax.set_ylim([np.power(10, 5), np.power(10, 9)])\n",
    "ax.set_xlabel('Number of units in Building', fontsize = 16)\n",
    "ax.set_ylabel('Energy consumption per building(kbtu)', fontsize = 16)\n",
    "ax.set_title('Energy Consumption V.S. units.', fontsize = 16)\n"
   ]
  },
  {
   "cell_type": "markdown",
   "metadata": {},
   "source": [
    "### It seems like there is a linear relationship between log(units) and log(energy consumption)"
   ]
  },
  {
   "cell_type": "markdown",
   "metadata": {},
   "source": [
    "## FIT"
   ]
  },
  {
   "cell_type": "markdown",
   "metadata": {},
   "source": [
    "### fit energy(y) - units(x) and  units(x) ~ energy(y) "
   ]
  },
  {
   "cell_type": "code",
   "execution_count": null,
   "metadata": {
    "collapsed": false
   },
   "outputs": [],
   "source": [
    "m3 = m2.rename(columns = {'site_eu_kbtu':'y', 'UnitsTotal':'x'})\n",
    "m3.head()"
   ]
  },
  {
   "cell_type": "code",
   "execution_count": null,
   "metadata": {
    "collapsed": true
   },
   "outputs": [],
   "source": [
    "lm1 = smf.ols(formula = 'y ~ x', data = m3).fit()\n",
    "lm2 = smf.ols(formula = 'x ~ y', data = m3).fit()"
   ]
  },
  {
   "cell_type": "code",
   "execution_count": null,
   "metadata": {
    "collapsed": false
   },
   "outputs": [],
   "source": [
    "lm1.rsquared"
   ]
  },
  {
   "cell_type": "code",
   "execution_count": null,
   "metadata": {
    "collapsed": true
   },
   "outputs": [],
   "source": []
  }
 ],
 "metadata": {
  "kernelspec": {
   "display_name": "Python 3",
   "language": "python",
   "name": "python3"
  },
  "language_info": {
   "codemirror_mode": {
    "name": "ipython",
    "version": 3
   },
   "file_extension": ".py",
   "mimetype": "text/x-python",
   "name": "python",
   "nbconvert_exporter": "python",
   "pygments_lexer": "ipython3",
   "version": "3.6.0"
  }
 },
 "nbformat": 4,
 "nbformat_minor": 2
}
