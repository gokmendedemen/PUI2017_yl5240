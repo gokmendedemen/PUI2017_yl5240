{
 "cells": [
  {
   "cell_type": "code",
   "execution_count": 1,
   "metadata": {
    "collapsed": false
   },
   "outputs": [],
   "source": [
    "import pandas as pd\n",
    "import numpy as np\n",
    "import matplotlib.pylab as plt\n",
    "%matplotlib inline"
   ]
  },
  {
   "cell_type": "code",
   "execution_count": 2,
   "metadata": {
    "collapsed": false
   },
   "outputs": [],
   "source": [
    "df = pd.read_csv('/Users/apple/Desktop/PUI2017/HW8_yl5240/geolytics_nyc_pop_income_house_2010.csv')"
   ]
  },
  {
   "cell_type": "code",
   "execution_count": 3,
   "metadata": {
    "collapsed": false
   },
   "outputs": [
    {
     "data": {
      "text/html": [
       "<div>\n",
       "<table border=\"1\" class=\"dataframe\">\n",
       "  <thead>\n",
       "    <tr style=\"text-align: right;\">\n",
       "      <th></th>\n",
       "      <th>AREAKEY</th>\n",
       "      <th>TRCTPOP1</th>\n",
       "      <th>MDFAMY1A</th>\n",
       "      <th>MDVALHS1A</th>\n",
       "    </tr>\n",
       "  </thead>\n",
       "  <tbody>\n",
       "    <tr>\n",
       "      <th>0</th>\n",
       "      <td>36005000100</td>\n",
       "      <td>11091</td>\n",
       "      <td>0</td>\n",
       "      <td>0</td>\n",
       "    </tr>\n",
       "    <tr>\n",
       "      <th>1</th>\n",
       "      <td>36005000200</td>\n",
       "      <td>4334</td>\n",
       "      <td>58368</td>\n",
       "      <td>392500</td>\n",
       "    </tr>\n",
       "    <tr>\n",
       "      <th>2</th>\n",
       "      <td>36005000400</td>\n",
       "      <td>5503</td>\n",
       "      <td>73148</td>\n",
       "      <td>393700</td>\n",
       "    </tr>\n",
       "    <tr>\n",
       "      <th>3</th>\n",
       "      <td>36005001600</td>\n",
       "      <td>5643</td>\n",
       "      <td>33555</td>\n",
       "      <td>378100</td>\n",
       "    </tr>\n",
       "    <tr>\n",
       "      <th>4</th>\n",
       "      <td>36005001900</td>\n",
       "      <td>1917</td>\n",
       "      <td>25489</td>\n",
       "      <td>0</td>\n",
       "    </tr>\n",
       "  </tbody>\n",
       "</table>\n",
       "</div>"
      ],
      "text/plain": [
       "       AREAKEY  TRCTPOP1  MDFAMY1A  MDVALHS1A\n",
       "0  36005000100     11091         0          0\n",
       "1  36005000200      4334     58368     392500\n",
       "2  36005000400      5503     73148     393700\n",
       "3  36005001600      5643     33555     378100\n",
       "4  36005001900      1917     25489          0"
      ]
     },
     "execution_count": 3,
     "metadata": {},
     "output_type": "execute_result"
    }
   ],
   "source": [
    "df.head()"
   ]
  },
  {
   "cell_type": "code",
   "execution_count": 4,
   "metadata": {
    "collapsed": false
   },
   "outputs": [
    {
     "data": {
      "text/html": [
       "<div>\n",
       "<table border=\"1\" class=\"dataframe\">\n",
       "  <thead>\n",
       "    <tr style=\"text-align: right;\">\n",
       "      <th></th>\n",
       "      <th>census_tract</th>\n",
       "      <th>Population</th>\n",
       "      <th>Median_family_income</th>\n",
       "      <th>Median_house_value</th>\n",
       "    </tr>\n",
       "  </thead>\n",
       "  <tbody>\n",
       "    <tr>\n",
       "      <th>0</th>\n",
       "      <td>36005000100</td>\n",
       "      <td>11091</td>\n",
       "      <td>0</td>\n",
       "      <td>0</td>\n",
       "    </tr>\n",
       "    <tr>\n",
       "      <th>1</th>\n",
       "      <td>36005000200</td>\n",
       "      <td>4334</td>\n",
       "      <td>58368</td>\n",
       "      <td>392500</td>\n",
       "    </tr>\n",
       "    <tr>\n",
       "      <th>2</th>\n",
       "      <td>36005000400</td>\n",
       "      <td>5503</td>\n",
       "      <td>73148</td>\n",
       "      <td>393700</td>\n",
       "    </tr>\n",
       "    <tr>\n",
       "      <th>3</th>\n",
       "      <td>36005001600</td>\n",
       "      <td>5643</td>\n",
       "      <td>33555</td>\n",
       "      <td>378100</td>\n",
       "    </tr>\n",
       "    <tr>\n",
       "      <th>4</th>\n",
       "      <td>36005001900</td>\n",
       "      <td>1917</td>\n",
       "      <td>25489</td>\n",
       "      <td>0</td>\n",
       "    </tr>\n",
       "  </tbody>\n",
       "</table>\n",
       "</div>"
      ],
      "text/plain": [
       "   census_tract  Population  Median_family_income  Median_house_value\n",
       "0   36005000100       11091                     0                   0\n",
       "1   36005000200        4334                 58368              392500\n",
       "2   36005000400        5503                 73148              393700\n",
       "3   36005001600        5643                 33555              378100\n",
       "4   36005001900        1917                 25489                   0"
      ]
     },
     "execution_count": 4,
     "metadata": {},
     "output_type": "execute_result"
    }
   ],
   "source": [
    "df.columns  = ['census_tract', 'Population', 'Median_family_income', 'Median_house_value']\n",
    "df.head()"
   ]
  },
  {
   "cell_type": "code",
   "execution_count": 5,
   "metadata": {
    "collapsed": false
   },
   "outputs": [
    {
     "data": {
      "text/plain": [
       "(2168, 4)"
      ]
     },
     "execution_count": 5,
     "metadata": {},
     "output_type": "execute_result"
    }
   ],
   "source": [
    "df.shape"
   ]
  },
  {
   "cell_type": "code",
   "execution_count": 6,
   "metadata": {
    "collapsed": false
   },
   "outputs": [
    {
     "data": {
      "text/plain": [
       "(2000, 4)"
      ]
     },
     "execution_count": 6,
     "metadata": {},
     "output_type": "execute_result"
    }
   ],
   "source": [
    "df1 = df[(df.Median_family_income > 0)&(df.Median_house_value>0)].reset_index(drop = True)\n",
    "df1.shape"
   ]
  },
  {
   "cell_type": "code",
   "execution_count": 7,
   "metadata": {
    "collapsed": false
   },
   "outputs": [
    {
     "data": {
      "text/plain": [
       "True"
      ]
     },
     "execution_count": 7,
     "metadata": {},
     "output_type": "execute_result"
    }
   ],
   "source": [
    "str(df.iloc[0,0]).startswith('36005')"
   ]
  },
  {
   "cell_type": "code",
   "execution_count": 8,
   "metadata": {
    "collapsed": false
   },
   "outputs": [],
   "source": [
    "for i in df1.index:\n",
    "    if str(df1.loc[i,'census_tract']).startswith('36005'):\n",
    "        df1.loc[i,'Borough'] = 'Bronx'\n",
    "    elif str(df1.loc[i,'census_tract']).startswith('36047'):\n",
    "        df1.loc[i,'Borough'] = 'Brooklyn'\n",
    "    elif str(df1.loc[i,'census_tract']).startswith('36061'):\n",
    "        df1.loc[i,'Borough'] = 'Manhattan'\n",
    "    elif str(df1.loc[i,'census_tract']).startswith('36081'):\n",
    "        df1.loc[i,'Borough'] = 'Queens'\n",
    "    elif str(df1.loc[i,'census_tract']).startswith('36085'):\n",
    "        df1.loc[i,'Borough'] = 'Staten Island'"
   ]
  },
  {
   "cell_type": "code",
   "execution_count": 9,
   "metadata": {
    "collapsed": false
   },
   "outputs": [
    {
     "data": {
      "text/html": [
       "<div>\n",
       "<table border=\"1\" class=\"dataframe\">\n",
       "  <thead>\n",
       "    <tr style=\"text-align: right;\">\n",
       "      <th></th>\n",
       "      <th>census_tract</th>\n",
       "      <th>Population</th>\n",
       "      <th>Median_family_income</th>\n",
       "      <th>Median_house_value</th>\n",
       "      <th>Borough</th>\n",
       "    </tr>\n",
       "  </thead>\n",
       "  <tbody>\n",
       "    <tr>\n",
       "      <th>0</th>\n",
       "      <td>36005000200</td>\n",
       "      <td>4334</td>\n",
       "      <td>58368</td>\n",
       "      <td>392500</td>\n",
       "      <td>Bronx</td>\n",
       "    </tr>\n",
       "    <tr>\n",
       "      <th>1</th>\n",
       "      <td>36005000400</td>\n",
       "      <td>5503</td>\n",
       "      <td>73148</td>\n",
       "      <td>393700</td>\n",
       "      <td>Bronx</td>\n",
       "    </tr>\n",
       "    <tr>\n",
       "      <th>2</th>\n",
       "      <td>36005001600</td>\n",
       "      <td>5643</td>\n",
       "      <td>33555</td>\n",
       "      <td>378100</td>\n",
       "      <td>Bronx</td>\n",
       "    </tr>\n",
       "    <tr>\n",
       "      <th>3</th>\n",
       "      <td>36005002000</td>\n",
       "      <td>8731</td>\n",
       "      <td>30817</td>\n",
       "      <td>398100</td>\n",
       "      <td>Bronx</td>\n",
       "    </tr>\n",
       "    <tr>\n",
       "      <th>4</th>\n",
       "      <td>36005002500</td>\n",
       "      <td>5491</td>\n",
       "      <td>17048</td>\n",
       "      <td>381300</td>\n",
       "      <td>Bronx</td>\n",
       "    </tr>\n",
       "  </tbody>\n",
       "</table>\n",
       "</div>"
      ],
      "text/plain": [
       "   census_tract  Population  Median_family_income  Median_house_value Borough\n",
       "0   36005000200        4334                 58368              392500   Bronx\n",
       "1   36005000400        5503                 73148              393700   Bronx\n",
       "2   36005001600        5643                 33555              378100   Bronx\n",
       "3   36005002000        8731                 30817              398100   Bronx\n",
       "4   36005002500        5491                 17048              381300   Bronx"
      ]
     },
     "execution_count": 9,
     "metadata": {},
     "output_type": "execute_result"
    }
   ],
   "source": [
    "df1.head()"
   ]
  },
  {
   "cell_type": "code",
   "execution_count": 10,
   "metadata": {
    "collapsed": false
   },
   "outputs": [
    {
     "data": {
      "text/html": [
       "<div>\n",
       "<table border=\"1\" class=\"dataframe\">\n",
       "  <thead>\n",
       "    <tr style=\"text-align: right;\">\n",
       "      <th></th>\n",
       "      <th>census_tract</th>\n",
       "      <th>Population</th>\n",
       "      <th>Median_family_income</th>\n",
       "      <th>Median_house_value</th>\n",
       "    </tr>\n",
       "  </thead>\n",
       "  <tbody>\n",
       "    <tr>\n",
       "      <th>count</th>\n",
       "      <td>2.000000e+03</td>\n",
       "      <td>2000.00000</td>\n",
       "      <td>2000.000000</td>\n",
       "      <td>2.000000e+03</td>\n",
       "    </tr>\n",
       "    <tr>\n",
       "      <th>mean</th>\n",
       "      <td>3.605564e+10</td>\n",
       "      <td>3886.54500</td>\n",
       "      <td>68005.929500</td>\n",
       "      <td>5.327123e+05</td>\n",
       "    </tr>\n",
       "    <tr>\n",
       "      <th>std</th>\n",
       "      <td>2.546893e+07</td>\n",
       "      <td>2100.49912</td>\n",
       "      <td>40111.600298</td>\n",
       "      <td>1.946563e+05</td>\n",
       "    </tr>\n",
       "    <tr>\n",
       "      <th>min</th>\n",
       "      <td>3.600500e+10</td>\n",
       "      <td>105.00000</td>\n",
       "      <td>12294.000000</td>\n",
       "      <td>9.999000e+03</td>\n",
       "    </tr>\n",
       "    <tr>\n",
       "      <th>25%</th>\n",
       "      <td>3.604703e+10</td>\n",
       "      <td>2374.00000</td>\n",
       "      <td>41983.750000</td>\n",
       "      <td>4.194000e+05</td>\n",
       "    </tr>\n",
       "    <tr>\n",
       "      <th>50%</th>\n",
       "      <td>3.604712e+10</td>\n",
       "      <td>3493.00000</td>\n",
       "      <td>58574.000000</td>\n",
       "      <td>5.070000e+05</td>\n",
       "    </tr>\n",
       "    <tr>\n",
       "      <th>75%</th>\n",
       "      <td>3.608104e+10</td>\n",
       "      <td>4864.00000</td>\n",
       "      <td>81012.000000</td>\n",
       "      <td>6.329250e+05</td>\n",
       "    </tr>\n",
       "    <tr>\n",
       "      <th>max</th>\n",
       "      <td>3.608503e+10</td>\n",
       "      <td>26588.00000</td>\n",
       "      <td>250001.000000</td>\n",
       "      <td>1.000001e+06</td>\n",
       "    </tr>\n",
       "  </tbody>\n",
       "</table>\n",
       "</div>"
      ],
      "text/plain": [
       "       census_tract   Population  Median_family_income  Median_house_value\n",
       "count  2.000000e+03   2000.00000           2000.000000        2.000000e+03\n",
       "mean   3.605564e+10   3886.54500          68005.929500        5.327123e+05\n",
       "std    2.546893e+07   2100.49912          40111.600298        1.946563e+05\n",
       "min    3.600500e+10    105.00000          12294.000000        9.999000e+03\n",
       "25%    3.604703e+10   2374.00000          41983.750000        4.194000e+05\n",
       "50%    3.604712e+10   3493.00000          58574.000000        5.070000e+05\n",
       "75%    3.608104e+10   4864.00000          81012.000000        6.329250e+05\n",
       "max    3.608503e+10  26588.00000         250001.000000        1.000001e+06"
      ]
     },
     "execution_count": 10,
     "metadata": {},
     "output_type": "execute_result"
    }
   ],
   "source": [
    "df1.describe()"
   ]
  },
  {
   "cell_type": "code",
   "execution_count": 11,
   "metadata": {
    "collapsed": true
   },
   "outputs": [],
   "source": [
    "def outlier(x):\n",
    "    outlier = np.mean(x) + 2 * np.std(x)\n",
    "    return outlier"
   ]
  },
  {
   "cell_type": "code",
   "execution_count": 12,
   "metadata": {
    "collapsed": false
   },
   "outputs": [
    {
     "data": {
      "text/plain": [
       "(1836, 5)"
      ]
     },
     "execution_count": 12,
     "metadata": {},
     "output_type": "execute_result"
    }
   ],
   "source": [
    "df2 = df1[((df1.Median_family_income < outlier(df1.Median_family_income))) &\\\n",
    "            (df1.Median_house_value < outlier(df1.Median_house_value))]\n",
    "df2.shape"
   ]
  },
  {
   "cell_type": "code",
   "execution_count": 13,
   "metadata": {
    "collapsed": false
   },
   "outputs": [
    {
     "data": {
      "text/html": [
       "<div>\n",
       "<table border=\"1\" class=\"dataframe\">\n",
       "  <thead>\n",
       "    <tr style=\"text-align: right;\">\n",
       "      <th></th>\n",
       "      <th>Borough</th>\n",
       "      <th>Population</th>\n",
       "      <th>Median_family_income</th>\n",
       "      <th>Median_house_value</th>\n",
       "    </tr>\n",
       "  </thead>\n",
       "  <tbody>\n",
       "    <tr>\n",
       "      <th>0</th>\n",
       "      <td>Bronx</td>\n",
       "      <td>1205177</td>\n",
       "      <td>41303.5</td>\n",
       "      <td>411600.0</td>\n",
       "    </tr>\n",
       "    <tr>\n",
       "      <th>1</th>\n",
       "      <td>Brooklyn</td>\n",
       "      <td>2289161</td>\n",
       "      <td>50704.0</td>\n",
       "      <td>558250.0</td>\n",
       "    </tr>\n",
       "    <tr>\n",
       "      <th>2</th>\n",
       "      <td>Manhattan</td>\n",
       "      <td>807878</td>\n",
       "      <td>48466.0</td>\n",
       "      <td>578000.0</td>\n",
       "    </tr>\n",
       "    <tr>\n",
       "      <th>3</th>\n",
       "      <td>Queens</td>\n",
       "      <td>2205621</td>\n",
       "      <td>64053.5</td>\n",
       "      <td>486150.0</td>\n",
       "    </tr>\n",
       "    <tr>\n",
       "      <th>4</th>\n",
       "      <td>Staten Island</td>\n",
       "      <td>466261</td>\n",
       "      <td>84464.0</td>\n",
       "      <td>457700.0</td>\n",
       "    </tr>\n",
       "  </tbody>\n",
       "</table>\n",
       "</div>"
      ],
      "text/plain": [
       "         Borough  Population  Median_family_income  Median_house_value\n",
       "0          Bronx     1205177               41303.5            411600.0\n",
       "1       Brooklyn     2289161               50704.0            558250.0\n",
       "2      Manhattan      807878               48466.0            578000.0\n",
       "3         Queens     2205621               64053.5            486150.0\n",
       "4  Staten Island      466261               84464.0            457700.0"
      ]
     },
     "execution_count": 13,
     "metadata": {},
     "output_type": "execute_result"
    }
   ],
   "source": [
    "df3 = pd.concat([df2.groupby(by = 'Borough').sum()['Population'],\n",
    "           df2.groupby(by = 'Borough').median()[['Median_family_income','Median_house_value']]],\n",
    "          axis = 1).reset_index()\n",
    "df3"
   ]
  },
  {
   "cell_type": "code",
   "execution_count": 21,
   "metadata": {
    "collapsed": false
   },
   "outputs": [
    {
     "data": {
      "image/png": "[encoded data removed]",
      "text/plain": [
       "<matplotlib.figure.Figure at 0x10f935048>"
      ]
     },
     "metadata": {},
     "output_type": "display_data"
    }
   ],
   "source": [
    "plt.figure(figsize = (12, 6))\n",
    "plt.scatter(df3.Median_family_income[0], df3.Median_house_value[0], label = 'Bronx')\n",
    "plt.scatter(df3.Median_family_income[1], df3.Median_house_value[1], label = 'Brooklyn')\n",
    "plt.scatter(df3.Median_family_income[2], df3.Median_house_value[2], label = 'Manhattan')\n",
    "plt.scatter(df3.Median_family_income[3], df3.Median_house_value[3], label = 'Queens')\n",
    "plt.scatter(df3.Median_family_income[4], df3.Median_house_value[4], label = 'Staten Island')\n",
    "plt.legend()\n",
    "plt.xlim(35000,90000)\n",
    "plt.ylim(350000,600000)\n",
    "plt.xticks(fontsize =15)\n",
    "plt.yticks(fontsize =15)\n",
    "plt.xlabel('Median family income($)', fontsize = 20)\n",
    "plt.ylabel('Census tract edian values of median house value for ($)', fontsize = 20)\n",
    "plt.title('Income and house value of 5 Boroughs in NYC,2010', fontsize = 20)\n",
    "plt.show()"
   ]
  },
  {
   "cell_type": "code",
   "execution_count": null,
   "metadata": {
    "collapsed": true
   },
   "outputs": [],
   "source": []
  },
  {
   "cell_type": "code",
   "execution_count": null,
   "metadata": {
    "collapsed": true
   },
   "outputs": [],
   "source": []
  },
  {
   "cell_type": "code",
   "execution_count": null,
   "metadata": {
    "collapsed": true
   },
   "outputs": [],
   "source": []
  }
 ],
 "metadata": {
  "kernelspec": {
   "display_name": "Python 3",
   "language": "python",
   "name": "python3"
  },
  "language_info": {
   "codemirror_mode": {
    "name": "ipython",
    "version": 3
   },
   "file_extension": ".py",
   "mimetype": "text/x-python",
   "name": "python",
   "nbconvert_exporter": "python",
   "pygments_lexer": "ipython3",
   "version": "3.6.0"
  }
 },
 "nbformat": 4,
 "nbformat_minor": 2
}
