{
 "cells": [
  {
   "cell_type": "code",
   "execution_count": 1,
   "metadata": {
    "collapsed": false
   },
   "outputs": [],
   "source": [
    "import pandas as pd\n",
    "import numpy as np\n",
    "import matplotlib.pylab as plt\n",
    "%matplotlib inline"
   ]
  },
  {
   "cell_type": "code",
   "execution_count": 2,
   "metadata": {
    "collapsed": false
   },
   "outputs": [],
   "source": [
    "# csv has been upload on the repo. It is exported from neighborhood database\n",
    "df = pd.read_csv('/Users/apple/Desktop/PUI2017/HW8_yl5240/geolytics_nyc_pop_income_house_2010.csv')"
   ]
  },
  {
   "cell_type": "code",
   "execution_count": 3,
   "metadata": {
    "collapsed": false
   },
   "outputs": [
    {
     "data": {
      "text/html": [
       "<div>\n",
       "<table border=\"1\" class=\"dataframe\">\n",
       "  <thead>\n",
       "    <tr style=\"text-align: right;\">\n",
       "      <th></th>\n",
       "      <th>AREAKEY</th>\n",
       "      <th>TRCTPOP1</th>\n",
       "      <th>MDFAMY1A</th>\n",
       "      <th>MDVALHS1A</th>\n",
       "    </tr>\n",
       "  </thead>\n",
       "  <tbody>\n",
       "    <tr>\n",
       "      <th>0</th>\n",
       "      <td>36005000100</td>\n",
       "      <td>11091</td>\n",
       "      <td>0</td>\n",
       "      <td>0</td>\n",
       "    </tr>\n",
       "    <tr>\n",
       "      <th>1</th>\n",
       "      <td>36005000200</td>\n",
       "      <td>4334</td>\n",
       "      <td>58368</td>\n",
       "      <td>392500</td>\n",
       "    </tr>\n",
       "    <tr>\n",
       "      <th>2</th>\n",
       "      <td>36005000400</td>\n",
       "      <td>5503</td>\n",
       "      <td>73148</td>\n",
       "      <td>393700</td>\n",
       "    </tr>\n",
       "    <tr>\n",
       "      <th>3</th>\n",
       "      <td>36005001600</td>\n",
       "      <td>5643</td>\n",
       "      <td>33555</td>\n",
       "      <td>378100</td>\n",
       "    </tr>\n",
       "    <tr>\n",
       "      <th>4</th>\n",
       "      <td>36005001900</td>\n",
       "      <td>1917</td>\n",
       "      <td>25489</td>\n",
       "      <td>0</td>\n",
       "    </tr>\n",
       "  </tbody>\n",
       "</table>\n",
       "</div>"
      ],
      "text/plain": [
       "       AREAKEY  TRCTPOP1  MDFAMY1A  MDVALHS1A\n",
       "0  36005000100     11091         0          0\n",
       "1  36005000200      4334     58368     392500\n",
       "2  36005000400      5503     73148     393700\n",
       "3  36005001600      5643     33555     378100\n",
       "4  36005001900      1917     25489          0"
      ]
     },
     "execution_count": 3,
     "metadata": {},
     "output_type": "execute_result"
    }
   ],
   "source": [
    "df.head()"
   ]
  },
  {
   "cell_type": "code",
   "execution_count": 4,
   "metadata": {
    "collapsed": false
   },
   "outputs": [
    {
     "data": {
      "text/html": [
       "<div>\n",
       "<table border=\"1\" class=\"dataframe\">\n",
       "  <thead>\n",
       "    <tr style=\"text-align: right;\">\n",
       "      <th></th>\n",
       "      <th>census_tract</th>\n",
       "      <th>Population</th>\n",
       "      <th>Median_family_income</th>\n",
       "      <th>Median_house_value</th>\n",
       "    </tr>\n",
       "  </thead>\n",
       "  <tbody>\n",
       "    <tr>\n",
       "      <th>0</th>\n",
       "      <td>36005000100</td>\n",
       "      <td>11091</td>\n",
       "      <td>0</td>\n",
       "      <td>0</td>\n",
       "    </tr>\n",
       "    <tr>\n",
       "      <th>1</th>\n",
       "      <td>36005000200</td>\n",
       "      <td>4334</td>\n",
       "      <td>58368</td>\n",
       "      <td>392500</td>\n",
       "    </tr>\n",
       "    <tr>\n",
       "      <th>2</th>\n",
       "      <td>36005000400</td>\n",
       "      <td>5503</td>\n",
       "      <td>73148</td>\n",
       "      <td>393700</td>\n",
       "    </tr>\n",
       "    <tr>\n",
       "      <th>3</th>\n",
       "      <td>36005001600</td>\n",
       "      <td>5643</td>\n",
       "      <td>33555</td>\n",
       "      <td>378100</td>\n",
       "    </tr>\n",
       "    <tr>\n",
       "      <th>4</th>\n",
       "      <td>36005001900</td>\n",
       "      <td>1917</td>\n",
       "      <td>25489</td>\n",
       "      <td>0</td>\n",
       "    </tr>\n",
       "  </tbody>\n",
       "</table>\n",
       "</div>"
      ],
      "text/plain": [
       "   census_tract  Population  Median_family_income  Median_house_value\n",
       "0   36005000100       11091                     0                   0\n",
       "1   36005000200        4334                 58368              392500\n",
       "2   36005000400        5503                 73148              393700\n",
       "3   36005001600        5643                 33555              378100\n",
       "4   36005001900        1917                 25489                   0"
      ]
     },
     "execution_count": 4,
     "metadata": {},
     "output_type": "execute_result"
    }
   ],
   "source": [
    "df.columns  = ['census_tract', 'Population', 'Median_family_income', 'Median_house_value']\n",
    "df.head()"
   ]
  },
  {
   "cell_type": "code",
   "execution_count": 5,
   "metadata": {
    "collapsed": false
   },
   "outputs": [
    {
     "data": {
      "text/plain": [
       "(2168, 4)"
      ]
     },
     "execution_count": 5,
     "metadata": {},
     "output_type": "execute_result"
    }
   ],
   "source": [
    "df.shape"
   ]
  },
  {
   "cell_type": "code",
   "execution_count": 6,
   "metadata": {
    "collapsed": false
   },
   "outputs": [
    {
     "data": {
      "text/plain": [
       "(2000, 4)"
      ]
     },
     "execution_count": 6,
     "metadata": {},
     "output_type": "execute_result"
    }
   ],
   "source": [
    "df1 = df[(df.Median_family_income > 0)&(df.Median_house_value>0)].reset_index(drop = True)\n",
    "df1.shape"
   ]
  },
  {
   "cell_type": "code",
   "execution_count": 7,
   "metadata": {
    "collapsed": false
   },
   "outputs": [
    {
     "data": {
      "text/plain": [
       "True"
      ]
     },
     "execution_count": 7,
     "metadata": {},
     "output_type": "execute_result"
    }
   ],
   "source": [
    "str(df.iloc[0,0]).startswith('36005')"
   ]
  },
  {
   "cell_type": "code",
   "execution_count": 33,
   "metadata": {
    "collapsed": false
   },
   "outputs": [],
   "source": [
    "for i in df1.index:\n",
    "    if str(df1.loc[i,'census_tract']).startswith('36005'):\n",
    "        df1.loc[i,'Borough'] = 'Bronx'\n",
    "        df1.loc[i,'color'] = 'b'\n",
    "    elif str(df1.loc[i,'census_tract']).startswith('36047'):\n",
    "        df1.loc[i,'Borough'] = 'Brooklyn'\n",
    "        df1.loc[i,'color'] = 'g'\n",
    "    elif str(df1.loc[i,'census_tract']).startswith('36061'):\n",
    "        df1.loc[i,'Borough'] = 'Manhattan'\n",
    "        df1.loc[i,'color'] = 'r'\n",
    "    elif str(df1.loc[i,'census_tract']).startswith('36081'):\n",
    "        df1.loc[i,'Borough'] = 'Queens'\n",
    "        df1.loc[i,'color'] = 'c'\n",
    "    elif str(df1.loc[i,'census_tract']).startswith('36085'):\n",
    "        df1.loc[i,'Borough'] = 'Staten Island'\n",
    "        df1.loc[i,'color'] = 'm'"
   ]
  },
  {
   "cell_type": "code",
   "execution_count": 34,
   "metadata": {
    "collapsed": false
   },
   "outputs": [
    {
     "data": {
      "text/html": [
       "<div>\n",
       "<table border=\"1\" class=\"dataframe\">\n",
       "  <thead>\n",
       "    <tr style=\"text-align: right;\">\n",
       "      <th></th>\n",
       "      <th>census_tract</th>\n",
       "      <th>Population</th>\n",
       "      <th>Median_family_income</th>\n",
       "      <th>Median_house_value</th>\n",
       "      <th>Borough</th>\n",
       "      <th>color</th>\n",
       "    </tr>\n",
       "  </thead>\n",
       "  <tbody>\n",
       "    <tr>\n",
       "      <th>0</th>\n",
       "      <td>36005000200</td>\n",
       "      <td>4334</td>\n",
       "      <td>58368</td>\n",
       "      <td>392500</td>\n",
       "      <td>Bronx</td>\n",
       "      <td>b</td>\n",
       "    </tr>\n",
       "    <tr>\n",
       "      <th>1</th>\n",
       "      <td>36005000400</td>\n",
       "      <td>5503</td>\n",
       "      <td>73148</td>\n",
       "      <td>393700</td>\n",
       "      <td>Bronx</td>\n",
       "      <td>b</td>\n",
       "    </tr>\n",
       "    <tr>\n",
       "      <th>2</th>\n",
       "      <td>36005001600</td>\n",
       "      <td>5643</td>\n",
       "      <td>33555</td>\n",
       "      <td>378100</td>\n",
       "      <td>Bronx</td>\n",
       "      <td>b</td>\n",
       "    </tr>\n",
       "    <tr>\n",
       "      <th>3</th>\n",
       "      <td>36005002000</td>\n",
       "      <td>8731</td>\n",
       "      <td>30817</td>\n",
       "      <td>398100</td>\n",
       "      <td>Bronx</td>\n",
       "      <td>b</td>\n",
       "    </tr>\n",
       "    <tr>\n",
       "      <th>4</th>\n",
       "      <td>36005002500</td>\n",
       "      <td>5491</td>\n",
       "      <td>17048</td>\n",
       "      <td>381300</td>\n",
       "      <td>Bronx</td>\n",
       "      <td>b</td>\n",
       "    </tr>\n",
       "  </tbody>\n",
       "</table>\n",
       "</div>"
      ],
      "text/plain": [
       "   census_tract  Population  Median_family_income  Median_house_value Borough  \\\n",
       "0   36005000200        4334                 58368              392500   Bronx   \n",
       "1   36005000400        5503                 73148              393700   Bronx   \n",
       "2   36005001600        5643                 33555              378100   Bronx   \n",
       "3   36005002000        8731                 30817              398100   Bronx   \n",
       "4   36005002500        5491                 17048              381300   Bronx   \n",
       "\n",
       "  color  \n",
       "0     b  \n",
       "1     b  \n",
       "2     b  \n",
       "3     b  \n",
       "4     b  "
      ]
     },
     "execution_count": 34,
     "metadata": {},
     "output_type": "execute_result"
    }
   ],
   "source": [
    "df1.head()"
   ]
  },
  {
   "cell_type": "code",
   "execution_count": 35,
   "metadata": {
    "collapsed": false
   },
   "outputs": [
    {
     "data": {
      "text/html": [
       "<div>\n",
       "<table border=\"1\" class=\"dataframe\">\n",
       "  <thead>\n",
       "    <tr style=\"text-align: right;\">\n",
       "      <th></th>\n",
       "      <th>census_tract</th>\n",
       "      <th>Population</th>\n",
       "      <th>Median_family_income</th>\n",
       "      <th>Median_house_value</th>\n",
       "    </tr>\n",
       "  </thead>\n",
       "  <tbody>\n",
       "    <tr>\n",
       "      <th>count</th>\n",
       "      <td>2.000000e+03</td>\n",
       "      <td>2000.00000</td>\n",
       "      <td>2000.000000</td>\n",
       "      <td>2.000000e+03</td>\n",
       "    </tr>\n",
       "    <tr>\n",
       "      <th>mean</th>\n",
       "      <td>3.605564e+10</td>\n",
       "      <td>3886.54500</td>\n",
       "      <td>68005.929500</td>\n",
       "      <td>5.327123e+05</td>\n",
       "    </tr>\n",
       "    <tr>\n",
       "      <th>std</th>\n",
       "      <td>2.546893e+07</td>\n",
       "      <td>2100.49912</td>\n",
       "      <td>40111.600298</td>\n",
       "      <td>1.946563e+05</td>\n",
       "    </tr>\n",
       "    <tr>\n",
       "      <th>min</th>\n",
       "      <td>3.600500e+10</td>\n",
       "      <td>105.00000</td>\n",
       "      <td>12294.000000</td>\n",
       "      <td>9.999000e+03</td>\n",
       "    </tr>\n",
       "    <tr>\n",
       "      <th>25%</th>\n",
       "      <td>3.604703e+10</td>\n",
       "      <td>2374.00000</td>\n",
       "      <td>41983.750000</td>\n",
       "      <td>4.194000e+05</td>\n",
       "    </tr>\n",
       "    <tr>\n",
       "      <th>50%</th>\n",
       "      <td>3.604712e+10</td>\n",
       "      <td>3493.00000</td>\n",
       "      <td>58574.000000</td>\n",
       "      <td>5.070000e+05</td>\n",
       "    </tr>\n",
       "    <tr>\n",
       "      <th>75%</th>\n",
       "      <td>3.608104e+10</td>\n",
       "      <td>4864.00000</td>\n",
       "      <td>81012.000000</td>\n",
       "      <td>6.329250e+05</td>\n",
       "    </tr>\n",
       "    <tr>\n",
       "      <th>max</th>\n",
       "      <td>3.608503e+10</td>\n",
       "      <td>26588.00000</td>\n",
       "      <td>250001.000000</td>\n",
       "      <td>1.000001e+06</td>\n",
       "    </tr>\n",
       "  </tbody>\n",
       "</table>\n",
       "</div>"
      ],
      "text/plain": [
       "       census_tract   Population  Median_family_income  Median_house_value\n",
       "count  2.000000e+03   2000.00000           2000.000000        2.000000e+03\n",
       "mean   3.605564e+10   3886.54500          68005.929500        5.327123e+05\n",
       "std    2.546893e+07   2100.49912          40111.600298        1.946563e+05\n",
       "min    3.600500e+10    105.00000          12294.000000        9.999000e+03\n",
       "25%    3.604703e+10   2374.00000          41983.750000        4.194000e+05\n",
       "50%    3.604712e+10   3493.00000          58574.000000        5.070000e+05\n",
       "75%    3.608104e+10   4864.00000          81012.000000        6.329250e+05\n",
       "max    3.608503e+10  26588.00000         250001.000000        1.000001e+06"
      ]
     },
     "execution_count": 35,
     "metadata": {},
     "output_type": "execute_result"
    }
   ],
   "source": [
    "df1.describe()"
   ]
  },
  {
   "cell_type": "code",
   "execution_count": 36,
   "metadata": {
    "collapsed": false
   },
   "outputs": [
    {
     "data": {
      "text/plain": [
       "<matplotlib.collections.PathCollection at 0x1155bad68>"
      ]
     },
     "execution_count": 36,
     "metadata": {},
     "output_type": "execute_result"
    },
    {
     "data": {
      "image/png": "[encoded data removed]",
      "text/plain": [
       "<matplotlib.figure.Figure at 0x115821940>"
      ]
     },
     "metadata": {},
     "output_type": "display_data"
    }
   ],
   "source": [
    "plt.scatter(df1.Median_family_income, df1.Median_house_value, c = df1.color)\n"
   ]
  },
  {
   "cell_type": "code",
   "execution_count": 77,
   "metadata": {
    "collapsed": false
   },
   "outputs": [
    {
     "data": {
      "text/html": [
       "<div>\n",
       "<table border=\"1\" class=\"dataframe\">\n",
       "  <thead>\n",
       "    <tr style=\"text-align: right;\">\n",
       "      <th></th>\n",
       "      <th>Borough</th>\n",
       "      <th>Population</th>\n",
       "      <th>color</th>\n",
       "      <th>Median_family_income</th>\n",
       "      <th>Median_house_value</th>\n",
       "    </tr>\n",
       "  </thead>\n",
       "  <tbody>\n",
       "    <tr>\n",
       "      <th>0</th>\n",
       "      <td>Bronx</td>\n",
       "      <td>1208537</td>\n",
       "      <td>b</td>\n",
       "      <td>47547.335664</td>\n",
       "      <td>381002.451049</td>\n",
       "    </tr>\n",
       "    <tr>\n",
       "      <th>1</th>\n",
       "      <td>Brooklyn</td>\n",
       "      <td>2412974</td>\n",
       "      <td>g</td>\n",
       "      <td>58564.499307</td>\n",
       "      <td>573662.721221</td>\n",
       "    </tr>\n",
       "    <tr>\n",
       "      <th>2</th>\n",
       "      <td>Manhattan</td>\n",
       "      <td>1472082</td>\n",
       "      <td>r</td>\n",
       "      <td>115063.004016</td>\n",
       "      <td>719027.590361</td>\n",
       "    </tr>\n",
       "    <tr>\n",
       "      <th>3</th>\n",
       "      <td>Queens</td>\n",
       "      <td>2213131</td>\n",
       "      <td>c</td>\n",
       "      <td>66962.017241</td>\n",
       "      <td>493680.565831</td>\n",
       "    </tr>\n",
       "    <tr>\n",
       "      <th>4</th>\n",
       "      <td>Staten Island</td>\n",
       "      <td>466366</td>\n",
       "      <td>m</td>\n",
       "      <td>83168.509434</td>\n",
       "      <td>460764.150943</td>\n",
       "    </tr>\n",
       "  </tbody>\n",
       "</table>\n",
       "</div>"
      ],
      "text/plain": [
       "         Borough  Population color  Median_family_income  Median_house_value\n",
       "0          Bronx     1208537     b          47547.335664       381002.451049\n",
       "1       Brooklyn     2412974     g          58564.499307       573662.721221\n",
       "2      Manhattan     1472082     r         115063.004016       719027.590361\n",
       "3         Queens     2213131     c          66962.017241       493680.565831\n",
       "4  Staten Island      466366     m          83168.509434       460764.150943"
      ]
     },
     "execution_count": 77,
     "metadata": {},
     "output_type": "execute_result"
    }
   ],
   "source": [
    "df2 = pd.merge(df1.groupby(by = 'Borough').sum()['Population'].reset_index(),\n",
    "           df1.groupby(by = ['Borough','color']).mean()[['Median_family_income',\n",
    "                                                       'Median_house_value']].reset_index(),\n",
    "          on = 'Borough')\n",
    "df2"
   ]
  },
  {
   "cell_type": "code",
   "execution_count": 92,
   "metadata": {
    "collapsed": false
   },
   "outputs": [
    {
     "data": {
      "text/plain": [
       "0    1208\n",
       "1    2412\n",
       "2    1472\n",
       "3    2213\n",
       "4     466\n",
       "Name: Population, dtype: object"
      ]
     },
     "execution_count": 92,
     "metadata": {},
     "output_type": "execute_result"
    }
   ],
   "source": [
    "(df2.Population/1000).astype(int).astype(str)"
   ]
  },
  {
   "cell_type": "code",
   "execution_count": null,
   "metadata": {
    "collapsed": true
   },
   "outputs": [],
   "source": [
    "# label = df2.Borough[i] + ' ' + (df2.Population[i]/1000).astype(int).astype(str) + 'K pop'"
   ]
  },
  {
   "cell_type": "code",
   "execution_count": 145,
   "metadata": {
    "collapsed": false
   },
   "outputs": [
    {
     "data": {
      "image/png": "[encoded data removed]",
      "text/plain": [
       "<matplotlib.figure.Figure at 0x116ac2828>"
      ]
     },
     "metadata": {},
     "output_type": "display_data"
    }
   ],
   "source": [
    "plt.figure(figsize = (12, 8))\n",
    "for i in range(len(df2)):\n",
    "    plt.scatter(df2.Median_family_income[i], df3.Median_house_value[i], \n",
    "            s = df2.Population[i]/5000, \n",
    "                label = df2.Borough[i],\n",
    "                c = df2.color[i])\n",
    "\n",
    "\n",
    "plt.legend(loc= 2, prop= {'size': 14}, fontsize = 12, ncol = 2, \n",
    "           frameon = False)\n",
    "\n",
    "plt.xlim(40000,130000)\n",
    "plt.xticks(np.arange(40000,130000,10000), ('', '50k', '60k','70k','80k','90k','','','120k',''))\n",
    "plt.ylim(350000,850000)\n",
    "plt.yticks(np.arange(400000,900000,100000), ('400k', \n",
    "                                             '500k','600k','700k','800k',''))\n",
    "plt.tick_params(axis='y', pad = 5, direction = 'in', \n",
    "                length = 5, width = 2,\n",
    "               left = False, right = True, labelleft = False, labelright = True)\n",
    "plt.tick_params(axis='x', pad = 5, direction = 'in', \n",
    "                length = 4, width = 1)\n",
    "\n",
    "plt.xticks(fontsize =18)\n",
    "plt.yticks(fontsize =20)\n",
    "plt.xlabel('Median family income($)', fontsize = 20)\n",
    "plt.ylabel('Median house value ($)', fontsize = 22)\n",
    "plt.title('Income and house value of 5 Boroughs in NYC,2010', fontsize = 22, loc = 'right')\n",
    "plt.show()"
   ]
  },
  {
   "cell_type": "code",
   "execution_count": 68,
   "metadata": {
    "collapsed": true
   },
   "outputs": [],
   "source": [
    "plt.legend?"
   ]
  },
  {
   "cell_type": "code",
   "execution_count": 126,
   "metadata": {
    "collapsed": true
   },
   "outputs": [],
   "source": [
    "plt.title?"
   ]
  },
  {
   "cell_type": "code",
   "execution_count": null,
   "metadata": {
    "collapsed": true
   },
   "outputs": [],
   "source": []
  }
 ],
 "metadata": {
  "kernelspec": {
   "display_name": "Python 3",
   "language": "python",
   "name": "python3"
  },
  "language_info": {
   "codemirror_mode": {
    "name": "ipython",
    "version": 3
   },
   "file_extension": ".py",
   "mimetype": "text/x-python",
   "name": "python",
   "nbconvert_exporter": "python",
   "pygments_lexer": "ipython3",
   "version": "3.6.0"
  }
 },
 "nbformat": 4,
 "nbformat_minor": 2
}
